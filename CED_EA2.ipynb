{
  "nbformat": 4,
  "nbformat_minor": 0,
  "metadata": {
    "colab": {
      "provenance": [],
      "include_colab_link": true
    },
    "kernelspec": {
      "name": "python3",
      "display_name": "Python 3"
    },
    "language_info": {
      "name": "python"
    }
  },
  "cells": [
    {
      "cell_type": "markdown",
      "metadata": {
        "id": "view-in-github",
        "colab_type": "text"
      },
      "source": [
        "<a href=\"https://colab.research.google.com/github/Vagarh/IUdigital/blob/main/CED_EA2.ipynb\" target=\"_parent\"><img src=\"https://colab.research.google.com/assets/colab-badge.svg\" alt=\"Open In Colab\"/></a>"
      ]
    },
    {
      "cell_type": "markdown",
      "source": [
        "# Instrucciones de entrega\n",
        "\n",
        "* Genere una copia de este notebook para que desarrolle su entrega: Archivo -> Guardar una copia en drive\n",
        "* Genere un enlace para compartir de este notebook (parte superior derecha --> opción \"compartir\", \"cualquier persona con el enlace\") y súbalo a canvas como entrega.\n",
        "* En la celda inferior, agregue los nombres de los integrantes del equipo. Sólo adjunten una entrega por equipo."
      ],
      "metadata": {
        "id": "koBg35FL7yI5"
      }
    },
    {
      "cell_type": "markdown",
      "source": [
        "1. Juan Felipe Cardona Arango\n",
        "2. \n",
        "3. \n",
        "4. "
      ],
      "metadata": {
        "id": "dY2xz5Vqx5Wi"
      }
    },
    {
      "cell_type": "markdown",
      "source": [
        "# Contexto\n",
        "\n",
        "* En el peaje de occidente necesitan entender la distribución de probabilidad de la cantidad de automóviles que pasan por su peaje diariamente. Para esto, le proveen a usted como analista un histórico de los registros de cantidad de automóviles que pasaron por su peaje entre el 2021 y parte del 2022. \n",
        "* En este archivo se encontrará la cantidad de automóviles que pasaron por el peaje hora a hora. Sin embargo, algunos días hubo fallas en el gestor de base de datos y no se pudo registrar esta cantidad hora a hora sino en lapsos de dos horas.\n",
        "* Use [este archivo](https://docs.google.com/spreadsheets/d/18K2SUD1uQgGR_G2GgEiWtTZMCnqT4A2uD_gcvnAXsyg/edit?usp=sharing) para responder las siguientes preguntas. "
      ],
      "metadata": {
        "id": "oyIpKENA1l_2"
      }
    },
    {
      "cell_type": "markdown",
      "source": [
        "# Ayudas\n",
        "\n",
        "* Use Pandas para cargar y gestionar la información\n",
        "* Use el parámetro \"parse_dates\" del método \"read_csv\" de pandas para convertir las fechas cargadas en el archivo: https://www.skytowner.com/explore/parsing_dates_when_using_read_csv_in_pandas\n",
        "* Tenga en cuenta que deberá tratar los lapsos diferentes a una hora para que no se afecte el cálculo de la media\n"
      ],
      "metadata": {
        "id": "MPRsIspj48z5"
      }
    },
    {
      "cell_type": "code",
      "source": [
        "import pandas as pd\n",
        "import seaborn as sns\n",
        "import numpy as np\n",
        "from datetime import timedelta\n",
        "\n"
      ],
      "metadata": {
        "id": "FNWBin3DHmtl"
      },
      "execution_count": 29,
      "outputs": []
    },
    {
      "cell_type": "code",
      "source": [
        "df=pd.read_excel(\"/content/datos_peaje.xlsx\",parse_dates=[\"Hora inicio\",\"Hora fin\"])"
      ],
      "metadata": {
        "id": "KUokmjXHHsjz"
      },
      "execution_count": 2,
      "outputs": []
    },
    {
      "cell_type": "code",
      "source": [
        "df.info()\n"
      ],
      "metadata": {
        "colab": {
          "base_uri": "https://localhost:8080/"
        },
        "id": "BN7-p4-wIBI6",
        "outputId": "caf9eb8f-1cf1-4e7e-92a0-a989748e4f72"
      },
      "execution_count": 3,
      "outputs": [
        {
          "output_type": "stream",
          "name": "stdout",
          "text": [
            "<class 'pandas.core.frame.DataFrame'>\n",
            "RangeIndex: 8364 entries, 0 to 8363\n",
            "Data columns (total 4 columns):\n",
            " #   Column           Non-Null Count  Dtype         \n",
            "---  ------           --------------  -----         \n",
            " 0   Unnamed: 0       8364 non-null   int64         \n",
            " 1   Hora inicio      8364 non-null   datetime64[ns]\n",
            " 2   Hora fin         8364 non-null   datetime64[ns]\n",
            " 3   Promedio carros  8364 non-null   int64         \n",
            "dtypes: datetime64[ns](2), int64(2)\n",
            "memory usage: 261.5 KB\n"
          ]
        }
      ]
    },
    {
      "cell_type": "code",
      "source": [
        "df.head()"
      ],
      "metadata": {
        "colab": {
          "base_uri": "https://localhost:8080/",
          "height": 206
        },
        "id": "dCXCA68QIO4l",
        "outputId": "0de15f45-279b-4768-e242-c3c36ec31582"
      },
      "execution_count": 4,
      "outputs": [
        {
          "output_type": "execute_result",
          "data": {
            "text/plain": [
              "   Unnamed: 0         Hora inicio            Hora fin  Promedio carros\n",
              "0           0 2021-03-21 00:00:00 2021-03-21 02:00:00              857\n",
              "1           1 2021-03-21 02:00:00 2021-03-21 03:00:00              400\n",
              "2           2 2021-03-21 03:00:00 2021-03-21 04:00:00              396\n",
              "3           3 2021-03-21 04:00:00 2021-03-21 06:00:00              759\n",
              "4           4 2021-03-21 06:00:00 2021-03-21 07:00:00              423"
            ],
            "text/html": [
              "\n",
              "  <div id=\"df-d946ef54-6145-4dee-b29e-cb363ba7fb71\">\n",
              "    <div class=\"colab-df-container\">\n",
              "      <div>\n",
              "<style scoped>\n",
              "    .dataframe tbody tr th:only-of-type {\n",
              "        vertical-align: middle;\n",
              "    }\n",
              "\n",
              "    .dataframe tbody tr th {\n",
              "        vertical-align: top;\n",
              "    }\n",
              "\n",
              "    .dataframe thead th {\n",
              "        text-align: right;\n",
              "    }\n",
              "</style>\n",
              "<table border=\"1\" class=\"dataframe\">\n",
              "  <thead>\n",
              "    <tr style=\"text-align: right;\">\n",
              "      <th></th>\n",
              "      <th>Unnamed: 0</th>\n",
              "      <th>Hora inicio</th>\n",
              "      <th>Hora fin</th>\n",
              "      <th>Promedio carros</th>\n",
              "    </tr>\n",
              "  </thead>\n",
              "  <tbody>\n",
              "    <tr>\n",
              "      <th>0</th>\n",
              "      <td>0</td>\n",
              "      <td>2021-03-21 00:00:00</td>\n",
              "      <td>2021-03-21 02:00:00</td>\n",
              "      <td>857</td>\n",
              "    </tr>\n",
              "    <tr>\n",
              "      <th>1</th>\n",
              "      <td>1</td>\n",
              "      <td>2021-03-21 02:00:00</td>\n",
              "      <td>2021-03-21 03:00:00</td>\n",
              "      <td>400</td>\n",
              "    </tr>\n",
              "    <tr>\n",
              "      <th>2</th>\n",
              "      <td>2</td>\n",
              "      <td>2021-03-21 03:00:00</td>\n",
              "      <td>2021-03-21 04:00:00</td>\n",
              "      <td>396</td>\n",
              "    </tr>\n",
              "    <tr>\n",
              "      <th>3</th>\n",
              "      <td>3</td>\n",
              "      <td>2021-03-21 04:00:00</td>\n",
              "      <td>2021-03-21 06:00:00</td>\n",
              "      <td>759</td>\n",
              "    </tr>\n",
              "    <tr>\n",
              "      <th>4</th>\n",
              "      <td>4</td>\n",
              "      <td>2021-03-21 06:00:00</td>\n",
              "      <td>2021-03-21 07:00:00</td>\n",
              "      <td>423</td>\n",
              "    </tr>\n",
              "  </tbody>\n",
              "</table>\n",
              "</div>\n",
              "      <button class=\"colab-df-convert\" onclick=\"convertToInteractive('df-d946ef54-6145-4dee-b29e-cb363ba7fb71')\"\n",
              "              title=\"Convert this dataframe to an interactive table.\"\n",
              "              style=\"display:none;\">\n",
              "        \n",
              "  <svg xmlns=\"http://www.w3.org/2000/svg\" height=\"24px\"viewBox=\"0 0 24 24\"\n",
              "       width=\"24px\">\n",
              "    <path d=\"M0 0h24v24H0V0z\" fill=\"none\"/>\n",
              "    <path d=\"M18.56 5.44l.94 2.06.94-2.06 2.06-.94-2.06-.94-.94-2.06-.94 2.06-2.06.94zm-11 1L8.5 8.5l.94-2.06 2.06-.94-2.06-.94L8.5 2.5l-.94 2.06-2.06.94zm10 10l.94 2.06.94-2.06 2.06-.94-2.06-.94-.94-2.06-.94 2.06-2.06.94z\"/><path d=\"M17.41 7.96l-1.37-1.37c-.4-.4-.92-.59-1.43-.59-.52 0-1.04.2-1.43.59L10.3 9.45l-7.72 7.72c-.78.78-.78 2.05 0 2.83L4 21.41c.39.39.9.59 1.41.59.51 0 1.02-.2 1.41-.59l7.78-7.78 2.81-2.81c.8-.78.8-2.07 0-2.86zM5.41 20L4 18.59l7.72-7.72 1.47 1.35L5.41 20z\"/>\n",
              "  </svg>\n",
              "      </button>\n",
              "      \n",
              "  <style>\n",
              "    .colab-df-container {\n",
              "      display:flex;\n",
              "      flex-wrap:wrap;\n",
              "      gap: 12px;\n",
              "    }\n",
              "\n",
              "    .colab-df-convert {\n",
              "      background-color: #E8F0FE;\n",
              "      border: none;\n",
              "      border-radius: 50%;\n",
              "      cursor: pointer;\n",
              "      display: none;\n",
              "      fill: #1967D2;\n",
              "      height: 32px;\n",
              "      padding: 0 0 0 0;\n",
              "      width: 32px;\n",
              "    }\n",
              "\n",
              "    .colab-df-convert:hover {\n",
              "      background-color: #E2EBFA;\n",
              "      box-shadow: 0px 1px 2px rgba(60, 64, 67, 0.3), 0px 1px 3px 1px rgba(60, 64, 67, 0.15);\n",
              "      fill: #174EA6;\n",
              "    }\n",
              "\n",
              "    [theme=dark] .colab-df-convert {\n",
              "      background-color: #3B4455;\n",
              "      fill: #D2E3FC;\n",
              "    }\n",
              "\n",
              "    [theme=dark] .colab-df-convert:hover {\n",
              "      background-color: #434B5C;\n",
              "      box-shadow: 0px 1px 3px 1px rgba(0, 0, 0, 0.15);\n",
              "      filter: drop-shadow(0px 1px 2px rgba(0, 0, 0, 0.3));\n",
              "      fill: #FFFFFF;\n",
              "    }\n",
              "  </style>\n",
              "\n",
              "      <script>\n",
              "        const buttonEl =\n",
              "          document.querySelector('#df-d946ef54-6145-4dee-b29e-cb363ba7fb71 button.colab-df-convert');\n",
              "        buttonEl.style.display =\n",
              "          google.colab.kernel.accessAllowed ? 'block' : 'none';\n",
              "\n",
              "        async function convertToInteractive(key) {\n",
              "          const element = document.querySelector('#df-d946ef54-6145-4dee-b29e-cb363ba7fb71');\n",
              "          const dataTable =\n",
              "            await google.colab.kernel.invokeFunction('convertToInteractive',\n",
              "                                                     [key], {});\n",
              "          if (!dataTable) return;\n",
              "\n",
              "          const docLinkHtml = 'Like what you see? Visit the ' +\n",
              "            '<a target=\"_blank\" href=https://colab.research.google.com/notebooks/data_table.ipynb>data table notebook</a>'\n",
              "            + ' to learn more about interactive tables.';\n",
              "          element.innerHTML = '';\n",
              "          dataTable['output_type'] = 'display_data';\n",
              "          await google.colab.output.renderOutput(dataTable, element);\n",
              "          const docLink = document.createElement('div');\n",
              "          docLink.innerHTML = docLinkHtml;\n",
              "          element.appendChild(docLink);\n",
              "        }\n",
              "      </script>\n",
              "    </div>\n",
              "  </div>\n",
              "  "
            ]
          },
          "metadata": {},
          "execution_count": 4
        }
      ]
    },
    {
      "cell_type": "code",
      "source": [
        "df.tail()"
      ],
      "metadata": {
        "colab": {
          "base_uri": "https://localhost:8080/",
          "height": 206
        },
        "id": "WowbpIMJIRmy",
        "outputId": "e1d0426b-26d1-47db-b710-3c4fd9bb272e"
      },
      "execution_count": 5,
      "outputs": [
        {
          "output_type": "execute_result",
          "data": {
            "text/plain": [
              "      Unnamed: 0         Hora inicio            Hora fin  Promedio carros\n",
              "8359        8359 2022-05-11 09:00:00 2022-05-11 11:00:00              793\n",
              "8360        8360 2022-05-11 11:00:00 2022-05-11 12:00:00              403\n",
              "8361        8361 2022-05-11 12:00:00 2022-05-11 14:00:00              786\n",
              "8362        8362 2022-05-11 14:00:00 2022-05-11 15:00:00              389\n",
              "8363        8363 2022-05-11 15:00:00 2022-05-11 16:00:00              432"
            ],
            "text/html": [
              "\n",
              "  <div id=\"df-8f650d74-2bbd-4499-a590-4b2c9dc31165\">\n",
              "    <div class=\"colab-df-container\">\n",
              "      <div>\n",
              "<style scoped>\n",
              "    .dataframe tbody tr th:only-of-type {\n",
              "        vertical-align: middle;\n",
              "    }\n",
              "\n",
              "    .dataframe tbody tr th {\n",
              "        vertical-align: top;\n",
              "    }\n",
              "\n",
              "    .dataframe thead th {\n",
              "        text-align: right;\n",
              "    }\n",
              "</style>\n",
              "<table border=\"1\" class=\"dataframe\">\n",
              "  <thead>\n",
              "    <tr style=\"text-align: right;\">\n",
              "      <th></th>\n",
              "      <th>Unnamed: 0</th>\n",
              "      <th>Hora inicio</th>\n",
              "      <th>Hora fin</th>\n",
              "      <th>Promedio carros</th>\n",
              "    </tr>\n",
              "  </thead>\n",
              "  <tbody>\n",
              "    <tr>\n",
              "      <th>8359</th>\n",
              "      <td>8359</td>\n",
              "      <td>2022-05-11 09:00:00</td>\n",
              "      <td>2022-05-11 11:00:00</td>\n",
              "      <td>793</td>\n",
              "    </tr>\n",
              "    <tr>\n",
              "      <th>8360</th>\n",
              "      <td>8360</td>\n",
              "      <td>2022-05-11 11:00:00</td>\n",
              "      <td>2022-05-11 12:00:00</td>\n",
              "      <td>403</td>\n",
              "    </tr>\n",
              "    <tr>\n",
              "      <th>8361</th>\n",
              "      <td>8361</td>\n",
              "      <td>2022-05-11 12:00:00</td>\n",
              "      <td>2022-05-11 14:00:00</td>\n",
              "      <td>786</td>\n",
              "    </tr>\n",
              "    <tr>\n",
              "      <th>8362</th>\n",
              "      <td>8362</td>\n",
              "      <td>2022-05-11 14:00:00</td>\n",
              "      <td>2022-05-11 15:00:00</td>\n",
              "      <td>389</td>\n",
              "    </tr>\n",
              "    <tr>\n",
              "      <th>8363</th>\n",
              "      <td>8363</td>\n",
              "      <td>2022-05-11 15:00:00</td>\n",
              "      <td>2022-05-11 16:00:00</td>\n",
              "      <td>432</td>\n",
              "    </tr>\n",
              "  </tbody>\n",
              "</table>\n",
              "</div>\n",
              "      <button class=\"colab-df-convert\" onclick=\"convertToInteractive('df-8f650d74-2bbd-4499-a590-4b2c9dc31165')\"\n",
              "              title=\"Convert this dataframe to an interactive table.\"\n",
              "              style=\"display:none;\">\n",
              "        \n",
              "  <svg xmlns=\"http://www.w3.org/2000/svg\" height=\"24px\"viewBox=\"0 0 24 24\"\n",
              "       width=\"24px\">\n",
              "    <path d=\"M0 0h24v24H0V0z\" fill=\"none\"/>\n",
              "    <path d=\"M18.56 5.44l.94 2.06.94-2.06 2.06-.94-2.06-.94-.94-2.06-.94 2.06-2.06.94zm-11 1L8.5 8.5l.94-2.06 2.06-.94-2.06-.94L8.5 2.5l-.94 2.06-2.06.94zm10 10l.94 2.06.94-2.06 2.06-.94-2.06-.94-.94-2.06-.94 2.06-2.06.94z\"/><path d=\"M17.41 7.96l-1.37-1.37c-.4-.4-.92-.59-1.43-.59-.52 0-1.04.2-1.43.59L10.3 9.45l-7.72 7.72c-.78.78-.78 2.05 0 2.83L4 21.41c.39.39.9.59 1.41.59.51 0 1.02-.2 1.41-.59l7.78-7.78 2.81-2.81c.8-.78.8-2.07 0-2.86zM5.41 20L4 18.59l7.72-7.72 1.47 1.35L5.41 20z\"/>\n",
              "  </svg>\n",
              "      </button>\n",
              "      \n",
              "  <style>\n",
              "    .colab-df-container {\n",
              "      display:flex;\n",
              "      flex-wrap:wrap;\n",
              "      gap: 12px;\n",
              "    }\n",
              "\n",
              "    .colab-df-convert {\n",
              "      background-color: #E8F0FE;\n",
              "      border: none;\n",
              "      border-radius: 50%;\n",
              "      cursor: pointer;\n",
              "      display: none;\n",
              "      fill: #1967D2;\n",
              "      height: 32px;\n",
              "      padding: 0 0 0 0;\n",
              "      width: 32px;\n",
              "    }\n",
              "\n",
              "    .colab-df-convert:hover {\n",
              "      background-color: #E2EBFA;\n",
              "      box-shadow: 0px 1px 2px rgba(60, 64, 67, 0.3), 0px 1px 3px 1px rgba(60, 64, 67, 0.15);\n",
              "      fill: #174EA6;\n",
              "    }\n",
              "\n",
              "    [theme=dark] .colab-df-convert {\n",
              "      background-color: #3B4455;\n",
              "      fill: #D2E3FC;\n",
              "    }\n",
              "\n",
              "    [theme=dark] .colab-df-convert:hover {\n",
              "      background-color: #434B5C;\n",
              "      box-shadow: 0px 1px 3px 1px rgba(0, 0, 0, 0.15);\n",
              "      filter: drop-shadow(0px 1px 2px rgba(0, 0, 0, 0.3));\n",
              "      fill: #FFFFFF;\n",
              "    }\n",
              "  </style>\n",
              "\n",
              "      <script>\n",
              "        const buttonEl =\n",
              "          document.querySelector('#df-8f650d74-2bbd-4499-a590-4b2c9dc31165 button.colab-df-convert');\n",
              "        buttonEl.style.display =\n",
              "          google.colab.kernel.accessAllowed ? 'block' : 'none';\n",
              "\n",
              "        async function convertToInteractive(key) {\n",
              "          const element = document.querySelector('#df-8f650d74-2bbd-4499-a590-4b2c9dc31165');\n",
              "          const dataTable =\n",
              "            await google.colab.kernel.invokeFunction('convertToInteractive',\n",
              "                                                     [key], {});\n",
              "          if (!dataTable) return;\n",
              "\n",
              "          const docLinkHtml = 'Like what you see? Visit the ' +\n",
              "            '<a target=\"_blank\" href=https://colab.research.google.com/notebooks/data_table.ipynb>data table notebook</a>'\n",
              "            + ' to learn more about interactive tables.';\n",
              "          element.innerHTML = '';\n",
              "          dataTable['output_type'] = 'display_data';\n",
              "          await google.colab.output.renderOutput(dataTable, element);\n",
              "          const docLink = document.createElement('div');\n",
              "          docLink.innerHTML = docLinkHtml;\n",
              "          element.appendChild(docLink);\n",
              "        }\n",
              "      </script>\n",
              "    </div>\n",
              "  </div>\n",
              "  "
            ]
          },
          "metadata": {},
          "execution_count": 5
        }
      ]
    },
    {
      "cell_type": "markdown",
      "source": [
        "# Preparacion de los datos:Analisis Exploratorio"
      ],
      "metadata": {
        "id": "kX7xYH9uMib3"
      }
    },
    {
      "cell_type": "markdown",
      "source": [
        "Creando una columna extrayendo solo la hora de inico"
      ],
      "metadata": {
        "id": "8Jd7UdAkUgCg"
      }
    },
    {
      "cell_type": "code",
      "source": [
        "df[\"Hora de inicio\"]=df[\"Hora inicio\"].dt.time"
      ],
      "metadata": {
        "id": "6oQTDQf2MlcS"
      },
      "execution_count": 6,
      "outputs": []
    },
    {
      "cell_type": "code",
      "source": [
        "df[\"Hora de fin\"]=df[\"Hora fin\"].dt.time"
      ],
      "metadata": {
        "id": "8sRy-Q3tfGUB"
      },
      "execution_count": 7,
      "outputs": []
    },
    {
      "cell_type": "markdown",
      "source": [
        "Creando una columna estrayendo solo la hora de fin "
      ],
      "metadata": {
        "id": "8Jj3YLp1UlTc"
      }
    },
    {
      "cell_type": "markdown",
      "source": [
        "Calculando la diferencia entre la hora de fin y de inicio para observar la distirbucon de los datos "
      ],
      "metadata": {
        "id": "qXP6SqB7UsBJ"
      }
    },
    {
      "cell_type": "code",
      "source": [
        "df[\"tiempo de operacion\"]=df[\"Hora fin\"].dt.hour -df[\"Hora inicio\"].dt.hour"
      ],
      "metadata": {
        "id": "8UB7f3xyPrPM"
      },
      "execution_count": 8,
      "outputs": []
    },
    {
      "cell_type": "code",
      "source": [
        "df[\"tiempo de operacion\"]"
      ],
      "metadata": {
        "colab": {
          "base_uri": "https://localhost:8080/"
        },
        "id": "65-Up-ggBwBs",
        "outputId": "612cc8b4-f912-44d3-9749-c07afb2f12b5"
      },
      "execution_count": 9,
      "outputs": [
        {
          "output_type": "execute_result",
          "data": {
            "text/plain": [
              "0       2\n",
              "1       1\n",
              "2       1\n",
              "3       2\n",
              "4       1\n",
              "       ..\n",
              "8359    2\n",
              "8360    1\n",
              "8361    2\n",
              "8362    1\n",
              "8363    1\n",
              "Name: tiempo de operacion, Length: 8364, dtype: int64"
            ]
          },
          "metadata": {},
          "execution_count": 9
        }
      ]
    },
    {
      "cell_type": "markdown",
      "source": [
        "Se crean dos listas segun el promedio de carros y tiempo de operacion para facilitar la iteraccion con el ciclo de control"
      ],
      "metadata": {
        "id": "aN9KMjPZIFsz"
      }
    },
    {
      "cell_type": "code",
      "source": [
        "fg=df[\"tiempo de operacion\"]"
      ],
      "metadata": {
        "id": "Z0oifU9KD-2u"
      },
      "execution_count": 10,
      "outputs": []
    },
    {
      "cell_type": "code",
      "source": [
        "sd=df[\"Promedio carros\"]"
      ],
      "metadata": {
        "id": "HTxAg4VRB6rY"
      },
      "execution_count": 11,
      "outputs": []
    },
    {
      "cell_type": "markdown",
      "source": [
        "## Datos Atipicos"
      ],
      "metadata": {
        "id": "8iA-uDS8P5EO"
      }
    },
    {
      "cell_type": "code",
      "source": [
        "df.describe()"
      ],
      "metadata": {
        "colab": {
          "base_uri": "https://localhost:8080/",
          "height": 300
        },
        "id": "pou2dXfgKLrW",
        "outputId": "bdd9d6ba-7e33-41c0-9d79-c3f10b05bbb6"
      },
      "execution_count": 12,
      "outputs": [
        {
          "output_type": "execute_result",
          "data": {
            "text/plain": [
              "        Unnamed: 0  Promedio carros  tiempo de operacion\n",
              "count  8364.000000      8364.000000          8364.000000\n",
              "mean   4181.500000       477.943568             0.001913\n",
              "std    2414.623159       159.460708             5.204051\n",
              "min       0.000000       330.000000           -23.000000\n",
              "25%    2090.750000       390.000000             1.000000\n",
              "50%    4181.500000       406.000000             1.000000\n",
              "75%    6272.250000       430.000000             1.000000\n",
              "max    8363.000000       908.000000             2.000000"
            ],
            "text/html": [
              "\n",
              "  <div id=\"df-46bd5654-69aa-4904-ab44-ac42184f192c\">\n",
              "    <div class=\"colab-df-container\">\n",
              "      <div>\n",
              "<style scoped>\n",
              "    .dataframe tbody tr th:only-of-type {\n",
              "        vertical-align: middle;\n",
              "    }\n",
              "\n",
              "    .dataframe tbody tr th {\n",
              "        vertical-align: top;\n",
              "    }\n",
              "\n",
              "    .dataframe thead th {\n",
              "        text-align: right;\n",
              "    }\n",
              "</style>\n",
              "<table border=\"1\" class=\"dataframe\">\n",
              "  <thead>\n",
              "    <tr style=\"text-align: right;\">\n",
              "      <th></th>\n",
              "      <th>Unnamed: 0</th>\n",
              "      <th>Promedio carros</th>\n",
              "      <th>tiempo de operacion</th>\n",
              "    </tr>\n",
              "  </thead>\n",
              "  <tbody>\n",
              "    <tr>\n",
              "      <th>count</th>\n",
              "      <td>8364.000000</td>\n",
              "      <td>8364.000000</td>\n",
              "      <td>8364.000000</td>\n",
              "    </tr>\n",
              "    <tr>\n",
              "      <th>mean</th>\n",
              "      <td>4181.500000</td>\n",
              "      <td>477.943568</td>\n",
              "      <td>0.001913</td>\n",
              "    </tr>\n",
              "    <tr>\n",
              "      <th>std</th>\n",
              "      <td>2414.623159</td>\n",
              "      <td>159.460708</td>\n",
              "      <td>5.204051</td>\n",
              "    </tr>\n",
              "    <tr>\n",
              "      <th>min</th>\n",
              "      <td>0.000000</td>\n",
              "      <td>330.000000</td>\n",
              "      <td>-23.000000</td>\n",
              "    </tr>\n",
              "    <tr>\n",
              "      <th>25%</th>\n",
              "      <td>2090.750000</td>\n",
              "      <td>390.000000</td>\n",
              "      <td>1.000000</td>\n",
              "    </tr>\n",
              "    <tr>\n",
              "      <th>50%</th>\n",
              "      <td>4181.500000</td>\n",
              "      <td>406.000000</td>\n",
              "      <td>1.000000</td>\n",
              "    </tr>\n",
              "    <tr>\n",
              "      <th>75%</th>\n",
              "      <td>6272.250000</td>\n",
              "      <td>430.000000</td>\n",
              "      <td>1.000000</td>\n",
              "    </tr>\n",
              "    <tr>\n",
              "      <th>max</th>\n",
              "      <td>8363.000000</td>\n",
              "      <td>908.000000</td>\n",
              "      <td>2.000000</td>\n",
              "    </tr>\n",
              "  </tbody>\n",
              "</table>\n",
              "</div>\n",
              "      <button class=\"colab-df-convert\" onclick=\"convertToInteractive('df-46bd5654-69aa-4904-ab44-ac42184f192c')\"\n",
              "              title=\"Convert this dataframe to an interactive table.\"\n",
              "              style=\"display:none;\">\n",
              "        \n",
              "  <svg xmlns=\"http://www.w3.org/2000/svg\" height=\"24px\"viewBox=\"0 0 24 24\"\n",
              "       width=\"24px\">\n",
              "    <path d=\"M0 0h24v24H0V0z\" fill=\"none\"/>\n",
              "    <path d=\"M18.56 5.44l.94 2.06.94-2.06 2.06-.94-2.06-.94-.94-2.06-.94 2.06-2.06.94zm-11 1L8.5 8.5l.94-2.06 2.06-.94-2.06-.94L8.5 2.5l-.94 2.06-2.06.94zm10 10l.94 2.06.94-2.06 2.06-.94-2.06-.94-.94-2.06-.94 2.06-2.06.94z\"/><path d=\"M17.41 7.96l-1.37-1.37c-.4-.4-.92-.59-1.43-.59-.52 0-1.04.2-1.43.59L10.3 9.45l-7.72 7.72c-.78.78-.78 2.05 0 2.83L4 21.41c.39.39.9.59 1.41.59.51 0 1.02-.2 1.41-.59l7.78-7.78 2.81-2.81c.8-.78.8-2.07 0-2.86zM5.41 20L4 18.59l7.72-7.72 1.47 1.35L5.41 20z\"/>\n",
              "  </svg>\n",
              "      </button>\n",
              "      \n",
              "  <style>\n",
              "    .colab-df-container {\n",
              "      display:flex;\n",
              "      flex-wrap:wrap;\n",
              "      gap: 12px;\n",
              "    }\n",
              "\n",
              "    .colab-df-convert {\n",
              "      background-color: #E8F0FE;\n",
              "      border: none;\n",
              "      border-radius: 50%;\n",
              "      cursor: pointer;\n",
              "      display: none;\n",
              "      fill: #1967D2;\n",
              "      height: 32px;\n",
              "      padding: 0 0 0 0;\n",
              "      width: 32px;\n",
              "    }\n",
              "\n",
              "    .colab-df-convert:hover {\n",
              "      background-color: #E2EBFA;\n",
              "      box-shadow: 0px 1px 2px rgba(60, 64, 67, 0.3), 0px 1px 3px 1px rgba(60, 64, 67, 0.15);\n",
              "      fill: #174EA6;\n",
              "    }\n",
              "\n",
              "    [theme=dark] .colab-df-convert {\n",
              "      background-color: #3B4455;\n",
              "      fill: #D2E3FC;\n",
              "    }\n",
              "\n",
              "    [theme=dark] .colab-df-convert:hover {\n",
              "      background-color: #434B5C;\n",
              "      box-shadow: 0px 1px 3px 1px rgba(0, 0, 0, 0.15);\n",
              "      filter: drop-shadow(0px 1px 2px rgba(0, 0, 0, 0.3));\n",
              "      fill: #FFFFFF;\n",
              "    }\n",
              "  </style>\n",
              "\n",
              "      <script>\n",
              "        const buttonEl =\n",
              "          document.querySelector('#df-46bd5654-69aa-4904-ab44-ac42184f192c button.colab-df-convert');\n",
              "        buttonEl.style.display =\n",
              "          google.colab.kernel.accessAllowed ? 'block' : 'none';\n",
              "\n",
              "        async function convertToInteractive(key) {\n",
              "          const element = document.querySelector('#df-46bd5654-69aa-4904-ab44-ac42184f192c');\n",
              "          const dataTable =\n",
              "            await google.colab.kernel.invokeFunction('convertToInteractive',\n",
              "                                                     [key], {});\n",
              "          if (!dataTable) return;\n",
              "\n",
              "          const docLinkHtml = 'Like what you see? Visit the ' +\n",
              "            '<a target=\"_blank\" href=https://colab.research.google.com/notebooks/data_table.ipynb>data table notebook</a>'\n",
              "            + ' to learn more about interactive tables.';\n",
              "          element.innerHTML = '';\n",
              "          dataTable['output_type'] = 'display_data';\n",
              "          await google.colab.output.renderOutput(dataTable, element);\n",
              "          const docLink = document.createElement('div');\n",
              "          docLink.innerHTML = docLinkHtml;\n",
              "          element.appendChild(docLink);\n",
              "        }\n",
              "      </script>\n",
              "    </div>\n",
              "  </div>\n",
              "  "
            ]
          },
          "metadata": {},
          "execution_count": 12
        }
      ]
    },
    {
      "cell_type": "markdown",
      "source": [
        "Al revisar las propiedades de distribucion de los datos respecto al tiempo de operacion de observa un valor minimo de \"-23\" lo cual no es consistente  dado que el objetivo de conjunto de datos es el evaluar el promedio de carros que pasa en 1 hora, se encontraron datos con variables menores a 2 horas , se revisa  y se observa en el index 18 la presencia de un outlider  y se evidencia una diferencia de 23 horas entre la hora de inicio y hora de fin "
      ],
      "metadata": {
        "id": "S_3CNdL4MZvN"
      }
    },
    {
      "cell_type": "code",
      "source": [
        "sns.histplot(data=df,y=\"tiempo de operacion\")"
      ],
      "metadata": {
        "colab": {
          "base_uri": "https://localhost:8080/",
          "height": 467
        },
        "id": "4-OnAaqrM9iC",
        "outputId": "8ad53b4f-5081-40da-eb2c-b35dd7904369"
      },
      "execution_count": 13,
      "outputs": [
        {
          "output_type": "execute_result",
          "data": {
            "text/plain": [
              "<Axes: xlabel='Count', ylabel='tiempo de operacion'>"
            ]
          },
          "metadata": {},
          "execution_count": 13
        },
        {
          "output_type": "display_data",
          "data": {
            "text/plain": [
              "<Figure size 640x480 with 1 Axes>"
            ],
            "image/png": "[encoded data removed]"
          },
          "metadata": {}
        }
      ]
    },
    {
      "cell_type": "markdown",
      "source": [
        "## Ajuste de datos atipicos Promedio de autos"
      ],
      "metadata": {
        "id": "YRE7yWQdTD66"
      }
    },
    {
      "cell_type": "markdown",
      "source": [
        "Se implementa un ciclo de control for que divida entre dos en el caso que encuentre diferencias entre mediciones de 2 horas, caso contrario no modifica el promedio de autos"
      ],
      "metadata": {
        "id": "NtTroRbbfqc1"
      }
    },
    {
      "cell_type": "code",
      "source": [
        "ajustado=[]\n",
        "\n",
        "for i in range(0,8364,1):\n",
        "  if fg[i]== 2:\n",
        "    ajustado.append(sd[i]/2)\n",
        "  elif fg[i]< 0:\n",
        "    ajustado.append(sd[i])\n",
        "  else:\n",
        "   ajustado.append(sd[i])\n",
        "i=i+1\n",
        " "
      ],
      "metadata": {
        "id": "vAho2ObTC1dp"
      },
      "execution_count": 14,
      "outputs": []
    },
    {
      "cell_type": "markdown",
      "source": [
        "Los elementos se añaden a la lista al data frame con un nuevo nombre"
      ],
      "metadata": {
        "id": "knllSLGtJtf4"
      }
    },
    {
      "cell_type": "code",
      "source": [
        "df[\"Promedio ajustado\"]=ajustado"
      ],
      "metadata": {
        "id": "peo81Q--GNor"
      },
      "execution_count": 15,
      "outputs": []
    },
    {
      "cell_type": "code",
      "source": [
        "df.head()"
      ],
      "metadata": {
        "colab": {
          "base_uri": "https://localhost:8080/",
          "height": 206
        },
        "id": "BeMkQmP-dceT",
        "outputId": "b7fac569-1fad-40f1-99db-f5886d25c9ab"
      },
      "execution_count": 16,
      "outputs": [
        {
          "output_type": "execute_result",
          "data": {
            "text/plain": [
              "   Unnamed: 0         Hora inicio            Hora fin  Promedio carros  \\\n",
              "0           0 2021-03-21 00:00:00 2021-03-21 02:00:00              857   \n",
              "1           1 2021-03-21 02:00:00 2021-03-21 03:00:00              400   \n",
              "2           2 2021-03-21 03:00:00 2021-03-21 04:00:00              396   \n",
              "3           3 2021-03-21 04:00:00 2021-03-21 06:00:00              759   \n",
              "4           4 2021-03-21 06:00:00 2021-03-21 07:00:00              423   \n",
              "\n",
              "  Hora de inicio Hora de fin  tiempo de operacion  Promedio ajustado  \n",
              "0       00:00:00    02:00:00                    2              428.5  \n",
              "1       02:00:00    03:00:00                    1              400.0  \n",
              "2       03:00:00    04:00:00                    1              396.0  \n",
              "3       04:00:00    06:00:00                    2              379.5  \n",
              "4       06:00:00    07:00:00                    1              423.0  "
            ],
            "text/html": [
              "\n",
              "  <div id=\"df-d29233e9-5db2-45f7-b614-9188da0a18e8\">\n",
              "    <div class=\"colab-df-container\">\n",
              "      <div>\n",
              "<style scoped>\n",
              "    .dataframe tbody tr th:only-of-type {\n",
              "        vertical-align: middle;\n",
              "    }\n",
              "\n",
              "    .dataframe tbody tr th {\n",
              "        vertical-align: top;\n",
              "    }\n",
              "\n",
              "    .dataframe thead th {\n",
              "        text-align: right;\n",
              "    }\n",
              "</style>\n",
              "<table border=\"1\" class=\"dataframe\">\n",
              "  <thead>\n",
              "    <tr style=\"text-align: right;\">\n",
              "      <th></th>\n",
              "      <th>Unnamed: 0</th>\n",
              "      <th>Hora inicio</th>\n",
              "      <th>Hora fin</th>\n",
              "      <th>Promedio carros</th>\n",
              "      <th>Hora de inicio</th>\n",
              "      <th>Hora de fin</th>\n",
              "      <th>tiempo de operacion</th>\n",
              "      <th>Promedio ajustado</th>\n",
              "    </tr>\n",
              "  </thead>\n",
              "  <tbody>\n",
              "    <tr>\n",
              "      <th>0</th>\n",
              "      <td>0</td>\n",
              "      <td>2021-03-21 00:00:00</td>\n",
              "      <td>2021-03-21 02:00:00</td>\n",
              "      <td>857</td>\n",
              "      <td>00:00:00</td>\n",
              "      <td>02:00:00</td>\n",
              "      <td>2</td>\n",
              "      <td>428.5</td>\n",
              "    </tr>\n",
              "    <tr>\n",
              "      <th>1</th>\n",
              "      <td>1</td>\n",
              "      <td>2021-03-21 02:00:00</td>\n",
              "      <td>2021-03-21 03:00:00</td>\n",
              "      <td>400</td>\n",
              "      <td>02:00:00</td>\n",
              "      <td>03:00:00</td>\n",
              "      <td>1</td>\n",
              "      <td>400.0</td>\n",
              "    </tr>\n",
              "    <tr>\n",
              "      <th>2</th>\n",
              "      <td>2</td>\n",
              "      <td>2021-03-21 03:00:00</td>\n",
              "      <td>2021-03-21 04:00:00</td>\n",
              "      <td>396</td>\n",
              "      <td>03:00:00</td>\n",
              "      <td>04:00:00</td>\n",
              "      <td>1</td>\n",
              "      <td>396.0</td>\n",
              "    </tr>\n",
              "    <tr>\n",
              "      <th>3</th>\n",
              "      <td>3</td>\n",
              "      <td>2021-03-21 04:00:00</td>\n",
              "      <td>2021-03-21 06:00:00</td>\n",
              "      <td>759</td>\n",
              "      <td>04:00:00</td>\n",
              "      <td>06:00:00</td>\n",
              "      <td>2</td>\n",
              "      <td>379.5</td>\n",
              "    </tr>\n",
              "    <tr>\n",
              "      <th>4</th>\n",
              "      <td>4</td>\n",
              "      <td>2021-03-21 06:00:00</td>\n",
              "      <td>2021-03-21 07:00:00</td>\n",
              "      <td>423</td>\n",
              "      <td>06:00:00</td>\n",
              "      <td>07:00:00</td>\n",
              "      <td>1</td>\n",
              "      <td>423.0</td>\n",
              "    </tr>\n",
              "  </tbody>\n",
              "</table>\n",
              "</div>\n",
              "      <button class=\"colab-df-convert\" onclick=\"convertToInteractive('df-d29233e9-5db2-45f7-b614-9188da0a18e8')\"\n",
              "              title=\"Convert this dataframe to an interactive table.\"\n",
              "              style=\"display:none;\">\n",
              "        \n",
              "  <svg xmlns=\"http://www.w3.org/2000/svg\" height=\"24px\"viewBox=\"0 0 24 24\"\n",
              "       width=\"24px\">\n",
              "    <path d=\"M0 0h24v24H0V0z\" fill=\"none\"/>\n",
              "    <path d=\"M18.56 5.44l.94 2.06.94-2.06 2.06-.94-2.06-.94-.94-2.06-.94 2.06-2.06.94zm-11 1L8.5 8.5l.94-2.06 2.06-.94-2.06-.94L8.5 2.5l-.94 2.06-2.06.94zm10 10l.94 2.06.94-2.06 2.06-.94-2.06-.94-.94-2.06-.94 2.06-2.06.94z\"/><path d=\"M17.41 7.96l-1.37-1.37c-.4-.4-.92-.59-1.43-.59-.52 0-1.04.2-1.43.59L10.3 9.45l-7.72 7.72c-.78.78-.78 2.05 0 2.83L4 21.41c.39.39.9.59 1.41.59.51 0 1.02-.2 1.41-.59l7.78-7.78 2.81-2.81c.8-.78.8-2.07 0-2.86zM5.41 20L4 18.59l7.72-7.72 1.47 1.35L5.41 20z\"/>\n",
              "  </svg>\n",
              "      </button>\n",
              "      \n",
              "  <style>\n",
              "    .colab-df-container {\n",
              "      display:flex;\n",
              "      flex-wrap:wrap;\n",
              "      gap: 12px;\n",
              "    }\n",
              "\n",
              "    .colab-df-convert {\n",
              "      background-color: #E8F0FE;\n",
              "      border: none;\n",
              "      border-radius: 50%;\n",
              "      cursor: pointer;\n",
              "      display: none;\n",
              "      fill: #1967D2;\n",
              "      height: 32px;\n",
              "      padding: 0 0 0 0;\n",
              "      width: 32px;\n",
              "    }\n",
              "\n",
              "    .colab-df-convert:hover {\n",
              "      background-color: #E2EBFA;\n",
              "      box-shadow: 0px 1px 2px rgba(60, 64, 67, 0.3), 0px 1px 3px 1px rgba(60, 64, 67, 0.15);\n",
              "      fill: #174EA6;\n",
              "    }\n",
              "\n",
              "    [theme=dark] .colab-df-convert {\n",
              "      background-color: #3B4455;\n",
              "      fill: #D2E3FC;\n",
              "    }\n",
              "\n",
              "    [theme=dark] .colab-df-convert:hover {\n",
              "      background-color: #434B5C;\n",
              "      box-shadow: 0px 1px 3px 1px rgba(0, 0, 0, 0.15);\n",
              "      filter: drop-shadow(0px 1px 2px rgba(0, 0, 0, 0.3));\n",
              "      fill: #FFFFFF;\n",
              "    }\n",
              "  </style>\n",
              "\n",
              "      <script>\n",
              "        const buttonEl =\n",
              "          document.querySelector('#df-d29233e9-5db2-45f7-b614-9188da0a18e8 button.colab-df-convert');\n",
              "        buttonEl.style.display =\n",
              "          google.colab.kernel.accessAllowed ? 'block' : 'none';\n",
              "\n",
              "        async function convertToInteractive(key) {\n",
              "          const element = document.querySelector('#df-d29233e9-5db2-45f7-b614-9188da0a18e8');\n",
              "          const dataTable =\n",
              "            await google.colab.kernel.invokeFunction('convertToInteractive',\n",
              "                                                     [key], {});\n",
              "          if (!dataTable) return;\n",
              "\n",
              "          const docLinkHtml = 'Like what you see? Visit the ' +\n",
              "            '<a target=\"_blank\" href=https://colab.research.google.com/notebooks/data_table.ipynb>data table notebook</a>'\n",
              "            + ' to learn more about interactive tables.';\n",
              "          element.innerHTML = '';\n",
              "          dataTable['output_type'] = 'display_data';\n",
              "          await google.colab.output.renderOutput(dataTable, element);\n",
              "          const docLink = document.createElement('div');\n",
              "          docLink.innerHTML = docLinkHtml;\n",
              "          element.appendChild(docLink);\n",
              "        }\n",
              "      </script>\n",
              "    </div>\n",
              "  </div>\n",
              "  "
            ]
          },
          "metadata": {},
          "execution_count": 16
        }
      ]
    },
    {
      "cell_type": "markdown",
      "source": [
        "Al realizar una visualizacion de datos  se observan datos atipicos que indican que hay fecha entre la hora de inicio y la hora de fin que son mayores o inferiores a 2 horas, lo cual indica que no todas la observaciones fueron tomadas en un periodo de tiempo definido ( 1 hora) estos datos generan pertubacion a la distirbucion de los mismos, frente al caso hay dos opciones de tratamiento 1) eliminarlos y no tomar estas observaciones o 2) ajustarlos , Se procede a eliminar los datos atipicos cuyo tiempo de operacion es menor \"0\" usando la funcion drop este nuevo dataframe se llama dt\n"
      ],
      "metadata": {
        "id": "wF6ah2sxNvov"
      }
    },
    {
      "cell_type": "markdown",
      "source": [
        "## Eliminando datos atipicos"
      ],
      "metadata": {
        "id": "cvVkCQ_rTJcy"
      }
    },
    {
      "cell_type": "code",
      "source": [
        "dt=df.drop(df[df[\"tiempo de operacion\"]<0].index)\n"
      ],
      "metadata": {
        "id": "htAXJdEiQ2Wg"
      },
      "execution_count": 17,
      "outputs": []
    },
    {
      "cell_type": "code",
      "source": [
        "dt.describe()"
      ],
      "metadata": {
        "colab": {
          "base_uri": "https://localhost:8080/",
          "height": 300
        },
        "id": "Ka-1FM8jSFBZ",
        "outputId": "78ab0b89-d0ee-4859-8bd6-951875c0d1be"
      },
      "execution_count": 18,
      "outputs": [
        {
          "output_type": "execute_result",
          "data": {
            "text/plain": [
              "        Unnamed: 0  Promedio carros  tiempo de operacion  Promedio ajustado\n",
              "count  7948.000000      7948.000000          7948.000000        7948.000000\n",
              "mean   4181.763966       475.299446             1.188978         399.856568\n",
              "std    2414.601232       157.505284             0.391516          19.058193\n",
              "min       0.000000       330.000000             1.000000         330.000000\n",
              "25%    2091.750000       390.000000             1.000000         387.000000\n",
              "50%    4182.500000       406.000000             1.000000         399.500000\n",
              "75%    6272.250000       429.000000             1.000000         412.000000\n",
              "max    8363.000000       908.000000             2.000000         479.000000"
            ],
            "text/html": [
              "\n",
              "  <div id=\"df-7937460c-3679-4fb4-880e-fcc1234dc0a8\">\n",
              "    <div class=\"colab-df-container\">\n",
              "      <div>\n",
              "<style scoped>\n",
              "    .dataframe tbody tr th:only-of-type {\n",
              "        vertical-align: middle;\n",
              "    }\n",
              "\n",
              "    .dataframe tbody tr th {\n",
              "        vertical-align: top;\n",
              "    }\n",
              "\n",
              "    .dataframe thead th {\n",
              "        text-align: right;\n",
              "    }\n",
              "</style>\n",
              "<table border=\"1\" class=\"dataframe\">\n",
              "  <thead>\n",
              "    <tr style=\"text-align: right;\">\n",
              "      <th></th>\n",
              "      <th>Unnamed: 0</th>\n",
              "      <th>Promedio carros</th>\n",
              "      <th>tiempo de operacion</th>\n",
              "      <th>Promedio ajustado</th>\n",
              "    </tr>\n",
              "  </thead>\n",
              "  <tbody>\n",
              "    <tr>\n",
              "      <th>count</th>\n",
              "      <td>7948.000000</td>\n",
              "      <td>7948.000000</td>\n",
              "      <td>7948.000000</td>\n",
              "      <td>7948.000000</td>\n",
              "    </tr>\n",
              "    <tr>\n",
              "      <th>mean</th>\n",
              "      <td>4181.763966</td>\n",
              "      <td>475.299446</td>\n",
              "      <td>1.188978</td>\n",
              "      <td>399.856568</td>\n",
              "    </tr>\n",
              "    <tr>\n",
              "      <th>std</th>\n",
              "      <td>2414.601232</td>\n",
              "      <td>157.505284</td>\n",
              "      <td>0.391516</td>\n",
              "      <td>19.058193</td>\n",
              "    </tr>\n",
              "    <tr>\n",
              "      <th>min</th>\n",
              "      <td>0.000000</td>\n",
              "      <td>330.000000</td>\n",
              "      <td>1.000000</td>\n",
              "      <td>330.000000</td>\n",
              "    </tr>\n",
              "    <tr>\n",
              "      <th>25%</th>\n",
              "      <td>2091.750000</td>\n",
              "      <td>390.000000</td>\n",
              "      <td>1.000000</td>\n",
              "      <td>387.000000</td>\n",
              "    </tr>\n",
              "    <tr>\n",
              "      <th>50%</th>\n",
              "      <td>4182.500000</td>\n",
              "      <td>406.000000</td>\n",
              "      <td>1.000000</td>\n",
              "      <td>399.500000</td>\n",
              "    </tr>\n",
              "    <tr>\n",
              "      <th>75%</th>\n",
              "      <td>6272.250000</td>\n",
              "      <td>429.000000</td>\n",
              "      <td>1.000000</td>\n",
              "      <td>412.000000</td>\n",
              "    </tr>\n",
              "    <tr>\n",
              "      <th>max</th>\n",
              "      <td>8363.000000</td>\n",
              "      <td>908.000000</td>\n",
              "      <td>2.000000</td>\n",
              "      <td>479.000000</td>\n",
              "    </tr>\n",
              "  </tbody>\n",
              "</table>\n",
              "</div>\n",
              "      <button class=\"colab-df-convert\" onclick=\"convertToInteractive('df-7937460c-3679-4fb4-880e-fcc1234dc0a8')\"\n",
              "              title=\"Convert this dataframe to an interactive table.\"\n",
              "              style=\"display:none;\">\n",
              "        \n",
              "  <svg xmlns=\"http://www.w3.org/2000/svg\" height=\"24px\"viewBox=\"0 0 24 24\"\n",
              "       width=\"24px\">\n",
              "    <path d=\"M0 0h24v24H0V0z\" fill=\"none\"/>\n",
              "    <path d=\"M18.56 5.44l.94 2.06.94-2.06 2.06-.94-2.06-.94-.94-2.06-.94 2.06-2.06.94zm-11 1L8.5 8.5l.94-2.06 2.06-.94-2.06-.94L8.5 2.5l-.94 2.06-2.06.94zm10 10l.94 2.06.94-2.06 2.06-.94-2.06-.94-.94-2.06-.94 2.06-2.06.94z\"/><path d=\"M17.41 7.96l-1.37-1.37c-.4-.4-.92-.59-1.43-.59-.52 0-1.04.2-1.43.59L10.3 9.45l-7.72 7.72c-.78.78-.78 2.05 0 2.83L4 21.41c.39.39.9.59 1.41.59.51 0 1.02-.2 1.41-.59l7.78-7.78 2.81-2.81c.8-.78.8-2.07 0-2.86zM5.41 20L4 18.59l7.72-7.72 1.47 1.35L5.41 20z\"/>\n",
              "  </svg>\n",
              "      </button>\n",
              "      \n",
              "  <style>\n",
              "    .colab-df-container {\n",
              "      display:flex;\n",
              "      flex-wrap:wrap;\n",
              "      gap: 12px;\n",
              "    }\n",
              "\n",
              "    .colab-df-convert {\n",
              "      background-color: #E8F0FE;\n",
              "      border: none;\n",
              "      border-radius: 50%;\n",
              "      cursor: pointer;\n",
              "      display: none;\n",
              "      fill: #1967D2;\n",
              "      height: 32px;\n",
              "      padding: 0 0 0 0;\n",
              "      width: 32px;\n",
              "    }\n",
              "\n",
              "    .colab-df-convert:hover {\n",
              "      background-color: #E2EBFA;\n",
              "      box-shadow: 0px 1px 2px rgba(60, 64, 67, 0.3), 0px 1px 3px 1px rgba(60, 64, 67, 0.15);\n",
              "      fill: #174EA6;\n",
              "    }\n",
              "\n",
              "    [theme=dark] .colab-df-convert {\n",
              "      background-color: #3B4455;\n",
              "      fill: #D2E3FC;\n",
              "    }\n",
              "\n",
              "    [theme=dark] .colab-df-convert:hover {\n",
              "      background-color: #434B5C;\n",
              "      box-shadow: 0px 1px 3px 1px rgba(0, 0, 0, 0.15);\n",
              "      filter: drop-shadow(0px 1px 2px rgba(0, 0, 0, 0.3));\n",
              "      fill: #FFFFFF;\n",
              "    }\n",
              "  </style>\n",
              "\n",
              "      <script>\n",
              "        const buttonEl =\n",
              "          document.querySelector('#df-7937460c-3679-4fb4-880e-fcc1234dc0a8 button.colab-df-convert');\n",
              "        buttonEl.style.display =\n",
              "          google.colab.kernel.accessAllowed ? 'block' : 'none';\n",
              "\n",
              "        async function convertToInteractive(key) {\n",
              "          const element = document.querySelector('#df-7937460c-3679-4fb4-880e-fcc1234dc0a8');\n",
              "          const dataTable =\n",
              "            await google.colab.kernel.invokeFunction('convertToInteractive',\n",
              "                                                     [key], {});\n",
              "          if (!dataTable) return;\n",
              "\n",
              "          const docLinkHtml = 'Like what you see? Visit the ' +\n",
              "            '<a target=\"_blank\" href=https://colab.research.google.com/notebooks/data_table.ipynb>data table notebook</a>'\n",
              "            + ' to learn more about interactive tables.';\n",
              "          element.innerHTML = '';\n",
              "          dataTable['output_type'] = 'display_data';\n",
              "          await google.colab.output.renderOutput(dataTable, element);\n",
              "          const docLink = document.createElement('div');\n",
              "          docLink.innerHTML = docLinkHtml;\n",
              "          element.appendChild(docLink);\n",
              "        }\n",
              "      </script>\n",
              "    </div>\n",
              "  </div>\n",
              "  "
            ]
          },
          "metadata": {},
          "execution_count": 18
        }
      ]
    },
    {
      "cell_type": "markdown",
      "source": [
        "# Preguntas"
      ],
      "metadata": {
        "id": "Ejaf3iRs5apr"
      }
    },
    {
      "cell_type": "markdown",
      "source": [
        "* Genera la gráfica de densidad de los datos originlaes y los datos tratados (tenga en cuenta el tratamiento de los lapsos de dos horas para que no se afecte la media). Use el mismo gráfico para visualizar ambas curvas."
      ],
      "metadata": {
        "id": "KRwuwuNf5cuP"
      }
    },
    {
      "cell_type": "code",
      "source": [
        "sns.set(rc={'figure.figsize':(11.7,8.27)})\n",
        "sns.kdeplot(data=dt, x=\"Promedio ajustado\") ### el dataframe ya tratado"
      ],
      "metadata": {
        "colab": {
          "base_uri": "https://localhost:8080/",
          "height": 743
        },
        "id": "97bQpt_VW_Xo",
        "outputId": "4d114a59-0316-4ee4-afa5-3bfe6a41b4e9"
      },
      "execution_count": 19,
      "outputs": [
        {
          "output_type": "execute_result",
          "data": {
            "text/plain": [
              "<Axes: xlabel='Promedio ajustado', ylabel='Density'>"
            ]
          },
          "metadata": {},
          "execution_count": 19
        },
        {
          "output_type": "display_data",
          "data": {
            "text/plain": [
              "<Figure size 1170x827 with 1 Axes>"
            ],
            "image/png": "[encoded data removed]"
          },
          "metadata": {}
        }
      ]
    },
    {
      "cell_type": "code",
      "source": [
        "sns.set(rc={'figure.figsize':(11.7,8.27)})\n",
        "sns.boxplot(data=dt, x=\"Promedio ajustado\") ### el dataframe ya tratado"
      ],
      "metadata": {
        "colab": {
          "base_uri": "https://localhost:8080/",
          "height": 743
        },
        "id": "CxfiALYBTzPd",
        "outputId": "66d08099-1957-4160-8b01-a8c21faffa79"
      },
      "execution_count": 20,
      "outputs": [
        {
          "output_type": "execute_result",
          "data": {
            "text/plain": [
              "<Axes: xlabel='Promedio ajustado'>"
            ]
          },
          "metadata": {},
          "execution_count": 20
        },
        {
          "output_type": "display_data",
          "data": {
            "text/plain": [
              "<Figure size 1170x827 with 1 Axes>"
            ],
            "image/png": "[encoded data removed]"
          },
          "metadata": {}
        }
      ]
    },
    {
      "cell_type": "code",
      "source": [
        "sns.set(rc={'figure.figsize':(11.7,8.27)})\n",
        "sns.boxplot(data=df, x=\"Promedio ajustado\") ### el dataframe NO tratado"
      ],
      "metadata": {
        "colab": {
          "base_uri": "https://localhost:8080/",
          "height": 743
        },
        "id": "aHrYiC1XVUBv",
        "outputId": "4d7524c6-db53-487e-bd77-86aa609cfd0d"
      },
      "execution_count": 21,
      "outputs": [
        {
          "output_type": "execute_result",
          "data": {
            "text/plain": [
              "<Axes: xlabel='Promedio ajustado'>"
            ]
          },
          "metadata": {},
          "execution_count": 21
        },
        {
          "output_type": "display_data",
          "data": {
            "text/plain": [
              "<Figure size 1170x827 with 1 Axes>"
            ],
            "image/png": "[encoded data removed]"
          },
          "metadata": {}
        }
      ]
    },
    {
      "cell_type": "code",
      "source": [
        "sns.set(rc={'figure.figsize':(11.7,8.27)})\n",
        "sns.kdeplot(data=df, x=\"Promedio ajustado\") ### el dataframe NO tratado"
      ],
      "metadata": {
        "colab": {
          "base_uri": "https://localhost:8080/",
          "height": 743
        },
        "id": "VEJhJNTGVgGq",
        "outputId": "930d8300-eb37-465b-dd65-74b4ed4e5c37"
      },
      "execution_count": 22,
      "outputs": [
        {
          "output_type": "execute_result",
          "data": {
            "text/plain": [
              "<Axes: xlabel='Promedio ajustado', ylabel='Density'>"
            ]
          },
          "metadata": {},
          "execution_count": 22
        },
        {
          "output_type": "display_data",
          "data": {
            "text/plain": [
              "<Figure size 1170x827 with 1 Axes>"
            ],
            "image/png": "[encoded data removed]"
          },
          "metadata": {}
        }
      ]
    },
    {
      "cell_type": "markdown",
      "source": [
        "* Cuál es la probabilidad de que pasen 395 autos por el peaje en una hora?"
      ],
      "metadata": {
        "id": "TlG5_qMT5_wR"
      }
    },
    {
      "cell_type": "code",
      "source": [
        "import numpy as np\n",
        "from scipy.stats import norm\n"
      ],
      "metadata": {
        "id": "Vbswi22e2drJ"
      },
      "execution_count": 23,
      "outputs": []
    },
    {
      "cell_type": "code",
      "execution_count": 24,
      "metadata": {
        "id": "V9w_kBexkMre",
        "colab": {
          "base_uri": "https://localhost:8080/"
        },
        "outputId": "78b24177-8fb2-411d-c87f-a958ba279367"
      },
      "outputs": [
        {
          "output_type": "execute_result",
          "data": {
            "text/plain": [
              "0.020274030910759078"
            ]
          },
          "metadata": {},
          "execution_count": 24
        }
      ],
      "source": [
        "## prob de que tome un valor 395\n",
        "norm.pdf(x=395 ,loc= 399.85,scale=19.05)\n"
      ]
    },
    {
      "cell_type": "markdown",
      "source": [
        "* Cuál es la probabilidad de que pasen a lo sumo 320 autos por el peaje en una hora?"
      ],
      "metadata": {
        "id": "XREP19SF6HIu"
      }
    },
    {
      "cell_type": "code",
      "source": [
        "##P(X<=320)\n",
        "norm.cdf(320,399.85,19.05)"
      ],
      "metadata": {
        "id": "XrP0zADN6M_7",
        "colab": {
          "base_uri": "https://localhost:8080/"
        },
        "outputId": "7bc94e6f-2935-4561-f351-341e24bee4b6"
      },
      "execution_count": 59,
      "outputs": [
        {
          "output_type": "execute_result",
          "data": {
            "text/plain": [
              "1.3849638275543425e-05"
            ]
          },
          "metadata": {},
          "execution_count": 59
        }
      ]
    },
    {
      "cell_type": "markdown",
      "source": [
        "* Cuál es la probabilidad de que pasen al menos 400 autos por el peaje en una hora?"
      ],
      "metadata": {
        "id": "9pnegeSY6NU6"
      }
    },
    {
      "cell_type": "code",
      "source": [
        "1-norm.cdf(400,399.85,19.05)"
      ],
      "metadata": {
        "id": "NtiG_MBD6TDM",
        "colab": {
          "base_uri": "https://localhost:8080/"
        },
        "outputId": "89f13dfe-1b74-4ced-a5fa-c67713afc15f"
      },
      "execution_count": 26,
      "outputs": [
        {
          "output_type": "execute_result",
          "data": {
            "text/plain": [
              "0.49685875466119767"
            ]
          },
          "metadata": {},
          "execution_count": 26
        }
      ]
    },
    {
      "cell_type": "markdown",
      "source": [
        "* Cuál es la probabilidad de que pasen a lo sumo 320 autos por el peaje entre las 2 p.m. y 3 p.m. específicamente?"
      ],
      "metadata": {
        "id": "ZbarLIKX6Uge"
      }
    },
    {
      "cell_type": "markdown",
      "source": [
        "Extrayendo la hora de inicio y hora final creando un nuevo dataframe"
      ],
      "metadata": {
        "id": "OrUthoEElQgd"
      }
    },
    {
      "cell_type": "code",
      "source": [
        "WE=df['Hora inicio']\n",
        "WS=df['Hora fin']"
      ],
      "metadata": {
        "id": "JJSvUMXhL57c"
      },
      "execution_count": 38,
      "outputs": []
    },
    {
      "cell_type": "code",
      "source": [
        "dt.head()"
      ],
      "metadata": {
        "colab": {
          "base_uri": "https://localhost:8080/",
          "height": 206
        },
        "id": "suPP_PU3nY4V",
        "outputId": "f83c5ded-41e2-4b9b-dbeb-d310ddf42d13"
      },
      "execution_count": 42,
      "outputs": [
        {
          "output_type": "execute_result",
          "data": {
            "text/plain": [
              "   Unnamed: 0         Hora inicio            Hora fin  Promedio carros  \\\n",
              "0           0 2021-03-21 00:00:00 2021-03-21 02:00:00              857   \n",
              "1           1 2021-03-21 02:00:00 2021-03-21 03:00:00              400   \n",
              "2           2 2021-03-21 03:00:00 2021-03-21 04:00:00              396   \n",
              "3           3 2021-03-21 04:00:00 2021-03-21 06:00:00              759   \n",
              "4           4 2021-03-21 06:00:00 2021-03-21 07:00:00              423   \n",
              "\n",
              "  Hora de inicio Hora de fin  tiempo de operacion  Promedio ajustado  \n",
              "0       00:00:00    02:00:00                    2              428.5  \n",
              "1       02:00:00    03:00:00                    1              400.0  \n",
              "2       03:00:00    04:00:00                    1              396.0  \n",
              "3       04:00:00    06:00:00                    2              379.5  \n",
              "4       06:00:00    07:00:00                    1              423.0  "
            ],
            "text/html": [
              "\n",
              "  <div id=\"df-df817768-cd32-4429-a3b6-44b2deca5e14\">\n",
              "    <div class=\"colab-df-container\">\n",
              "      <div>\n",
              "<style scoped>\n",
              "    .dataframe tbody tr th:only-of-type {\n",
              "        vertical-align: middle;\n",
              "    }\n",
              "\n",
              "    .dataframe tbody tr th {\n",
              "        vertical-align: top;\n",
              "    }\n",
              "\n",
              "    .dataframe thead th {\n",
              "        text-align: right;\n",
              "    }\n",
              "</style>\n",
              "<table border=\"1\" class=\"dataframe\">\n",
              "  <thead>\n",
              "    <tr style=\"text-align: right;\">\n",
              "      <th></th>\n",
              "      <th>Unnamed: 0</th>\n",
              "      <th>Hora inicio</th>\n",
              "      <th>Hora fin</th>\n",
              "      <th>Promedio carros</th>\n",
              "      <th>Hora de inicio</th>\n",
              "      <th>Hora de fin</th>\n",
              "      <th>tiempo de operacion</th>\n",
              "      <th>Promedio ajustado</th>\n",
              "    </tr>\n",
              "  </thead>\n",
              "  <tbody>\n",
              "    <tr>\n",
              "      <th>0</th>\n",
              "      <td>0</td>\n",
              "      <td>2021-03-21 00:00:00</td>\n",
              "      <td>2021-03-21 02:00:00</td>\n",
              "      <td>857</td>\n",
              "      <td>00:00:00</td>\n",
              "      <td>02:00:00</td>\n",
              "      <td>2</td>\n",
              "      <td>428.5</td>\n",
              "    </tr>\n",
              "    <tr>\n",
              "      <th>1</th>\n",
              "      <td>1</td>\n",
              "      <td>2021-03-21 02:00:00</td>\n",
              "      <td>2021-03-21 03:00:00</td>\n",
              "      <td>400</td>\n",
              "      <td>02:00:00</td>\n",
              "      <td>03:00:00</td>\n",
              "      <td>1</td>\n",
              "      <td>400.0</td>\n",
              "    </tr>\n",
              "    <tr>\n",
              "      <th>2</th>\n",
              "      <td>2</td>\n",
              "      <td>2021-03-21 03:00:00</td>\n",
              "      <td>2021-03-21 04:00:00</td>\n",
              "      <td>396</td>\n",
              "      <td>03:00:00</td>\n",
              "      <td>04:00:00</td>\n",
              "      <td>1</td>\n",
              "      <td>396.0</td>\n",
              "    </tr>\n",
              "    <tr>\n",
              "      <th>3</th>\n",
              "      <td>3</td>\n",
              "      <td>2021-03-21 04:00:00</td>\n",
              "      <td>2021-03-21 06:00:00</td>\n",
              "      <td>759</td>\n",
              "      <td>04:00:00</td>\n",
              "      <td>06:00:00</td>\n",
              "      <td>2</td>\n",
              "      <td>379.5</td>\n",
              "    </tr>\n",
              "    <tr>\n",
              "      <th>4</th>\n",
              "      <td>4</td>\n",
              "      <td>2021-03-21 06:00:00</td>\n",
              "      <td>2021-03-21 07:00:00</td>\n",
              "      <td>423</td>\n",
              "      <td>06:00:00</td>\n",
              "      <td>07:00:00</td>\n",
              "      <td>1</td>\n",
              "      <td>423.0</td>\n",
              "    </tr>\n",
              "  </tbody>\n",
              "</table>\n",
              "</div>\n",
              "      <button class=\"colab-df-convert\" onclick=\"convertToInteractive('df-df817768-cd32-4429-a3b6-44b2deca5e14')\"\n",
              "              title=\"Convert this dataframe to an interactive table.\"\n",
              "              style=\"display:none;\">\n",
              "        \n",
              "  <svg xmlns=\"http://www.w3.org/2000/svg\" height=\"24px\"viewBox=\"0 0 24 24\"\n",
              "       width=\"24px\">\n",
              "    <path d=\"M0 0h24v24H0V0z\" fill=\"none\"/>\n",
              "    <path d=\"M18.56 5.44l.94 2.06.94-2.06 2.06-.94-2.06-.94-.94-2.06-.94 2.06-2.06.94zm-11 1L8.5 8.5l.94-2.06 2.06-.94-2.06-.94L8.5 2.5l-.94 2.06-2.06.94zm10 10l.94 2.06.94-2.06 2.06-.94-2.06-.94-.94-2.06-.94 2.06-2.06.94z\"/><path d=\"M17.41 7.96l-1.37-1.37c-.4-.4-.92-.59-1.43-.59-.52 0-1.04.2-1.43.59L10.3 9.45l-7.72 7.72c-.78.78-.78 2.05 0 2.83L4 21.41c.39.39.9.59 1.41.59.51 0 1.02-.2 1.41-.59l7.78-7.78 2.81-2.81c.8-.78.8-2.07 0-2.86zM5.41 20L4 18.59l7.72-7.72 1.47 1.35L5.41 20z\"/>\n",
              "  </svg>\n",
              "      </button>\n",
              "      \n",
              "  <style>\n",
              "    .colab-df-container {\n",
              "      display:flex;\n",
              "      flex-wrap:wrap;\n",
              "      gap: 12px;\n",
              "    }\n",
              "\n",
              "    .colab-df-convert {\n",
              "      background-color: #E8F0FE;\n",
              "      border: none;\n",
              "      border-radius: 50%;\n",
              "      cursor: pointer;\n",
              "      display: none;\n",
              "      fill: #1967D2;\n",
              "      height: 32px;\n",
              "      padding: 0 0 0 0;\n",
              "      width: 32px;\n",
              "    }\n",
              "\n",
              "    .colab-df-convert:hover {\n",
              "      background-color: #E2EBFA;\n",
              "      box-shadow: 0px 1px 2px rgba(60, 64, 67, 0.3), 0px 1px 3px 1px rgba(60, 64, 67, 0.15);\n",
              "      fill: #174EA6;\n",
              "    }\n",
              "\n",
              "    [theme=dark] .colab-df-convert {\n",
              "      background-color: #3B4455;\n",
              "      fill: #D2E3FC;\n",
              "    }\n",
              "\n",
              "    [theme=dark] .colab-df-convert:hover {\n",
              "      background-color: #434B5C;\n",
              "      box-shadow: 0px 1px 3px 1px rgba(0, 0, 0, 0.15);\n",
              "      filter: drop-shadow(0px 1px 2px rgba(0, 0, 0, 0.3));\n",
              "      fill: #FFFFFF;\n",
              "    }\n",
              "  </style>\n",
              "\n",
              "      <script>\n",
              "        const buttonEl =\n",
              "          document.querySelector('#df-df817768-cd32-4429-a3b6-44b2deca5e14 button.colab-df-convert');\n",
              "        buttonEl.style.display =\n",
              "          google.colab.kernel.accessAllowed ? 'block' : 'none';\n",
              "\n",
              "        async function convertToInteractive(key) {\n",
              "          const element = document.querySelector('#df-df817768-cd32-4429-a3b6-44b2deca5e14');\n",
              "          const dataTable =\n",
              "            await google.colab.kernel.invokeFunction('convertToInteractive',\n",
              "                                                     [key], {});\n",
              "          if (!dataTable) return;\n",
              "\n",
              "          const docLinkHtml = 'Like what you see? Visit the ' +\n",
              "            '<a target=\"_blank\" href=https://colab.research.google.com/notebooks/data_table.ipynb>data table notebook</a>'\n",
              "            + ' to learn more about interactive tables.';\n",
              "          element.innerHTML = '';\n",
              "          dataTable['output_type'] = 'display_data';\n",
              "          await google.colab.output.renderOutput(dataTable, element);\n",
              "          const docLink = document.createElement('div');\n",
              "          docLink.innerHTML = docLinkHtml;\n",
              "          element.appendChild(docLink);\n",
              "        }\n",
              "      </script>\n",
              "    </div>\n",
              "  </div>\n",
              "  "
            ]
          },
          "metadata": {},
          "execution_count": 42
        }
      ]
    },
    {
      "cell_type": "code",
      "source": [
        "dt[\"HORA I\"]=WE.dt.hour\n",
        "dt[\"HORA F\"]=WS.dt.hour"
      ],
      "metadata": {
        "id": "7Pnb835Mk8Tw"
      },
      "execution_count": 43,
      "outputs": []
    },
    {
      "cell_type": "code",
      "source": [
        "dt.head()"
      ],
      "metadata": {
        "colab": {
          "base_uri": "https://localhost:8080/",
          "height": 206
        },
        "id": "sSi52CQvlk0N",
        "outputId": "bb87285c-2283-413c-f123-2552f91cedb1"
      },
      "execution_count": 46,
      "outputs": [
        {
          "output_type": "execute_result",
          "data": {
            "text/plain": [
              "   Unnamed: 0         Hora inicio            Hora fin  Promedio carros  \\\n",
              "0           0 2021-03-21 00:00:00 2021-03-21 02:00:00              857   \n",
              "1           1 2021-03-21 02:00:00 2021-03-21 03:00:00              400   \n",
              "2           2 2021-03-21 03:00:00 2021-03-21 04:00:00              396   \n",
              "3           3 2021-03-21 04:00:00 2021-03-21 06:00:00              759   \n",
              "4           4 2021-03-21 06:00:00 2021-03-21 07:00:00              423   \n",
              "\n",
              "  Hora de inicio Hora de fin  tiempo de operacion  Promedio ajustado  HORA I  \\\n",
              "0       00:00:00    02:00:00                    2              428.5       0   \n",
              "1       02:00:00    03:00:00                    1              400.0       2   \n",
              "2       03:00:00    04:00:00                    1              396.0       3   \n",
              "3       04:00:00    06:00:00                    2              379.5       4   \n",
              "4       06:00:00    07:00:00                    1              423.0       6   \n",
              "\n",
              "   HORA F  \n",
              "0       2  \n",
              "1       3  \n",
              "2       4  \n",
              "3       6  \n",
              "4       7  "
            ],
            "text/html": [
              "\n",
              "  <div id=\"df-82ce1b72-51e7-45b0-861d-e86b5d7f0afc\">\n",
              "    <div class=\"colab-df-container\">\n",
              "      <div>\n",
              "<style scoped>\n",
              "    .dataframe tbody tr th:only-of-type {\n",
              "        vertical-align: middle;\n",
              "    }\n",
              "\n",
              "    .dataframe tbody tr th {\n",
              "        vertical-align: top;\n",
              "    }\n",
              "\n",
              "    .dataframe thead th {\n",
              "        text-align: right;\n",
              "    }\n",
              "</style>\n",
              "<table border=\"1\" class=\"dataframe\">\n",
              "  <thead>\n",
              "    <tr style=\"text-align: right;\">\n",
              "      <th></th>\n",
              "      <th>Unnamed: 0</th>\n",
              "      <th>Hora inicio</th>\n",
              "      <th>Hora fin</th>\n",
              "      <th>Promedio carros</th>\n",
              "      <th>Hora de inicio</th>\n",
              "      <th>Hora de fin</th>\n",
              "      <th>tiempo de operacion</th>\n",
              "      <th>Promedio ajustado</th>\n",
              "      <th>HORA I</th>\n",
              "      <th>HORA F</th>\n",
              "    </tr>\n",
              "  </thead>\n",
              "  <tbody>\n",
              "    <tr>\n",
              "      <th>0</th>\n",
              "      <td>0</td>\n",
              "      <td>2021-03-21 00:00:00</td>\n",
              "      <td>2021-03-21 02:00:00</td>\n",
              "      <td>857</td>\n",
              "      <td>00:00:00</td>\n",
              "      <td>02:00:00</td>\n",
              "      <td>2</td>\n",
              "      <td>428.5</td>\n",
              "      <td>0</td>\n",
              "      <td>2</td>\n",
              "    </tr>\n",
              "    <tr>\n",
              "      <th>1</th>\n",
              "      <td>1</td>\n",
              "      <td>2021-03-21 02:00:00</td>\n",
              "      <td>2021-03-21 03:00:00</td>\n",
              "      <td>400</td>\n",
              "      <td>02:00:00</td>\n",
              "      <td>03:00:00</td>\n",
              "      <td>1</td>\n",
              "      <td>400.0</td>\n",
              "      <td>2</td>\n",
              "      <td>3</td>\n",
              "    </tr>\n",
              "    <tr>\n",
              "      <th>2</th>\n",
              "      <td>2</td>\n",
              "      <td>2021-03-21 03:00:00</td>\n",
              "      <td>2021-03-21 04:00:00</td>\n",
              "      <td>396</td>\n",
              "      <td>03:00:00</td>\n",
              "      <td>04:00:00</td>\n",
              "      <td>1</td>\n",
              "      <td>396.0</td>\n",
              "      <td>3</td>\n",
              "      <td>4</td>\n",
              "    </tr>\n",
              "    <tr>\n",
              "      <th>3</th>\n",
              "      <td>3</td>\n",
              "      <td>2021-03-21 04:00:00</td>\n",
              "      <td>2021-03-21 06:00:00</td>\n",
              "      <td>759</td>\n",
              "      <td>04:00:00</td>\n",
              "      <td>06:00:00</td>\n",
              "      <td>2</td>\n",
              "      <td>379.5</td>\n",
              "      <td>4</td>\n",
              "      <td>6</td>\n",
              "    </tr>\n",
              "    <tr>\n",
              "      <th>4</th>\n",
              "      <td>4</td>\n",
              "      <td>2021-03-21 06:00:00</td>\n",
              "      <td>2021-03-21 07:00:00</td>\n",
              "      <td>423</td>\n",
              "      <td>06:00:00</td>\n",
              "      <td>07:00:00</td>\n",
              "      <td>1</td>\n",
              "      <td>423.0</td>\n",
              "      <td>6</td>\n",
              "      <td>7</td>\n",
              "    </tr>\n",
              "  </tbody>\n",
              "</table>\n",
              "</div>\n",
              "      <button class=\"colab-df-convert\" onclick=\"convertToInteractive('df-82ce1b72-51e7-45b0-861d-e86b5d7f0afc')\"\n",
              "              title=\"Convert this dataframe to an interactive table.\"\n",
              "              style=\"display:none;\">\n",
              "        \n",
              "  <svg xmlns=\"http://www.w3.org/2000/svg\" height=\"24px\"viewBox=\"0 0 24 24\"\n",
              "       width=\"24px\">\n",
              "    <path d=\"M0 0h24v24H0V0z\" fill=\"none\"/>\n",
              "    <path d=\"M18.56 5.44l.94 2.06.94-2.06 2.06-.94-2.06-.94-.94-2.06-.94 2.06-2.06.94zm-11 1L8.5 8.5l.94-2.06 2.06-.94-2.06-.94L8.5 2.5l-.94 2.06-2.06.94zm10 10l.94 2.06.94-2.06 2.06-.94-2.06-.94-.94-2.06-.94 2.06-2.06.94z\"/><path d=\"M17.41 7.96l-1.37-1.37c-.4-.4-.92-.59-1.43-.59-.52 0-1.04.2-1.43.59L10.3 9.45l-7.72 7.72c-.78.78-.78 2.05 0 2.83L4 21.41c.39.39.9.59 1.41.59.51 0 1.02-.2 1.41-.59l7.78-7.78 2.81-2.81c.8-.78.8-2.07 0-2.86zM5.41 20L4 18.59l7.72-7.72 1.47 1.35L5.41 20z\"/>\n",
              "  </svg>\n",
              "      </button>\n",
              "      \n",
              "  <style>\n",
              "    .colab-df-container {\n",
              "      display:flex;\n",
              "      flex-wrap:wrap;\n",
              "      gap: 12px;\n",
              "    }\n",
              "\n",
              "    .colab-df-convert {\n",
              "      background-color: #E8F0FE;\n",
              "      border: none;\n",
              "      border-radius: 50%;\n",
              "      cursor: pointer;\n",
              "      display: none;\n",
              "      fill: #1967D2;\n",
              "      height: 32px;\n",
              "      padding: 0 0 0 0;\n",
              "      width: 32px;\n",
              "    }\n",
              "\n",
              "    .colab-df-convert:hover {\n",
              "      background-color: #E2EBFA;\n",
              "      box-shadow: 0px 1px 2px rgba(60, 64, 67, 0.3), 0px 1px 3px 1px rgba(60, 64, 67, 0.15);\n",
              "      fill: #174EA6;\n",
              "    }\n",
              "\n",
              "    [theme=dark] .colab-df-convert {\n",
              "      background-color: #3B4455;\n",
              "      fill: #D2E3FC;\n",
              "    }\n",
              "\n",
              "    [theme=dark] .colab-df-convert:hover {\n",
              "      background-color: #434B5C;\n",
              "      box-shadow: 0px 1px 3px 1px rgba(0, 0, 0, 0.15);\n",
              "      filter: drop-shadow(0px 1px 2px rgba(0, 0, 0, 0.3));\n",
              "      fill: #FFFFFF;\n",
              "    }\n",
              "  </style>\n",
              "\n",
              "      <script>\n",
              "        const buttonEl =\n",
              "          document.querySelector('#df-82ce1b72-51e7-45b0-861d-e86b5d7f0afc button.colab-df-convert');\n",
              "        buttonEl.style.display =\n",
              "          google.colab.kernel.accessAllowed ? 'block' : 'none';\n",
              "\n",
              "        async function convertToInteractive(key) {\n",
              "          const element = document.querySelector('#df-82ce1b72-51e7-45b0-861d-e86b5d7f0afc');\n",
              "          const dataTable =\n",
              "            await google.colab.kernel.invokeFunction('convertToInteractive',\n",
              "                                                     [key], {});\n",
              "          if (!dataTable) return;\n",
              "\n",
              "          const docLinkHtml = 'Like what you see? Visit the ' +\n",
              "            '<a target=\"_blank\" href=https://colab.research.google.com/notebooks/data_table.ipynb>data table notebook</a>'\n",
              "            + ' to learn more about interactive tables.';\n",
              "          element.innerHTML = '';\n",
              "          dataTable['output_type'] = 'display_data';\n",
              "          await google.colab.output.renderOutput(dataTable, element);\n",
              "          const docLink = document.createElement('div');\n",
              "          docLink.innerHTML = docLinkHtml;\n",
              "          element.appendChild(docLink);\n",
              "        }\n",
              "      </script>\n",
              "    </div>\n",
              "  </div>\n",
              "  "
            ]
          },
          "metadata": {},
          "execution_count": 46
        }
      ]
    },
    {
      "cell_type": "code",
      "source": [
        "ds=dt.drop(dt[dt[\"HORA I\"]!=2].index)"
      ],
      "metadata": {
        "id": "P97NC-_KlItQ"
      },
      "execution_count": 51,
      "outputs": []
    },
    {
      "cell_type": "code",
      "source": [
        "ds.head()\n"
      ],
      "metadata": {
        "colab": {
          "base_uri": "https://localhost:8080/",
          "height": 206
        },
        "id": "_fdNvhfpNhqo",
        "outputId": "f50235b0-7de0-40d9-f5c3-1c3c81e505b5"
      },
      "execution_count": 52,
      "outputs": [
        {
          "output_type": "execute_result",
          "data": {
            "text/plain": [
              "    Unnamed: 0         Hora inicio            Hora fin  Promedio carros  \\\n",
              "1            1 2021-03-21 02:00:00 2021-03-21 03:00:00              400   \n",
              "21          21 2021-03-22 02:00:00 2021-03-22 03:00:00              358   \n",
              "40          40 2021-03-23 02:00:00 2021-03-23 03:00:00              355   \n",
              "61          61 2021-03-24 02:00:00 2021-03-24 04:00:00              806   \n",
              "81          81 2021-03-25 02:00:00 2021-03-25 03:00:00              397   \n",
              "\n",
              "   Hora de inicio Hora de fin  tiempo de operacion  Promedio ajustado  HORA I  \\\n",
              "1        02:00:00    03:00:00                    1              400.0       2   \n",
              "21       02:00:00    03:00:00                    1              358.0       2   \n",
              "40       02:00:00    03:00:00                    1              355.0       2   \n",
              "61       02:00:00    04:00:00                    2              403.0       2   \n",
              "81       02:00:00    03:00:00                    1              397.0       2   \n",
              "\n",
              "    HORA F  \n",
              "1        3  \n",
              "21       3  \n",
              "40       3  \n",
              "61       4  \n",
              "81       3  "
            ],
            "text/html": [
              "\n",
              "  <div id=\"df-1cd94508-b65a-4f78-ace5-0473a7a41e89\">\n",
              "    <div class=\"colab-df-container\">\n",
              "      <div>\n",
              "<style scoped>\n",
              "    .dataframe tbody tr th:only-of-type {\n",
              "        vertical-align: middle;\n",
              "    }\n",
              "\n",
              "    .dataframe tbody tr th {\n",
              "        vertical-align: top;\n",
              "    }\n",
              "\n",
              "    .dataframe thead th {\n",
              "        text-align: right;\n",
              "    }\n",
              "</style>\n",
              "<table border=\"1\" class=\"dataframe\">\n",
              "  <thead>\n",
              "    <tr style=\"text-align: right;\">\n",
              "      <th></th>\n",
              "      <th>Unnamed: 0</th>\n",
              "      <th>Hora inicio</th>\n",
              "      <th>Hora fin</th>\n",
              "      <th>Promedio carros</th>\n",
              "      <th>Hora de inicio</th>\n",
              "      <th>Hora de fin</th>\n",
              "      <th>tiempo de operacion</th>\n",
              "      <th>Promedio ajustado</th>\n",
              "      <th>HORA I</th>\n",
              "      <th>HORA F</th>\n",
              "    </tr>\n",
              "  </thead>\n",
              "  <tbody>\n",
              "    <tr>\n",
              "      <th>1</th>\n",
              "      <td>1</td>\n",
              "      <td>2021-03-21 02:00:00</td>\n",
              "      <td>2021-03-21 03:00:00</td>\n",
              "      <td>400</td>\n",
              "      <td>02:00:00</td>\n",
              "      <td>03:00:00</td>\n",
              "      <td>1</td>\n",
              "      <td>400.0</td>\n",
              "      <td>2</td>\n",
              "      <td>3</td>\n",
              "    </tr>\n",
              "    <tr>\n",
              "      <th>21</th>\n",
              "      <td>21</td>\n",
              "      <td>2021-03-22 02:00:00</td>\n",
              "      <td>2021-03-22 03:00:00</td>\n",
              "      <td>358</td>\n",
              "      <td>02:00:00</td>\n",
              "      <td>03:00:00</td>\n",
              "      <td>1</td>\n",
              "      <td>358.0</td>\n",
              "      <td>2</td>\n",
              "      <td>3</td>\n",
              "    </tr>\n",
              "    <tr>\n",
              "      <th>40</th>\n",
              "      <td>40</td>\n",
              "      <td>2021-03-23 02:00:00</td>\n",
              "      <td>2021-03-23 03:00:00</td>\n",
              "      <td>355</td>\n",
              "      <td>02:00:00</td>\n",
              "      <td>03:00:00</td>\n",
              "      <td>1</td>\n",
              "      <td>355.0</td>\n",
              "      <td>2</td>\n",
              "      <td>3</td>\n",
              "    </tr>\n",
              "    <tr>\n",
              "      <th>61</th>\n",
              "      <td>61</td>\n",
              "      <td>2021-03-24 02:00:00</td>\n",
              "      <td>2021-03-24 04:00:00</td>\n",
              "      <td>806</td>\n",
              "      <td>02:00:00</td>\n",
              "      <td>04:00:00</td>\n",
              "      <td>2</td>\n",
              "      <td>403.0</td>\n",
              "      <td>2</td>\n",
              "      <td>4</td>\n",
              "    </tr>\n",
              "    <tr>\n",
              "      <th>81</th>\n",
              "      <td>81</td>\n",
              "      <td>2021-03-25 02:00:00</td>\n",
              "      <td>2021-03-25 03:00:00</td>\n",
              "      <td>397</td>\n",
              "      <td>02:00:00</td>\n",
              "      <td>03:00:00</td>\n",
              "      <td>1</td>\n",
              "      <td>397.0</td>\n",
              "      <td>2</td>\n",
              "      <td>3</td>\n",
              "    </tr>\n",
              "  </tbody>\n",
              "</table>\n",
              "</div>\n",
              "      <button class=\"colab-df-convert\" onclick=\"convertToInteractive('df-1cd94508-b65a-4f78-ace5-0473a7a41e89')\"\n",
              "              title=\"Convert this dataframe to an interactive table.\"\n",
              "              style=\"display:none;\">\n",
              "        \n",
              "  <svg xmlns=\"http://www.w3.org/2000/svg\" height=\"24px\"viewBox=\"0 0 24 24\"\n",
              "       width=\"24px\">\n",
              "    <path d=\"M0 0h24v24H0V0z\" fill=\"none\"/>\n",
              "    <path d=\"M18.56 5.44l.94 2.06.94-2.06 2.06-.94-2.06-.94-.94-2.06-.94 2.06-2.06.94zm-11 1L8.5 8.5l.94-2.06 2.06-.94-2.06-.94L8.5 2.5l-.94 2.06-2.06.94zm10 10l.94 2.06.94-2.06 2.06-.94-2.06-.94-.94-2.06-.94 2.06-2.06.94z\"/><path d=\"M17.41 7.96l-1.37-1.37c-.4-.4-.92-.59-1.43-.59-.52 0-1.04.2-1.43.59L10.3 9.45l-7.72 7.72c-.78.78-.78 2.05 0 2.83L4 21.41c.39.39.9.59 1.41.59.51 0 1.02-.2 1.41-.59l7.78-7.78 2.81-2.81c.8-.78.8-2.07 0-2.86zM5.41 20L4 18.59l7.72-7.72 1.47 1.35L5.41 20z\"/>\n",
              "  </svg>\n",
              "      </button>\n",
              "      \n",
              "  <style>\n",
              "    .colab-df-container {\n",
              "      display:flex;\n",
              "      flex-wrap:wrap;\n",
              "      gap: 12px;\n",
              "    }\n",
              "\n",
              "    .colab-df-convert {\n",
              "      background-color: #E8F0FE;\n",
              "      border: none;\n",
              "      border-radius: 50%;\n",
              "      cursor: pointer;\n",
              "      display: none;\n",
              "      fill: #1967D2;\n",
              "      height: 32px;\n",
              "      padding: 0 0 0 0;\n",
              "      width: 32px;\n",
              "    }\n",
              "\n",
              "    .colab-df-convert:hover {\n",
              "      background-color: #E2EBFA;\n",
              "      box-shadow: 0px 1px 2px rgba(60, 64, 67, 0.3), 0px 1px 3px 1px rgba(60, 64, 67, 0.15);\n",
              "      fill: #174EA6;\n",
              "    }\n",
              "\n",
              "    [theme=dark] .colab-df-convert {\n",
              "      background-color: #3B4455;\n",
              "      fill: #D2E3FC;\n",
              "    }\n",
              "\n",
              "    [theme=dark] .colab-df-convert:hover {\n",
              "      background-color: #434B5C;\n",
              "      box-shadow: 0px 1px 3px 1px rgba(0, 0, 0, 0.15);\n",
              "      filter: drop-shadow(0px 1px 2px rgba(0, 0, 0, 0.3));\n",
              "      fill: #FFFFFF;\n",
              "    }\n",
              "  </style>\n",
              "\n",
              "      <script>\n",
              "        const buttonEl =\n",
              "          document.querySelector('#df-1cd94508-b65a-4f78-ace5-0473a7a41e89 button.colab-df-convert');\n",
              "        buttonEl.style.display =\n",
              "          google.colab.kernel.accessAllowed ? 'block' : 'none';\n",
              "\n",
              "        async function convertToInteractive(key) {\n",
              "          const element = document.querySelector('#df-1cd94508-b65a-4f78-ace5-0473a7a41e89');\n",
              "          const dataTable =\n",
              "            await google.colab.kernel.invokeFunction('convertToInteractive',\n",
              "                                                     [key], {});\n",
              "          if (!dataTable) return;\n",
              "\n",
              "          const docLinkHtml = 'Like what you see? Visit the ' +\n",
              "            '<a target=\"_blank\" href=https://colab.research.google.com/notebooks/data_table.ipynb>data table notebook</a>'\n",
              "            + ' to learn more about interactive tables.';\n",
              "          element.innerHTML = '';\n",
              "          dataTable['output_type'] = 'display_data';\n",
              "          await google.colab.output.renderOutput(dataTable, element);\n",
              "          const docLink = document.createElement('div');\n",
              "          docLink.innerHTML = docLinkHtml;\n",
              "          element.appendChild(docLink);\n",
              "        }\n",
              "      </script>\n",
              "    </div>\n",
              "  </div>\n",
              "  "
            ]
          },
          "metadata": {},
          "execution_count": 52
        }
      ]
    },
    {
      "cell_type": "code",
      "source": [
        "dr=dt.drop(dt[dt[\"HORA F\"]!=3].index)"
      ],
      "metadata": {
        "id": "y0PpxzBiooxS"
      },
      "execution_count": 54,
      "outputs": []
    },
    {
      "cell_type": "code",
      "source": [
        "dr.head()"
      ],
      "metadata": {
        "colab": {
          "base_uri": "https://localhost:8080/",
          "height": 206
        },
        "id": "lsiUxq0jovPF",
        "outputId": "72b3ff58-9381-461d-c045-3ac69082cae1"
      },
      "execution_count": 55,
      "outputs": [
        {
          "output_type": "execute_result",
          "data": {
            "text/plain": [
              "     Unnamed: 0         Hora inicio            Hora fin  Promedio carros  \\\n",
              "1             1 2021-03-21 02:00:00 2021-03-21 03:00:00              400   \n",
              "21           21 2021-03-22 02:00:00 2021-03-22 03:00:00              358   \n",
              "40           40 2021-03-23 02:00:00 2021-03-23 03:00:00              355   \n",
              "81           81 2021-03-25 02:00:00 2021-03-25 03:00:00              397   \n",
              "100         100 2021-03-26 02:00:00 2021-03-26 03:00:00              380   \n",
              "\n",
              "    Hora de inicio Hora de fin  tiempo de operacion  Promedio ajustado  \\\n",
              "1         02:00:00    03:00:00                    1              400.0   \n",
              "21        02:00:00    03:00:00                    1              358.0   \n",
              "40        02:00:00    03:00:00                    1              355.0   \n",
              "81        02:00:00    03:00:00                    1              397.0   \n",
              "100       02:00:00    03:00:00                    1              380.0   \n",
              "\n",
              "     HORA I  HORA F  \n",
              "1         2       3  \n",
              "21        2       3  \n",
              "40        2       3  \n",
              "81        2       3  \n",
              "100       2       3  "
            ],
            "text/html": [
              "\n",
              "  <div id=\"df-f0ea3fde-9b80-4c06-a734-8ee1f676ca0e\">\n",
              "    <div class=\"colab-df-container\">\n",
              "      <div>\n",
              "<style scoped>\n",
              "    .dataframe tbody tr th:only-of-type {\n",
              "        vertical-align: middle;\n",
              "    }\n",
              "\n",
              "    .dataframe tbody tr th {\n",
              "        vertical-align: top;\n",
              "    }\n",
              "\n",
              "    .dataframe thead th {\n",
              "        text-align: right;\n",
              "    }\n",
              "</style>\n",
              "<table border=\"1\" class=\"dataframe\">\n",
              "  <thead>\n",
              "    <tr style=\"text-align: right;\">\n",
              "      <th></th>\n",
              "      <th>Unnamed: 0</th>\n",
              "      <th>Hora inicio</th>\n",
              "      <th>Hora fin</th>\n",
              "      <th>Promedio carros</th>\n",
              "      <th>Hora de inicio</th>\n",
              "      <th>Hora de fin</th>\n",
              "      <th>tiempo de operacion</th>\n",
              "      <th>Promedio ajustado</th>\n",
              "      <th>HORA I</th>\n",
              "      <th>HORA F</th>\n",
              "    </tr>\n",
              "  </thead>\n",
              "  <tbody>\n",
              "    <tr>\n",
              "      <th>1</th>\n",
              "      <td>1</td>\n",
              "      <td>2021-03-21 02:00:00</td>\n",
              "      <td>2021-03-21 03:00:00</td>\n",
              "      <td>400</td>\n",
              "      <td>02:00:00</td>\n",
              "      <td>03:00:00</td>\n",
              "      <td>1</td>\n",
              "      <td>400.0</td>\n",
              "      <td>2</td>\n",
              "      <td>3</td>\n",
              "    </tr>\n",
              "    <tr>\n",
              "      <th>21</th>\n",
              "      <td>21</td>\n",
              "      <td>2021-03-22 02:00:00</td>\n",
              "      <td>2021-03-22 03:00:00</td>\n",
              "      <td>358</td>\n",
              "      <td>02:00:00</td>\n",
              "      <td>03:00:00</td>\n",
              "      <td>1</td>\n",
              "      <td>358.0</td>\n",
              "      <td>2</td>\n",
              "      <td>3</td>\n",
              "    </tr>\n",
              "    <tr>\n",
              "      <th>40</th>\n",
              "      <td>40</td>\n",
              "      <td>2021-03-23 02:00:00</td>\n",
              "      <td>2021-03-23 03:00:00</td>\n",
              "      <td>355</td>\n",
              "      <td>02:00:00</td>\n",
              "      <td>03:00:00</td>\n",
              "      <td>1</td>\n",
              "      <td>355.0</td>\n",
              "      <td>2</td>\n",
              "      <td>3</td>\n",
              "    </tr>\n",
              "    <tr>\n",
              "      <th>81</th>\n",
              "      <td>81</td>\n",
              "      <td>2021-03-25 02:00:00</td>\n",
              "      <td>2021-03-25 03:00:00</td>\n",
              "      <td>397</td>\n",
              "      <td>02:00:00</td>\n",
              "      <td>03:00:00</td>\n",
              "      <td>1</td>\n",
              "      <td>397.0</td>\n",
              "      <td>2</td>\n",
              "      <td>3</td>\n",
              "    </tr>\n",
              "    <tr>\n",
              "      <th>100</th>\n",
              "      <td>100</td>\n",
              "      <td>2021-03-26 02:00:00</td>\n",
              "      <td>2021-03-26 03:00:00</td>\n",
              "      <td>380</td>\n",
              "      <td>02:00:00</td>\n",
              "      <td>03:00:00</td>\n",
              "      <td>1</td>\n",
              "      <td>380.0</td>\n",
              "      <td>2</td>\n",
              "      <td>3</td>\n",
              "    </tr>\n",
              "  </tbody>\n",
              "</table>\n",
              "</div>\n",
              "      <button class=\"colab-df-convert\" onclick=\"convertToInteractive('df-f0ea3fde-9b80-4c06-a734-8ee1f676ca0e')\"\n",
              "              title=\"Convert this dataframe to an interactive table.\"\n",
              "              style=\"display:none;\">\n",
              "        \n",
              "  <svg xmlns=\"http://www.w3.org/2000/svg\" height=\"24px\"viewBox=\"0 0 24 24\"\n",
              "       width=\"24px\">\n",
              "    <path d=\"M0 0h24v24H0V0z\" fill=\"none\"/>\n",
              "    <path d=\"M18.56 5.44l.94 2.06.94-2.06 2.06-.94-2.06-.94-.94-2.06-.94 2.06-2.06.94zm-11 1L8.5 8.5l.94-2.06 2.06-.94-2.06-.94L8.5 2.5l-.94 2.06-2.06.94zm10 10l.94 2.06.94-2.06 2.06-.94-2.06-.94-.94-2.06-.94 2.06-2.06.94z\"/><path d=\"M17.41 7.96l-1.37-1.37c-.4-.4-.92-.59-1.43-.59-.52 0-1.04.2-1.43.59L10.3 9.45l-7.72 7.72c-.78.78-.78 2.05 0 2.83L4 21.41c.39.39.9.59 1.41.59.51 0 1.02-.2 1.41-.59l7.78-7.78 2.81-2.81c.8-.78.8-2.07 0-2.86zM5.41 20L4 18.59l7.72-7.72 1.47 1.35L5.41 20z\"/>\n",
              "  </svg>\n",
              "      </button>\n",
              "      \n",
              "  <style>\n",
              "    .colab-df-container {\n",
              "      display:flex;\n",
              "      flex-wrap:wrap;\n",
              "      gap: 12px;\n",
              "    }\n",
              "\n",
              "    .colab-df-convert {\n",
              "      background-color: #E8F0FE;\n",
              "      border: none;\n",
              "      border-radius: 50%;\n",
              "      cursor: pointer;\n",
              "      display: none;\n",
              "      fill: #1967D2;\n",
              "      height: 32px;\n",
              "      padding: 0 0 0 0;\n",
              "      width: 32px;\n",
              "    }\n",
              "\n",
              "    .colab-df-convert:hover {\n",
              "      background-color: #E2EBFA;\n",
              "      box-shadow: 0px 1px 2px rgba(60, 64, 67, 0.3), 0px 1px 3px 1px rgba(60, 64, 67, 0.15);\n",
              "      fill: #174EA6;\n",
              "    }\n",
              "\n",
              "    [theme=dark] .colab-df-convert {\n",
              "      background-color: #3B4455;\n",
              "      fill: #D2E3FC;\n",
              "    }\n",
              "\n",
              "    [theme=dark] .colab-df-convert:hover {\n",
              "      background-color: #434B5C;\n",
              "      box-shadow: 0px 1px 3px 1px rgba(0, 0, 0, 0.15);\n",
              "      filter: drop-shadow(0px 1px 2px rgba(0, 0, 0, 0.3));\n",
              "      fill: #FFFFFF;\n",
              "    }\n",
              "  </style>\n",
              "\n",
              "      <script>\n",
              "        const buttonEl =\n",
              "          document.querySelector('#df-f0ea3fde-9b80-4c06-a734-8ee1f676ca0e button.colab-df-convert');\n",
              "        buttonEl.style.display =\n",
              "          google.colab.kernel.accessAllowed ? 'block' : 'none';\n",
              "\n",
              "        async function convertToInteractive(key) {\n",
              "          const element = document.querySelector('#df-f0ea3fde-9b80-4c06-a734-8ee1f676ca0e');\n",
              "          const dataTable =\n",
              "            await google.colab.kernel.invokeFunction('convertToInteractive',\n",
              "                                                     [key], {});\n",
              "          if (!dataTable) return;\n",
              "\n",
              "          const docLinkHtml = 'Like what you see? Visit the ' +\n",
              "            '<a target=\"_blank\" href=https://colab.research.google.com/notebooks/data_table.ipynb>data table notebook</a>'\n",
              "            + ' to learn more about interactive tables.';\n",
              "          element.innerHTML = '';\n",
              "          dataTable['output_type'] = 'display_data';\n",
              "          await google.colab.output.renderOutput(dataTable, element);\n",
              "          const docLink = document.createElement('div');\n",
              "          docLink.innerHTML = docLinkHtml;\n",
              "          element.appendChild(docLink);\n",
              "        }\n",
              "      </script>\n",
              "    </div>\n",
              "  </div>\n",
              "  "
            ]
          },
          "metadata": {},
          "execution_count": 55
        }
      ]
    },
    {
      "cell_type": "code",
      "source": [
        "dr.describe()"
      ],
      "metadata": {
        "colab": {
          "base_uri": "https://localhost:8080/",
          "height": 300
        },
        "id": "AyDczHz_pNTi",
        "outputId": "efe1ab8c-fd0f-48ea-984e-093a377d23d8"
      },
      "execution_count": 56,
      "outputs": [
        {
          "output_type": "execute_result",
          "data": {
            "text/plain": [
              "        Unnamed: 0  Promedio carros  tiempo de operacion  Promedio ajustado  \\\n",
              "count   358.000000       358.000000           358.000000         358.000000   \n",
              "mean   4168.396648       477.519553             1.192737         400.663408   \n",
              "std    2423.747718       158.065399             0.395001          18.485303   \n",
              "min       1.000000       350.000000             1.000000         350.000000   \n",
              "25%    2126.000000       393.000000             1.000000         388.000000   \n",
              "50%    4102.500000       407.000000             1.000000         401.000000   \n",
              "75%    6266.750000       430.750000             1.000000         412.000000   \n",
              "max    8353.000000       908.000000             2.000000         454.000000   \n",
              "\n",
              "           HORA I  HORA F  \n",
              "count  358.000000   358.0  \n",
              "mean     1.807263     3.0  \n",
              "std      0.395001     0.0  \n",
              "min      1.000000     3.0  \n",
              "25%      2.000000     3.0  \n",
              "50%      2.000000     3.0  \n",
              "75%      2.000000     3.0  \n",
              "max      2.000000     3.0  "
            ],
            "text/html": [
              "\n",
              "  <div id=\"df-9242c40b-d141-4288-8c99-9d74dabc3ac0\">\n",
              "    <div class=\"colab-df-container\">\n",
              "      <div>\n",
              "<style scoped>\n",
              "    .dataframe tbody tr th:only-of-type {\n",
              "        vertical-align: middle;\n",
              "    }\n",
              "\n",
              "    .dataframe tbody tr th {\n",
              "        vertical-align: top;\n",
              "    }\n",
              "\n",
              "    .dataframe thead th {\n",
              "        text-align: right;\n",
              "    }\n",
              "</style>\n",
              "<table border=\"1\" class=\"dataframe\">\n",
              "  <thead>\n",
              "    <tr style=\"text-align: right;\">\n",
              "      <th></th>\n",
              "      <th>Unnamed: 0</th>\n",
              "      <th>Promedio carros</th>\n",
              "      <th>tiempo de operacion</th>\n",
              "      <th>Promedio ajustado</th>\n",
              "      <th>HORA I</th>\n",
              "      <th>HORA F</th>\n",
              "    </tr>\n",
              "  </thead>\n",
              "  <tbody>\n",
              "    <tr>\n",
              "      <th>count</th>\n",
              "      <td>358.000000</td>\n",
              "      <td>358.000000</td>\n",
              "      <td>358.000000</td>\n",
              "      <td>358.000000</td>\n",
              "      <td>358.000000</td>\n",
              "      <td>358.0</td>\n",
              "    </tr>\n",
              "    <tr>\n",
              "      <th>mean</th>\n",
              "      <td>4168.396648</td>\n",
              "      <td>477.519553</td>\n",
              "      <td>1.192737</td>\n",
              "      <td>400.663408</td>\n",
              "      <td>1.807263</td>\n",
              "      <td>3.0</td>\n",
              "    </tr>\n",
              "    <tr>\n",
              "      <th>std</th>\n",
              "      <td>2423.747718</td>\n",
              "      <td>158.065399</td>\n",
              "      <td>0.395001</td>\n",
              "      <td>18.485303</td>\n",
              "      <td>0.395001</td>\n",
              "      <td>0.0</td>\n",
              "    </tr>\n",
              "    <tr>\n",
              "      <th>min</th>\n",
              "      <td>1.000000</td>\n",
              "      <td>350.000000</td>\n",
              "      <td>1.000000</td>\n",
              "      <td>350.000000</td>\n",
              "      <td>1.000000</td>\n",
              "      <td>3.0</td>\n",
              "    </tr>\n",
              "    <tr>\n",
              "      <th>25%</th>\n",
              "      <td>2126.000000</td>\n",
              "      <td>393.000000</td>\n",
              "      <td>1.000000</td>\n",
              "      <td>388.000000</td>\n",
              "      <td>2.000000</td>\n",
              "      <td>3.0</td>\n",
              "    </tr>\n",
              "    <tr>\n",
              "      <th>50%</th>\n",
              "      <td>4102.500000</td>\n",
              "      <td>407.000000</td>\n",
              "      <td>1.000000</td>\n",
              "      <td>401.000000</td>\n",
              "      <td>2.000000</td>\n",
              "      <td>3.0</td>\n",
              "    </tr>\n",
              "    <tr>\n",
              "      <th>75%</th>\n",
              "      <td>6266.750000</td>\n",
              "      <td>430.750000</td>\n",
              "      <td>1.000000</td>\n",
              "      <td>412.000000</td>\n",
              "      <td>2.000000</td>\n",
              "      <td>3.0</td>\n",
              "    </tr>\n",
              "    <tr>\n",
              "      <th>max</th>\n",
              "      <td>8353.000000</td>\n",
              "      <td>908.000000</td>\n",
              "      <td>2.000000</td>\n",
              "      <td>454.000000</td>\n",
              "      <td>2.000000</td>\n",
              "      <td>3.0</td>\n",
              "    </tr>\n",
              "  </tbody>\n",
              "</table>\n",
              "</div>\n",
              "      <button class=\"colab-df-convert\" onclick=\"convertToInteractive('df-9242c40b-d141-4288-8c99-9d74dabc3ac0')\"\n",
              "              title=\"Convert this dataframe to an interactive table.\"\n",
              "              style=\"display:none;\">\n",
              "        \n",
              "  <svg xmlns=\"http://www.w3.org/2000/svg\" height=\"24px\"viewBox=\"0 0 24 24\"\n",
              "       width=\"24px\">\n",
              "    <path d=\"M0 0h24v24H0V0z\" fill=\"none\"/>\n",
              "    <path d=\"M18.56 5.44l.94 2.06.94-2.06 2.06-.94-2.06-.94-.94-2.06-.94 2.06-2.06.94zm-11 1L8.5 8.5l.94-2.06 2.06-.94-2.06-.94L8.5 2.5l-.94 2.06-2.06.94zm10 10l.94 2.06.94-2.06 2.06-.94-2.06-.94-.94-2.06-.94 2.06-2.06.94z\"/><path d=\"M17.41 7.96l-1.37-1.37c-.4-.4-.92-.59-1.43-.59-.52 0-1.04.2-1.43.59L10.3 9.45l-7.72 7.72c-.78.78-.78 2.05 0 2.83L4 21.41c.39.39.9.59 1.41.59.51 0 1.02-.2 1.41-.59l7.78-7.78 2.81-2.81c.8-.78.8-2.07 0-2.86zM5.41 20L4 18.59l7.72-7.72 1.47 1.35L5.41 20z\"/>\n",
              "  </svg>\n",
              "      </button>\n",
              "      \n",
              "  <style>\n",
              "    .colab-df-container {\n",
              "      display:flex;\n",
              "      flex-wrap:wrap;\n",
              "      gap: 12px;\n",
              "    }\n",
              "\n",
              "    .colab-df-convert {\n",
              "      background-color: #E8F0FE;\n",
              "      border: none;\n",
              "      border-radius: 50%;\n",
              "      cursor: pointer;\n",
              "      display: none;\n",
              "      fill: #1967D2;\n",
              "      height: 32px;\n",
              "      padding: 0 0 0 0;\n",
              "      width: 32px;\n",
              "    }\n",
              "\n",
              "    .colab-df-convert:hover {\n",
              "      background-color: #E2EBFA;\n",
              "      box-shadow: 0px 1px 2px rgba(60, 64, 67, 0.3), 0px 1px 3px 1px rgba(60, 64, 67, 0.15);\n",
              "      fill: #174EA6;\n",
              "    }\n",
              "\n",
              "    [theme=dark] .colab-df-convert {\n",
              "      background-color: #3B4455;\n",
              "      fill: #D2E3FC;\n",
              "    }\n",
              "\n",
              "    [theme=dark] .colab-df-convert:hover {\n",
              "      background-color: #434B5C;\n",
              "      box-shadow: 0px 1px 3px 1px rgba(0, 0, 0, 0.15);\n",
              "      filter: drop-shadow(0px 1px 2px rgba(0, 0, 0, 0.3));\n",
              "      fill: #FFFFFF;\n",
              "    }\n",
              "  </style>\n",
              "\n",
              "      <script>\n",
              "        const buttonEl =\n",
              "          document.querySelector('#df-9242c40b-d141-4288-8c99-9d74dabc3ac0 button.colab-df-convert');\n",
              "        buttonEl.style.display =\n",
              "          google.colab.kernel.accessAllowed ? 'block' : 'none';\n",
              "\n",
              "        async function convertToInteractive(key) {\n",
              "          const element = document.querySelector('#df-9242c40b-d141-4288-8c99-9d74dabc3ac0');\n",
              "          const dataTable =\n",
              "            await google.colab.kernel.invokeFunction('convertToInteractive',\n",
              "                                                     [key], {});\n",
              "          if (!dataTable) return;\n",
              "\n",
              "          const docLinkHtml = 'Like what you see? Visit the ' +\n",
              "            '<a target=\"_blank\" href=https://colab.research.google.com/notebooks/data_table.ipynb>data table notebook</a>'\n",
              "            + ' to learn more about interactive tables.';\n",
              "          element.innerHTML = '';\n",
              "          dataTable['output_type'] = 'display_data';\n",
              "          await google.colab.output.renderOutput(dataTable, element);\n",
              "          const docLink = document.createElement('div');\n",
              "          docLink.innerHTML = docLinkHtml;\n",
              "          element.appendChild(docLink);\n",
              "        }\n",
              "      </script>\n",
              "    </div>\n",
              "  </div>\n",
              "  "
            ]
          },
          "metadata": {},
          "execution_count": 56
        }
      ]
    },
    {
      "cell_type": "markdown",
      "source": [
        "Datafram dr que posee solo los registros cuya hora inicial es \"2\" y final \"3\""
      ],
      "metadata": {
        "id": "nW27Q0z4pK56"
      }
    },
    {
      "cell_type": "code",
      "source": [
        "norm.cdf(320,400.66,18.48)"
      ],
      "metadata": {
        "colab": {
          "base_uri": "https://localhost:8080/"
        },
        "id": "s1wFUljmqyDS",
        "outputId": "0cb81a11-266f-40ec-a703-8f41bb37f71d"
      },
      "execution_count": 60,
      "outputs": [
        {
          "output_type": "execute_result",
          "data": {
            "text/plain": [
              "6.364324892985395e-06"
            ]
          },
          "metadata": {},
          "execution_count": 60
        }
      ]
    }
  ]
}