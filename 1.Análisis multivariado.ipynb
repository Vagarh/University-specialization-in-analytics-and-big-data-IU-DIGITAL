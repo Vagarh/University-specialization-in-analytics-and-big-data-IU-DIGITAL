{
  "nbformat": 4,
  "nbformat_minor": 0,
  "metadata": {
    "colab": {
      "provenance": [],
      "include_colab_link": true
    },
    "kernelspec": {
      "name": "python3",
      "display_name": "Python 3"
    },
    "language_info": {
      "name": "python"
    }
  },
  "cells": [
    {
      "cell_type": "markdown",
      "metadata": {
        "id": "view-in-github",
        "colab_type": "text"
      },
      "source": [
        "<a href=\"https://colab.research.google.com/github/Vagarh/IUdigital/blob/main/CED_6.ipynb\" target=\"_parent\"><img src=\"https://colab.research.google.com/assets/colab-badge.svg\" alt=\"Open In Colab\"/></a>"
      ]
    },
    {
      "cell_type": "markdown",
      "source": [
        "# **Unidad 3**\n",
        "\n",
        "\n",
        "\n",
        "*   Análisis multivariado\n",
        "*   Tipificación de relaciones entre conjuntos de datos\n",
        "*   Covarianza, corelación, valores de significancia y su importancia en la declaración de la hipótesis nula\n",
        "*   Agrupación discriminación y análisis de agregación de datos\n",
        "\n"
      ],
      "metadata": {
        "id": "pp5uGFK2ZmXS"
      }
    },
    {
      "cell_type": "markdown",
      "source": [
        "# Problema\n",
        "\n",
        "Un banco tiene en una tabla los siguientes datos de 200 clientes: edad, \n",
        "saldo promedio en ahorro y si les ha sido aprobado o no un crédito.\n",
        " \n",
        "¿Podría identificarse si existe una relación entre la edad y el saldo \n",
        "promedio en ahorro?"
      ],
      "metadata": {
        "id": "prtNs1AU81rn"
      }
    },
    {
      "cell_type": "markdown",
      "source": [
        "# Carga de datos"
      ],
      "metadata": {
        "id": "GBMNmRmh88QR"
      }
    },
    {
      "cell_type": "code",
      "source": [
        "import pandas as pd\n",
        "\n",
        "#Tener en cuenta separador\n",
        "data = pd.read_csv('drive/MyDrive/.../data.csv')\n",
        "data"
      ],
      "metadata": {
        "id": "gwQ4wbc27FVx"
      },
      "execution_count": null,
      "outputs": []
    },
    {
      "cell_type": "code",
      "source": [
        "import pandas as pd\n",
        "\n",
        "#Tener en cuenta separador\n",
        "data = pd.read_csv('data.csv', sep=\";\")\n",
        "data"
      ],
      "metadata": {
        "colab": {
          "base_uri": "https://localhost:8080/",
          "height": 424
        },
        "id": "I6vxPiz_7nES",
        "outputId": "220d3508-0012-4230-d68a-4694a31e54dd"
      },
      "execution_count": null,
      "outputs": [
        {
          "output_type": "execute_result",
          "data": {
            "text/plain": [
              "      Id  Edad  Ahorro Préstamo\n",
              "0      1    22     691       NO\n",
              "1      2    39    1305       NO\n",
              "2      3    66    3474       SI\n",
              "3      4    45    2185       NO\n",
              "4      5    39    1773       SI\n",
              "..   ...   ...     ...      ...\n",
              "195  196    62    3051       SI\n",
              "196  197    22    1380       NO\n",
              "197  198    59    3044       SI\n",
              "198  199    21    1751       SI\n",
              "199  200    61    3786       SI\n",
              "\n",
              "[200 rows x 4 columns]"
            ],
            "text/html": [
              "\n",
              "  <div id=\"df-5df47593-3b45-4012-a7f1-e8794e14df04\">\n",
              "    <div class=\"colab-df-container\">\n",
              "      <div>\n",
              "<style scoped>\n",
              "    .dataframe tbody tr th:only-of-type {\n",
              "        vertical-align: middle;\n",
              "    }\n",
              "\n",
              "    .dataframe tbody tr th {\n",
              "        vertical-align: top;\n",
              "    }\n",
              "\n",
              "    .dataframe thead th {\n",
              "        text-align: right;\n",
              "    }\n",
              "</style>\n",
              "<table border=\"1\" class=\"dataframe\">\n",
              "  <thead>\n",
              "    <tr style=\"text-align: right;\">\n",
              "      <th></th>\n",
              "      <th>Id</th>\n",
              "      <th>Edad</th>\n",
              "      <th>Ahorro</th>\n",
              "      <th>Préstamo</th>\n",
              "    </tr>\n",
              "  </thead>\n",
              "  <tbody>\n",
              "    <tr>\n",
              "      <th>0</th>\n",
              "      <td>1</td>\n",
              "      <td>22</td>\n",
              "      <td>691</td>\n",
              "      <td>NO</td>\n",
              "    </tr>\n",
              "    <tr>\n",
              "      <th>1</th>\n",
              "      <td>2</td>\n",
              "      <td>39</td>\n",
              "      <td>1305</td>\n",
              "      <td>NO</td>\n",
              "    </tr>\n",
              "    <tr>\n",
              "      <th>2</th>\n",
              "      <td>3</td>\n",
              "      <td>66</td>\n",
              "      <td>3474</td>\n",
              "      <td>SI</td>\n",
              "    </tr>\n",
              "    <tr>\n",
              "      <th>3</th>\n",
              "      <td>4</td>\n",
              "      <td>45</td>\n",
              "      <td>2185</td>\n",
              "      <td>NO</td>\n",
              "    </tr>\n",
              "    <tr>\n",
              "      <th>4</th>\n",
              "      <td>5</td>\n",
              "      <td>39</td>\n",
              "      <td>1773</td>\n",
              "      <td>SI</td>\n",
              "    </tr>\n",
              "    <tr>\n",
              "      <th>...</th>\n",
              "      <td>...</td>\n",
              "      <td>...</td>\n",
              "      <td>...</td>\n",
              "      <td>...</td>\n",
              "    </tr>\n",
              "    <tr>\n",
              "      <th>195</th>\n",
              "      <td>196</td>\n",
              "      <td>62</td>\n",
              "      <td>3051</td>\n",
              "      <td>SI</td>\n",
              "    </tr>\n",
              "    <tr>\n",
              "      <th>196</th>\n",
              "      <td>197</td>\n",
              "      <td>22</td>\n",
              "      <td>1380</td>\n",
              "      <td>NO</td>\n",
              "    </tr>\n",
              "    <tr>\n",
              "      <th>197</th>\n",
              "      <td>198</td>\n",
              "      <td>59</td>\n",
              "      <td>3044</td>\n",
              "      <td>SI</td>\n",
              "    </tr>\n",
              "    <tr>\n",
              "      <th>198</th>\n",
              "      <td>199</td>\n",
              "      <td>21</td>\n",
              "      <td>1751</td>\n",
              "      <td>SI</td>\n",
              "    </tr>\n",
              "    <tr>\n",
              "      <th>199</th>\n",
              "      <td>200</td>\n",
              "      <td>61</td>\n",
              "      <td>3786</td>\n",
              "      <td>SI</td>\n",
              "    </tr>\n",
              "  </tbody>\n",
              "</table>\n",
              "<p>200 rows × 4 columns</p>\n",
              "</div>\n",
              "      <button class=\"colab-df-convert\" onclick=\"convertToInteractive('df-5df47593-3b45-4012-a7f1-e8794e14df04')\"\n",
              "              title=\"Convert this dataframe to an interactive table.\"\n",
              "              style=\"display:none;\">\n",
              "        \n",
              "  <svg xmlns=\"http://www.w3.org/2000/svg\" height=\"24px\"viewBox=\"0 0 24 24\"\n",
              "       width=\"24px\">\n",
              "    <path d=\"M0 0h24v24H0V0z\" fill=\"none\"/>\n",
              "    <path d=\"M18.56 5.44l.94 2.06.94-2.06 2.06-.94-2.06-.94-.94-2.06-.94 2.06-2.06.94zm-11 1L8.5 8.5l.94-2.06 2.06-.94-2.06-.94L8.5 2.5l-.94 2.06-2.06.94zm10 10l.94 2.06.94-2.06 2.06-.94-2.06-.94-.94-2.06-.94 2.06-2.06.94z\"/><path d=\"M17.41 7.96l-1.37-1.37c-.4-.4-.92-.59-1.43-.59-.52 0-1.04.2-1.43.59L10.3 9.45l-7.72 7.72c-.78.78-.78 2.05 0 2.83L4 21.41c.39.39.9.59 1.41.59.51 0 1.02-.2 1.41-.59l7.78-7.78 2.81-2.81c.8-.78.8-2.07 0-2.86zM5.41 20L4 18.59l7.72-7.72 1.47 1.35L5.41 20z\"/>\n",
              "  </svg>\n",
              "      </button>\n",
              "      \n",
              "  <style>\n",
              "    .colab-df-container {\n",
              "      display:flex;\n",
              "      flex-wrap:wrap;\n",
              "      gap: 12px;\n",
              "    }\n",
              "\n",
              "    .colab-df-convert {\n",
              "      background-color: #E8F0FE;\n",
              "      border: none;\n",
              "      border-radius: 50%;\n",
              "      cursor: pointer;\n",
              "      display: none;\n",
              "      fill: #1967D2;\n",
              "      height: 32px;\n",
              "      padding: 0 0 0 0;\n",
              "      width: 32px;\n",
              "    }\n",
              "\n",
              "    .colab-df-convert:hover {\n",
              "      background-color: #E2EBFA;\n",
              "      box-shadow: 0px 1px 2px rgba(60, 64, 67, 0.3), 0px 1px 3px 1px rgba(60, 64, 67, 0.15);\n",
              "      fill: #174EA6;\n",
              "    }\n",
              "\n",
              "    [theme=dark] .colab-df-convert {\n",
              "      background-color: #3B4455;\n",
              "      fill: #D2E3FC;\n",
              "    }\n",
              "\n",
              "    [theme=dark] .colab-df-convert:hover {\n",
              "      background-color: #434B5C;\n",
              "      box-shadow: 0px 1px 3px 1px rgba(0, 0, 0, 0.15);\n",
              "      filter: drop-shadow(0px 1px 2px rgba(0, 0, 0, 0.3));\n",
              "      fill: #FFFFFF;\n",
              "    }\n",
              "  </style>\n",
              "\n",
              "      <script>\n",
              "        const buttonEl =\n",
              "          document.querySelector('#df-5df47593-3b45-4012-a7f1-e8794e14df04 button.colab-df-convert');\n",
              "        buttonEl.style.display =\n",
              "          google.colab.kernel.accessAllowed ? 'block' : 'none';\n",
              "\n",
              "        async function convertToInteractive(key) {\n",
              "          const element = document.querySelector('#df-5df47593-3b45-4012-a7f1-e8794e14df04');\n",
              "          const dataTable =\n",
              "            await google.colab.kernel.invokeFunction('convertToInteractive',\n",
              "                                                     [key], {});\n",
              "          if (!dataTable) return;\n",
              "\n",
              "          const docLinkHtml = 'Like what you see? Visit the ' +\n",
              "            '<a target=\"_blank\" href=https://colab.research.google.com/notebooks/data_table.ipynb>data table notebook</a>'\n",
              "            + ' to learn more about interactive tables.';\n",
              "          element.innerHTML = '';\n",
              "          dataTable['output_type'] = 'display_data';\n",
              "          await google.colab.output.renderOutput(dataTable, element);\n",
              "          const docLink = document.createElement('div');\n",
              "          docLink.innerHTML = docLinkHtml;\n",
              "          element.appendChild(docLink);\n",
              "        }\n",
              "      </script>\n",
              "    </div>\n",
              "  </div>\n",
              "  "
            ]
          },
          "metadata": {},
          "execution_count": 2
        }
      ]
    },
    {
      "cell_type": "code",
      "source": [
        "#opción para cargar sin tener en cuenta primera fila de nombre de columnas\n",
        "data_x = pd.read_csv(\"data.csv\", sep=\";\", header=None)\n",
        "data_x"
      ],
      "metadata": {
        "colab": {
          "base_uri": "https://localhost:8080/",
          "height": 424
        },
        "id": "FvmarTPb8dq2",
        "outputId": "111de36d-b973-4f1d-a617-8a09542636c8"
      },
      "execution_count": null,
      "outputs": [
        {
          "output_type": "execute_result",
          "data": {
            "text/plain": [
              "       0     1       2         3\n",
              "0     Id  Edad  Ahorro  Préstamo\n",
              "1      1    22     691        NO\n",
              "2      2    39    1305        NO\n",
              "3      3    66    3474        SI\n",
              "4      4    45    2185        NO\n",
              "..   ...   ...     ...       ...\n",
              "196  196    62    3051        SI\n",
              "197  197    22    1380        NO\n",
              "198  198    59    3044        SI\n",
              "199  199    21    1751        SI\n",
              "200  200    61    3786        SI\n",
              "\n",
              "[201 rows x 4 columns]"
            ],
            "text/html": [
              "\n",
              "  <div id=\"df-53facc17-7887-4423-8b1b-850887bbfaf3\">\n",
              "    <div class=\"colab-df-container\">\n",
              "      <div>\n",
              "<style scoped>\n",
              "    .dataframe tbody tr th:only-of-type {\n",
              "        vertical-align: middle;\n",
              "    }\n",
              "\n",
              "    .dataframe tbody tr th {\n",
              "        vertical-align: top;\n",
              "    }\n",
              "\n",
              "    .dataframe thead th {\n",
              "        text-align: right;\n",
              "    }\n",
              "</style>\n",
              "<table border=\"1\" class=\"dataframe\">\n",
              "  <thead>\n",
              "    <tr style=\"text-align: right;\">\n",
              "      <th></th>\n",
              "      <th>0</th>\n",
              "      <th>1</th>\n",
              "      <th>2</th>\n",
              "      <th>3</th>\n",
              "    </tr>\n",
              "  </thead>\n",
              "  <tbody>\n",
              "    <tr>\n",
              "      <th>0</th>\n",
              "      <td>Id</td>\n",
              "      <td>Edad</td>\n",
              "      <td>Ahorro</td>\n",
              "      <td>Préstamo</td>\n",
              "    </tr>\n",
              "    <tr>\n",
              "      <th>1</th>\n",
              "      <td>1</td>\n",
              "      <td>22</td>\n",
              "      <td>691</td>\n",
              "      <td>NO</td>\n",
              "    </tr>\n",
              "    <tr>\n",
              "      <th>2</th>\n",
              "      <td>2</td>\n",
              "      <td>39</td>\n",
              "      <td>1305</td>\n",
              "      <td>NO</td>\n",
              "    </tr>\n",
              "    <tr>\n",
              "      <th>3</th>\n",
              "      <td>3</td>\n",
              "      <td>66</td>\n",
              "      <td>3474</td>\n",
              "      <td>SI</td>\n",
              "    </tr>\n",
              "    <tr>\n",
              "      <th>4</th>\n",
              "      <td>4</td>\n",
              "      <td>45</td>\n",
              "      <td>2185</td>\n",
              "      <td>NO</td>\n",
              "    </tr>\n",
              "    <tr>\n",
              "      <th>...</th>\n",
              "      <td>...</td>\n",
              "      <td>...</td>\n",
              "      <td>...</td>\n",
              "      <td>...</td>\n",
              "    </tr>\n",
              "    <tr>\n",
              "      <th>196</th>\n",
              "      <td>196</td>\n",
              "      <td>62</td>\n",
              "      <td>3051</td>\n",
              "      <td>SI</td>\n",
              "    </tr>\n",
              "    <tr>\n",
              "      <th>197</th>\n",
              "      <td>197</td>\n",
              "      <td>22</td>\n",
              "      <td>1380</td>\n",
              "      <td>NO</td>\n",
              "    </tr>\n",
              "    <tr>\n",
              "      <th>198</th>\n",
              "      <td>198</td>\n",
              "      <td>59</td>\n",
              "      <td>3044</td>\n",
              "      <td>SI</td>\n",
              "    </tr>\n",
              "    <tr>\n",
              "      <th>199</th>\n",
              "      <td>199</td>\n",
              "      <td>21</td>\n",
              "      <td>1751</td>\n",
              "      <td>SI</td>\n",
              "    </tr>\n",
              "    <tr>\n",
              "      <th>200</th>\n",
              "      <td>200</td>\n",
              "      <td>61</td>\n",
              "      <td>3786</td>\n",
              "      <td>SI</td>\n",
              "    </tr>\n",
              "  </tbody>\n",
              "</table>\n",
              "<p>201 rows × 4 columns</p>\n",
              "</div>\n",
              "      <button class=\"colab-df-convert\" onclick=\"convertToInteractive('df-53facc17-7887-4423-8b1b-850887bbfaf3')\"\n",
              "              title=\"Convert this dataframe to an interactive table.\"\n",
              "              style=\"display:none;\">\n",
              "        \n",
              "  <svg xmlns=\"http://www.w3.org/2000/svg\" height=\"24px\"viewBox=\"0 0 24 24\"\n",
              "       width=\"24px\">\n",
              "    <path d=\"M0 0h24v24H0V0z\" fill=\"none\"/>\n",
              "    <path d=\"M18.56 5.44l.94 2.06.94-2.06 2.06-.94-2.06-.94-.94-2.06-.94 2.06-2.06.94zm-11 1L8.5 8.5l.94-2.06 2.06-.94-2.06-.94L8.5 2.5l-.94 2.06-2.06.94zm10 10l.94 2.06.94-2.06 2.06-.94-2.06-.94-.94-2.06-.94 2.06-2.06.94z\"/><path d=\"M17.41 7.96l-1.37-1.37c-.4-.4-.92-.59-1.43-.59-.52 0-1.04.2-1.43.59L10.3 9.45l-7.72 7.72c-.78.78-.78 2.05 0 2.83L4 21.41c.39.39.9.59 1.41.59.51 0 1.02-.2 1.41-.59l7.78-7.78 2.81-2.81c.8-.78.8-2.07 0-2.86zM5.41 20L4 18.59l7.72-7.72 1.47 1.35L5.41 20z\"/>\n",
              "  </svg>\n",
              "      </button>\n",
              "      \n",
              "  <style>\n",
              "    .colab-df-container {\n",
              "      display:flex;\n",
              "      flex-wrap:wrap;\n",
              "      gap: 12px;\n",
              "    }\n",
              "\n",
              "    .colab-df-convert {\n",
              "      background-color: #E8F0FE;\n",
              "      border: none;\n",
              "      border-radius: 50%;\n",
              "      cursor: pointer;\n",
              "      display: none;\n",
              "      fill: #1967D2;\n",
              "      height: 32px;\n",
              "      padding: 0 0 0 0;\n",
              "      width: 32px;\n",
              "    }\n",
              "\n",
              "    .colab-df-convert:hover {\n",
              "      background-color: #E2EBFA;\n",
              "      box-shadow: 0px 1px 2px rgba(60, 64, 67, 0.3), 0px 1px 3px 1px rgba(60, 64, 67, 0.15);\n",
              "      fill: #174EA6;\n",
              "    }\n",
              "\n",
              "    [theme=dark] .colab-df-convert {\n",
              "      background-color: #3B4455;\n",
              "      fill: #D2E3FC;\n",
              "    }\n",
              "\n",
              "    [theme=dark] .colab-df-convert:hover {\n",
              "      background-color: #434B5C;\n",
              "      box-shadow: 0px 1px 3px 1px rgba(0, 0, 0, 0.15);\n",
              "      filter: drop-shadow(0px 1px 2px rgba(0, 0, 0, 0.3));\n",
              "      fill: #FFFFFF;\n",
              "    }\n",
              "  </style>\n",
              "\n",
              "      <script>\n",
              "        const buttonEl =\n",
              "          document.querySelector('#df-53facc17-7887-4423-8b1b-850887bbfaf3 button.colab-df-convert');\n",
              "        buttonEl.style.display =\n",
              "          google.colab.kernel.accessAllowed ? 'block' : 'none';\n",
              "\n",
              "        async function convertToInteractive(key) {\n",
              "          const element = document.querySelector('#df-53facc17-7887-4423-8b1b-850887bbfaf3');\n",
              "          const dataTable =\n",
              "            await google.colab.kernel.invokeFunction('convertToInteractive',\n",
              "                                                     [key], {});\n",
              "          if (!dataTable) return;\n",
              "\n",
              "          const docLinkHtml = 'Like what you see? Visit the ' +\n",
              "            '<a target=\"_blank\" href=https://colab.research.google.com/notebooks/data_table.ipynb>data table notebook</a>'\n",
              "            + ' to learn more about interactive tables.';\n",
              "          element.innerHTML = '';\n",
              "          dataTable['output_type'] = 'display_data';\n",
              "          await google.colab.output.renderOutput(dataTable, element);\n",
              "          const docLink = document.createElement('div');\n",
              "          docLink.innerHTML = docLinkHtml;\n",
              "          element.appendChild(docLink);\n",
              "        }\n",
              "      </script>\n",
              "    </div>\n",
              "  </div>\n",
              "  "
            ]
          },
          "metadata": {},
          "execution_count": 3
        }
      ]
    },
    {
      "cell_type": "code",
      "source": [
        "#opción para cargar sin tener en cuenta primera fila de nombre de columnas, agregando manualmente nombre de columnas\n",
        "data_x = pd.read_csv(\"data.csv\", sep=\";\", header=None, names=[\"a\",\"b\",\"c\",\"d\"])\n",
        "data_x"
      ],
      "metadata": {
        "colab": {
          "base_uri": "https://localhost:8080/",
          "height": 424
        },
        "id": "a_2gc5im8nHh",
        "outputId": "f73986ce-7acc-4c95-a0a9-fcbcd1a0039b"
      },
      "execution_count": null,
      "outputs": [
        {
          "output_type": "execute_result",
          "data": {
            "text/plain": [
              "       a     b       c         d\n",
              "0     Id  Edad  Ahorro  Préstamo\n",
              "1      1    22     691        NO\n",
              "2      2    39    1305        NO\n",
              "3      3    66    3474        SI\n",
              "4      4    45    2185        NO\n",
              "..   ...   ...     ...       ...\n",
              "196  196    62    3051        SI\n",
              "197  197    22    1380        NO\n",
              "198  198    59    3044        SI\n",
              "199  199    21    1751        SI\n",
              "200  200    61    3786        SI\n",
              "\n",
              "[201 rows x 4 columns]"
            ],
            "text/html": [
              "\n",
              "  <div id=\"df-b91bdcf4-fcd2-4306-8d34-d963e9f30a9b\">\n",
              "    <div class=\"colab-df-container\">\n",
              "      <div>\n",
              "<style scoped>\n",
              "    .dataframe tbody tr th:only-of-type {\n",
              "        vertical-align: middle;\n",
              "    }\n",
              "\n",
              "    .dataframe tbody tr th {\n",
              "        vertical-align: top;\n",
              "    }\n",
              "\n",
              "    .dataframe thead th {\n",
              "        text-align: right;\n",
              "    }\n",
              "</style>\n",
              "<table border=\"1\" class=\"dataframe\">\n",
              "  <thead>\n",
              "    <tr style=\"text-align: right;\">\n",
              "      <th></th>\n",
              "      <th>a</th>\n",
              "      <th>b</th>\n",
              "      <th>c</th>\n",
              "      <th>d</th>\n",
              "    </tr>\n",
              "  </thead>\n",
              "  <tbody>\n",
              "    <tr>\n",
              "      <th>0</th>\n",
              "      <td>Id</td>\n",
              "      <td>Edad</td>\n",
              "      <td>Ahorro</td>\n",
              "      <td>Préstamo</td>\n",
              "    </tr>\n",
              "    <tr>\n",
              "      <th>1</th>\n",
              "      <td>1</td>\n",
              "      <td>22</td>\n",
              "      <td>691</td>\n",
              "      <td>NO</td>\n",
              "    </tr>\n",
              "    <tr>\n",
              "      <th>2</th>\n",
              "      <td>2</td>\n",
              "      <td>39</td>\n",
              "      <td>1305</td>\n",
              "      <td>NO</td>\n",
              "    </tr>\n",
              "    <tr>\n",
              "      <th>3</th>\n",
              "      <td>3</td>\n",
              "      <td>66</td>\n",
              "      <td>3474</td>\n",
              "      <td>SI</td>\n",
              "    </tr>\n",
              "    <tr>\n",
              "      <th>4</th>\n",
              "      <td>4</td>\n",
              "      <td>45</td>\n",
              "      <td>2185</td>\n",
              "      <td>NO</td>\n",
              "    </tr>\n",
              "    <tr>\n",
              "      <th>...</th>\n",
              "      <td>...</td>\n",
              "      <td>...</td>\n",
              "      <td>...</td>\n",
              "      <td>...</td>\n",
              "    </tr>\n",
              "    <tr>\n",
              "      <th>196</th>\n",
              "      <td>196</td>\n",
              "      <td>62</td>\n",
              "      <td>3051</td>\n",
              "      <td>SI</td>\n",
              "    </tr>\n",
              "    <tr>\n",
              "      <th>197</th>\n",
              "      <td>197</td>\n",
              "      <td>22</td>\n",
              "      <td>1380</td>\n",
              "      <td>NO</td>\n",
              "    </tr>\n",
              "    <tr>\n",
              "      <th>198</th>\n",
              "      <td>198</td>\n",
              "      <td>59</td>\n",
              "      <td>3044</td>\n",
              "      <td>SI</td>\n",
              "    </tr>\n",
              "    <tr>\n",
              "      <th>199</th>\n",
              "      <td>199</td>\n",
              "      <td>21</td>\n",
              "      <td>1751</td>\n",
              "      <td>SI</td>\n",
              "    </tr>\n",
              "    <tr>\n",
              "      <th>200</th>\n",
              "      <td>200</td>\n",
              "      <td>61</td>\n",
              "      <td>3786</td>\n",
              "      <td>SI</td>\n",
              "    </tr>\n",
              "  </tbody>\n",
              "</table>\n",
              "<p>201 rows × 4 columns</p>\n",
              "</div>\n",
              "      <button class=\"colab-df-convert\" onclick=\"convertToInteractive('df-b91bdcf4-fcd2-4306-8d34-d963e9f30a9b')\"\n",
              "              title=\"Convert this dataframe to an interactive table.\"\n",
              "              style=\"display:none;\">\n",
              "        \n",
              "  <svg xmlns=\"http://www.w3.org/2000/svg\" height=\"24px\"viewBox=\"0 0 24 24\"\n",
              "       width=\"24px\">\n",
              "    <path d=\"M0 0h24v24H0V0z\" fill=\"none\"/>\n",
              "    <path d=\"M18.56 5.44l.94 2.06.94-2.06 2.06-.94-2.06-.94-.94-2.06-.94 2.06-2.06.94zm-11 1L8.5 8.5l.94-2.06 2.06-.94-2.06-.94L8.5 2.5l-.94 2.06-2.06.94zm10 10l.94 2.06.94-2.06 2.06-.94-2.06-.94-.94-2.06-.94 2.06-2.06.94z\"/><path d=\"M17.41 7.96l-1.37-1.37c-.4-.4-.92-.59-1.43-.59-.52 0-1.04.2-1.43.59L10.3 9.45l-7.72 7.72c-.78.78-.78 2.05 0 2.83L4 21.41c.39.39.9.59 1.41.59.51 0 1.02-.2 1.41-.59l7.78-7.78 2.81-2.81c.8-.78.8-2.07 0-2.86zM5.41 20L4 18.59l7.72-7.72 1.47 1.35L5.41 20z\"/>\n",
              "  </svg>\n",
              "      </button>\n",
              "      \n",
              "  <style>\n",
              "    .colab-df-container {\n",
              "      display:flex;\n",
              "      flex-wrap:wrap;\n",
              "      gap: 12px;\n",
              "    }\n",
              "\n",
              "    .colab-df-convert {\n",
              "      background-color: #E8F0FE;\n",
              "      border: none;\n",
              "      border-radius: 50%;\n",
              "      cursor: pointer;\n",
              "      display: none;\n",
              "      fill: #1967D2;\n",
              "      height: 32px;\n",
              "      padding: 0 0 0 0;\n",
              "      width: 32px;\n",
              "    }\n",
              "\n",
              "    .colab-df-convert:hover {\n",
              "      background-color: #E2EBFA;\n",
              "      box-shadow: 0px 1px 2px rgba(60, 64, 67, 0.3), 0px 1px 3px 1px rgba(60, 64, 67, 0.15);\n",
              "      fill: #174EA6;\n",
              "    }\n",
              "\n",
              "    [theme=dark] .colab-df-convert {\n",
              "      background-color: #3B4455;\n",
              "      fill: #D2E3FC;\n",
              "    }\n",
              "\n",
              "    [theme=dark] .colab-df-convert:hover {\n",
              "      background-color: #434B5C;\n",
              "      box-shadow: 0px 1px 3px 1px rgba(0, 0, 0, 0.15);\n",
              "      filter: drop-shadow(0px 1px 2px rgba(0, 0, 0, 0.3));\n",
              "      fill: #FFFFFF;\n",
              "    }\n",
              "  </style>\n",
              "\n",
              "      <script>\n",
              "        const buttonEl =\n",
              "          document.querySelector('#df-b91bdcf4-fcd2-4306-8d34-d963e9f30a9b button.colab-df-convert');\n",
              "        buttonEl.style.display =\n",
              "          google.colab.kernel.accessAllowed ? 'block' : 'none';\n",
              "\n",
              "        async function convertToInteractive(key) {\n",
              "          const element = document.querySelector('#df-b91bdcf4-fcd2-4306-8d34-d963e9f30a9b');\n",
              "          const dataTable =\n",
              "            await google.colab.kernel.invokeFunction('convertToInteractive',\n",
              "                                                     [key], {});\n",
              "          if (!dataTable) return;\n",
              "\n",
              "          const docLinkHtml = 'Like what you see? Visit the ' +\n",
              "            '<a target=\"_blank\" href=https://colab.research.google.com/notebooks/data_table.ipynb>data table notebook</a>'\n",
              "            + ' to learn more about interactive tables.';\n",
              "          element.innerHTML = '';\n",
              "          dataTable['output_type'] = 'display_data';\n",
              "          await google.colab.output.renderOutput(dataTable, element);\n",
              "          const docLink = document.createElement('div');\n",
              "          docLink.innerHTML = docLinkHtml;\n",
              "          element.appendChild(docLink);\n",
              "        }\n",
              "      </script>\n",
              "    </div>\n",
              "  </div>\n",
              "  "
            ]
          },
          "metadata": {},
          "execution_count": 5
        }
      ]
    },
    {
      "cell_type": "code",
      "source": [
        "data.info()"
      ],
      "metadata": {
        "colab": {
          "base_uri": "https://localhost:8080/"
        },
        "id": "DzP3K5Fv7zco",
        "outputId": "6d4805a1-28cc-4467-ea1f-c5f1c242b011"
      },
      "execution_count": null,
      "outputs": [
        {
          "output_type": "stream",
          "name": "stdout",
          "text": [
            "<class 'pandas.core.frame.DataFrame'>\n",
            "RangeIndex: 200 entries, 0 to 199\n",
            "Data columns (total 4 columns):\n",
            " #   Column    Non-Null Count  Dtype \n",
            "---  ------    --------------  ----- \n",
            " 0   Id        200 non-null    int64 \n",
            " 1   Edad      200 non-null    int64 \n",
            " 2   Ahorro    200 non-null    int64 \n",
            " 3   Préstamo  200 non-null    object\n",
            "dtypes: int64(3), object(1)\n",
            "memory usage: 6.4+ KB\n"
          ]
        }
      ]
    },
    {
      "cell_type": "code",
      "source": [
        "#información básica\n",
        "data.describe()"
      ],
      "metadata": {
        "colab": {
          "base_uri": "https://localhost:8080/",
          "height": 300
        },
        "id": "GKNsA1VM7riv",
        "outputId": "afa6272a-bc0d-4c92-b387-7e2e9c8e3402"
      },
      "execution_count": null,
      "outputs": [
        {
          "output_type": "execute_result",
          "data": {
            "text/plain": [
              "               Id        Edad       Ahorro\n",
              "count  200.000000  200.000000   200.000000\n",
              "mean   100.500000   45.025000  2574.060000\n",
              "std     57.879185   15.740495  1102.348743\n",
              "min      1.000000   18.000000   518.000000\n",
              "25%     50.750000   31.000000  1704.500000\n",
              "50%    100.500000   46.000000  2585.500000\n",
              "75%    150.250000   58.000000  3466.500000\n",
              "max    200.000000   70.000000  4985.000000"
            ],
            "text/html": [
              "\n",
              "  <div id=\"df-92d914eb-2100-482a-af65-5a89193b9fa2\">\n",
              "    <div class=\"colab-df-container\">\n",
              "      <div>\n",
              "<style scoped>\n",
              "    .dataframe tbody tr th:only-of-type {\n",
              "        vertical-align: middle;\n",
              "    }\n",
              "\n",
              "    .dataframe tbody tr th {\n",
              "        vertical-align: top;\n",
              "    }\n",
              "\n",
              "    .dataframe thead th {\n",
              "        text-align: right;\n",
              "    }\n",
              "</style>\n",
              "<table border=\"1\" class=\"dataframe\">\n",
              "  <thead>\n",
              "    <tr style=\"text-align: right;\">\n",
              "      <th></th>\n",
              "      <th>Id</th>\n",
              "      <th>Edad</th>\n",
              "      <th>Ahorro</th>\n",
              "    </tr>\n",
              "  </thead>\n",
              "  <tbody>\n",
              "    <tr>\n",
              "      <th>count</th>\n",
              "      <td>200.000000</td>\n",
              "      <td>200.000000</td>\n",
              "      <td>200.000000</td>\n",
              "    </tr>\n",
              "    <tr>\n",
              "      <th>mean</th>\n",
              "      <td>100.500000</td>\n",
              "      <td>45.025000</td>\n",
              "      <td>2574.060000</td>\n",
              "    </tr>\n",
              "    <tr>\n",
              "      <th>std</th>\n",
              "      <td>57.879185</td>\n",
              "      <td>15.740495</td>\n",
              "      <td>1102.348743</td>\n",
              "    </tr>\n",
              "    <tr>\n",
              "      <th>min</th>\n",
              "      <td>1.000000</td>\n",
              "      <td>18.000000</td>\n",
              "      <td>518.000000</td>\n",
              "    </tr>\n",
              "    <tr>\n",
              "      <th>25%</th>\n",
              "      <td>50.750000</td>\n",
              "      <td>31.000000</td>\n",
              "      <td>1704.500000</td>\n",
              "    </tr>\n",
              "    <tr>\n",
              "      <th>50%</th>\n",
              "      <td>100.500000</td>\n",
              "      <td>46.000000</td>\n",
              "      <td>2585.500000</td>\n",
              "    </tr>\n",
              "    <tr>\n",
              "      <th>75%</th>\n",
              "      <td>150.250000</td>\n",
              "      <td>58.000000</td>\n",
              "      <td>3466.500000</td>\n",
              "    </tr>\n",
              "    <tr>\n",
              "      <th>max</th>\n",
              "      <td>200.000000</td>\n",
              "      <td>70.000000</td>\n",
              "      <td>4985.000000</td>\n",
              "    </tr>\n",
              "  </tbody>\n",
              "</table>\n",
              "</div>\n",
              "      <button class=\"colab-df-convert\" onclick=\"convertToInteractive('df-92d914eb-2100-482a-af65-5a89193b9fa2')\"\n",
              "              title=\"Convert this dataframe to an interactive table.\"\n",
              "              style=\"display:none;\">\n",
              "        \n",
              "  <svg xmlns=\"http://www.w3.org/2000/svg\" height=\"24px\"viewBox=\"0 0 24 24\"\n",
              "       width=\"24px\">\n",
              "    <path d=\"M0 0h24v24H0V0z\" fill=\"none\"/>\n",
              "    <path d=\"M18.56 5.44l.94 2.06.94-2.06 2.06-.94-2.06-.94-.94-2.06-.94 2.06-2.06.94zm-11 1L8.5 8.5l.94-2.06 2.06-.94-2.06-.94L8.5 2.5l-.94 2.06-2.06.94zm10 10l.94 2.06.94-2.06 2.06-.94-2.06-.94-.94-2.06-.94 2.06-2.06.94z\"/><path d=\"M17.41 7.96l-1.37-1.37c-.4-.4-.92-.59-1.43-.59-.52 0-1.04.2-1.43.59L10.3 9.45l-7.72 7.72c-.78.78-.78 2.05 0 2.83L4 21.41c.39.39.9.59 1.41.59.51 0 1.02-.2 1.41-.59l7.78-7.78 2.81-2.81c.8-.78.8-2.07 0-2.86zM5.41 20L4 18.59l7.72-7.72 1.47 1.35L5.41 20z\"/>\n",
              "  </svg>\n",
              "      </button>\n",
              "      \n",
              "  <style>\n",
              "    .colab-df-container {\n",
              "      display:flex;\n",
              "      flex-wrap:wrap;\n",
              "      gap: 12px;\n",
              "    }\n",
              "\n",
              "    .colab-df-convert {\n",
              "      background-color: #E8F0FE;\n",
              "      border: none;\n",
              "      border-radius: 50%;\n",
              "      cursor: pointer;\n",
              "      display: none;\n",
              "      fill: #1967D2;\n",
              "      height: 32px;\n",
              "      padding: 0 0 0 0;\n",
              "      width: 32px;\n",
              "    }\n",
              "\n",
              "    .colab-df-convert:hover {\n",
              "      background-color: #E2EBFA;\n",
              "      box-shadow: 0px 1px 2px rgba(60, 64, 67, 0.3), 0px 1px 3px 1px rgba(60, 64, 67, 0.15);\n",
              "      fill: #174EA6;\n",
              "    }\n",
              "\n",
              "    [theme=dark] .colab-df-convert {\n",
              "      background-color: #3B4455;\n",
              "      fill: #D2E3FC;\n",
              "    }\n",
              "\n",
              "    [theme=dark] .colab-df-convert:hover {\n",
              "      background-color: #434B5C;\n",
              "      box-shadow: 0px 1px 3px 1px rgba(0, 0, 0, 0.15);\n",
              "      filter: drop-shadow(0px 1px 2px rgba(0, 0, 0, 0.3));\n",
              "      fill: #FFFFFF;\n",
              "    }\n",
              "  </style>\n",
              "\n",
              "      <script>\n",
              "        const buttonEl =\n",
              "          document.querySelector('#df-92d914eb-2100-482a-af65-5a89193b9fa2 button.colab-df-convert');\n",
              "        buttonEl.style.display =\n",
              "          google.colab.kernel.accessAllowed ? 'block' : 'none';\n",
              "\n",
              "        async function convertToInteractive(key) {\n",
              "          const element = document.querySelector('#df-92d914eb-2100-482a-af65-5a89193b9fa2');\n",
              "          const dataTable =\n",
              "            await google.colab.kernel.invokeFunction('convertToInteractive',\n",
              "                                                     [key], {});\n",
              "          if (!dataTable) return;\n",
              "\n",
              "          const docLinkHtml = 'Like what you see? Visit the ' +\n",
              "            '<a target=\"_blank\" href=https://colab.research.google.com/notebooks/data_table.ipynb>data table notebook</a>'\n",
              "            + ' to learn more about interactive tables.';\n",
              "          element.innerHTML = '';\n",
              "          dataTable['output_type'] = 'display_data';\n",
              "          await google.colab.output.renderOutput(dataTable, element);\n",
              "          const docLink = document.createElement('div');\n",
              "          docLink.innerHTML = docLinkHtml;\n",
              "          element.appendChild(docLink);\n",
              "        }\n",
              "      </script>\n",
              "    </div>\n",
              "  </div>\n",
              "  "
            ]
          },
          "metadata": {},
          "execution_count": 7
        }
      ]
    },
    {
      "cell_type": "code",
      "source": [
        "data[\"Préstamo\"].describe()"
      ],
      "metadata": {
        "colab": {
          "base_uri": "https://localhost:8080/"
        },
        "id": "97hdHX_Z7vuM",
        "outputId": "91eede86-095e-47e6-ea53-8d75ff3f0f3c"
      },
      "execution_count": null,
      "outputs": [
        {
          "output_type": "execute_result",
          "data": {
            "text/plain": [
              "count     200\n",
              "unique      2\n",
              "top        NO\n",
              "freq      123\n",
              "Name: Préstamo, dtype: object"
            ]
          },
          "metadata": {},
          "execution_count": 8
        }
      ]
    },
    {
      "cell_type": "code",
      "source": [
        "#renombrando columnas\n",
        "data.columns = [\"Id\",\"Edad\",\"Ahorro\", \"Préstamo\"]\n",
        "data"
      ],
      "metadata": {
        "colab": {
          "base_uri": "https://localhost:8080/",
          "height": 424
        },
        "id": "e7rbXiZl74Ly",
        "outputId": "f8f27480-4e75-475c-9b16-853a3beb666a"
      },
      "execution_count": null,
      "outputs": [
        {
          "output_type": "execute_result",
          "data": {
            "text/plain": [
              "      Id  Edad  Ahorro Préstamo\n",
              "0      1    22     691       NO\n",
              "1      2    39    1305       NO\n",
              "2      3    66    3474       SI\n",
              "3      4    45    2185       NO\n",
              "4      5    39    1773       SI\n",
              "..   ...   ...     ...      ...\n",
              "195  196    62    3051       SI\n",
              "196  197    22    1380       NO\n",
              "197  198    59    3044       SI\n",
              "198  199    21    1751       SI\n",
              "199  200    61    3786       SI\n",
              "\n",
              "[200 rows x 4 columns]"
            ],
            "text/html": [
              "\n",
              "  <div id=\"df-47c75aec-3549-41f0-bf09-2ecd73a758ea\">\n",
              "    <div class=\"colab-df-container\">\n",
              "      <div>\n",
              "<style scoped>\n",
              "    .dataframe tbody tr th:only-of-type {\n",
              "        vertical-align: middle;\n",
              "    }\n",
              "\n",
              "    .dataframe tbody tr th {\n",
              "        vertical-align: top;\n",
              "    }\n",
              "\n",
              "    .dataframe thead th {\n",
              "        text-align: right;\n",
              "    }\n",
              "</style>\n",
              "<table border=\"1\" class=\"dataframe\">\n",
              "  <thead>\n",
              "    <tr style=\"text-align: right;\">\n",
              "      <th></th>\n",
              "      <th>Id</th>\n",
              "      <th>Edad</th>\n",
              "      <th>Ahorro</th>\n",
              "      <th>Préstamo</th>\n",
              "    </tr>\n",
              "  </thead>\n",
              "  <tbody>\n",
              "    <tr>\n",
              "      <th>0</th>\n",
              "      <td>1</td>\n",
              "      <td>22</td>\n",
              "      <td>691</td>\n",
              "      <td>NO</td>\n",
              "    </tr>\n",
              "    <tr>\n",
              "      <th>1</th>\n",
              "      <td>2</td>\n",
              "      <td>39</td>\n",
              "      <td>1305</td>\n",
              "      <td>NO</td>\n",
              "    </tr>\n",
              "    <tr>\n",
              "      <th>2</th>\n",
              "      <td>3</td>\n",
              "      <td>66</td>\n",
              "      <td>3474</td>\n",
              "      <td>SI</td>\n",
              "    </tr>\n",
              "    <tr>\n",
              "      <th>3</th>\n",
              "      <td>4</td>\n",
              "      <td>45</td>\n",
              "      <td>2185</td>\n",
              "      <td>NO</td>\n",
              "    </tr>\n",
              "    <tr>\n",
              "      <th>4</th>\n",
              "      <td>5</td>\n",
              "      <td>39</td>\n",
              "      <td>1773</td>\n",
              "      <td>SI</td>\n",
              "    </tr>\n",
              "    <tr>\n",
              "      <th>...</th>\n",
              "      <td>...</td>\n",
              "      <td>...</td>\n",
              "      <td>...</td>\n",
              "      <td>...</td>\n",
              "    </tr>\n",
              "    <tr>\n",
              "      <th>195</th>\n",
              "      <td>196</td>\n",
              "      <td>62</td>\n",
              "      <td>3051</td>\n",
              "      <td>SI</td>\n",
              "    </tr>\n",
              "    <tr>\n",
              "      <th>196</th>\n",
              "      <td>197</td>\n",
              "      <td>22</td>\n",
              "      <td>1380</td>\n",
              "      <td>NO</td>\n",
              "    </tr>\n",
              "    <tr>\n",
              "      <th>197</th>\n",
              "      <td>198</td>\n",
              "      <td>59</td>\n",
              "      <td>3044</td>\n",
              "      <td>SI</td>\n",
              "    </tr>\n",
              "    <tr>\n",
              "      <th>198</th>\n",
              "      <td>199</td>\n",
              "      <td>21</td>\n",
              "      <td>1751</td>\n",
              "      <td>SI</td>\n",
              "    </tr>\n",
              "    <tr>\n",
              "      <th>199</th>\n",
              "      <td>200</td>\n",
              "      <td>61</td>\n",
              "      <td>3786</td>\n",
              "      <td>SI</td>\n",
              "    </tr>\n",
              "  </tbody>\n",
              "</table>\n",
              "<p>200 rows × 4 columns</p>\n",
              "</div>\n",
              "      <button class=\"colab-df-convert\" onclick=\"convertToInteractive('df-47c75aec-3549-41f0-bf09-2ecd73a758ea')\"\n",
              "              title=\"Convert this dataframe to an interactive table.\"\n",
              "              style=\"display:none;\">\n",
              "        \n",
              "  <svg xmlns=\"http://www.w3.org/2000/svg\" height=\"24px\"viewBox=\"0 0 24 24\"\n",
              "       width=\"24px\">\n",
              "    <path d=\"M0 0h24v24H0V0z\" fill=\"none\"/>\n",
              "    <path d=\"M18.56 5.44l.94 2.06.94-2.06 2.06-.94-2.06-.94-.94-2.06-.94 2.06-2.06.94zm-11 1L8.5 8.5l.94-2.06 2.06-.94-2.06-.94L8.5 2.5l-.94 2.06-2.06.94zm10 10l.94 2.06.94-2.06 2.06-.94-2.06-.94-.94-2.06-.94 2.06-2.06.94z\"/><path d=\"M17.41 7.96l-1.37-1.37c-.4-.4-.92-.59-1.43-.59-.52 0-1.04.2-1.43.59L10.3 9.45l-7.72 7.72c-.78.78-.78 2.05 0 2.83L4 21.41c.39.39.9.59 1.41.59.51 0 1.02-.2 1.41-.59l7.78-7.78 2.81-2.81c.8-.78.8-2.07 0-2.86zM5.41 20L4 18.59l7.72-7.72 1.47 1.35L5.41 20z\"/>\n",
              "  </svg>\n",
              "      </button>\n",
              "      \n",
              "  <style>\n",
              "    .colab-df-container {\n",
              "      display:flex;\n",
              "      flex-wrap:wrap;\n",
              "      gap: 12px;\n",
              "    }\n",
              "\n",
              "    .colab-df-convert {\n",
              "      background-color: #E8F0FE;\n",
              "      border: none;\n",
              "      border-radius: 50%;\n",
              "      cursor: pointer;\n",
              "      display: none;\n",
              "      fill: #1967D2;\n",
              "      height: 32px;\n",
              "      padding: 0 0 0 0;\n",
              "      width: 32px;\n",
              "    }\n",
              "\n",
              "    .colab-df-convert:hover {\n",
              "      background-color: #E2EBFA;\n",
              "      box-shadow: 0px 1px 2px rgba(60, 64, 67, 0.3), 0px 1px 3px 1px rgba(60, 64, 67, 0.15);\n",
              "      fill: #174EA6;\n",
              "    }\n",
              "\n",
              "    [theme=dark] .colab-df-convert {\n",
              "      background-color: #3B4455;\n",
              "      fill: #D2E3FC;\n",
              "    }\n",
              "\n",
              "    [theme=dark] .colab-df-convert:hover {\n",
              "      background-color: #434B5C;\n",
              "      box-shadow: 0px 1px 3px 1px rgba(0, 0, 0, 0.15);\n",
              "      filter: drop-shadow(0px 1px 2px rgba(0, 0, 0, 0.3));\n",
              "      fill: #FFFFFF;\n",
              "    }\n",
              "  </style>\n",
              "\n",
              "      <script>\n",
              "        const buttonEl =\n",
              "          document.querySelector('#df-47c75aec-3549-41f0-bf09-2ecd73a758ea button.colab-df-convert');\n",
              "        buttonEl.style.display =\n",
              "          google.colab.kernel.accessAllowed ? 'block' : 'none';\n",
              "\n",
              "        async function convertToInteractive(key) {\n",
              "          const element = document.querySelector('#df-47c75aec-3549-41f0-bf09-2ecd73a758ea');\n",
              "          const dataTable =\n",
              "            await google.colab.kernel.invokeFunction('convertToInteractive',\n",
              "                                                     [key], {});\n",
              "          if (!dataTable) return;\n",
              "\n",
              "          const docLinkHtml = 'Like what you see? Visit the ' +\n",
              "            '<a target=\"_blank\" href=https://colab.research.google.com/notebooks/data_table.ipynb>data table notebook</a>'\n",
              "            + ' to learn more about interactive tables.';\n",
              "          element.innerHTML = '';\n",
              "          dataTable['output_type'] = 'display_data';\n",
              "          await google.colab.output.renderOutput(dataTable, element);\n",
              "          const docLink = document.createElement('div');\n",
              "          docLink.innerHTML = docLinkHtml;\n",
              "          element.appendChild(docLink);\n",
              "        }\n",
              "      </script>\n",
              "    </div>\n",
              "  </div>\n",
              "  "
            ]
          },
          "metadata": {},
          "execution_count": 9
        }
      ]
    },
    {
      "cell_type": "code",
      "source": [
        "data.head()"
      ],
      "metadata": {
        "colab": {
          "base_uri": "https://localhost:8080/",
          "height": 206
        },
        "id": "O8S9O7gt8xl1",
        "outputId": "eb7b2580-bc9d-4090-fa85-f9cce559f9d2"
      },
      "execution_count": null,
      "outputs": [
        {
          "output_type": "execute_result",
          "data": {
            "text/plain": [
              "   Id  Edad  Ahorro Préstamo\n",
              "0   1    22     691       NO\n",
              "1   2    39    1305       NO\n",
              "2   3    66    3474       SI\n",
              "3   4    45    2185       NO\n",
              "4   5    39    1773       SI"
            ],
            "text/html": [
              "\n",
              "  <div id=\"df-0e1be68f-66a1-4f2f-b322-81933b56695b\">\n",
              "    <div class=\"colab-df-container\">\n",
              "      <div>\n",
              "<style scoped>\n",
              "    .dataframe tbody tr th:only-of-type {\n",
              "        vertical-align: middle;\n",
              "    }\n",
              "\n",
              "    .dataframe tbody tr th {\n",
              "        vertical-align: top;\n",
              "    }\n",
              "\n",
              "    .dataframe thead th {\n",
              "        text-align: right;\n",
              "    }\n",
              "</style>\n",
              "<table border=\"1\" class=\"dataframe\">\n",
              "  <thead>\n",
              "    <tr style=\"text-align: right;\">\n",
              "      <th></th>\n",
              "      <th>Id</th>\n",
              "      <th>Edad</th>\n",
              "      <th>Ahorro</th>\n",
              "      <th>Préstamo</th>\n",
              "    </tr>\n",
              "  </thead>\n",
              "  <tbody>\n",
              "    <tr>\n",
              "      <th>0</th>\n",
              "      <td>1</td>\n",
              "      <td>22</td>\n",
              "      <td>691</td>\n",
              "      <td>NO</td>\n",
              "    </tr>\n",
              "    <tr>\n",
              "      <th>1</th>\n",
              "      <td>2</td>\n",
              "      <td>39</td>\n",
              "      <td>1305</td>\n",
              "      <td>NO</td>\n",
              "    </tr>\n",
              "    <tr>\n",
              "      <th>2</th>\n",
              "      <td>3</td>\n",
              "      <td>66</td>\n",
              "      <td>3474</td>\n",
              "      <td>SI</td>\n",
              "    </tr>\n",
              "    <tr>\n",
              "      <th>3</th>\n",
              "      <td>4</td>\n",
              "      <td>45</td>\n",
              "      <td>2185</td>\n",
              "      <td>NO</td>\n",
              "    </tr>\n",
              "    <tr>\n",
              "      <th>4</th>\n",
              "      <td>5</td>\n",
              "      <td>39</td>\n",
              "      <td>1773</td>\n",
              "      <td>SI</td>\n",
              "    </tr>\n",
              "  </tbody>\n",
              "</table>\n",
              "</div>\n",
              "      <button class=\"colab-df-convert\" onclick=\"convertToInteractive('df-0e1be68f-66a1-4f2f-b322-81933b56695b')\"\n",
              "              title=\"Convert this dataframe to an interactive table.\"\n",
              "              style=\"display:none;\">\n",
              "        \n",
              "  <svg xmlns=\"http://www.w3.org/2000/svg\" height=\"24px\"viewBox=\"0 0 24 24\"\n",
              "       width=\"24px\">\n",
              "    <path d=\"M0 0h24v24H0V0z\" fill=\"none\"/>\n",
              "    <path d=\"M18.56 5.44l.94 2.06.94-2.06 2.06-.94-2.06-.94-.94-2.06-.94 2.06-2.06.94zm-11 1L8.5 8.5l.94-2.06 2.06-.94-2.06-.94L8.5 2.5l-.94 2.06-2.06.94zm10 10l.94 2.06.94-2.06 2.06-.94-2.06-.94-.94-2.06-.94 2.06-2.06.94z\"/><path d=\"M17.41 7.96l-1.37-1.37c-.4-.4-.92-.59-1.43-.59-.52 0-1.04.2-1.43.59L10.3 9.45l-7.72 7.72c-.78.78-.78 2.05 0 2.83L4 21.41c.39.39.9.59 1.41.59.51 0 1.02-.2 1.41-.59l7.78-7.78 2.81-2.81c.8-.78.8-2.07 0-2.86zM5.41 20L4 18.59l7.72-7.72 1.47 1.35L5.41 20z\"/>\n",
              "  </svg>\n",
              "      </button>\n",
              "      \n",
              "  <style>\n",
              "    .colab-df-container {\n",
              "      display:flex;\n",
              "      flex-wrap:wrap;\n",
              "      gap: 12px;\n",
              "    }\n",
              "\n",
              "    .colab-df-convert {\n",
              "      background-color: #E8F0FE;\n",
              "      border: none;\n",
              "      border-radius: 50%;\n",
              "      cursor: pointer;\n",
              "      display: none;\n",
              "      fill: #1967D2;\n",
              "      height: 32px;\n",
              "      padding: 0 0 0 0;\n",
              "      width: 32px;\n",
              "    }\n",
              "\n",
              "    .colab-df-convert:hover {\n",
              "      background-color: #E2EBFA;\n",
              "      box-shadow: 0px 1px 2px rgba(60, 64, 67, 0.3), 0px 1px 3px 1px rgba(60, 64, 67, 0.15);\n",
              "      fill: #174EA6;\n",
              "    }\n",
              "\n",
              "    [theme=dark] .colab-df-convert {\n",
              "      background-color: #3B4455;\n",
              "      fill: #D2E3FC;\n",
              "    }\n",
              "\n",
              "    [theme=dark] .colab-df-convert:hover {\n",
              "      background-color: #434B5C;\n",
              "      box-shadow: 0px 1px 3px 1px rgba(0, 0, 0, 0.15);\n",
              "      filter: drop-shadow(0px 1px 2px rgba(0, 0, 0, 0.3));\n",
              "      fill: #FFFFFF;\n",
              "    }\n",
              "  </style>\n",
              "\n",
              "      <script>\n",
              "        const buttonEl =\n",
              "          document.querySelector('#df-0e1be68f-66a1-4f2f-b322-81933b56695b button.colab-df-convert');\n",
              "        buttonEl.style.display =\n",
              "          google.colab.kernel.accessAllowed ? 'block' : 'none';\n",
              "\n",
              "        async function convertToInteractive(key) {\n",
              "          const element = document.querySelector('#df-0e1be68f-66a1-4f2f-b322-81933b56695b');\n",
              "          const dataTable =\n",
              "            await google.colab.kernel.invokeFunction('convertToInteractive',\n",
              "                                                     [key], {});\n",
              "          if (!dataTable) return;\n",
              "\n",
              "          const docLinkHtml = 'Like what you see? Visit the ' +\n",
              "            '<a target=\"_blank\" href=https://colab.research.google.com/notebooks/data_table.ipynb>data table notebook</a>'\n",
              "            + ' to learn more about interactive tables.';\n",
              "          element.innerHTML = '';\n",
              "          dataTable['output_type'] = 'display_data';\n",
              "          await google.colab.output.renderOutput(dataTable, element);\n",
              "          const docLink = document.createElement('div');\n",
              "          docLink.innerHTML = docLinkHtml;\n",
              "          element.appendChild(docLink);\n",
              "        }\n",
              "      </script>\n",
              "    </div>\n",
              "  </div>\n",
              "  "
            ]
          },
          "metadata": {},
          "execution_count": 10
        }
      ]
    },
    {
      "cell_type": "markdown",
      "source": [
        "# Análisis"
      ],
      "metadata": {
        "id": "T4qLo0Ty9OzT"
      }
    },
    {
      "cell_type": "markdown",
      "source": [
        "¿Podría identificarse si existe una relación entre la edad y el saldo promedio en ahorro?"
      ],
      "metadata": {
        "id": "d4J7ipFD9Zkw"
      }
    },
    {
      "cell_type": "code",
      "source": [
        "#gráfico por defecto: línea\n",
        "data.plot(x=\"Edad\", y=\"Ahorro\")"
      ],
      "metadata": {
        "colab": {
          "base_uri": "https://localhost:8080/",
          "height": 296
        },
        "id": "yHP3QcX681c_",
        "outputId": "e20257f4-7fb0-4114-a3bd-9ff3762ae7f3"
      },
      "execution_count": null,
      "outputs": [
        {
          "output_type": "execute_result",
          "data": {
            "text/plain": [
              "<matplotlib.axes._subplots.AxesSubplot at 0x7f37b3ed86d0>"
            ]
          },
          "metadata": {},
          "execution_count": 11
        },
        {
          "output_type": "display_data",
          "data": {
            "text/plain": [
              "<Figure size 432x288 with 1 Axes>"
            ],
            "image/png": "[encoded data removed]"
          },
          "metadata": {
            "needs_background": "light"
          }
        }
      ]
    },
    {
      "cell_type": "code",
      "source": [
        "'''\n",
        "con el parámetro \"kind\" podemos elegir entre varios tipos:\n",
        "\n",
        "‘line’ : line plot (default)\n",
        "‘bar’ : vertical bar plot\n",
        "‘barh’ : horizontal bar plot\n",
        "‘hist’ : histogram\n",
        "‘box’ : boxplot\n",
        "‘kde’ : Kernel Density Estimation plot\n",
        "‘density’ : same as ‘kde’\n",
        "‘area’ : area plot\n",
        "‘pie’ : pie plot\n",
        "‘scatter’ : scatter plot (DataFrame only)\n",
        "‘hexbin’ : hexbin plot (DataFrame only)\n",
        "\n",
        "doc: https://pandas.pydata.org/docs/reference/api/pandas.DataFrame.plot.html\n",
        "'''\n",
        "#En este caso, para analizar cómo se relacionan ambas variables, nos interesa el gráfico de dispersión\n",
        "data.plot(x=\"Edad\", y=\"Ahorro\", kind=\"scatter\")"
      ],
      "metadata": {
        "colab": {
          "base_uri": "https://localhost:8080/",
          "height": 296
        },
        "id": "DEZUc-sp96ll",
        "outputId": "cc51303b-7f5c-4609-8aee-555a3ad73bd1"
      },
      "execution_count": null,
      "outputs": [
        {
          "output_type": "execute_result",
          "data": {
            "text/plain": [
              "<matplotlib.axes._subplots.AxesSubplot at 0x7f37b3dcd910>"
            ]
          },
          "metadata": {},
          "execution_count": 12
        },
        {
          "output_type": "display_data",
          "data": {
            "text/plain": [
              "<Figure size 432x288 with 1 Axes>"
            ],
            "image/png": "[encoded data removed]"
          },
          "metadata": {
            "needs_background": "light"
          }
        }
      ]
    },
    {
      "cell_type": "code",
      "source": [
        "data.plot(x=\"Edad\", y=\"Ahorro\", kind=\"scatter\", title=\"relación entre edad y ahorro\")"
      ],
      "metadata": {
        "colab": {
          "base_uri": "https://localhost:8080/",
          "height": 312
        },
        "id": "EGiIXSas-llh",
        "outputId": "186e5c0f-3717-4743-f231-e51552506c88"
      },
      "execution_count": null,
      "outputs": [
        {
          "output_type": "execute_result",
          "data": {
            "text/plain": [
              "<matplotlib.axes._subplots.AxesSubplot at 0x7f37b38fde90>"
            ]
          },
          "metadata": {},
          "execution_count": 13
        },
        {
          "output_type": "display_data",
          "data": {
            "text/plain": [
              "<Figure size 432x288 with 1 Axes>"
            ],
            "image/png": "[encoded data removed]"
          },
          "metadata": {
            "needs_background": "light"
          }
        }
      ]
    },
    {
      "cell_type": "markdown",
      "source": [
        "**Análisis**: Aquí podemos identificar que efectivamente hay una relación entre la edad y el valor del ahorro. A menor edad, los valores de ahorro disminuyen y a mayor edad, aumentan. "
      ],
      "metadata": {
        "id": "ERvVxLwf_BR-"
      }
    },
    {
      "cell_type": "code",
      "source": [
        "data"
      ],
      "metadata": {
        "colab": {
          "base_uri": "https://localhost:8080/",
          "height": 424
        },
        "id": "8I0OK-QCA0a5",
        "outputId": "95b505b9-961b-4773-ffad-cdae6f4399bf"
      },
      "execution_count": null,
      "outputs": [
        {
          "output_type": "execute_result",
          "data": {
            "text/plain": [
              "      Id  Edad  Ahorro Préstamo\n",
              "0      1    22     691       NO\n",
              "1      2    39    1305       NO\n",
              "2      3    66    3474       SI\n",
              "3      4    45    2185       NO\n",
              "4      5    39    1773       SI\n",
              "..   ...   ...     ...      ...\n",
              "195  196    62    3051       SI\n",
              "196  197    22    1380       NO\n",
              "197  198    59    3044       SI\n",
              "198  199    21    1751       SI\n",
              "199  200    61    3786       SI\n",
              "\n",
              "[200 rows x 4 columns]"
            ],
            "text/html": [
              "\n",
              "  <div id=\"df-f23f117e-c698-45b9-8f24-e58e06abf770\">\n",
              "    <div class=\"colab-df-container\">\n",
              "      <div>\n",
              "<style scoped>\n",
              "    .dataframe tbody tr th:only-of-type {\n",
              "        vertical-align: middle;\n",
              "    }\n",
              "\n",
              "    .dataframe tbody tr th {\n",
              "        vertical-align: top;\n",
              "    }\n",
              "\n",
              "    .dataframe thead th {\n",
              "        text-align: right;\n",
              "    }\n",
              "</style>\n",
              "<table border=\"1\" class=\"dataframe\">\n",
              "  <thead>\n",
              "    <tr style=\"text-align: right;\">\n",
              "      <th></th>\n",
              "      <th>Id</th>\n",
              "      <th>Edad</th>\n",
              "      <th>Ahorro</th>\n",
              "      <th>Préstamo</th>\n",
              "    </tr>\n",
              "  </thead>\n",
              "  <tbody>\n",
              "    <tr>\n",
              "      <th>0</th>\n",
              "      <td>1</td>\n",
              "      <td>22</td>\n",
              "      <td>691</td>\n",
              "      <td>NO</td>\n",
              "    </tr>\n",
              "    <tr>\n",
              "      <th>1</th>\n",
              "      <td>2</td>\n",
              "      <td>39</td>\n",
              "      <td>1305</td>\n",
              "      <td>NO</td>\n",
              "    </tr>\n",
              "    <tr>\n",
              "      <th>2</th>\n",
              "      <td>3</td>\n",
              "      <td>66</td>\n",
              "      <td>3474</td>\n",
              "      <td>SI</td>\n",
              "    </tr>\n",
              "    <tr>\n",
              "      <th>3</th>\n",
              "      <td>4</td>\n",
              "      <td>45</td>\n",
              "      <td>2185</td>\n",
              "      <td>NO</td>\n",
              "    </tr>\n",
              "    <tr>\n",
              "      <th>4</th>\n",
              "      <td>5</td>\n",
              "      <td>39</td>\n",
              "      <td>1773</td>\n",
              "      <td>SI</td>\n",
              "    </tr>\n",
              "    <tr>\n",
              "      <th>...</th>\n",
              "      <td>...</td>\n",
              "      <td>...</td>\n",
              "      <td>...</td>\n",
              "      <td>...</td>\n",
              "    </tr>\n",
              "    <tr>\n",
              "      <th>195</th>\n",
              "      <td>196</td>\n",
              "      <td>62</td>\n",
              "      <td>3051</td>\n",
              "      <td>SI</td>\n",
              "    </tr>\n",
              "    <tr>\n",
              "      <th>196</th>\n",
              "      <td>197</td>\n",
              "      <td>22</td>\n",
              "      <td>1380</td>\n",
              "      <td>NO</td>\n",
              "    </tr>\n",
              "    <tr>\n",
              "      <th>197</th>\n",
              "      <td>198</td>\n",
              "      <td>59</td>\n",
              "      <td>3044</td>\n",
              "      <td>SI</td>\n",
              "    </tr>\n",
              "    <tr>\n",
              "      <th>198</th>\n",
              "      <td>199</td>\n",
              "      <td>21</td>\n",
              "      <td>1751</td>\n",
              "      <td>SI</td>\n",
              "    </tr>\n",
              "    <tr>\n",
              "      <th>199</th>\n",
              "      <td>200</td>\n",
              "      <td>61</td>\n",
              "      <td>3786</td>\n",
              "      <td>SI</td>\n",
              "    </tr>\n",
              "  </tbody>\n",
              "</table>\n",
              "<p>200 rows × 4 columns</p>\n",
              "</div>\n",
              "      <button class=\"colab-df-convert\" onclick=\"convertToInteractive('df-f23f117e-c698-45b9-8f24-e58e06abf770')\"\n",
              "              title=\"Convert this dataframe to an interactive table.\"\n",
              "              style=\"display:none;\">\n",
              "        \n",
              "  <svg xmlns=\"http://www.w3.org/2000/svg\" height=\"24px\"viewBox=\"0 0 24 24\"\n",
              "       width=\"24px\">\n",
              "    <path d=\"M0 0h24v24H0V0z\" fill=\"none\"/>\n",
              "    <path d=\"M18.56 5.44l.94 2.06.94-2.06 2.06-.94-2.06-.94-.94-2.06-.94 2.06-2.06.94zm-11 1L8.5 8.5l.94-2.06 2.06-.94-2.06-.94L8.5 2.5l-.94 2.06-2.06.94zm10 10l.94 2.06.94-2.06 2.06-.94-2.06-.94-.94-2.06-.94 2.06-2.06.94z\"/><path d=\"M17.41 7.96l-1.37-1.37c-.4-.4-.92-.59-1.43-.59-.52 0-1.04.2-1.43.59L10.3 9.45l-7.72 7.72c-.78.78-.78 2.05 0 2.83L4 21.41c.39.39.9.59 1.41.59.51 0 1.02-.2 1.41-.59l7.78-7.78 2.81-2.81c.8-.78.8-2.07 0-2.86zM5.41 20L4 18.59l7.72-7.72 1.47 1.35L5.41 20z\"/>\n",
              "  </svg>\n",
              "      </button>\n",
              "      \n",
              "  <style>\n",
              "    .colab-df-container {\n",
              "      display:flex;\n",
              "      flex-wrap:wrap;\n",
              "      gap: 12px;\n",
              "    }\n",
              "\n",
              "    .colab-df-convert {\n",
              "      background-color: #E8F0FE;\n",
              "      border: none;\n",
              "      border-radius: 50%;\n",
              "      cursor: pointer;\n",
              "      display: none;\n",
              "      fill: #1967D2;\n",
              "      height: 32px;\n",
              "      padding: 0 0 0 0;\n",
              "      width: 32px;\n",
              "    }\n",
              "\n",
              "    .colab-df-convert:hover {\n",
              "      background-color: #E2EBFA;\n",
              "      box-shadow: 0px 1px 2px rgba(60, 64, 67, 0.3), 0px 1px 3px 1px rgba(60, 64, 67, 0.15);\n",
              "      fill: #174EA6;\n",
              "    }\n",
              "\n",
              "    [theme=dark] .colab-df-convert {\n",
              "      background-color: #3B4455;\n",
              "      fill: #D2E3FC;\n",
              "    }\n",
              "\n",
              "    [theme=dark] .colab-df-convert:hover {\n",
              "      background-color: #434B5C;\n",
              "      box-shadow: 0px 1px 3px 1px rgba(0, 0, 0, 0.15);\n",
              "      filter: drop-shadow(0px 1px 2px rgba(0, 0, 0, 0.3));\n",
              "      fill: #FFFFFF;\n",
              "    }\n",
              "  </style>\n",
              "\n",
              "      <script>\n",
              "        const buttonEl =\n",
              "          document.querySelector('#df-f23f117e-c698-45b9-8f24-e58e06abf770 button.colab-df-convert');\n",
              "        buttonEl.style.display =\n",
              "          google.colab.kernel.accessAllowed ? 'block' : 'none';\n",
              "\n",
              "        async function convertToInteractive(key) {\n",
              "          const element = document.querySelector('#df-f23f117e-c698-45b9-8f24-e58e06abf770');\n",
              "          const dataTable =\n",
              "            await google.colab.kernel.invokeFunction('convertToInteractive',\n",
              "                                                     [key], {});\n",
              "          if (!dataTable) return;\n",
              "\n",
              "          const docLinkHtml = 'Like what you see? Visit the ' +\n",
              "            '<a target=\"_blank\" href=https://colab.research.google.com/notebooks/data_table.ipynb>data table notebook</a>'\n",
              "            + ' to learn more about interactive tables.';\n",
              "          element.innerHTML = '';\n",
              "          dataTable['output_type'] = 'display_data';\n",
              "          await google.colab.output.renderOutput(dataTable, element);\n",
              "          const docLink = document.createElement('div');\n",
              "          docLink.innerHTML = docLinkHtml;\n",
              "          element.appendChild(docLink);\n",
              "        }\n",
              "      </script>\n",
              "    </div>\n",
              "  </div>\n",
              "  "
            ]
          },
          "metadata": {},
          "execution_count": 14
        }
      ]
    },
    {
      "cell_type": "code",
      "source": [
        "#Añadiendo otra variable para categorizar los datos --> Préstamo\n",
        "\n",
        "'''\n",
        "Desde pandas, debemos hacer una operación inicial: agrupamiento --> groupby\n",
        "\n",
        "Usaremos la variable préstamos como variable de categorización --> grupos: sí, no\n",
        "'''\n",
        "\n",
        "datos_agrupados = data.groupby(\"Préstamo\")\n",
        "datos_agrupados #Se genera un objeto iterable"
      ],
      "metadata": {
        "colab": {
          "base_uri": "https://localhost:8080/"
        },
        "id": "0n-SnVFE_QAW",
        "outputId": "322930bc-a844-4be0-8e14-500429affadc"
      },
      "execution_count": null,
      "outputs": [
        {
          "output_type": "execute_result",
          "data": {
            "text/plain": [
              "<pandas.core.groupby.generic.DataFrameGroupBy object at 0x7f37b386d850>"
            ]
          },
          "metadata": {},
          "execution_count": 15
        }
      ]
    },
    {
      "cell_type": "code",
      "source": [
        "for key,group in datos_agrupados:\n",
        "  print(key,group)"
      ],
      "metadata": {
        "colab": {
          "base_uri": "https://localhost:8080/"
        },
        "id": "xCIsRxDgBG6g",
        "outputId": "45c99fcd-e526-4fb8-aa75-0515f1507246"
      },
      "execution_count": null,
      "outputs": [
        {
          "output_type": "stream",
          "name": "stdout",
          "text": [
            "NO       Id  Edad  Ahorro Préstamo\n",
            "0      1    22     691       NO\n",
            "1      2    39    1305       NO\n",
            "3      4    45    2185       NO\n",
            "5      6    62    4505       NO\n",
            "7      8    29     856       NO\n",
            "..   ...   ...     ...      ...\n",
            "190  191    42    2183       NO\n",
            "191  192    41    2855       NO\n",
            "193  194    67    4776       NO\n",
            "194  195    23     864       NO\n",
            "196  197    22    1380       NO\n",
            "\n",
            "[123 rows x 4 columns]\n",
            "SI       Id  Edad  Ahorro Préstamo\n",
            "2      3    66    3474       SI\n",
            "4      5    39    1773       SI\n",
            "6      7    55    3408       SI\n",
            "9     10    44    3385       SI\n",
            "10    11    63    3365       SI\n",
            "..   ...   ...     ...      ...\n",
            "192  193    69    3981       SI\n",
            "195  196    62    3051       SI\n",
            "197  198    59    3044       SI\n",
            "198  199    21    1751       SI\n",
            "199  200    61    3786       SI\n",
            "\n",
            "[77 rows x 4 columns]\n"
          ]
        }
      ]
    },
    {
      "cell_type": "code",
      "source": [
        "import matplotlib.pyplot as plt\n",
        "\n",
        "colores = {\"SI\":\"blue\", \"NO\":\"red\"} #definiendo colores para cada grupo\n",
        "for opcion, grupo in datos_agrupados: #iterando sobre los grupos\n",
        "  grupo.plot(kind=\"scatter\", x=\"Edad\", y=\"Ahorro\", label=opcion, color=colores[opcion]) #graficando cada grupo\n",
        "\n",
        "plt.show()"
      ],
      "metadata": {
        "colab": {
          "base_uri": "https://localhost:8080/",
          "height": 542
        },
        "id": "OTC4LRt1BT-S",
        "outputId": "50a47008-08ee-4006-f969-c4563afcbdb1"
      },
      "execution_count": null,
      "outputs": [
        {
          "output_type": "display_data",
          "data": {
            "text/plain": [
              "<Figure size 432x288 with 1 Axes>"
            ],
            "image/png": "[encoded data removed]"
          },
          "metadata": {
            "needs_background": "light"
          }
        },
        {
          "output_type": "display_data",
          "data": {
            "text/plain": [
              "<Figure size 432x288 with 1 Axes>"
            ],
            "image/png": "[encoded data removed]"
          },
          "metadata": {
            "needs_background": "light"
          }
        }
      ]
    },
    {
      "cell_type": "code",
      "source": [
        "import matplotlib.pyplot as plt\n",
        "\n",
        "fig, ax = plt.subplots() #creando subplot para combinar gráficos\n",
        "colores = {\"SI\":\"blue\", \"NO\":\"red\"}\n",
        "for opcion, grupo in datos_agrupados:\n",
        "  grupo.plot(ax=ax, kind=\"scatter\", x=\"Edad\", y=\"Ahorro\", label=opcion, color=colores[opcion]) #se agrega el parámetro ax para definir el mismo objeto \"eje\" para todos los gráficos\n",
        "\n",
        "plt.show()"
      ],
      "metadata": {
        "colab": {
          "base_uri": "https://localhost:8080/",
          "height": 279
        },
        "id": "_zWv3IFKDil5",
        "outputId": "3e3d0a19-97ad-408e-def8-99ca86a2f69c"
      },
      "execution_count": null,
      "outputs": [
        {
          "output_type": "display_data",
          "data": {
            "text/plain": [
              "<Figure size 432x288 with 1 Axes>"
            ],
            "image/png": "[encoded data removed]"
          },
          "metadata": {
            "needs_background": "light"
          }
        }
      ]
    },
    {
      "cell_type": "code",
      "source": [
        "#Otra manera de graficar con scatter y categorización por columna adicional --> Seaborn\n",
        "\n",
        "#con scatterplot --> doc: https://seaborn.pydata.org/generated/seaborn.scatterplot.html\n",
        "import seaborn as sns\n",
        "sns.scatterplot(\"Edad\", \"Ahorro\", data=data, hue=\"Préstamo\") #parámetro hue --> variable de categorización; data --> dataframe\n"
      ],
      "metadata": {
        "colab": {
          "base_uri": "https://localhost:8080/",
          "height": 351
        },
        "id": "N6WmogZjEmqK",
        "outputId": "286c28c5-4b2e-42d4-9e52-587d69d8596c"
      },
      "execution_count": null,
      "outputs": [
        {
          "output_type": "stream",
          "name": "stderr",
          "text": [
            "/usr/local/lib/python3.7/dist-packages/seaborn/_decorators.py:43: FutureWarning: Pass the following variables as keyword args: x, y. From version 0.12, the only valid positional argument will be `data`, and passing other arguments without an explicit keyword will result in an error or misinterpretation.\n",
            "  FutureWarning\n"
          ]
        },
        {
          "output_type": "execute_result",
          "data": {
            "text/plain": [
              "<matplotlib.axes._subplots.AxesSubplot at 0x7f37a74d23d0>"
            ]
          },
          "metadata": {},
          "execution_count": 19
        },
        {
          "output_type": "display_data",
          "data": {
            "text/plain": [
              "<Figure size 432x288 with 1 Axes>"
            ],
            "image/png": "[encoded data removed]"
          },
          "metadata": {
            "needs_background": "light"
          }
        }
      ]
    },
    {
      "cell_type": "code",
      "source": [
        "#Agregando estilos a variable de categorización\n",
        "sns.scatterplot(\"Edad\", \"Ahorro\", data=data, hue=\"Préstamo\", style=\"Préstamo\")"
      ],
      "metadata": {
        "colab": {
          "base_uri": "https://localhost:8080/",
          "height": 351
        },
        "id": "omGnt4F5GNlJ",
        "outputId": "7670f621-384c-4387-ac80-89b047cfc669"
      },
      "execution_count": null,
      "outputs": [
        {
          "output_type": "stream",
          "name": "stderr",
          "text": [
            "/usr/local/lib/python3.7/dist-packages/seaborn/_decorators.py:43: FutureWarning: Pass the following variables as keyword args: x, y. From version 0.12, the only valid positional argument will be `data`, and passing other arguments without an explicit keyword will result in an error or misinterpretation.\n",
            "  FutureWarning\n"
          ]
        },
        {
          "output_type": "execute_result",
          "data": {
            "text/plain": [
              "<matplotlib.axes._subplots.AxesSubplot at 0x7f37a745d4d0>"
            ]
          },
          "metadata": {},
          "execution_count": 20
        },
        {
          "output_type": "display_data",
          "data": {
            "text/plain": [
              "<Figure size 432x288 with 1 Axes>"
            ],
            "image/png": "[encoded data removed]"
          },
          "metadata": {
            "needs_background": "light"
          }
        }
      ]
    },
    {
      "cell_type": "code",
      "source": [
        "#gráfico de regresión --> estima el modelo de regresión\n",
        "#doc: https://seaborn.pydata.org/generated/seaborn.regplot.html#seaborn.regplot\n",
        "sns.regplot(\"Edad\", \"Ahorro\", data=data)"
      ],
      "metadata": {
        "colab": {
          "base_uri": "https://localhost:8080/",
          "height": 351
        },
        "id": "o01ffrmrE68p",
        "outputId": "0f21597c-f193-4284-f292-4436873b1e94"
      },
      "execution_count": null,
      "outputs": [
        {
          "output_type": "stream",
          "name": "stderr",
          "text": [
            "/usr/local/lib/python3.7/dist-packages/seaborn/_decorators.py:43: FutureWarning: Pass the following variables as keyword args: x, y. From version 0.12, the only valid positional argument will be `data`, and passing other arguments without an explicit keyword will result in an error or misinterpretation.\n",
            "  FutureWarning\n"
          ]
        },
        {
          "output_type": "execute_result",
          "data": {
            "text/plain": [
              "<matplotlib.axes._subplots.AxesSubplot at 0x7f37b36e2750>"
            ]
          },
          "metadata": {},
          "execution_count": 21
        },
        {
          "output_type": "display_data",
          "data": {
            "text/plain": [
              "<Figure size 432x288 with 1 Axes>"
            ],
            "image/png": "[encoded data removed]"
          },
          "metadata": {
            "needs_background": "light"
          }
        }
      ]
    },
    {
      "cell_type": "code",
      "source": [
        "#con lmplot que combina regplot y facetgrid\n",
        "sns.lmplot(\"Edad\", \"Ahorro\", data=data, hue=\"Préstamo\", fit_reg=False)"
      ],
      "metadata": {
        "colab": {
          "base_uri": "https://localhost:8080/",
          "height": 441
        },
        "id": "MbRsZq4vD4sK",
        "outputId": "dbc41c09-8d04-482b-ce6c-1077b34ac1a4"
      },
      "execution_count": null,
      "outputs": [
        {
          "output_type": "stream",
          "name": "stderr",
          "text": [
            "/usr/local/lib/python3.7/dist-packages/seaborn/_decorators.py:43: FutureWarning: Pass the following variables as keyword args: x, y. From version 0.12, the only valid positional argument will be `data`, and passing other arguments without an explicit keyword will result in an error or misinterpretation.\n",
            "  FutureWarning\n"
          ]
        },
        {
          "output_type": "execute_result",
          "data": {
            "text/plain": [
              "<seaborn.axisgrid.FacetGrid at 0x7f37b3732a90>"
            ]
          },
          "metadata": {},
          "execution_count": 22
        },
        {
          "output_type": "display_data",
          "data": {
            "text/plain": [
              "<Figure size 414.75x360 with 1 Axes>"
            ],
            "image/png": "[encoded data removed]"
          },
          "metadata": {
            "needs_background": "light"
          }
        }
      ]
    },
    {
      "cell_type": "code",
      "source": [
        "import seaborn as sns\n",
        "sns.lmplot(\"Edad\", \"Ahorro\", data=data, hue=\"Préstamo\", fit_reg=True) #Añadiendo modelo de regresión"
      ],
      "metadata": {
        "colab": {
          "base_uri": "https://localhost:8080/",
          "height": 441
        },
        "id": "mgmppgQ7EKGT",
        "outputId": "39740368-abdf-46ec-95fd-b28e417addeb"
      },
      "execution_count": null,
      "outputs": [
        {
          "output_type": "stream",
          "name": "stderr",
          "text": [
            "/usr/local/lib/python3.7/dist-packages/seaborn/_decorators.py:43: FutureWarning: Pass the following variables as keyword args: x, y. From version 0.12, the only valid positional argument will be `data`, and passing other arguments without an explicit keyword will result in an error or misinterpretation.\n",
            "  FutureWarning\n"
          ]
        },
        {
          "output_type": "execute_result",
          "data": {
            "text/plain": [
              "<seaborn.axisgrid.FacetGrid at 0x7f37a4ad3e90>"
            ]
          },
          "metadata": {},
          "execution_count": 23
        },
        {
          "output_type": "display_data",
          "data": {
            "text/plain": [
              "<Figure size 414.75x360 with 1 Axes>"
            ],
            "image/png": "[encoded data removed]"
          },
          "metadata": {
            "needs_background": "light"
          }
        }
      ]
    },
    {
      "cell_type": "code",
      "source": [
        "#Con matplotlib\n",
        "\n",
        "fig,ax = plt.subplots()\n",
        "colores = {\"SI\":\"blue\", \"NO\":\"red\"}\n",
        "ax.scatter(data[\"Edad\"], data[\"Ahorro\"], c=data[\"Préstamo\"].map(colores))\n",
        "plt.xlabel(\"Edad\")\n",
        "plt.ylabel(\"Ahorro\")\n",
        "plt.show()"
      ],
      "metadata": {
        "colab": {
          "base_uri": "https://localhost:8080/",
          "height": 279
        },
        "id": "KRccRPSjGwJ2",
        "outputId": "1b37d1e1-fa83-4f3e-c577-ec8c26079ca2"
      },
      "execution_count": null,
      "outputs": [
        {
          "output_type": "display_data",
          "data": {
            "text/plain": [
              "<Figure size 432x288 with 1 Axes>"
            ],
            "image/png": "[encoded data removed]"
          },
          "metadata": {
            "needs_background": "light"
          }
        }
      ]
    },
    {
      "cell_type": "markdown",
      "source": [
        "# Covarianza"
      ],
      "metadata": {
        "id": "f5zsqCRSNuTb"
      }
    },
    {
      "cell_type": "code",
      "source": [
        "#Covarianza con pandas\n",
        "data"
      ],
      "metadata": {
        "colab": {
          "base_uri": "https://localhost:8080/",
          "height": 424
        },
        "id": "w7WG0YjiLE7_",
        "outputId": "0e6b2d4e-8cdc-42e4-d988-a0a3686ecfac"
      },
      "execution_count": null,
      "outputs": [
        {
          "output_type": "execute_result",
          "data": {
            "text/plain": [
              "      Id  Edad  Ahorro Préstamo\n",
              "0      1    22     691       NO\n",
              "1      2    39    1305       NO\n",
              "2      3    66    3474       SI\n",
              "3      4    45    2185       NO\n",
              "4      5    39    1773       SI\n",
              "..   ...   ...     ...      ...\n",
              "195  196    62    3051       SI\n",
              "196  197    22    1380       NO\n",
              "197  198    59    3044       SI\n",
              "198  199    21    1751       SI\n",
              "199  200    61    3786       SI\n",
              "\n",
              "[200 rows x 4 columns]"
            ],
            "text/html": [
              "\n",
              "  <div id=\"df-63dafd25-0c76-4ff4-9e0d-cf0304090057\">\n",
              "    <div class=\"colab-df-container\">\n",
              "      <div>\n",
              "<style scoped>\n",
              "    .dataframe tbody tr th:only-of-type {\n",
              "        vertical-align: middle;\n",
              "    }\n",
              "\n",
              "    .dataframe tbody tr th {\n",
              "        vertical-align: top;\n",
              "    }\n",
              "\n",
              "    .dataframe thead th {\n",
              "        text-align: right;\n",
              "    }\n",
              "</style>\n",
              "<table border=\"1\" class=\"dataframe\">\n",
              "  <thead>\n",
              "    <tr style=\"text-align: right;\">\n",
              "      <th></th>\n",
              "      <th>Id</th>\n",
              "      <th>Edad</th>\n",
              "      <th>Ahorro</th>\n",
              "      <th>Préstamo</th>\n",
              "    </tr>\n",
              "  </thead>\n",
              "  <tbody>\n",
              "    <tr>\n",
              "      <th>0</th>\n",
              "      <td>1</td>\n",
              "      <td>22</td>\n",
              "      <td>691</td>\n",
              "      <td>NO</td>\n",
              "    </tr>\n",
              "    <tr>\n",
              "      <th>1</th>\n",
              "      <td>2</td>\n",
              "      <td>39</td>\n",
              "      <td>1305</td>\n",
              "      <td>NO</td>\n",
              "    </tr>\n",
              "    <tr>\n",
              "      <th>2</th>\n",
              "      <td>3</td>\n",
              "      <td>66</td>\n",
              "      <td>3474</td>\n",
              "      <td>SI</td>\n",
              "    </tr>\n",
              "    <tr>\n",
              "      <th>3</th>\n",
              "      <td>4</td>\n",
              "      <td>45</td>\n",
              "      <td>2185</td>\n",
              "      <td>NO</td>\n",
              "    </tr>\n",
              "    <tr>\n",
              "      <th>4</th>\n",
              "      <td>5</td>\n",
              "      <td>39</td>\n",
              "      <td>1773</td>\n",
              "      <td>SI</td>\n",
              "    </tr>\n",
              "    <tr>\n",
              "      <th>...</th>\n",
              "      <td>...</td>\n",
              "      <td>...</td>\n",
              "      <td>...</td>\n",
              "      <td>...</td>\n",
              "    </tr>\n",
              "    <tr>\n",
              "      <th>195</th>\n",
              "      <td>196</td>\n",
              "      <td>62</td>\n",
              "      <td>3051</td>\n",
              "      <td>SI</td>\n",
              "    </tr>\n",
              "    <tr>\n",
              "      <th>196</th>\n",
              "      <td>197</td>\n",
              "      <td>22</td>\n",
              "      <td>1380</td>\n",
              "      <td>NO</td>\n",
              "    </tr>\n",
              "    <tr>\n",
              "      <th>197</th>\n",
              "      <td>198</td>\n",
              "      <td>59</td>\n",
              "      <td>3044</td>\n",
              "      <td>SI</td>\n",
              "    </tr>\n",
              "    <tr>\n",
              "      <th>198</th>\n",
              "      <td>199</td>\n",
              "      <td>21</td>\n",
              "      <td>1751</td>\n",
              "      <td>SI</td>\n",
              "    </tr>\n",
              "    <tr>\n",
              "      <th>199</th>\n",
              "      <td>200</td>\n",
              "      <td>61</td>\n",
              "      <td>3786</td>\n",
              "      <td>SI</td>\n",
              "    </tr>\n",
              "  </tbody>\n",
              "</table>\n",
              "<p>200 rows × 4 columns</p>\n",
              "</div>\n",
              "      <button class=\"colab-df-convert\" onclick=\"convertToInteractive('df-63dafd25-0c76-4ff4-9e0d-cf0304090057')\"\n",
              "              title=\"Convert this dataframe to an interactive table.\"\n",
              "              style=\"display:none;\">\n",
              "        \n",
              "  <svg xmlns=\"http://www.w3.org/2000/svg\" height=\"24px\"viewBox=\"0 0 24 24\"\n",
              "       width=\"24px\">\n",
              "    <path d=\"M0 0h24v24H0V0z\" fill=\"none\"/>\n",
              "    <path d=\"M18.56 5.44l.94 2.06.94-2.06 2.06-.94-2.06-.94-.94-2.06-.94 2.06-2.06.94zm-11 1L8.5 8.5l.94-2.06 2.06-.94-2.06-.94L8.5 2.5l-.94 2.06-2.06.94zm10 10l.94 2.06.94-2.06 2.06-.94-2.06-.94-.94-2.06-.94 2.06-2.06.94z\"/><path d=\"M17.41 7.96l-1.37-1.37c-.4-.4-.92-.59-1.43-.59-.52 0-1.04.2-1.43.59L10.3 9.45l-7.72 7.72c-.78.78-.78 2.05 0 2.83L4 21.41c.39.39.9.59 1.41.59.51 0 1.02-.2 1.41-.59l7.78-7.78 2.81-2.81c.8-.78.8-2.07 0-2.86zM5.41 20L4 18.59l7.72-7.72 1.47 1.35L5.41 20z\"/>\n",
              "  </svg>\n",
              "      </button>\n",
              "      \n",
              "  <style>\n",
              "    .colab-df-container {\n",
              "      display:flex;\n",
              "      flex-wrap:wrap;\n",
              "      gap: 12px;\n",
              "    }\n",
              "\n",
              "    .colab-df-convert {\n",
              "      background-color: #E8F0FE;\n",
              "      border: none;\n",
              "      border-radius: 50%;\n",
              "      cursor: pointer;\n",
              "      display: none;\n",
              "      fill: #1967D2;\n",
              "      height: 32px;\n",
              "      padding: 0 0 0 0;\n",
              "      width: 32px;\n",
              "    }\n",
              "\n",
              "    .colab-df-convert:hover {\n",
              "      background-color: #E2EBFA;\n",
              "      box-shadow: 0px 1px 2px rgba(60, 64, 67, 0.3), 0px 1px 3px 1px rgba(60, 64, 67, 0.15);\n",
              "      fill: #174EA6;\n",
              "    }\n",
              "\n",
              "    [theme=dark] .colab-df-convert {\n",
              "      background-color: #3B4455;\n",
              "      fill: #D2E3FC;\n",
              "    }\n",
              "\n",
              "    [theme=dark] .colab-df-convert:hover {\n",
              "      background-color: #434B5C;\n",
              "      box-shadow: 0px 1px 3px 1px rgba(0, 0, 0, 0.15);\n",
              "      filter: drop-shadow(0px 1px 2px rgba(0, 0, 0, 0.3));\n",
              "      fill: #FFFFFF;\n",
              "    }\n",
              "  </style>\n",
              "\n",
              "      <script>\n",
              "        const buttonEl =\n",
              "          document.querySelector('#df-63dafd25-0c76-4ff4-9e0d-cf0304090057 button.colab-df-convert');\n",
              "        buttonEl.style.display =\n",
              "          google.colab.kernel.accessAllowed ? 'block' : 'none';\n",
              "\n",
              "        async function convertToInteractive(key) {\n",
              "          const element = document.querySelector('#df-63dafd25-0c76-4ff4-9e0d-cf0304090057');\n",
              "          const dataTable =\n",
              "            await google.colab.kernel.invokeFunction('convertToInteractive',\n",
              "                                                     [key], {});\n",
              "          if (!dataTable) return;\n",
              "\n",
              "          const docLinkHtml = 'Like what you see? Visit the ' +\n",
              "            '<a target=\"_blank\" href=https://colab.research.google.com/notebooks/data_table.ipynb>data table notebook</a>'\n",
              "            + ' to learn more about interactive tables.';\n",
              "          element.innerHTML = '';\n",
              "          dataTable['output_type'] = 'display_data';\n",
              "          await google.colab.output.renderOutput(dataTable, element);\n",
              "          const docLink = document.createElement('div');\n",
              "          docLink.innerHTML = docLinkHtml;\n",
              "          element.appendChild(docLink);\n",
              "        }\n",
              "      </script>\n",
              "    </div>\n",
              "  </div>\n",
              "  "
            ]
          },
          "metadata": {},
          "execution_count": 24
        }
      ]
    },
    {
      "cell_type": "code",
      "source": [
        "data.cov() #Matriz de covarianza --> doc: https://pandas.pydata.org/docs/reference/api/pandas.DataFrame.cov.html"
      ],
      "metadata": {
        "colab": {
          "base_uri": "https://localhost:8080/",
          "height": 143
        },
        "id": "_Yss7mkuLHxz",
        "outputId": "b9da5dd2-d69d-407d-c8aa-b96b64f31b11"
      },
      "execution_count": null,
      "outputs": [
        {
          "output_type": "execute_result",
          "data": {
            "text/plain": [
              "                 Id          Edad        Ahorro\n",
              "Id      3350.000000    -17.118090 -1.312925e+03\n",
              "Edad     -17.118090    247.763191  1.459085e+04\n",
              "Ahorro -1312.924623  14590.852764  1.215173e+06"
            ],
            "text/html": [
              "\n",
              "  <div id=\"df-8d37cedb-e69f-4b7d-bf1e-74a7f0e8f5cf\">\n",
              "    <div class=\"colab-df-container\">\n",
              "      <div>\n",
              "<style scoped>\n",
              "    .dataframe tbody tr th:only-of-type {\n",
              "        vertical-align: middle;\n",
              "    }\n",
              "\n",
              "    .dataframe tbody tr th {\n",
              "        vertical-align: top;\n",
              "    }\n",
              "\n",
              "    .dataframe thead th {\n",
              "        text-align: right;\n",
              "    }\n",
              "</style>\n",
              "<table border=\"1\" class=\"dataframe\">\n",
              "  <thead>\n",
              "    <tr style=\"text-align: right;\">\n",
              "      <th></th>\n",
              "      <th>Id</th>\n",
              "      <th>Edad</th>\n",
              "      <th>Ahorro</th>\n",
              "    </tr>\n",
              "  </thead>\n",
              "  <tbody>\n",
              "    <tr>\n",
              "      <th>Id</th>\n",
              "      <td>3350.000000</td>\n",
              "      <td>-17.118090</td>\n",
              "      <td>-1.312925e+03</td>\n",
              "    </tr>\n",
              "    <tr>\n",
              "      <th>Edad</th>\n",
              "      <td>-17.118090</td>\n",
              "      <td>247.763191</td>\n",
              "      <td>1.459085e+04</td>\n",
              "    </tr>\n",
              "    <tr>\n",
              "      <th>Ahorro</th>\n",
              "      <td>-1312.924623</td>\n",
              "      <td>14590.852764</td>\n",
              "      <td>1.215173e+06</td>\n",
              "    </tr>\n",
              "  </tbody>\n",
              "</table>\n",
              "</div>\n",
              "      <button class=\"colab-df-convert\" onclick=\"convertToInteractive('df-8d37cedb-e69f-4b7d-bf1e-74a7f0e8f5cf')\"\n",
              "              title=\"Convert this dataframe to an interactive table.\"\n",
              "              style=\"display:none;\">\n",
              "        \n",
              "  <svg xmlns=\"http://www.w3.org/2000/svg\" height=\"24px\"viewBox=\"0 0 24 24\"\n",
              "       width=\"24px\">\n",
              "    <path d=\"M0 0h24v24H0V0z\" fill=\"none\"/>\n",
              "    <path d=\"M18.56 5.44l.94 2.06.94-2.06 2.06-.94-2.06-.94-.94-2.06-.94 2.06-2.06.94zm-11 1L8.5 8.5l.94-2.06 2.06-.94-2.06-.94L8.5 2.5l-.94 2.06-2.06.94zm10 10l.94 2.06.94-2.06 2.06-.94-2.06-.94-.94-2.06-.94 2.06-2.06.94z\"/><path d=\"M17.41 7.96l-1.37-1.37c-.4-.4-.92-.59-1.43-.59-.52 0-1.04.2-1.43.59L10.3 9.45l-7.72 7.72c-.78.78-.78 2.05 0 2.83L4 21.41c.39.39.9.59 1.41.59.51 0 1.02-.2 1.41-.59l7.78-7.78 2.81-2.81c.8-.78.8-2.07 0-2.86zM5.41 20L4 18.59l7.72-7.72 1.47 1.35L5.41 20z\"/>\n",
              "  </svg>\n",
              "      </button>\n",
              "      \n",
              "  <style>\n",
              "    .colab-df-container {\n",
              "      display:flex;\n",
              "      flex-wrap:wrap;\n",
              "      gap: 12px;\n",
              "    }\n",
              "\n",
              "    .colab-df-convert {\n",
              "      background-color: #E8F0FE;\n",
              "      border: none;\n",
              "      border-radius: 50%;\n",
              "      cursor: pointer;\n",
              "      display: none;\n",
              "      fill: #1967D2;\n",
              "      height: 32px;\n",
              "      padding: 0 0 0 0;\n",
              "      width: 32px;\n",
              "    }\n",
              "\n",
              "    .colab-df-convert:hover {\n",
              "      background-color: #E2EBFA;\n",
              "      box-shadow: 0px 1px 2px rgba(60, 64, 67, 0.3), 0px 1px 3px 1px rgba(60, 64, 67, 0.15);\n",
              "      fill: #174EA6;\n",
              "    }\n",
              "\n",
              "    [theme=dark] .colab-df-convert {\n",
              "      background-color: #3B4455;\n",
              "      fill: #D2E3FC;\n",
              "    }\n",
              "\n",
              "    [theme=dark] .colab-df-convert:hover {\n",
              "      background-color: #434B5C;\n",
              "      box-shadow: 0px 1px 3px 1px rgba(0, 0, 0, 0.15);\n",
              "      filter: drop-shadow(0px 1px 2px rgba(0, 0, 0, 0.3));\n",
              "      fill: #FFFFFF;\n",
              "    }\n",
              "  </style>\n",
              "\n",
              "      <script>\n",
              "        const buttonEl =\n",
              "          document.querySelector('#df-8d37cedb-e69f-4b7d-bf1e-74a7f0e8f5cf button.colab-df-convert');\n",
              "        buttonEl.style.display =\n",
              "          google.colab.kernel.accessAllowed ? 'block' : 'none';\n",
              "\n",
              "        async function convertToInteractive(key) {\n",
              "          const element = document.querySelector('#df-8d37cedb-e69f-4b7d-bf1e-74a7f0e8f5cf');\n",
              "          const dataTable =\n",
              "            await google.colab.kernel.invokeFunction('convertToInteractive',\n",
              "                                                     [key], {});\n",
              "          if (!dataTable) return;\n",
              "\n",
              "          const docLinkHtml = 'Like what you see? Visit the ' +\n",
              "            '<a target=\"_blank\" href=https://colab.research.google.com/notebooks/data_table.ipynb>data table notebook</a>'\n",
              "            + ' to learn more about interactive tables.';\n",
              "          element.innerHTML = '';\n",
              "          dataTable['output_type'] = 'display_data';\n",
              "          await google.colab.output.renderOutput(dataTable, element);\n",
              "          const docLink = document.createElement('div');\n",
              "          docLink.innerHTML = docLinkHtml;\n",
              "          element.appendChild(docLink);\n",
              "        }\n",
              "      </script>\n",
              "    </div>\n",
              "  </div>\n",
              "  "
            ]
          },
          "metadata": {},
          "execution_count": 25
        }
      ]
    },
    {
      "cell_type": "code",
      "source": [
        "print(data[[\"Edad\",\"Ahorro\"]].cov()) #Consultando sólo para algunas columnas: Edad y ahorro"
      ],
      "metadata": {
        "colab": {
          "base_uri": "https://localhost:8080/"
        },
        "id": "wkFVUvq4LzMT",
        "outputId": "ee546683-67a8-491e-8f4e-40d5b98474ab"
      },
      "execution_count": null,
      "outputs": [
        {
          "output_type": "stream",
          "name": "stdout",
          "text": [
            "                Edad        Ahorro\n",
            "Edad      247.763191  1.459085e+04\n",
            "Ahorro  14590.852764  1.215173e+06\n"
          ]
        }
      ]
    },
    {
      "cell_type": "code",
      "source": [
        "datos_covarianza = data[[\"Edad\",\"Ahorro\"]].cov() "
      ],
      "metadata": {
        "id": "a0dX2vIqNATg"
      },
      "execution_count": null,
      "outputs": []
    },
    {
      "cell_type": "code",
      "source": [
        "#Calculando la matriz de covarianza con numpy y entendiendo sus resultados: https://www.statology.org/covariance-matrix-python/"
      ],
      "metadata": {
        "id": "tCETY2V3LXI-"
      },
      "execution_count": null,
      "outputs": []
    },
    {
      "cell_type": "code",
      "source": [
        "#Mapa de calor: visualización de matriz de covarianza\n",
        "sns.heatmap(datos_covarianza)"
      ],
      "metadata": {
        "colab": {
          "base_uri": "https://localhost:8080/",
          "height": 293
        },
        "id": "EgbBFDu5M5UZ",
        "outputId": "1f622754-bdc1-4f1d-f0a5-4e2dc6c01d0c"
      },
      "execution_count": null,
      "outputs": [
        {
          "output_type": "execute_result",
          "data": {
            "text/plain": [
              "<matplotlib.axes._subplots.AxesSubplot at 0x7f69023eaf50>"
            ]
          },
          "metadata": {},
          "execution_count": 29
        },
        {
          "output_type": "display_data",
          "data": {
            "text/plain": [
              "<Figure size 432x288 with 2 Axes>"
            ],
            "image/png": "[encoded data removed]"
          },
          "metadata": {
            "needs_background": "light"
          }
        }
      ]
    },
    {
      "cell_type": "code",
      "source": [
        "#Visualizando otro set de datos y calculando matriz de covarianza con numpy\n",
        "import numpy as np\n",
        "\n",
        "math = [84, 82, 81, 89, 73, 94, 92, 70, 88, 95]\n",
        "science = [85, 82, 72, 77, 75, 89, 95, 84, 77, 94]\n",
        "history = [97, 94, 93, 95, 88, 82, 78, 84, 69, 78]\n",
        "\n",
        "data_x = np.array([math, science, history])\n",
        "\n",
        "np.cov(data_x, bias=True)"
      ],
      "metadata": {
        "colab": {
          "base_uri": "https://localhost:8080/"
        },
        "id": "JVGqM_WxNOSf",
        "outputId": "a56e426f-22df-4568-bdc0-67d2c493fd3d"
      },
      "execution_count": null,
      "outputs": [
        {
          "output_type": "execute_result",
          "data": {
            "text/plain": [
              "array([[ 64.96,  33.2 , -24.44],\n",
              "       [ 33.2 ,  56.4 , -24.1 ],\n",
              "       [-24.44, -24.1 ,  75.56]])"
            ]
          },
          "metadata": {},
          "execution_count": 30
        }
      ]
    },
    {
      "cell_type": "code",
      "source": [
        "import seaborn as sns\n",
        "import matplotlib.pyplot as plt\n",
        "\n",
        "cov = np.cov(data_x, bias=True)\n",
        "labs = ['math', 'science', 'history']\n",
        "\n",
        "sns.heatmap(cov, annot=True, fmt='g', xticklabels=labs, yticklabels=labs)\n",
        "plt.show()"
      ],
      "metadata": {
        "colab": {
          "base_uri": "https://localhost:8080/",
          "height": 265
        },
        "id": "lsWZBzjzNZBU",
        "outputId": "5757ac33-2518-4079-b445-458ed51e78aa"
      },
      "execution_count": null,
      "outputs": [
        {
          "output_type": "display_data",
          "data": {
            "text/plain": [
              "<Figure size 432x288 with 2 Axes>"
            ],
            "image/png": "[encoded data removed]"
          },
          "metadata": {
            "needs_background": "light"
          }
        }
      ]
    },
    {
      "cell_type": "markdown",
      "source": [
        "# Análisis de correlación\n",
        "\n",
        "![image.png](data:image/png;base64,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)"
      ],
      "metadata": {
        "id": "vDvB5eBXN-ah"
      }
    },
    {
      "cell_type": "markdown",
      "source": [
        "\n",
        "\n",
        "```\n",
        "Problema 2\n",
        "\n",
        "Considerando el mismo conjunto de datos del problema anterior, asume la siguiente hipótesis nula:\n",
        "\n",
        "H0 = No existe una relación lineal entre la edad y el saldo promedio de los ahorros de los clientes del banco.­\n",
        "\n",
        "¿Es posible rechazar o no esta hipótesis nula?, ¿se debe considerar como hipótesis alternativa?, ¿cuál sería esa hipótesis alternativa?\n",
        "\n",
        "```\n",
        "\n"
      ],
      "metadata": {
        "id": "-9jMnHdYO5zz"
      }
    },
    {
      "cell_type": "code",
      "source": [
        "#Solución a problema 2\n",
        "\n",
        "data"
      ],
      "metadata": {
        "colab": {
          "base_uri": "https://localhost:8080/",
          "height": 424
        },
        "id": "UnXhKel4OAij",
        "outputId": "b7c3d56f-e2e4-44ef-b6ec-10d62598df74"
      },
      "execution_count": null,
      "outputs": [
        {
          "output_type": "execute_result",
          "data": {
            "text/plain": [
              "      Id  Edad  Ahorro Préstamo\n",
              "0      1    22     691       NO\n",
              "1      2    39    1305       NO\n",
              "2      3    66    3474       SI\n",
              "3      4    45    2185       NO\n",
              "4      5    39    1773       SI\n",
              "..   ...   ...     ...      ...\n",
              "195  196    62    3051       SI\n",
              "196  197    22    1380       NO\n",
              "197  198    59    3044       SI\n",
              "198  199    21    1751       SI\n",
              "199  200    61    3786       SI\n",
              "\n",
              "[200 rows x 4 columns]"
            ],
            "text/html": [
              "\n",
              "  <div id=\"df-22a12868-ebe9-4e8d-b7df-af9be3909b89\">\n",
              "    <div class=\"colab-df-container\">\n",
              "      <div>\n",
              "<style scoped>\n",
              "    .dataframe tbody tr th:only-of-type {\n",
              "        vertical-align: middle;\n",
              "    }\n",
              "\n",
              "    .dataframe tbody tr th {\n",
              "        vertical-align: top;\n",
              "    }\n",
              "\n",
              "    .dataframe thead th {\n",
              "        text-align: right;\n",
              "    }\n",
              "</style>\n",
              "<table border=\"1\" class=\"dataframe\">\n",
              "  <thead>\n",
              "    <tr style=\"text-align: right;\">\n",
              "      <th></th>\n",
              "      <th>Id</th>\n",
              "      <th>Edad</th>\n",
              "      <th>Ahorro</th>\n",
              "      <th>Préstamo</th>\n",
              "    </tr>\n",
              "  </thead>\n",
              "  <tbody>\n",
              "    <tr>\n",
              "      <th>0</th>\n",
              "      <td>1</td>\n",
              "      <td>22</td>\n",
              "      <td>691</td>\n",
              "      <td>NO</td>\n",
              "    </tr>\n",
              "    <tr>\n",
              "      <th>1</th>\n",
              "      <td>2</td>\n",
              "      <td>39</td>\n",
              "      <td>1305</td>\n",
              "      <td>NO</td>\n",
              "    </tr>\n",
              "    <tr>\n",
              "      <th>2</th>\n",
              "      <td>3</td>\n",
              "      <td>66</td>\n",
              "      <td>3474</td>\n",
              "      <td>SI</td>\n",
              "    </tr>\n",
              "    <tr>\n",
              "      <th>3</th>\n",
              "      <td>4</td>\n",
              "      <td>45</td>\n",
              "      <td>2185</td>\n",
              "      <td>NO</td>\n",
              "    </tr>\n",
              "    <tr>\n",
              "      <th>4</th>\n",
              "      <td>5</td>\n",
              "      <td>39</td>\n",
              "      <td>1773</td>\n",
              "      <td>SI</td>\n",
              "    </tr>\n",
              "    <tr>\n",
              "      <th>...</th>\n",
              "      <td>...</td>\n",
              "      <td>...</td>\n",
              "      <td>...</td>\n",
              "      <td>...</td>\n",
              "    </tr>\n",
              "    <tr>\n",
              "      <th>195</th>\n",
              "      <td>196</td>\n",
              "      <td>62</td>\n",
              "      <td>3051</td>\n",
              "      <td>SI</td>\n",
              "    </tr>\n",
              "    <tr>\n",
              "      <th>196</th>\n",
              "      <td>197</td>\n",
              "      <td>22</td>\n",
              "      <td>1380</td>\n",
              "      <td>NO</td>\n",
              "    </tr>\n",
              "    <tr>\n",
              "      <th>197</th>\n",
              "      <td>198</td>\n",
              "      <td>59</td>\n",
              "      <td>3044</td>\n",
              "      <td>SI</td>\n",
              "    </tr>\n",
              "    <tr>\n",
              "      <th>198</th>\n",
              "      <td>199</td>\n",
              "      <td>21</td>\n",
              "      <td>1751</td>\n",
              "      <td>SI</td>\n",
              "    </tr>\n",
              "    <tr>\n",
              "      <th>199</th>\n",
              "      <td>200</td>\n",
              "      <td>61</td>\n",
              "      <td>3786</td>\n",
              "      <td>SI</td>\n",
              "    </tr>\n",
              "  </tbody>\n",
              "</table>\n",
              "<p>200 rows × 4 columns</p>\n",
              "</div>\n",
              "      <button class=\"colab-df-convert\" onclick=\"convertToInteractive('df-22a12868-ebe9-4e8d-b7df-af9be3909b89')\"\n",
              "              title=\"Convert this dataframe to an interactive table.\"\n",
              "              style=\"display:none;\">\n",
              "        \n",
              "  <svg xmlns=\"http://www.w3.org/2000/svg\" height=\"24px\"viewBox=\"0 0 24 24\"\n",
              "       width=\"24px\">\n",
              "    <path d=\"M0 0h24v24H0V0z\" fill=\"none\"/>\n",
              "    <path d=\"M18.56 5.44l.94 2.06.94-2.06 2.06-.94-2.06-.94-.94-2.06-.94 2.06-2.06.94zm-11 1L8.5 8.5l.94-2.06 2.06-.94-2.06-.94L8.5 2.5l-.94 2.06-2.06.94zm10 10l.94 2.06.94-2.06 2.06-.94-2.06-.94-.94-2.06-.94 2.06-2.06.94z\"/><path d=\"M17.41 7.96l-1.37-1.37c-.4-.4-.92-.59-1.43-.59-.52 0-1.04.2-1.43.59L10.3 9.45l-7.72 7.72c-.78.78-.78 2.05 0 2.83L4 21.41c.39.39.9.59 1.41.59.51 0 1.02-.2 1.41-.59l7.78-7.78 2.81-2.81c.8-.78.8-2.07 0-2.86zM5.41 20L4 18.59l7.72-7.72 1.47 1.35L5.41 20z\"/>\n",
              "  </svg>\n",
              "      </button>\n",
              "      \n",
              "  <style>\n",
              "    .colab-df-container {\n",
              "      display:flex;\n",
              "      flex-wrap:wrap;\n",
              "      gap: 12px;\n",
              "    }\n",
              "\n",
              "    .colab-df-convert {\n",
              "      background-color: #E8F0FE;\n",
              "      border: none;\n",
              "      border-radius: 50%;\n",
              "      cursor: pointer;\n",
              "      display: none;\n",
              "      fill: #1967D2;\n",
              "      height: 32px;\n",
              "      padding: 0 0 0 0;\n",
              "      width: 32px;\n",
              "    }\n",
              "\n",
              "    .colab-df-convert:hover {\n",
              "      background-color: #E2EBFA;\n",
              "      box-shadow: 0px 1px 2px rgba(60, 64, 67, 0.3), 0px 1px 3px 1px rgba(60, 64, 67, 0.15);\n",
              "      fill: #174EA6;\n",
              "    }\n",
              "\n",
              "    [theme=dark] .colab-df-convert {\n",
              "      background-color: #3B4455;\n",
              "      fill: #D2E3FC;\n",
              "    }\n",
              "\n",
              "    [theme=dark] .colab-df-convert:hover {\n",
              "      background-color: #434B5C;\n",
              "      box-shadow: 0px 1px 3px 1px rgba(0, 0, 0, 0.15);\n",
              "      filter: drop-shadow(0px 1px 2px rgba(0, 0, 0, 0.3));\n",
              "      fill: #FFFFFF;\n",
              "    }\n",
              "  </style>\n",
              "\n",
              "      <script>\n",
              "        const buttonEl =\n",
              "          document.querySelector('#df-22a12868-ebe9-4e8d-b7df-af9be3909b89 button.colab-df-convert');\n",
              "        buttonEl.style.display =\n",
              "          google.colab.kernel.accessAllowed ? 'block' : 'none';\n",
              "\n",
              "        async function convertToInteractive(key) {\n",
              "          const element = document.querySelector('#df-22a12868-ebe9-4e8d-b7df-af9be3909b89');\n",
              "          const dataTable =\n",
              "            await google.colab.kernel.invokeFunction('convertToInteractive',\n",
              "                                                     [key], {});\n",
              "          if (!dataTable) return;\n",
              "\n",
              "          const docLinkHtml = 'Like what you see? Visit the ' +\n",
              "            '<a target=\"_blank\" href=https://colab.research.google.com/notebooks/data_table.ipynb>data table notebook</a>'\n",
              "            + ' to learn more about interactive tables.';\n",
              "          element.innerHTML = '';\n",
              "          dataTable['output_type'] = 'display_data';\n",
              "          await google.colab.output.renderOutput(dataTable, element);\n",
              "          const docLink = document.createElement('div');\n",
              "          docLink.innerHTML = docLinkHtml;\n",
              "          element.appendChild(docLink);\n",
              "        }\n",
              "      </script>\n",
              "    </div>\n",
              "  </div>\n",
              "  "
            ]
          },
          "metadata": {},
          "execution_count": 32
        }
      ]
    },
    {
      "cell_type": "code",
      "source": [
        "data_objetivo = data[[\"Edad\",\"Ahorro\"]]\n",
        "data_objetivo"
      ],
      "metadata": {
        "colab": {
          "base_uri": "https://localhost:8080/",
          "height": 424
        },
        "id": "_eRghXmXPQOq",
        "outputId": "b0d14d36-4116-410f-a04f-4be70957a3c7"
      },
      "execution_count": null,
      "outputs": [
        {
          "output_type": "execute_result",
          "data": {
            "text/plain": [
              "     Edad  Ahorro\n",
              "0      22     691\n",
              "1      39    1305\n",
              "2      66    3474\n",
              "3      45    2185\n",
              "4      39    1773\n",
              "..    ...     ...\n",
              "195    62    3051\n",
              "196    22    1380\n",
              "197    59    3044\n",
              "198    21    1751\n",
              "199    61    3786\n",
              "\n",
              "[200 rows x 2 columns]"
            ],
            "text/html": [
              "\n",
              "  <div id=\"df-706a63c4-82b1-4d99-839b-831e4b0a978e\">\n",
              "    <div class=\"colab-df-container\">\n",
              "      <div>\n",
              "<style scoped>\n",
              "    .dataframe tbody tr th:only-of-type {\n",
              "        vertical-align: middle;\n",
              "    }\n",
              "\n",
              "    .dataframe tbody tr th {\n",
              "        vertical-align: top;\n",
              "    }\n",
              "\n",
              "    .dataframe thead th {\n",
              "        text-align: right;\n",
              "    }\n",
              "</style>\n",
              "<table border=\"1\" class=\"dataframe\">\n",
              "  <thead>\n",
              "    <tr style=\"text-align: right;\">\n",
              "      <th></th>\n",
              "      <th>Edad</th>\n",
              "      <th>Ahorro</th>\n",
              "    </tr>\n",
              "  </thead>\n",
              "  <tbody>\n",
              "    <tr>\n",
              "      <th>0</th>\n",
              "      <td>22</td>\n",
              "      <td>691</td>\n",
              "    </tr>\n",
              "    <tr>\n",
              "      <th>1</th>\n",
              "      <td>39</td>\n",
              "      <td>1305</td>\n",
              "    </tr>\n",
              "    <tr>\n",
              "      <th>2</th>\n",
              "      <td>66</td>\n",
              "      <td>3474</td>\n",
              "    </tr>\n",
              "    <tr>\n",
              "      <th>3</th>\n",
              "      <td>45</td>\n",
              "      <td>2185</td>\n",
              "    </tr>\n",
              "    <tr>\n",
              "      <th>4</th>\n",
              "      <td>39</td>\n",
              "      <td>1773</td>\n",
              "    </tr>\n",
              "    <tr>\n",
              "      <th>...</th>\n",
              "      <td>...</td>\n",
              "      <td>...</td>\n",
              "    </tr>\n",
              "    <tr>\n",
              "      <th>195</th>\n",
              "      <td>62</td>\n",
              "      <td>3051</td>\n",
              "    </tr>\n",
              "    <tr>\n",
              "      <th>196</th>\n",
              "      <td>22</td>\n",
              "      <td>1380</td>\n",
              "    </tr>\n",
              "    <tr>\n",
              "      <th>197</th>\n",
              "      <td>59</td>\n",
              "      <td>3044</td>\n",
              "    </tr>\n",
              "    <tr>\n",
              "      <th>198</th>\n",
              "      <td>21</td>\n",
              "      <td>1751</td>\n",
              "    </tr>\n",
              "    <tr>\n",
              "      <th>199</th>\n",
              "      <td>61</td>\n",
              "      <td>3786</td>\n",
              "    </tr>\n",
              "  </tbody>\n",
              "</table>\n",
              "<p>200 rows × 2 columns</p>\n",
              "</div>\n",
              "      <button class=\"colab-df-convert\" onclick=\"convertToInteractive('df-706a63c4-82b1-4d99-839b-831e4b0a978e')\"\n",
              "              title=\"Convert this dataframe to an interactive table.\"\n",
              "              style=\"display:none;\">\n",
              "        \n",
              "  <svg xmlns=\"http://www.w3.org/2000/svg\" height=\"24px\"viewBox=\"0 0 24 24\"\n",
              "       width=\"24px\">\n",
              "    <path d=\"M0 0h24v24H0V0z\" fill=\"none\"/>\n",
              "    <path d=\"M18.56 5.44l.94 2.06.94-2.06 2.06-.94-2.06-.94-.94-2.06-.94 2.06-2.06.94zm-11 1L8.5 8.5l.94-2.06 2.06-.94-2.06-.94L8.5 2.5l-.94 2.06-2.06.94zm10 10l.94 2.06.94-2.06 2.06-.94-2.06-.94-.94-2.06-.94 2.06-2.06.94z\"/><path d=\"M17.41 7.96l-1.37-1.37c-.4-.4-.92-.59-1.43-.59-.52 0-1.04.2-1.43.59L10.3 9.45l-7.72 7.72c-.78.78-.78 2.05 0 2.83L4 21.41c.39.39.9.59 1.41.59.51 0 1.02-.2 1.41-.59l7.78-7.78 2.81-2.81c.8-.78.8-2.07 0-2.86zM5.41 20L4 18.59l7.72-7.72 1.47 1.35L5.41 20z\"/>\n",
              "  </svg>\n",
              "      </button>\n",
              "      \n",
              "  <style>\n",
              "    .colab-df-container {\n",
              "      display:flex;\n",
              "      flex-wrap:wrap;\n",
              "      gap: 12px;\n",
              "    }\n",
              "\n",
              "    .colab-df-convert {\n",
              "      background-color: #E8F0FE;\n",
              "      border: none;\n",
              "      border-radius: 50%;\n",
              "      cursor: pointer;\n",
              "      display: none;\n",
              "      fill: #1967D2;\n",
              "      height: 32px;\n",
              "      padding: 0 0 0 0;\n",
              "      width: 32px;\n",
              "    }\n",
              "\n",
              "    .colab-df-convert:hover {\n",
              "      background-color: #E2EBFA;\n",
              "      box-shadow: 0px 1px 2px rgba(60, 64, 67, 0.3), 0px 1px 3px 1px rgba(60, 64, 67, 0.15);\n",
              "      fill: #174EA6;\n",
              "    }\n",
              "\n",
              "    [theme=dark] .colab-df-convert {\n",
              "      background-color: #3B4455;\n",
              "      fill: #D2E3FC;\n",
              "    }\n",
              "\n",
              "    [theme=dark] .colab-df-convert:hover {\n",
              "      background-color: #434B5C;\n",
              "      box-shadow: 0px 1px 3px 1px rgba(0, 0, 0, 0.15);\n",
              "      filter: drop-shadow(0px 1px 2px rgba(0, 0, 0, 0.3));\n",
              "      fill: #FFFFFF;\n",
              "    }\n",
              "  </style>\n",
              "\n",
              "      <script>\n",
              "        const buttonEl =\n",
              "          document.querySelector('#df-706a63c4-82b1-4d99-839b-831e4b0a978e button.colab-df-convert');\n",
              "        buttonEl.style.display =\n",
              "          google.colab.kernel.accessAllowed ? 'block' : 'none';\n",
              "\n",
              "        async function convertToInteractive(key) {\n",
              "          const element = document.querySelector('#df-706a63c4-82b1-4d99-839b-831e4b0a978e');\n",
              "          const dataTable =\n",
              "            await google.colab.kernel.invokeFunction('convertToInteractive',\n",
              "                                                     [key], {});\n",
              "          if (!dataTable) return;\n",
              "\n",
              "          const docLinkHtml = 'Like what you see? Visit the ' +\n",
              "            '<a target=\"_blank\" href=https://colab.research.google.com/notebooks/data_table.ipynb>data table notebook</a>'\n",
              "            + ' to learn more about interactive tables.';\n",
              "          element.innerHTML = '';\n",
              "          dataTable['output_type'] = 'display_data';\n",
              "          await google.colab.output.renderOutput(dataTable, element);\n",
              "          const docLink = document.createElement('div');\n",
              "          docLink.innerHTML = docLinkHtml;\n",
              "          element.appendChild(docLink);\n",
              "        }\n",
              "      </script>\n",
              "    </div>\n",
              "  </div>\n",
              "  "
            ]
          },
          "metadata": {},
          "execution_count": 33
        }
      ]
    },
    {
      "cell_type": "code",
      "source": [
        "#matriz de covarianza: doc --> https://pandas.pydata.org/docs/reference/api/pandas.DataFrame.cov.html\n",
        "mat_cov = data_objetivo.cov()\n",
        "print(mat_cov)"
      ],
      "metadata": {
        "colab": {
          "base_uri": "https://localhost:8080/"
        },
        "id": "cHZDGxytPeAw",
        "outputId": "a504c55c-da84-4479-e031-e6a8a967ba64"
      },
      "execution_count": null,
      "outputs": [
        {
          "output_type": "stream",
          "name": "stdout",
          "text": [
            "                Edad        Ahorro\n",
            "Edad      247.763191  1.459085e+04\n",
            "Ahorro  14590.852764  1.215173e+06\n"
          ]
        }
      ]
    },
    {
      "cell_type": "code",
      "source": [
        "'''\n",
        "Se observa que la covarianza en el conjunto de datos (Edad y Ahorro) es positiva, es decir,\n",
        "se identifica una relación lineal ascendente, ya que las dos variables crecen en el mismo \n",
        "sentido, lo que se evidencia en el gráfico de dispersión. \n",
        "\n",
        "Sin embargo, el número obtenido del cálculo es difícil de interpretar por su dependencia de las unidades\n",
        "en las que se representan las variables, por esta razón, en su lugar, se debe trabajar con la covarianza\n",
        "y el coeficiente de regresión lineal\n",
        "'''\n",
        "\n",
        "#Calculando matriz de correlación --> doc: https://pandas.pydata.org/docs/reference/api/pandas.DataFrame.corr.html\n",
        "print(\"por Pearson\")\n",
        "pearson_mat_corr = data_objetivo.corr(method=\"pearson\") #parámetro \"method\" para determinar el método\n",
        "print(pearson_mat_corr)\n",
        "\n",
        "print()\n",
        "print(\"por Spearman\")\n",
        "spearman_mat_corr = data_objetivo.corr(method=\"spearman\")\n",
        "print(spearman_mat_corr)"
      ],
      "metadata": {
        "colab": {
          "base_uri": "https://localhost:8080/"
        },
        "id": "Kev6a69oPtUt",
        "outputId": "8d99618c-04db-49fa-890c-616c74a4d41d"
      },
      "execution_count": null,
      "outputs": [
        {
          "output_type": "stream",
          "name": "stdout",
          "text": [
            "por Pearson\n",
            "            Edad    Ahorro\n",
            "Edad    1.000000  0.840898\n",
            "Ahorro  0.840898  1.000000\n",
            "\n",
            "por Spearman\n",
            "            Edad    Ahorro\n",
            "Edad    1.000000  0.828058\n",
            "Ahorro  0.828058  1.000000\n"
          ]
        }
      ]
    },
    {
      "cell_type": "code",
      "source": [
        "sns.heatmap(pearson_mat_corr)"
      ],
      "metadata": {
        "colab": {
          "base_uri": "https://localhost:8080/",
          "height": 286
        },
        "id": "sFwcrYjSQvy8",
        "outputId": "92b31935-c309-4fd7-c41e-0463fa9c60a2"
      },
      "execution_count": null,
      "outputs": [
        {
          "output_type": "execute_result",
          "data": {
            "text/plain": [
              "<matplotlib.axes._subplots.AxesSubplot at 0x7f690023c8d0>"
            ]
          },
          "metadata": {},
          "execution_count": 43
        },
        {
          "output_type": "display_data",
          "data": {
            "text/plain": [
              "<Figure size 432x288 with 2 Axes>"
            ],
            "image/png": "[encoded data removed]"
          },
          "metadata": {
            "needs_background": "light"
          }
        }
      ]
    },
    {
      "cell_type": "code",
      "source": [
        "sns.heatmap(spearman_mat_corr)"
      ],
      "metadata": {
        "colab": {
          "base_uri": "https://localhost:8080/",
          "height": 286
        },
        "id": "76-gWwzRQ1YK",
        "outputId": "3ee5be8f-05b0-4015-a1a4-dcf7a0418956"
      },
      "execution_count": null,
      "outputs": [
        {
          "output_type": "execute_result",
          "data": {
            "text/plain": [
              "<matplotlib.axes._subplots.AxesSubplot at 0x7f68ffe33a90>"
            ]
          },
          "metadata": {},
          "execution_count": 44
        },
        {
          "output_type": "display_data",
          "data": {
            "text/plain": [
              "<Figure size 432x288 with 2 Axes>"
            ],
            "image/png": "[encoded data removed]"
          },
          "metadata": {
            "needs_background": "light"
          }
        }
      ]
    },
    {
      "cell_type": "markdown",
      "source": [
        "\n",
        "\n",
        "> De acuerdo con el resultado, y considerando el concepto de la fuerza de asociación, se puede observar que las variables presentan una fuerte relación lineal positiva. \n",
        "\n"
      ],
      "metadata": {
        "id": "VS8P_IAuQ9B1"
      }
    },
    {
      "cell_type": "code",
      "source": [
        "#Calculando coeficiente de correlación y valor p con scipy para hacer pruebas --> aceptar o rechazar hipótesis nula\n",
        "#documentación funciones de correlación: https://docs.scipy.org/doc/scipy/reference/stats.html#correlation-functions\n",
        "\n",
        "import scipy.stats as stats\n",
        "\n",
        "#Pearson\n",
        "pearson_r,pearson_p = stats.pearsonr(data_objetivo[\"Edad\"], data_objetivo[\"Ahorro\"])\n",
        "print(f\"r:{pearson_r} - p:{pearson_p}\")\n",
        "\n",
        "#Spearman\n",
        "spearman_r,spearman_p = stats.spearmanr(data_objetivo[\"Edad\"], data_objetivo[\"Ahorro\"])\n",
        "print(f\"rho:{spearman_r} - p:{spearman_p}\")"
      ],
      "metadata": {
        "colab": {
          "base_uri": "https://localhost:8080/"
        },
        "id": "8G_86tFaQ8zg",
        "outputId": "663ba8bb-18c6-4f4d-837e-33459e22f406"
      },
      "execution_count": null,
      "outputs": [
        {
          "output_type": "stream",
          "name": "stdout",
          "text": [
            "r:0.8408979062831967 - p:1.0746702374083095e-54\n",
            "rho:0.8280578662728004 - p:1.1853904387424998e-51\n"
          ]
        }
      ]
    },
    {
      "cell_type": "markdown",
      "source": [
        "\n",
        "\n",
        "> Observemos que en este resulatdo el coeficiente de correlación es muy cercano a 1 (0.84), además, presente un valor p inferior a 0.05 (5%), lo que nos permite rechazar la hipótesis nula por su nivel de significancia.\n",
        "\n"
      ],
      "metadata": {
        "id": "gVl0Dd-zTwlx"
      }
    },
    {
      "cell_type": "markdown",
      "source": [
        "\n",
        "\n",
        "> Más información sobre cálculos de correlación con Python: https://realpython.com/numpy-scipy-pandas-correlation-python/\n",
        "\n"
      ],
      "metadata": {
        "id": "itK5qvyMTPRB"
      }
    }
  ]
}
