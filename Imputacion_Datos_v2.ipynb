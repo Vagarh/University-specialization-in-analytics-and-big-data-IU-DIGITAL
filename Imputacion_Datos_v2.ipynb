{
  "nbformat": 4,
  "nbformat_minor": 0,
  "metadata": {
    "colab": {
      "provenance": []
    },
    "kernelspec": {
      "name": "python3",
      "display_name": "Python 3"
    },
    "language_info": {
      "name": "python"
    }
  },
  "cells": [
    {
      "cell_type": "markdown",
      "metadata": {
        "id": "YiyGat0wqsiL"
      },
      "source": [
        "**Estimación de duración de pólizas**\n",
        "\n",
        "**1. Bases de datos**\n",
        "Se desea construir un modelo que permita, con una serie de datos de entrada (100.000 registros)\n",
        "estimar cuantos años durará una póliza de seguros. Para ello, se entregará una base datos\n",
        "(datos A) con la siguiente información:\n",
        "\n",
        "· ID: Identificador de registro.\n",
        "\n",
        "· OPCIÓN: Tipo de plan elegido.\n",
        "\n",
        "· FECHA_NACIMIENTO: Fecha de nacimiento del asegurado\n",
        "\n",
        "· SEXO: Sexo del asegurado.\n",
        "\n",
        "· NOMBRE_AGENCIA: Agencia donde fue vendida la póliza\n",
        "\n",
        "· SUMA_AEGURADA: límite máximo de indemnización que va a pagar la aseguradora en caso de siniestro.\n",
        "\n",
        "· CIUDAD: Ciudad de residencia del asegurado\n",
        "\n",
        "· PRIMA_ANUAL: Precio en dólares, que el asegurado paga por la cobertura que recibe del riesgo asegurado.\n",
        "\n",
        "· PRIMA_PAGADA: Valor acumulado en dólares pagado por el asegurado a septiembre del 2020.\n",
        "\n",
        "· DURACIÓN: Tiempo en años de vigencia de la póliza, desde la fecha de inicio de vigencia hasta la fecha de cancelación.\n",
        "\n",
        "Nótese que la variable dependiente es la duración y las variables independientes son las\n",
        "demás."
      ]
    },
    {
      "cell_type": "code",
      "metadata": {
        "id": "2_O4f-t011e1"
      },
      "source": [
        "#Importamos las siguientes librerias de python para manipular y graficar los datos, además de Scikit-learn \n",
        "#o biblioteca para aprendizaje automático para usar modelos de Machine Learning\n",
        "import numpy as np\n",
        "import pandas as pd\n",
        "import matplotlib.pyplot as plt\n",
        "import seaborn as sns\n",
        "import datetime as dt\n",
        "from sklearn import metrics"
      ],
      "execution_count": 1,
      "outputs": []
    },
    {
      "cell_type": "markdown",
      "metadata": {
        "id": "tFDEzb531_cu"
      },
      "source": [
        "Escriba por favor la ruta en donde se encuentran las bases de datos para estimar la duración de polizas:"
      ]
    },
    {
      "cell_type": "code",
      "metadata": {
        "id": "zUae65NxF8nd"
      },
      "source": [
        "#from google.colab import drive\n",
        "#drive.mount('/content/drive')"
      ],
      "execution_count": null,
      "outputs": []
    },
    {
      "cell_type": "code",
      "metadata": {
        "id": "sRye76Qs2P-d"
      },
      "source": [
        "#Leemos la base de datos de entrenamiento de la estimación de la duración de pólizas\n",
        "df=pd.read_excel('/content/sample_data/datos_A.xlsx')\n",
        "dft=pd.read_excel('/content/sample_data/datos_B.xlsx')"
      ],
      "execution_count": 2,
      "outputs": []
    },
    {
      "cell_type": "code",
      "metadata": {
        "id": "vgL5qW7d2Zd5"
      },
      "source": [
        "#Asignamos la variable indicadora o index de las respectivas bases de datos\n",
        "df.set_index('ID', inplace = True)\n",
        "#dft.set_index('ID', inplace = True)"
      ],
      "execution_count": 3,
      "outputs": []
    },
    {
      "cell_type": "code",
      "metadata": {
        "id": "88xJBcxK5JGr",
        "colab": {
          "base_uri": "https://localhost:8080/",
          "height": 708
        },
        "outputId": "748e64fd-13d7-40c1-c339-1b4c6212523b"
      },
      "source": [
        "#Revisamos que haya cargado bien los datos y revisamos cómo se encuentran en calidad, errores, faltantes, nulos, etc.\n",
        "df.head(20)"
      ],
      "execution_count": 4,
      "outputs": [
        {
          "output_type": "execute_result",
          "data": {
            "text/plain": [
              "        OPCION FECHA_NACIMIENTO SEXO  \\\n",
              "ID                                     \n",
              "47613       13       1971-02-08    F   \n",
              "76124       11       1980-12-24    M   \n",
              "16258       13       1967-08-28    F   \n",
              "90407       16       1958-01-01    F   \n",
              "25537       17       1949-12-28    F   \n",
              "6257        14       1966-02-08    F   \n",
              "17409       11       1987-08-01    M   \n",
              "17538       16       1956-04-16    F   \n",
              "118755      11       1986-11-14    F   \n",
              "56989       12       1979-08-23    F   \n",
              "83716       11       1984-07-13    M   \n",
              "95840       13       1975-09-26    F   \n",
              "12367       11       1980-01-03    F   \n",
              "16767       12       1973-12-18    F   \n",
              "1105        12       1975-09-22    F   \n",
              "61420       22       1976-06-15    F   \n",
              "16448       11       1982-11-09    M   \n",
              "73193       41       1992-10-30    F   \n",
              "79026       11       1989-06-15    F   \n",
              "117804      21       1988-02-07    M   \n",
              "\n",
              "                                           NOMBRE_AGENCIA  SUMA_ASEGURADA  \\\n",
              "ID                                                                          \n",
              "47613   SAN FRANCISCO GOTERA                          ...           10000   \n",
              "76124   PLAZA CENTRO                                  ...           10000   \n",
              "16258   QUEZALTEPEQUE                                 ...           10000   \n",
              "90407   LOS PROCERES                                  ...           10000   \n",
              "25537   CIUDAD ARCE                                   ...           10000   \n",
              "6257    SANTA ANA                                     ...           10000   \n",
              "17409   C.A.F. PLAZA MUNDO                            ...           10000   \n",
              "17538   SAN MARTIN                                    ...           10000   \n",
              "118755  LA MERCED                                     ...           10000   \n",
              "56989   PLAZA MUNDO                                   ...           10000   \n",
              "83716   CHALATENANGO                                  ...           10000   \n",
              "95840   PLAZA CENTRO                                  ...           10000   \n",
              "12367   AGUILARES                                     ...           10000   \n",
              "16767   C C METROCENTRO SANTA ANA                     ...           10000   \n",
              "1105    MULTIPLAZA                                    ...           10000   \n",
              "61420   USULUTAN                                      ...           20000   \n",
              "16448   PLAZA CENTRO                                  ...           10000   \n",
              "73193   METROCENTRO SANTA ANA                         ...           40000   \n",
              "79026   SENSUNTEPEQUE                                 ...           10000   \n",
              "117804  UNICENTRO LOURDES                             ...           20000   \n",
              "\n",
              "               CIUDAD  PRIMA_ANUAL  PRIMA_PAGADA  DURACION  \n",
              "ID                                                          \n",
              "47613   EL DIVISADERO          204            68    0.6958  \n",
              "76124        ILOPANGO           96           104    1.4794  \n",
              "16258      SAN MATIAS          204          2448   11.0246  \n",
              "90407       MEJICANOS          660           660    1.3479  \n",
              "25537     CIUDAD ARCE          792           792    1.1917  \n",
              "6257        SANTA ANA          300           300    1.2054  \n",
              "17409       SOYAPANGO           96            96    1.2246  \n",
              "17538      SAN MARTIN          660           880    1.5041  \n",
              "118755     SAN MIGUEL           96             8    0.3534  \n",
              "56989    SAN SALVADOR          144            12    0.0082  \n",
              "83716    CHALATENANGO           96           840    8.7452  \n",
              "95840    SAN SALVADOR          204           153    1.1369  \n",
              "12367         TEJUTLA           96            16    0.4575  \n",
              "16767      ATIQUIZAYA          144          1296    8.3424  \n",
              "1105     SAN SALVADOR          144           240    1.8767  \n",
              "61420        JUCUARAN          288           576    1.2082  \n",
              "16448    SAN SALVADOR           96            32    0.5369  \n",
              "73193       SANTA ANA          384           384    1.4630  \n",
              "79026      GUACOTECTI           96            96    0.3178  \n",
              "117804    SANTA TECLA          192           192    1.1863  "
            ],
            "text/html": [
              "\n",
              "  <div id=\"df-f02356dd-26b4-4ca7-b6c7-64cbb0f62da3\">\n",
              "    <div class=\"colab-df-container\">\n",
              "      <div>\n",
              "<style scoped>\n",
              "    .dataframe tbody tr th:only-of-type {\n",
              "        vertical-align: middle;\n",
              "    }\n",
              "\n",
              "    .dataframe tbody tr th {\n",
              "        vertical-align: top;\n",
              "    }\n",
              "\n",
              "    .dataframe thead th {\n",
              "        text-align: right;\n",
              "    }\n",
              "</style>\n",
              "<table border=\"1\" class=\"dataframe\">\n",
              "  <thead>\n",
              "    <tr style=\"text-align: right;\">\n",
              "      <th></th>\n",
              "      <th>OPCION</th>\n",
              "      <th>FECHA_NACIMIENTO</th>\n",
              "      <th>SEXO</th>\n",
              "      <th>NOMBRE_AGENCIA</th>\n",
              "      <th>SUMA_ASEGURADA</th>\n",
              "      <th>CIUDAD</th>\n",
              "      <th>PRIMA_ANUAL</th>\n",
              "      <th>PRIMA_PAGADA</th>\n",
              "      <th>DURACION</th>\n",
              "    </tr>\n",
              "    <tr>\n",
              "      <th>ID</th>\n",
              "      <th></th>\n",
              "      <th></th>\n",
              "      <th></th>\n",
              "      <th></th>\n",
              "      <th></th>\n",
              "      <th></th>\n",
              "      <th></th>\n",
              "      <th></th>\n",
              "      <th></th>\n",
              "    </tr>\n",
              "  </thead>\n",
              "  <tbody>\n",
              "    <tr>\n",
              "      <th>47613</th>\n",
              "      <td>13</td>\n",
              "      <td>1971-02-08</td>\n",
              "      <td>F</td>\n",
              "      <td>SAN FRANCISCO GOTERA                          ...</td>\n",
              "      <td>10000</td>\n",
              "      <td>EL DIVISADERO</td>\n",
              "      <td>204</td>\n",
              "      <td>68</td>\n",
              "      <td>0.6958</td>\n",
              "    </tr>\n",
              "    <tr>\n",
              "      <th>76124</th>\n",
              "      <td>11</td>\n",
              "      <td>1980-12-24</td>\n",
              "      <td>M</td>\n",
              "      <td>PLAZA CENTRO                                  ...</td>\n",
              "      <td>10000</td>\n",
              "      <td>ILOPANGO</td>\n",
              "      <td>96</td>\n",
              "      <td>104</td>\n",
              "      <td>1.4794</td>\n",
              "    </tr>\n",
              "    <tr>\n",
              "      <th>16258</th>\n",
              "      <td>13</td>\n",
              "      <td>1967-08-28</td>\n",
              "      <td>F</td>\n",
              "      <td>QUEZALTEPEQUE                                 ...</td>\n",
              "      <td>10000</td>\n",
              "      <td>SAN MATIAS</td>\n",
              "      <td>204</td>\n",
              "      <td>2448</td>\n",
              "      <td>11.0246</td>\n",
              "    </tr>\n",
              "    <tr>\n",
              "      <th>90407</th>\n",
              "      <td>16</td>\n",
              "      <td>1958-01-01</td>\n",
              "      <td>F</td>\n",
              "      <td>LOS PROCERES                                  ...</td>\n",
              "      <td>10000</td>\n",
              "      <td>MEJICANOS</td>\n",
              "      <td>660</td>\n",
              "      <td>660</td>\n",
              "      <td>1.3479</td>\n",
              "    </tr>\n",
              "    <tr>\n",
              "      <th>25537</th>\n",
              "      <td>17</td>\n",
              "      <td>1949-12-28</td>\n",
              "      <td>F</td>\n",
              "      <td>CIUDAD ARCE                                   ...</td>\n",
              "      <td>10000</td>\n",
              "      <td>CIUDAD ARCE</td>\n",
              "      <td>792</td>\n",
              "      <td>792</td>\n",
              "      <td>1.1917</td>\n",
              "    </tr>\n",
              "    <tr>\n",
              "      <th>6257</th>\n",
              "      <td>14</td>\n",
              "      <td>1966-02-08</td>\n",
              "      <td>F</td>\n",
              "      <td>SANTA ANA                                     ...</td>\n",
              "      <td>10000</td>\n",
              "      <td>SANTA ANA</td>\n",
              "      <td>300</td>\n",
              "      <td>300</td>\n",
              "      <td>1.2054</td>\n",
              "    </tr>\n",
              "    <tr>\n",
              "      <th>17409</th>\n",
              "      <td>11</td>\n",
              "      <td>1987-08-01</td>\n",
              "      <td>M</td>\n",
              "      <td>C.A.F. PLAZA MUNDO                            ...</td>\n",
              "      <td>10000</td>\n",
              "      <td>SOYAPANGO</td>\n",
              "      <td>96</td>\n",
              "      <td>96</td>\n",
              "      <td>1.2246</td>\n",
              "    </tr>\n",
              "    <tr>\n",
              "      <th>17538</th>\n",
              "      <td>16</td>\n",
              "      <td>1956-04-16</td>\n",
              "      <td>F</td>\n",
              "      <td>SAN MARTIN                                    ...</td>\n",
              "      <td>10000</td>\n",
              "      <td>SAN MARTIN</td>\n",
              "      <td>660</td>\n",
              "      <td>880</td>\n",
              "      <td>1.5041</td>\n",
              "    </tr>\n",
              "    <tr>\n",
              "      <th>118755</th>\n",
              "      <td>11</td>\n",
              "      <td>1986-11-14</td>\n",
              "      <td>F</td>\n",
              "      <td>LA MERCED                                     ...</td>\n",
              "      <td>10000</td>\n",
              "      <td>SAN MIGUEL</td>\n",
              "      <td>96</td>\n",
              "      <td>8</td>\n",
              "      <td>0.3534</td>\n",
              "    </tr>\n",
              "    <tr>\n",
              "      <th>56989</th>\n",
              "      <td>12</td>\n",
              "      <td>1979-08-23</td>\n",
              "      <td>F</td>\n",
              "      <td>PLAZA MUNDO                                   ...</td>\n",
              "      <td>10000</td>\n",
              "      <td>SAN SALVADOR</td>\n",
              "      <td>144</td>\n",
              "      <td>12</td>\n",
              "      <td>0.0082</td>\n",
              "    </tr>\n",
              "    <tr>\n",
              "      <th>83716</th>\n",
              "      <td>11</td>\n",
              "      <td>1984-07-13</td>\n",
              "      <td>M</td>\n",
              "      <td>CHALATENANGO                                  ...</td>\n",
              "      <td>10000</td>\n",
              "      <td>CHALATENANGO</td>\n",
              "      <td>96</td>\n",
              "      <td>840</td>\n",
              "      <td>8.7452</td>\n",
              "    </tr>\n",
              "    <tr>\n",
              "      <th>95840</th>\n",
              "      <td>13</td>\n",
              "      <td>1975-09-26</td>\n",
              "      <td>F</td>\n",
              "      <td>PLAZA CENTRO                                  ...</td>\n",
              "      <td>10000</td>\n",
              "      <td>SAN SALVADOR</td>\n",
              "      <td>204</td>\n",
              "      <td>153</td>\n",
              "      <td>1.1369</td>\n",
              "    </tr>\n",
              "    <tr>\n",
              "      <th>12367</th>\n",
              "      <td>11</td>\n",
              "      <td>1980-01-03</td>\n",
              "      <td>F</td>\n",
              "      <td>AGUILARES                                     ...</td>\n",
              "      <td>10000</td>\n",
              "      <td>TEJUTLA</td>\n",
              "      <td>96</td>\n",
              "      <td>16</td>\n",
              "      <td>0.4575</td>\n",
              "    </tr>\n",
              "    <tr>\n",
              "      <th>16767</th>\n",
              "      <td>12</td>\n",
              "      <td>1973-12-18</td>\n",
              "      <td>F</td>\n",
              "      <td>C C METROCENTRO SANTA ANA                     ...</td>\n",
              "      <td>10000</td>\n",
              "      <td>ATIQUIZAYA</td>\n",
              "      <td>144</td>\n",
              "      <td>1296</td>\n",
              "      <td>8.3424</td>\n",
              "    </tr>\n",
              "    <tr>\n",
              "      <th>1105</th>\n",
              "      <td>12</td>\n",
              "      <td>1975-09-22</td>\n",
              "      <td>F</td>\n",
              "      <td>MULTIPLAZA                                    ...</td>\n",
              "      <td>10000</td>\n",
              "      <td>SAN SALVADOR</td>\n",
              "      <td>144</td>\n",
              "      <td>240</td>\n",
              "      <td>1.8767</td>\n",
              "    </tr>\n",
              "    <tr>\n",
              "      <th>61420</th>\n",
              "      <td>22</td>\n",
              "      <td>1976-06-15</td>\n",
              "      <td>F</td>\n",
              "      <td>USULUTAN                                      ...</td>\n",
              "      <td>20000</td>\n",
              "      <td>JUCUARAN</td>\n",
              "      <td>288</td>\n",
              "      <td>576</td>\n",
              "      <td>1.2082</td>\n",
              "    </tr>\n",
              "    <tr>\n",
              "      <th>16448</th>\n",
              "      <td>11</td>\n",
              "      <td>1982-11-09</td>\n",
              "      <td>M</td>\n",
              "      <td>PLAZA CENTRO                                  ...</td>\n",
              "      <td>10000</td>\n",
              "      <td>SAN SALVADOR</td>\n",
              "      <td>96</td>\n",
              "      <td>32</td>\n",
              "      <td>0.5369</td>\n",
              "    </tr>\n",
              "    <tr>\n",
              "      <th>73193</th>\n",
              "      <td>41</td>\n",
              "      <td>1992-10-30</td>\n",
              "      <td>F</td>\n",
              "      <td>METROCENTRO SANTA ANA                         ...</td>\n",
              "      <td>40000</td>\n",
              "      <td>SANTA ANA</td>\n",
              "      <td>384</td>\n",
              "      <td>384</td>\n",
              "      <td>1.4630</td>\n",
              "    </tr>\n",
              "    <tr>\n",
              "      <th>79026</th>\n",
              "      <td>11</td>\n",
              "      <td>1989-06-15</td>\n",
              "      <td>F</td>\n",
              "      <td>SENSUNTEPEQUE                                 ...</td>\n",
              "      <td>10000</td>\n",
              "      <td>GUACOTECTI</td>\n",
              "      <td>96</td>\n",
              "      <td>96</td>\n",
              "      <td>0.3178</td>\n",
              "    </tr>\n",
              "    <tr>\n",
              "      <th>117804</th>\n",
              "      <td>21</td>\n",
              "      <td>1988-02-07</td>\n",
              "      <td>M</td>\n",
              "      <td>UNICENTRO LOURDES                             ...</td>\n",
              "      <td>20000</td>\n",
              "      <td>SANTA TECLA</td>\n",
              "      <td>192</td>\n",
              "      <td>192</td>\n",
              "      <td>1.1863</td>\n",
              "    </tr>\n",
              "  </tbody>\n",
              "</table>\n",
              "</div>\n",
              "      <button class=\"colab-df-convert\" onclick=\"convertToInteractive('df-f02356dd-26b4-4ca7-b6c7-64cbb0f62da3')\"\n",
              "              title=\"Convert this dataframe to an interactive table.\"\n",
              "              style=\"display:none;\">\n",
              "        \n",
              "  <svg xmlns=\"http://www.w3.org/2000/svg\" height=\"24px\"viewBox=\"0 0 24 24\"\n",
              "       width=\"24px\">\n",
              "    <path d=\"M0 0h24v24H0V0z\" fill=\"none\"/>\n",
              "    <path d=\"M18.56 5.44l.94 2.06.94-2.06 2.06-.94-2.06-.94-.94-2.06-.94 2.06-2.06.94zm-11 1L8.5 8.5l.94-2.06 2.06-.94-2.06-.94L8.5 2.5l-.94 2.06-2.06.94zm10 10l.94 2.06.94-2.06 2.06-.94-2.06-.94-.94-2.06-.94 2.06-2.06.94z\"/><path d=\"M17.41 7.96l-1.37-1.37c-.4-.4-.92-.59-1.43-.59-.52 0-1.04.2-1.43.59L10.3 9.45l-7.72 7.72c-.78.78-.78 2.05 0 2.83L4 21.41c.39.39.9.59 1.41.59.51 0 1.02-.2 1.41-.59l7.78-7.78 2.81-2.81c.8-.78.8-2.07 0-2.86zM5.41 20L4 18.59l7.72-7.72 1.47 1.35L5.41 20z\"/>\n",
              "  </svg>\n",
              "      </button>\n",
              "      \n",
              "  <style>\n",
              "    .colab-df-container {\n",
              "      display:flex;\n",
              "      flex-wrap:wrap;\n",
              "      gap: 12px;\n",
              "    }\n",
              "\n",
              "    .colab-df-convert {\n",
              "      background-color: #E8F0FE;\n",
              "      border: none;\n",
              "      border-radius: 50%;\n",
              "      cursor: pointer;\n",
              "      display: none;\n",
              "      fill: #1967D2;\n",
              "      height: 32px;\n",
              "      padding: 0 0 0 0;\n",
              "      width: 32px;\n",
              "    }\n",
              "\n",
              "    .colab-df-convert:hover {\n",
              "      background-color: #E2EBFA;\n",
              "      box-shadow: 0px 1px 2px rgba(60, 64, 67, 0.3), 0px 1px 3px 1px rgba(60, 64, 67, 0.15);\n",
              "      fill: #174EA6;\n",
              "    }\n",
              "\n",
              "    [theme=dark] .colab-df-convert {\n",
              "      background-color: #3B4455;\n",
              "      fill: #D2E3FC;\n",
              "    }\n",
              "\n",
              "    [theme=dark] .colab-df-convert:hover {\n",
              "      background-color: #434B5C;\n",
              "      box-shadow: 0px 1px 3px 1px rgba(0, 0, 0, 0.15);\n",
              "      filter: drop-shadow(0px 1px 2px rgba(0, 0, 0, 0.3));\n",
              "      fill: #FFFFFF;\n",
              "    }\n",
              "  </style>\n",
              "\n",
              "      <script>\n",
              "        const buttonEl =\n",
              "          document.querySelector('#df-f02356dd-26b4-4ca7-b6c7-64cbb0f62da3 button.colab-df-convert');\n",
              "        buttonEl.style.display =\n",
              "          google.colab.kernel.accessAllowed ? 'block' : 'none';\n",
              "\n",
              "        async function convertToInteractive(key) {\n",
              "          const element = document.querySelector('#df-f02356dd-26b4-4ca7-b6c7-64cbb0f62da3');\n",
              "          const dataTable =\n",
              "            await google.colab.kernel.invokeFunction('convertToInteractive',\n",
              "                                                     [key], {});\n",
              "          if (!dataTable) return;\n",
              "\n",
              "          const docLinkHtml = 'Like what you see? Visit the ' +\n",
              "            '<a target=\"_blank\" href=https://colab.research.google.com/notebooks/data_table.ipynb>data table notebook</a>'\n",
              "            + ' to learn more about interactive tables.';\n",
              "          element.innerHTML = '';\n",
              "          dataTable['output_type'] = 'display_data';\n",
              "          await google.colab.output.renderOutput(dataTable, element);\n",
              "          const docLink = document.createElement('div');\n",
              "          docLink.innerHTML = docLinkHtml;\n",
              "          element.appendChild(docLink);\n",
              "        }\n",
              "      </script>\n",
              "    </div>\n",
              "  </div>\n",
              "  "
            ]
          },
          "metadata": {},
          "execution_count": 4
        }
      ]
    },
    {
      "cell_type": "code",
      "metadata": {
        "id": "r1rYLGWb5JPN",
        "colab": {
          "base_uri": "https://localhost:8080/"
        },
        "outputId": "db671484-d254-4299-e606-a901e04260dc"
      },
      "source": [
        "#El siguiente comando nos permite identificar qué tipo de variable se tomó al leer el archivo.\n",
        "df.dtypes"
      ],
      "execution_count": null,
      "outputs": [
        {
          "output_type": "execute_result",
          "data": {
            "text/plain": [
              "OPCION                       int64\n",
              "FECHA_NACIMIENTO    datetime64[ns]\n",
              "SEXO                        object\n",
              "NOMBRE_AGENCIA              object\n",
              "SUMA_ASEGURADA               int64\n",
              "CIUDAD                      object\n",
              "PRIMA_ANUAL                  int64\n",
              "PRIMA_PAGADA                 int64\n",
              "DURACION                   float64\n",
              "dtype: object"
            ]
          },
          "metadata": {},
          "execution_count": 13
        }
      ]
    },
    {
      "cell_type": "markdown",
      "metadata": {
        "id": "L52RAfNE5btT"
      },
      "source": [
        "Se convierte la variable FECHA_NACIMIENTO en el cálculo de la edad del asegurado para usarla en el análisis y en los modelos"
      ]
    },
    {
      "cell_type": "code",
      "metadata": {
        "id": "_VkOzk8z5JU5"
      },
      "source": [
        "df['EDAD']=round((dt.datetime.now()-df['FECHA_NACIMIENTO'])/np.timedelta64(1,'Y'))"
      ],
      "execution_count": 5,
      "outputs": []
    },
    {
      "cell_type": "code",
      "metadata": {
        "id": "nQSzxhGL5JXi",
        "colab": {
          "base_uri": "https://localhost:8080/"
        },
        "outputId": "a8478506-7139-410b-bfe2-467b9c34b5c7"
      },
      "source": [
        "#Revisemos si la data esta completa o tiene valores nulos, en caso tal revisamos el porcentaje de datos nulos\n",
        "print(df.isnull().sum())\n",
        "print(df.isnull().sum()/len(df)*100)"
      ],
      "execution_count": 6,
      "outputs": [
        {
          "output_type": "stream",
          "name": "stdout",
          "text": [
            "OPCION               0\n",
            "FECHA_NACIMIENTO     0\n",
            "SEXO                 0\n",
            "NOMBRE_AGENCIA       0\n",
            "SUMA_ASEGURADA       0\n",
            "CIUDAD              17\n",
            "PRIMA_ANUAL          0\n",
            "PRIMA_PAGADA         0\n",
            "DURACION             0\n",
            "EDAD                 0\n",
            "dtype: int64\n",
            "OPCION              0.000\n",
            "FECHA_NACIMIENTO    0.000\n",
            "SEXO                0.000\n",
            "NOMBRE_AGENCIA      0.000\n",
            "SUMA_ASEGURADA      0.000\n",
            "CIUDAD              0.017\n",
            "PRIMA_ANUAL         0.000\n",
            "PRIMA_PAGADA        0.000\n",
            "DURACION            0.000\n",
            "EDAD                0.000\n",
            "dtype: float64\n"
          ]
        }
      ]
    },
    {
      "cell_type": "code",
      "metadata": {
        "id": "1Xcf1TAy5kty",
        "colab": {
          "base_uri": "https://localhost:8080/",
          "height": 297
        },
        "outputId": "e1b507df-bf01-4b20-f6f1-49f928806eb1"
      },
      "source": [
        "#Analizamos algunas estatísticas generales de las variables que componen la Base de Datos - BD\n",
        "df.describe()"
      ],
      "execution_count": null,
      "outputs": [
        {
          "output_type": "execute_result",
          "data": {
            "text/html": [
              "<div>\n",
              "<style scoped>\n",
              "    .dataframe tbody tr th:only-of-type {\n",
              "        vertical-align: middle;\n",
              "    }\n",
              "\n",
              "    .dataframe tbody tr th {\n",
              "        vertical-align: top;\n",
              "    }\n",
              "\n",
              "    .dataframe thead th {\n",
              "        text-align: right;\n",
              "    }\n",
              "</style>\n",
              "<table border=\"1\" class=\"dataframe\">\n",
              "  <thead>\n",
              "    <tr style=\"text-align: right;\">\n",
              "      <th></th>\n",
              "      <th>OPCION</th>\n",
              "      <th>SUMA_ASEGURADA</th>\n",
              "      <th>PRIMA_ANUAL</th>\n",
              "      <th>PRIMA_PAGADA</th>\n",
              "      <th>DURACION</th>\n",
              "      <th>EDAD</th>\n",
              "    </tr>\n",
              "  </thead>\n",
              "  <tbody>\n",
              "    <tr>\n",
              "      <th>count</th>\n",
              "      <td>100000.000000</td>\n",
              "      <td>100000.00000</td>\n",
              "      <td>100000.000000</td>\n",
              "      <td>100000.000000</td>\n",
              "      <td>100000.000000</td>\n",
              "      <td>100000.000000</td>\n",
              "    </tr>\n",
              "    <tr>\n",
              "      <th>mean</th>\n",
              "      <td>14.360860</td>\n",
              "      <td>12350.70000</td>\n",
              "      <td>220.906320</td>\n",
              "      <td>775.754170</td>\n",
              "      <td>2.950744</td>\n",
              "      <td>42.333730</td>\n",
              "    </tr>\n",
              "    <tr>\n",
              "      <th>std</th>\n",
              "      <td>6.957845</td>\n",
              "      <td>6660.30428</td>\n",
              "      <td>266.961706</td>\n",
              "      <td>1872.378762</td>\n",
              "      <td>3.335180</td>\n",
              "      <td>9.712969</td>\n",
              "    </tr>\n",
              "    <tr>\n",
              "      <th>min</th>\n",
              "      <td>11.000000</td>\n",
              "      <td>10000.00000</td>\n",
              "      <td>96.000000</td>\n",
              "      <td>8.000000</td>\n",
              "      <td>-0.010900</td>\n",
              "      <td>26.000000</td>\n",
              "    </tr>\n",
              "    <tr>\n",
              "      <th>25%</th>\n",
              "      <td>11.000000</td>\n",
              "      <td>10000.00000</td>\n",
              "      <td>96.000000</td>\n",
              "      <td>37.000000</td>\n",
              "      <td>0.526000</td>\n",
              "      <td>35.000000</td>\n",
              "    </tr>\n",
              "    <tr>\n",
              "      <th>50%</th>\n",
              "      <td>11.000000</td>\n",
              "      <td>10000.00000</td>\n",
              "      <td>96.000000</td>\n",
              "      <td>176.000000</td>\n",
              "      <td>1.320500</td>\n",
              "      <td>41.000000</td>\n",
              "    </tr>\n",
              "    <tr>\n",
              "      <th>75%</th>\n",
              "      <td>14.000000</td>\n",
              "      <td>10000.00000</td>\n",
              "      <td>204.000000</td>\n",
              "      <td>752.000000</td>\n",
              "      <td>4.476700</td>\n",
              "      <td>48.000000</td>\n",
              "    </tr>\n",
              "    <tr>\n",
              "      <th>max</th>\n",
              "      <td>47.000000</td>\n",
              "      <td>40000.00000</td>\n",
              "      <td>3168.000000</td>\n",
              "      <td>38016.000000</td>\n",
              "      <td>13.983500</td>\n",
              "      <td>76.000000</td>\n",
              "    </tr>\n",
              "  </tbody>\n",
              "</table>\n",
              "</div>"
            ],
            "text/plain": [
              "              OPCION  SUMA_ASEGURADA  ...       DURACION           EDAD\n",
              "count  100000.000000    100000.00000  ...  100000.000000  100000.000000\n",
              "mean       14.360860     12350.70000  ...       2.950744      42.333730\n",
              "std         6.957845      6660.30428  ...       3.335180       9.712969\n",
              "min        11.000000     10000.00000  ...      -0.010900      26.000000\n",
              "25%        11.000000     10000.00000  ...       0.526000      35.000000\n",
              "50%        11.000000     10000.00000  ...       1.320500      41.000000\n",
              "75%        14.000000     10000.00000  ...       4.476700      48.000000\n",
              "max        47.000000     40000.00000  ...      13.983500      76.000000\n",
              "\n",
              "[8 rows x 6 columns]"
            ]
          },
          "metadata": {},
          "execution_count": 16
        }
      ]
    },
    {
      "cell_type": "code",
      "metadata": {
        "id": "HGEfxt8X5k3i",
        "colab": {
          "base_uri": "https://localhost:8080/"
        },
        "outputId": "2bae18c3-0b59-422e-b909-afd9166683ab"
      },
      "source": [
        "#El data set completo esta conformado por 9 variables independientes (Considerando la edad calculada) y la Variable\n",
        "#Objetivo \"Duracion\" y 100 mil filas\n",
        "print(df.shape)"
      ],
      "execution_count": null,
      "outputs": [
        {
          "output_type": "stream",
          "text": [
            "(100000, 10)\n"
          ],
          "name": "stdout"
        }
      ]
    },
    {
      "cell_type": "code",
      "metadata": {
        "id": "fSa6s6hF5lBB",
        "colab": {
          "base_uri": "https://localhost:8080/"
        },
        "outputId": "4a1924cc-7baf-44d2-97d2-f15e2633b63c"
      },
      "source": [
        "#Revisamos como está conformada la variable objetivo, la cual se mide en años de duración en la póliza de seguros\n",
        "print(df['DURACION'])"
      ],
      "execution_count": null,
      "outputs": [
        {
          "output_type": "stream",
          "text": [
            "ID\n",
            "47613      0.6958\n",
            "76124      1.4794\n",
            "16258     11.0246\n",
            "90407      1.3479\n",
            "25537      1.1917\n",
            "           ...   \n",
            "108125     0.3808\n",
            "94680      8.2684\n",
            "58578      0.5150\n",
            "95281      8.1972\n",
            "31139      7.1287\n",
            "Name: DURACION, Length: 100000, dtype: float64\n"
          ],
          "name": "stdout"
        }
      ]
    },
    {
      "cell_type": "code",
      "metadata": {
        "id": "NYwyimh75lIz",
        "colab": {
          "base_uri": "https://localhost:8080/",
          "height": 282
        },
        "outputId": "13b4f2b3-2bb7-4d7a-89f6-22f3426279b1"
      },
      "source": [
        "#Realizamos el siguiente BoxPLot para revisar cómo se distribuye la variable dependiente \"Duracion\"\n",
        "df.boxplot(column = ['DURACION'])"
      ],
      "execution_count": null,
      "outputs": [
        {
          "output_type": "execute_result",
          "data": {
            "text/plain": [
              "<matplotlib.axes._subplots.AxesSubplot at 0x7f37880665d0>"
            ]
          },
          "metadata": {},
          "execution_count": 19
        },
        {
          "output_type": "display_data",
          "data": {
            "image/png": "[encoded data removed]",
            "text/plain": [
              "<Figure size 432x288 with 1 Axes>"
            ]
          },
          "metadata": {
            "needs_background": "light"
          }
        }
      ]
    },
    {
      "cell_type": "code",
      "metadata": {
        "id": "bCStLMV85wud",
        "colab": {
          "base_uri": "https://localhost:8080/",
          "height": 295
        },
        "outputId": "d7f8e4da-edb1-4d6d-cf08-dc7246ee9e49"
      },
      "source": [
        "#Histograma de la variable respuesta Duracion\n",
        "bins=[0,1,2,3,4,5,6,7,8,9,10,11,12,13,14]\n",
        "plt.hist(df['DURACION'],bins,histtype='bar',rwidth=0.8)\n",
        "plt.title('Hist DURACION')\n",
        "plt.ylabel('Eje Y')\n",
        "plt.xlabel('Eje X')\n",
        "plt.show()"
      ],
      "execution_count": null,
      "outputs": [
        {
          "output_type": "display_data",
          "data": {
            "image/png": "[encoded data removed]",
            "text/plain": [
              "<Figure size 432x288 with 1 Axes>"
            ]
          },
          "metadata": {
            "needs_background": "light"
          }
        }
      ]
    },
    {
      "cell_type": "code",
      "metadata": {
        "id": "qY--CTW051pY",
        "colab": {
          "base_uri": "https://localhost:8080/",
          "height": 623
        },
        "outputId": "8e44363a-91d1-4dbb-d043-9618c3f7110e"
      },
      "source": [
        "#Grafiquemos un boxplot por cada tipo de plan para analizar cómo se comportan según la duración en la póliza.\n",
        "#La mediana más alta se observa en el plan 47. Aunque el plan 11 es el que más asegurados tiene, es el que tiene un cuerpo\n",
        "#o caja más pequeña y tiene una cola pesada a la derecha debido a un gran número de datos atípicos.\n",
        "plt.figure(figsize=(10, 10))\n",
        "sns.boxplot(x='OPCION',y='DURACION', data=df)"
      ],
      "execution_count": null,
      "outputs": [
        {
          "output_type": "execute_result",
          "data": {
            "text/plain": [
              "<matplotlib.axes._subplots.AxesSubplot at 0x7f378ad77b90>"
            ]
          },
          "metadata": {},
          "execution_count": 21
        },
        {
          "output_type": "display_data",
          "data": {
            "image/png": "[encoded data removed]",
            "text/plain": [
              "<Figure size 720x720 with 1 Axes>"
            ]
          },
          "metadata": {
            "needs_background": "light"
          }
        }
      ]
    },
    {
      "cell_type": "code",
      "metadata": {
        "id": "M77udGsg56PS",
        "colab": {
          "base_uri": "https://localhost:8080/",
          "height": 894
        },
        "outputId": "1c80c4cd-9a58-4300-a428-63f2b0fae694"
      },
      "source": [
        "#En los siguientes diagramas BoxPlot, se identifica que a medida que incrementa la edad de la persona, tienen una duración\n",
        "#mayor en la póliza.\n",
        "plt.figure(figsize=(20, 15))\n",
        "sns.boxplot(x=\"EDAD\",y=\"DURACION\", data=df)"
      ],
      "execution_count": null,
      "outputs": [
        {
          "output_type": "execute_result",
          "data": {
            "text/plain": [
              "<matplotlib.axes._subplots.AxesSubplot at 0x7f3787deb250>"
            ]
          },
          "metadata": {},
          "execution_count": 22
        },
        {
          "output_type": "display_data",
          "data": {
            "image/png": "[encoded data removed]",
            "text/plain": [
              "<Figure size 1440x1080 with 1 Axes>"
            ]
          },
          "metadata": {
            "needs_background": "light"
          }
        }
      ]
    },
    {
      "cell_type": "code",
      "metadata": {
        "id": "ToBB1BRw5_B2",
        "colab": {
          "base_uri": "https://localhost:8080/",
          "height": 296
        },
        "outputId": "49d4b2da-8b74-4c7f-ae38-6b19a2493d7e"
      },
      "source": [
        "#Histograma de la Prima_Pagada  vs Duracion. Este gráfico se hace porque se cree que la Prima Pagada puede ser un buen predictor o variable relacionada\n",
        "#con la duración en la póliza de seguros.\n",
        "plt.scatter(df['PRIMA_PAGADA'],df['DURACION'],label='Datos 1',color='red')\n",
        "plt.title('Grafico de Dispersión')\n",
        "plt.ylabel('DURACION')\n",
        "plt.xlabel('PRIMA_PAGADA')\n",
        "plt.show()"
      ],
      "execution_count": null,
      "outputs": [
        {
          "output_type": "display_data",
          "data": {
            "image/png": "[encoded data removed]",
            "text/plain": [
              "<Figure size 432x288 with 1 Axes>"
            ]
          },
          "metadata": {
            "needs_background": "light"
          }
        }
      ]
    },
    {
      "cell_type": "markdown",
      "metadata": {
        "id": "BZz7py6P6Baz"
      },
      "source": [
        "La siguiente tabla resumen lo observado en los BoxPlot. Se identifica que el plan 11 es el que tiene mayor número de asegurados, sin embargo tiene la media de duración más pequeña (2.24 años). A su vez el plan 47 tiene la media de duración más alta (5.49 años). Así vamos entendiendo con estadística descriptiva el comportamiento de los datos."
      ]
    },
    {
      "cell_type": "code",
      "metadata": {
        "id": "XuSjX0yD6CxO",
        "colab": {
          "base_uri": "https://localhost:8080/",
          "height": 948
        },
        "outputId": "943ca8fd-d296-44fd-8ac9-91cb793748e2"
      },
      "source": [
        "df.groupby(['OPCION']).DURACION.describe()"
      ],
      "execution_count": null,
      "outputs": [
        {
          "output_type": "execute_result",
          "data": {
            "text/html": [
              "<div>\n",
              "<style scoped>\n",
              "    .dataframe tbody tr th:only-of-type {\n",
              "        vertical-align: middle;\n",
              "    }\n",
              "\n",
              "    .dataframe tbody tr th {\n",
              "        vertical-align: top;\n",
              "    }\n",
              "\n",
              "    .dataframe thead th {\n",
              "        text-align: right;\n",
              "    }\n",
              "</style>\n",
              "<table border=\"1\" class=\"dataframe\">\n",
              "  <thead>\n",
              "    <tr style=\"text-align: right;\">\n",
              "      <th></th>\n",
              "      <th>count</th>\n",
              "      <th>mean</th>\n",
              "      <th>std</th>\n",
              "      <th>min</th>\n",
              "      <th>25%</th>\n",
              "      <th>50%</th>\n",
              "      <th>75%</th>\n",
              "      <th>max</th>\n",
              "    </tr>\n",
              "    <tr>\n",
              "      <th>OPCION</th>\n",
              "      <th></th>\n",
              "      <th></th>\n",
              "      <th></th>\n",
              "      <th></th>\n",
              "      <th></th>\n",
              "      <th></th>\n",
              "      <th></th>\n",
              "      <th></th>\n",
              "    </tr>\n",
              "  </thead>\n",
              "  <tbody>\n",
              "    <tr>\n",
              "      <th>11</th>\n",
              "      <td>50529.0</td>\n",
              "      <td>2.245392</td>\n",
              "      <td>2.808028</td>\n",
              "      <td>-0.0109</td>\n",
              "      <td>0.468400</td>\n",
              "      <td>1.02460</td>\n",
              "      <td>2.632800</td>\n",
              "      <td>13.6657</td>\n",
              "    </tr>\n",
              "    <tr>\n",
              "      <th>12</th>\n",
              "      <td>13629.0</td>\n",
              "      <td>3.219378</td>\n",
              "      <td>3.392919</td>\n",
              "      <td>0.0027</td>\n",
              "      <td>0.605400</td>\n",
              "      <td>1.48210</td>\n",
              "      <td>5.252000</td>\n",
              "      <td>13.5041</td>\n",
              "    </tr>\n",
              "    <tr>\n",
              "      <th>13</th>\n",
              "      <td>9113.0</td>\n",
              "      <td>3.599987</td>\n",
              "      <td>3.609443</td>\n",
              "      <td>0.0027</td>\n",
              "      <td>0.663000</td>\n",
              "      <td>1.87670</td>\n",
              "      <td>6.263000</td>\n",
              "      <td>13.2904</td>\n",
              "    </tr>\n",
              "    <tr>\n",
              "      <th>14</th>\n",
              "      <td>5610.0</td>\n",
              "      <td>3.789934</td>\n",
              "      <td>3.743674</td>\n",
              "      <td>0.0027</td>\n",
              "      <td>0.663000</td>\n",
              "      <td>2.02325</td>\n",
              "      <td>7.260200</td>\n",
              "      <td>13.5178</td>\n",
              "    </tr>\n",
              "    <tr>\n",
              "      <th>15</th>\n",
              "      <td>3429.0</td>\n",
              "      <td>3.849261</td>\n",
              "      <td>3.831900</td>\n",
              "      <td>0.0027</td>\n",
              "      <td>0.668400</td>\n",
              "      <td>2.00540</td>\n",
              "      <td>7.317800</td>\n",
              "      <td>13.7808</td>\n",
              "    </tr>\n",
              "    <tr>\n",
              "      <th>16</th>\n",
              "      <td>2042.0</td>\n",
              "      <td>4.035400</td>\n",
              "      <td>3.958009</td>\n",
              "      <td>0.0027</td>\n",
              "      <td>0.750600</td>\n",
              "      <td>2.08765</td>\n",
              "      <td>7.719825</td>\n",
              "      <td>13.5205</td>\n",
              "    </tr>\n",
              "    <tr>\n",
              "      <th>17</th>\n",
              "      <td>1659.0</td>\n",
              "      <td>3.915488</td>\n",
              "      <td>3.894427</td>\n",
              "      <td>0.0027</td>\n",
              "      <td>0.673900</td>\n",
              "      <td>1.98630</td>\n",
              "      <td>7.810900</td>\n",
              "      <td>13.5780</td>\n",
              "    </tr>\n",
              "    <tr>\n",
              "      <th>21</th>\n",
              "      <td>3902.0</td>\n",
              "      <td>3.208830</td>\n",
              "      <td>3.388464</td>\n",
              "      <td>-0.0082</td>\n",
              "      <td>0.632800</td>\n",
              "      <td>1.47530</td>\n",
              "      <td>5.193800</td>\n",
              "      <td>13.4575</td>\n",
              "    </tr>\n",
              "    <tr>\n",
              "      <th>22</th>\n",
              "      <td>1668.0</td>\n",
              "      <td>4.006185</td>\n",
              "      <td>3.690542</td>\n",
              "      <td>0.0027</td>\n",
              "      <td>1.000000</td>\n",
              "      <td>2.27120</td>\n",
              "      <td>7.339700</td>\n",
              "      <td>12.6219</td>\n",
              "    </tr>\n",
              "    <tr>\n",
              "      <th>23</th>\n",
              "      <td>1081.0</td>\n",
              "      <td>4.730859</td>\n",
              "      <td>3.915858</td>\n",
              "      <td>0.0027</td>\n",
              "      <td>1.191700</td>\n",
              "      <td>3.41640</td>\n",
              "      <td>8.326000</td>\n",
              "      <td>12.3068</td>\n",
              "    </tr>\n",
              "    <tr>\n",
              "      <th>24</th>\n",
              "      <td>659.0</td>\n",
              "      <td>4.813585</td>\n",
              "      <td>4.031721</td>\n",
              "      <td>0.0027</td>\n",
              "      <td>1.172550</td>\n",
              "      <td>3.23560</td>\n",
              "      <td>8.416400</td>\n",
              "      <td>13.5123</td>\n",
              "    </tr>\n",
              "    <tr>\n",
              "      <th>25</th>\n",
              "      <td>398.0</td>\n",
              "      <td>4.641123</td>\n",
              "      <td>3.845544</td>\n",
              "      <td>0.0054</td>\n",
              "      <td>1.190375</td>\n",
              "      <td>3.20955</td>\n",
              "      <td>8.343100</td>\n",
              "      <td>12.0054</td>\n",
              "    </tr>\n",
              "    <tr>\n",
              "      <th>26</th>\n",
              "      <td>235.0</td>\n",
              "      <td>4.479029</td>\n",
              "      <td>3.957426</td>\n",
              "      <td>0.0027</td>\n",
              "      <td>1.110900</td>\n",
              "      <td>2.98900</td>\n",
              "      <td>8.069800</td>\n",
              "      <td>12.0054</td>\n",
              "    </tr>\n",
              "    <tr>\n",
              "      <th>27</th>\n",
              "      <td>199.0</td>\n",
              "      <td>4.777317</td>\n",
              "      <td>4.063871</td>\n",
              "      <td>0.0027</td>\n",
              "      <td>1.172600</td>\n",
              "      <td>3.26300</td>\n",
              "      <td>8.713650</td>\n",
              "      <td>13.6109</td>\n",
              "    </tr>\n",
              "    <tr>\n",
              "      <th>31</th>\n",
              "      <td>954.0</td>\n",
              "      <td>3.337566</td>\n",
              "      <td>3.539135</td>\n",
              "      <td>0.0027</td>\n",
              "      <td>0.557475</td>\n",
              "      <td>1.54520</td>\n",
              "      <td>5.386975</td>\n",
              "      <td>12.0054</td>\n",
              "    </tr>\n",
              "    <tr>\n",
              "      <th>32</th>\n",
              "      <td>413.0</td>\n",
              "      <td>4.316128</td>\n",
              "      <td>3.761400</td>\n",
              "      <td>0.0136</td>\n",
              "      <td>0.980800</td>\n",
              "      <td>2.88490</td>\n",
              "      <td>7.665700</td>\n",
              "      <td>12.0082</td>\n",
              "    </tr>\n",
              "    <tr>\n",
              "      <th>33</th>\n",
              "      <td>326.0</td>\n",
              "      <td>4.404421</td>\n",
              "      <td>3.794505</td>\n",
              "      <td>0.0027</td>\n",
              "      <td>1.208875</td>\n",
              "      <td>2.69450</td>\n",
              "      <td>7.704750</td>\n",
              "      <td>12.1753</td>\n",
              "    </tr>\n",
              "    <tr>\n",
              "      <th>34</th>\n",
              "      <td>176.0</td>\n",
              "      <td>4.584042</td>\n",
              "      <td>3.905420</td>\n",
              "      <td>0.0027</td>\n",
              "      <td>0.986975</td>\n",
              "      <td>3.18080</td>\n",
              "      <td>8.098575</td>\n",
              "      <td>12.0082</td>\n",
              "    </tr>\n",
              "    <tr>\n",
              "      <th>35</th>\n",
              "      <td>144.0</td>\n",
              "      <td>4.281477</td>\n",
              "      <td>3.993046</td>\n",
              "      <td>0.0027</td>\n",
              "      <td>1.107500</td>\n",
              "      <td>2.32190</td>\n",
              "      <td>8.035575</td>\n",
              "      <td>13.8246</td>\n",
              "    </tr>\n",
              "    <tr>\n",
              "      <th>36</th>\n",
              "      <td>92.0</td>\n",
              "      <td>4.332765</td>\n",
              "      <td>3.922490</td>\n",
              "      <td>0.0027</td>\n",
              "      <td>1.210225</td>\n",
              "      <td>2.22460</td>\n",
              "      <td>7.731475</td>\n",
              "      <td>12.9369</td>\n",
              "    </tr>\n",
              "    <tr>\n",
              "      <th>37</th>\n",
              "      <td>71.0</td>\n",
              "      <td>4.931997</td>\n",
              "      <td>4.152081</td>\n",
              "      <td>0.1315</td>\n",
              "      <td>1.000000</td>\n",
              "      <td>3.34240</td>\n",
              "      <td>8.534200</td>\n",
              "      <td>12.0054</td>\n",
              "    </tr>\n",
              "    <tr>\n",
              "      <th>41</th>\n",
              "      <td>1462.0</td>\n",
              "      <td>3.609523</td>\n",
              "      <td>3.553240</td>\n",
              "      <td>0.0027</td>\n",
              "      <td>0.994500</td>\n",
              "      <td>2.02460</td>\n",
              "      <td>6.075300</td>\n",
              "      <td>12.0136</td>\n",
              "    </tr>\n",
              "    <tr>\n",
              "      <th>42</th>\n",
              "      <td>645.0</td>\n",
              "      <td>4.734995</td>\n",
              "      <td>3.910896</td>\n",
              "      <td>0.0027</td>\n",
              "      <td>1.243800</td>\n",
              "      <td>3.34520</td>\n",
              "      <td>8.189000</td>\n",
              "      <td>13.9835</td>\n",
              "    </tr>\n",
              "    <tr>\n",
              "      <th>43</th>\n",
              "      <td>578.0</td>\n",
              "      <td>4.766157</td>\n",
              "      <td>4.017980</td>\n",
              "      <td>0.0027</td>\n",
              "      <td>1.187650</td>\n",
              "      <td>3.34515</td>\n",
              "      <td>8.324625</td>\n",
              "      <td>13.4383</td>\n",
              "    </tr>\n",
              "    <tr>\n",
              "      <th>44</th>\n",
              "      <td>488.0</td>\n",
              "      <td>4.742720</td>\n",
              "      <td>3.966444</td>\n",
              "      <td>0.0027</td>\n",
              "      <td>1.177325</td>\n",
              "      <td>3.25065</td>\n",
              "      <td>8.225975</td>\n",
              "      <td>12.7835</td>\n",
              "    </tr>\n",
              "    <tr>\n",
              "      <th>45</th>\n",
              "      <td>254.0</td>\n",
              "      <td>4.490600</td>\n",
              "      <td>3.852463</td>\n",
              "      <td>0.0027</td>\n",
              "      <td>1.203375</td>\n",
              "      <td>3.16435</td>\n",
              "      <td>7.595175</td>\n",
              "      <td>12.7945</td>\n",
              "    </tr>\n",
              "    <tr>\n",
              "      <th>46</th>\n",
              "      <td>117.0</td>\n",
              "      <td>4.989249</td>\n",
              "      <td>3.971070</td>\n",
              "      <td>0.0027</td>\n",
              "      <td>1.235600</td>\n",
              "      <td>3.83560</td>\n",
              "      <td>8.747900</td>\n",
              "      <td>13.8493</td>\n",
              "    </tr>\n",
              "    <tr>\n",
              "      <th>47</th>\n",
              "      <td>127.0</td>\n",
              "      <td>5.492040</td>\n",
              "      <td>4.160597</td>\n",
              "      <td>0.0054</td>\n",
              "      <td>1.227300</td>\n",
              "      <td>5.56160</td>\n",
              "      <td>9.282150</td>\n",
              "      <td>12.0054</td>\n",
              "    </tr>\n",
              "  </tbody>\n",
              "</table>\n",
              "</div>"
            ],
            "text/plain": [
              "          count      mean       std  ...      50%       75%      max\n",
              "OPCION                               ...                            \n",
              "11      50529.0  2.245392  2.808028  ...  1.02460  2.632800  13.6657\n",
              "12      13629.0  3.219378  3.392919  ...  1.48210  5.252000  13.5041\n",
              "13       9113.0  3.599987  3.609443  ...  1.87670  6.263000  13.2904\n",
              "14       5610.0  3.789934  3.743674  ...  2.02325  7.260200  13.5178\n",
              "15       3429.0  3.849261  3.831900  ...  2.00540  7.317800  13.7808\n",
              "16       2042.0  4.035400  3.958009  ...  2.08765  7.719825  13.5205\n",
              "17       1659.0  3.915488  3.894427  ...  1.98630  7.810900  13.5780\n",
              "21       3902.0  3.208830  3.388464  ...  1.47530  5.193800  13.4575\n",
              "22       1668.0  4.006185  3.690542  ...  2.27120  7.339700  12.6219\n",
              "23       1081.0  4.730859  3.915858  ...  3.41640  8.326000  12.3068\n",
              "24        659.0  4.813585  4.031721  ...  3.23560  8.416400  13.5123\n",
              "25        398.0  4.641123  3.845544  ...  3.20955  8.343100  12.0054\n",
              "26        235.0  4.479029  3.957426  ...  2.98900  8.069800  12.0054\n",
              "27        199.0  4.777317  4.063871  ...  3.26300  8.713650  13.6109\n",
              "31        954.0  3.337566  3.539135  ...  1.54520  5.386975  12.0054\n",
              "32        413.0  4.316128  3.761400  ...  2.88490  7.665700  12.0082\n",
              "33        326.0  4.404421  3.794505  ...  2.69450  7.704750  12.1753\n",
              "34        176.0  4.584042  3.905420  ...  3.18080  8.098575  12.0082\n",
              "35        144.0  4.281477  3.993046  ...  2.32190  8.035575  13.8246\n",
              "36         92.0  4.332765  3.922490  ...  2.22460  7.731475  12.9369\n",
              "37         71.0  4.931997  4.152081  ...  3.34240  8.534200  12.0054\n",
              "41       1462.0  3.609523  3.553240  ...  2.02460  6.075300  12.0136\n",
              "42        645.0  4.734995  3.910896  ...  3.34520  8.189000  13.9835\n",
              "43        578.0  4.766157  4.017980  ...  3.34515  8.324625  13.4383\n",
              "44        488.0  4.742720  3.966444  ...  3.25065  8.225975  12.7835\n",
              "45        254.0  4.490600  3.852463  ...  3.16435  7.595175  12.7945\n",
              "46        117.0  4.989249  3.971070  ...  3.83560  8.747900  13.8493\n",
              "47        127.0  5.492040  4.160597  ...  5.56160  9.282150  12.0054\n",
              "\n",
              "[28 rows x 8 columns]"
            ]
          },
          "metadata": {},
          "execution_count": 24
        }
      ]
    },
    {
      "cell_type": "markdown",
      "metadata": {
        "id": "1TZ1XmGm6Ktr"
      },
      "source": [
        "De manera similar al plan o a la opcion, se hizo un análisis para la edad como se presenta en la siguiente tabla. Se aprecia que a medida que aumenta la edad de los asegurados, la duración en la póliza también incrementa. Es decir, que las personas de mayor edad en promedio, tienen una mayor duración en la póliza."
      ]
    },
    {
      "cell_type": "code",
      "metadata": {
        "id": "vxGUm9t26LiK",
        "colab": {
          "base_uri": "https://localhost:8080/",
          "height": 1000
        },
        "outputId": "059acf18-6e1d-4926-bbfe-d2572058a9a1"
      },
      "source": [
        "df.groupby(['EDAD']).DURACION.describe()"
      ],
      "execution_count": null,
      "outputs": [
        {
          "output_type": "execute_result",
          "data": {
            "text/html": [
              "<div>\n",
              "<style scoped>\n",
              "    .dataframe tbody tr th:only-of-type {\n",
              "        vertical-align: middle;\n",
              "    }\n",
              "\n",
              "    .dataframe tbody tr th {\n",
              "        vertical-align: top;\n",
              "    }\n",
              "\n",
              "    .dataframe thead th {\n",
              "        text-align: right;\n",
              "    }\n",
              "</style>\n",
              "<table border=\"1\" class=\"dataframe\">\n",
              "  <thead>\n",
              "    <tr style=\"text-align: right;\">\n",
              "      <th></th>\n",
              "      <th>count</th>\n",
              "      <th>mean</th>\n",
              "      <th>std</th>\n",
              "      <th>min</th>\n",
              "      <th>25%</th>\n",
              "      <th>50%</th>\n",
              "      <th>75%</th>\n",
              "      <th>max</th>\n",
              "    </tr>\n",
              "    <tr>\n",
              "      <th>EDAD</th>\n",
              "      <th></th>\n",
              "      <th></th>\n",
              "      <th></th>\n",
              "      <th></th>\n",
              "      <th></th>\n",
              "      <th></th>\n",
              "      <th></th>\n",
              "      <th></th>\n",
              "    </tr>\n",
              "  </thead>\n",
              "  <tbody>\n",
              "    <tr>\n",
              "      <th>26.0</th>\n",
              "      <td>72.0</td>\n",
              "      <td>1.191538</td>\n",
              "      <td>1.606563</td>\n",
              "      <td>0.0109</td>\n",
              "      <td>0.343125</td>\n",
              "      <td>0.59585</td>\n",
              "      <td>1.171875</td>\n",
              "      <td>7.3753</td>\n",
              "    </tr>\n",
              "    <tr>\n",
              "      <th>27.0</th>\n",
              "      <td>863.0</td>\n",
              "      <td>1.400416</td>\n",
              "      <td>1.794365</td>\n",
              "      <td>0.0027</td>\n",
              "      <td>0.436950</td>\n",
              "      <td>0.69310</td>\n",
              "      <td>1.504100</td>\n",
              "      <td>8.5178</td>\n",
              "    </tr>\n",
              "    <tr>\n",
              "      <th>28.0</th>\n",
              "      <td>1476.0</td>\n",
              "      <td>1.553404</td>\n",
              "      <td>1.992214</td>\n",
              "      <td>0.0027</td>\n",
              "      <td>0.479400</td>\n",
              "      <td>0.75750</td>\n",
              "      <td>1.523200</td>\n",
              "      <td>9.4054</td>\n",
              "    </tr>\n",
              "    <tr>\n",
              "      <th>29.0</th>\n",
              "      <td>2152.0</td>\n",
              "      <td>1.523112</td>\n",
              "      <td>1.942515</td>\n",
              "      <td>0.0027</td>\n",
              "      <td>0.468400</td>\n",
              "      <td>0.75890</td>\n",
              "      <td>1.597900</td>\n",
              "      <td>10.1945</td>\n",
              "    </tr>\n",
              "    <tr>\n",
              "      <th>30.0</th>\n",
              "      <td>2761.0</td>\n",
              "      <td>1.573028</td>\n",
              "      <td>2.019864</td>\n",
              "      <td>0.0027</td>\n",
              "      <td>0.454700</td>\n",
              "      <td>0.78900</td>\n",
              "      <td>1.673900</td>\n",
              "      <td>10.9232</td>\n",
              "    </tr>\n",
              "    <tr>\n",
              "      <th>31.0</th>\n",
              "      <td>3297.0</td>\n",
              "      <td>1.700999</td>\n",
              "      <td>2.213879</td>\n",
              "      <td>0.0027</td>\n",
              "      <td>0.452000</td>\n",
              "      <td>0.80540</td>\n",
              "      <td>1.824600</td>\n",
              "      <td>12.0054</td>\n",
              "    </tr>\n",
              "    <tr>\n",
              "      <th>32.0</th>\n",
              "      <td>3907.0</td>\n",
              "      <td>1.869859</td>\n",
              "      <td>2.398825</td>\n",
              "      <td>0.0027</td>\n",
              "      <td>0.446500</td>\n",
              "      <td>0.85470</td>\n",
              "      <td>2.082150</td>\n",
              "      <td>12.0054</td>\n",
              "    </tr>\n",
              "    <tr>\n",
              "      <th>33.0</th>\n",
              "      <td>4555.0</td>\n",
              "      <td>1.982114</td>\n",
              "      <td>2.480270</td>\n",
              "      <td>0.0027</td>\n",
              "      <td>0.463000</td>\n",
              "      <td>0.98350</td>\n",
              "      <td>2.253350</td>\n",
              "      <td>13.0821</td>\n",
              "    </tr>\n",
              "    <tr>\n",
              "      <th>34.0</th>\n",
              "      <td>4492.0</td>\n",
              "      <td>2.131508</td>\n",
              "      <td>2.663544</td>\n",
              "      <td>0.0027</td>\n",
              "      <td>0.452000</td>\n",
              "      <td>1.00000</td>\n",
              "      <td>2.443800</td>\n",
              "      <td>13.3506</td>\n",
              "    </tr>\n",
              "    <tr>\n",
              "      <th>35.0</th>\n",
              "      <td>4413.0</td>\n",
              "      <td>2.256069</td>\n",
              "      <td>2.716890</td>\n",
              "      <td>0.0027</td>\n",
              "      <td>0.473900</td>\n",
              "      <td>1.09860</td>\n",
              "      <td>2.791700</td>\n",
              "      <td>12.5205</td>\n",
              "    </tr>\n",
              "    <tr>\n",
              "      <th>36.0</th>\n",
              "      <td>4371.0</td>\n",
              "      <td>2.416807</td>\n",
              "      <td>2.795080</td>\n",
              "      <td>0.0027</td>\n",
              "      <td>0.498600</td>\n",
              "      <td>1.20540</td>\n",
              "      <td>3.186300</td>\n",
              "      <td>12.0136</td>\n",
              "    </tr>\n",
              "    <tr>\n",
              "      <th>37.0</th>\n",
              "      <td>4152.0</td>\n",
              "      <td>2.499040</td>\n",
              "      <td>2.911882</td>\n",
              "      <td>-0.0082</td>\n",
              "      <td>0.501300</td>\n",
              "      <td>1.21090</td>\n",
              "      <td>3.257500</td>\n",
              "      <td>13.4547</td>\n",
              "    </tr>\n",
              "    <tr>\n",
              "      <th>38.0</th>\n",
              "      <td>4289.0</td>\n",
              "      <td>2.843309</td>\n",
              "      <td>3.128366</td>\n",
              "      <td>0.0027</td>\n",
              "      <td>0.531500</td>\n",
              "      <td>1.34520</td>\n",
              "      <td>4.301300</td>\n",
              "      <td>12.1780</td>\n",
              "    </tr>\n",
              "    <tr>\n",
              "      <th>39.0</th>\n",
              "      <td>4366.0</td>\n",
              "      <td>2.846327</td>\n",
              "      <td>3.137795</td>\n",
              "      <td>0.0027</td>\n",
              "      <td>0.562275</td>\n",
              "      <td>1.34520</td>\n",
              "      <td>4.218425</td>\n",
              "      <td>13.6657</td>\n",
              "    </tr>\n",
              "    <tr>\n",
              "      <th>40.0</th>\n",
              "      <td>4332.0</td>\n",
              "      <td>2.992897</td>\n",
              "      <td>3.254170</td>\n",
              "      <td>-0.0109</td>\n",
              "      <td>0.550600</td>\n",
              "      <td>1.38490</td>\n",
              "      <td>4.648600</td>\n",
              "      <td>13.0520</td>\n",
              "    </tr>\n",
              "    <tr>\n",
              "      <th>41.0</th>\n",
              "      <td>4240.0</td>\n",
              "      <td>3.008867</td>\n",
              "      <td>3.313834</td>\n",
              "      <td>0.0027</td>\n",
              "      <td>0.542400</td>\n",
              "      <td>1.35060</td>\n",
              "      <td>4.717800</td>\n",
              "      <td>12.9397</td>\n",
              "    </tr>\n",
              "    <tr>\n",
              "      <th>42.0</th>\n",
              "      <td>3980.0</td>\n",
              "      <td>3.070402</td>\n",
              "      <td>3.397524</td>\n",
              "      <td>0.0027</td>\n",
              "      <td>0.558900</td>\n",
              "      <td>1.35750</td>\n",
              "      <td>5.010900</td>\n",
              "      <td>13.4273</td>\n",
              "    </tr>\n",
              "    <tr>\n",
              "      <th>43.0</th>\n",
              "      <td>3713.0</td>\n",
              "      <td>3.185892</td>\n",
              "      <td>3.407490</td>\n",
              "      <td>0.0027</td>\n",
              "      <td>0.578000</td>\n",
              "      <td>1.42730</td>\n",
              "      <td>5.200000</td>\n",
              "      <td>13.3890</td>\n",
              "    </tr>\n",
              "    <tr>\n",
              "      <th>44.0</th>\n",
              "      <td>3671.0</td>\n",
              "      <td>3.341511</td>\n",
              "      <td>3.465010</td>\n",
              "      <td>0.0027</td>\n",
              "      <td>0.650650</td>\n",
              "      <td>1.53420</td>\n",
              "      <td>5.584900</td>\n",
              "      <td>13.4273</td>\n",
              "    </tr>\n",
              "    <tr>\n",
              "      <th>45.0</th>\n",
              "      <td>3137.0</td>\n",
              "      <td>3.464341</td>\n",
              "      <td>3.581322</td>\n",
              "      <td>0.0027</td>\n",
              "      <td>0.632800</td>\n",
              "      <td>1.66570</td>\n",
              "      <td>5.887600</td>\n",
              "      <td>13.4575</td>\n",
              "    </tr>\n",
              "    <tr>\n",
              "      <th>46.0</th>\n",
              "      <td>2852.0</td>\n",
              "      <td>3.534099</td>\n",
              "      <td>3.586325</td>\n",
              "      <td>0.0027</td>\n",
              "      <td>0.693100</td>\n",
              "      <td>1.70545</td>\n",
              "      <td>6.056075</td>\n",
              "      <td>13.4000</td>\n",
              "    </tr>\n",
              "    <tr>\n",
              "      <th>47.0</th>\n",
              "      <td>2643.0</td>\n",
              "      <td>3.634362</td>\n",
              "      <td>3.624354</td>\n",
              "      <td>0.0027</td>\n",
              "      <td>0.732850</td>\n",
              "      <td>1.91500</td>\n",
              "      <td>6.291750</td>\n",
              "      <td>13.3424</td>\n",
              "    </tr>\n",
              "    <tr>\n",
              "      <th>48.0</th>\n",
              "      <td>2581.0</td>\n",
              "      <td>3.490659</td>\n",
              "      <td>3.564522</td>\n",
              "      <td>0.0027</td>\n",
              "      <td>0.695800</td>\n",
              "      <td>1.68490</td>\n",
              "      <td>5.986300</td>\n",
              "      <td>13.5041</td>\n",
              "    </tr>\n",
              "    <tr>\n",
              "      <th>49.0</th>\n",
              "      <td>2486.0</td>\n",
              "      <td>3.736959</td>\n",
              "      <td>3.697825</td>\n",
              "      <td>0.0027</td>\n",
              "      <td>0.717800</td>\n",
              "      <td>1.96435</td>\n",
              "      <td>6.832850</td>\n",
              "      <td>13.9835</td>\n",
              "    </tr>\n",
              "    <tr>\n",
              "      <th>50.0</th>\n",
              "      <td>2046.0</td>\n",
              "      <td>3.973834</td>\n",
              "      <td>3.825339</td>\n",
              "      <td>0.0027</td>\n",
              "      <td>0.749275</td>\n",
              "      <td>2.19725</td>\n",
              "      <td>7.336900</td>\n",
              "      <td>13.3095</td>\n",
              "    </tr>\n",
              "    <tr>\n",
              "      <th>51.0</th>\n",
              "      <td>1938.0</td>\n",
              "      <td>4.105931</td>\n",
              "      <td>3.816228</td>\n",
              "      <td>0.0027</td>\n",
              "      <td>0.838300</td>\n",
              "      <td>2.30270</td>\n",
              "      <td>7.442400</td>\n",
              "      <td>13.4383</td>\n",
              "    </tr>\n",
              "    <tr>\n",
              "      <th>52.0</th>\n",
              "      <td>1755.0</td>\n",
              "      <td>3.936155</td>\n",
              "      <td>3.833088</td>\n",
              "      <td>0.0027</td>\n",
              "      <td>0.724600</td>\n",
              "      <td>2.17530</td>\n",
              "      <td>7.290350</td>\n",
              "      <td>12.1753</td>\n",
              "    </tr>\n",
              "    <tr>\n",
              "      <th>53.0</th>\n",
              "      <td>1645.0</td>\n",
              "      <td>4.003734</td>\n",
              "      <td>3.808082</td>\n",
              "      <td>0.0027</td>\n",
              "      <td>0.783500</td>\n",
              "      <td>2.26020</td>\n",
              "      <td>7.356100</td>\n",
              "      <td>13.2904</td>\n",
              "    </tr>\n",
              "    <tr>\n",
              "      <th>54.0</th>\n",
              "      <td>1576.0</td>\n",
              "      <td>4.134667</td>\n",
              "      <td>3.904898</td>\n",
              "      <td>0.0027</td>\n",
              "      <td>0.676000</td>\n",
              "      <td>2.33280</td>\n",
              "      <td>7.606100</td>\n",
              "      <td>12.5643</td>\n",
              "    </tr>\n",
              "    <tr>\n",
              "      <th>55.0</th>\n",
              "      <td>1298.0</td>\n",
              "      <td>3.913576</td>\n",
              "      <td>3.878546</td>\n",
              "      <td>0.0027</td>\n",
              "      <td>0.721175</td>\n",
              "      <td>2.11225</td>\n",
              "      <td>7.332125</td>\n",
              "      <td>12.4246</td>\n",
              "    </tr>\n",
              "    <tr>\n",
              "      <th>56.0</th>\n",
              "      <td>1172.0</td>\n",
              "      <td>4.091609</td>\n",
              "      <td>3.947049</td>\n",
              "      <td>0.0027</td>\n",
              "      <td>0.692425</td>\n",
              "      <td>2.28760</td>\n",
              "      <td>7.657500</td>\n",
              "      <td>13.5178</td>\n",
              "    </tr>\n",
              "    <tr>\n",
              "      <th>57.0</th>\n",
              "      <td>1096.0</td>\n",
              "      <td>3.970460</td>\n",
              "      <td>3.961554</td>\n",
              "      <td>0.0027</td>\n",
              "      <td>0.656800</td>\n",
              "      <td>2.09450</td>\n",
              "      <td>7.531500</td>\n",
              "      <td>12.5424</td>\n",
              "    </tr>\n",
              "    <tr>\n",
              "      <th>58.0</th>\n",
              "      <td>1010.0</td>\n",
              "      <td>3.946471</td>\n",
              "      <td>3.862776</td>\n",
              "      <td>0.0027</td>\n",
              "      <td>0.756125</td>\n",
              "      <td>2.18350</td>\n",
              "      <td>7.277350</td>\n",
              "      <td>13.1397</td>\n",
              "    </tr>\n",
              "    <tr>\n",
              "      <th>59.0</th>\n",
              "      <td>984.0</td>\n",
              "      <td>3.754121</td>\n",
              "      <td>3.790367</td>\n",
              "      <td>0.0027</td>\n",
              "      <td>0.738325</td>\n",
              "      <td>1.81640</td>\n",
              "      <td>7.110200</td>\n",
              "      <td>13.5123</td>\n",
              "    </tr>\n",
              "    <tr>\n",
              "      <th>60.0</th>\n",
              "      <td>857.0</td>\n",
              "      <td>4.114320</td>\n",
              "      <td>3.963271</td>\n",
              "      <td>0.0027</td>\n",
              "      <td>0.758900</td>\n",
              "      <td>2.23830</td>\n",
              "      <td>7.854700</td>\n",
              "      <td>12.0082</td>\n",
              "    </tr>\n",
              "    <tr>\n",
              "      <th>61.0</th>\n",
              "      <td>733.0</td>\n",
              "      <td>4.274599</td>\n",
              "      <td>4.048744</td>\n",
              "      <td>0.0027</td>\n",
              "      <td>0.832800</td>\n",
              "      <td>2.37530</td>\n",
              "      <td>8.210900</td>\n",
              "      <td>12.0082</td>\n",
              "    </tr>\n",
              "    <tr>\n",
              "      <th>62.0</th>\n",
              "      <td>612.0</td>\n",
              "      <td>4.278458</td>\n",
              "      <td>4.101593</td>\n",
              "      <td>0.0027</td>\n",
              "      <td>0.789025</td>\n",
              "      <td>2.30815</td>\n",
              "      <td>7.999975</td>\n",
              "      <td>13.8246</td>\n",
              "    </tr>\n",
              "    <tr>\n",
              "      <th>63.0</th>\n",
              "      <td>572.0</td>\n",
              "      <td>4.249156</td>\n",
              "      <td>4.060052</td>\n",
              "      <td>0.0027</td>\n",
              "      <td>0.931500</td>\n",
              "      <td>2.22460</td>\n",
              "      <td>7.911575</td>\n",
              "      <td>13.6657</td>\n",
              "    </tr>\n",
              "    <tr>\n",
              "      <th>64.0</th>\n",
              "      <td>545.0</td>\n",
              "      <td>4.033676</td>\n",
              "      <td>3.963146</td>\n",
              "      <td>0.0027</td>\n",
              "      <td>0.709500</td>\n",
              "      <td>2.03560</td>\n",
              "      <td>7.660200</td>\n",
              "      <td>13.2739</td>\n",
              "    </tr>\n",
              "    <tr>\n",
              "      <th>65.0</th>\n",
              "      <td>537.0</td>\n",
              "      <td>3.947017</td>\n",
              "      <td>3.999934</td>\n",
              "      <td>0.0027</td>\n",
              "      <td>0.723200</td>\n",
              "      <td>2.05200</td>\n",
              "      <td>7.542400</td>\n",
              "      <td>13.7808</td>\n",
              "    </tr>\n",
              "    <tr>\n",
              "      <th>66.0</th>\n",
              "      <td>488.0</td>\n",
              "      <td>4.110100</td>\n",
              "      <td>3.871099</td>\n",
              "      <td>0.0027</td>\n",
              "      <td>1.000000</td>\n",
              "      <td>2.26430</td>\n",
              "      <td>7.883500</td>\n",
              "      <td>13.3424</td>\n",
              "    </tr>\n",
              "    <tr>\n",
              "      <th>67.0</th>\n",
              "      <td>490.0</td>\n",
              "      <td>4.003390</td>\n",
              "      <td>3.946926</td>\n",
              "      <td>0.0027</td>\n",
              "      <td>0.609550</td>\n",
              "      <td>2.14790</td>\n",
              "      <td>7.774575</td>\n",
              "      <td>12.7260</td>\n",
              "    </tr>\n",
              "    <tr>\n",
              "      <th>68.0</th>\n",
              "      <td>435.0</td>\n",
              "      <td>4.266649</td>\n",
              "      <td>4.158685</td>\n",
              "      <td>0.0027</td>\n",
              "      <td>0.673900</td>\n",
              "      <td>2.13150</td>\n",
              "      <td>8.091750</td>\n",
              "      <td>13.8493</td>\n",
              "    </tr>\n",
              "    <tr>\n",
              "      <th>69.0</th>\n",
              "      <td>406.0</td>\n",
              "      <td>4.565164</td>\n",
              "      <td>4.107288</td>\n",
              "      <td>0.0027</td>\n",
              "      <td>1.000000</td>\n",
              "      <td>3.00680</td>\n",
              "      <td>8.502025</td>\n",
              "      <td>13.3452</td>\n",
              "    </tr>\n",
              "    <tr>\n",
              "      <th>70.0</th>\n",
              "      <td>380.0</td>\n",
              "      <td>4.434638</td>\n",
              "      <td>4.170315</td>\n",
              "      <td>0.0027</td>\n",
              "      <td>0.895875</td>\n",
              "      <td>2.33835</td>\n",
              "      <td>8.544450</td>\n",
              "      <td>13.5205</td>\n",
              "    </tr>\n",
              "    <tr>\n",
              "      <th>71.0</th>\n",
              "      <td>259.0</td>\n",
              "      <td>4.140753</td>\n",
              "      <td>4.245386</td>\n",
              "      <td>0.0027</td>\n",
              "      <td>0.589000</td>\n",
              "      <td>1.76430</td>\n",
              "      <td>9.084900</td>\n",
              "      <td>12.4684</td>\n",
              "    </tr>\n",
              "    <tr>\n",
              "      <th>72.0</th>\n",
              "      <td>172.0</td>\n",
              "      <td>4.302684</td>\n",
              "      <td>4.579321</td>\n",
              "      <td>0.0027</td>\n",
              "      <td>0.673900</td>\n",
              "      <td>1.75060</td>\n",
              "      <td>9.955400</td>\n",
              "      <td>13.5780</td>\n",
              "    </tr>\n",
              "    <tr>\n",
              "      <th>73.0</th>\n",
              "      <td>101.0</td>\n",
              "      <td>3.889489</td>\n",
              "      <td>4.554566</td>\n",
              "      <td>0.0054</td>\n",
              "      <td>0.682100</td>\n",
              "      <td>1.21910</td>\n",
              "      <td>7.589000</td>\n",
              "      <td>12.1753</td>\n",
              "    </tr>\n",
              "    <tr>\n",
              "      <th>74.0</th>\n",
              "      <td>70.0</td>\n",
              "      <td>3.496261</td>\n",
              "      <td>4.655926</td>\n",
              "      <td>0.0054</td>\n",
              "      <td>0.321850</td>\n",
              "      <td>1.16980</td>\n",
              "      <td>4.865725</td>\n",
              "      <td>13.6109</td>\n",
              "    </tr>\n",
              "    <tr>\n",
              "      <th>75.0</th>\n",
              "      <td>19.0</td>\n",
              "      <td>3.860789</td>\n",
              "      <td>4.632922</td>\n",
              "      <td>0.0383</td>\n",
              "      <td>0.246550</td>\n",
              "      <td>1.06570</td>\n",
              "      <td>7.712250</td>\n",
              "      <td>12.0054</td>\n",
              "    </tr>\n",
              "    <tr>\n",
              "      <th>76.0</th>\n",
              "      <td>3.0</td>\n",
              "      <td>8.031900</td>\n",
              "      <td>6.882304</td>\n",
              "      <td>0.0849</td>\n",
              "      <td>6.045150</td>\n",
              "      <td>12.00540</td>\n",
              "      <td>12.005400</td>\n",
              "      <td>12.0054</td>\n",
              "    </tr>\n",
              "  </tbody>\n",
              "</table>\n",
              "</div>"
            ],
            "text/plain": [
              "       count      mean       std  ...       50%        75%      max\n",
              "EDAD                              ...                              \n",
              "26.0    72.0  1.191538  1.606563  ...   0.59585   1.171875   7.3753\n",
              "27.0   863.0  1.400416  1.794365  ...   0.69310   1.504100   8.5178\n",
              "28.0  1476.0  1.553404  1.992214  ...   0.75750   1.523200   9.4054\n",
              "29.0  2152.0  1.523112  1.942515  ...   0.75890   1.597900  10.1945\n",
              "30.0  2761.0  1.573028  2.019864  ...   0.78900   1.673900  10.9232\n",
              "31.0  3297.0  1.700999  2.213879  ...   0.80540   1.824600  12.0054\n",
              "32.0  3907.0  1.869859  2.398825  ...   0.85470   2.082150  12.0054\n",
              "33.0  4555.0  1.982114  2.480270  ...   0.98350   2.253350  13.0821\n",
              "34.0  4492.0  2.131508  2.663544  ...   1.00000   2.443800  13.3506\n",
              "35.0  4413.0  2.256069  2.716890  ...   1.09860   2.791700  12.5205\n",
              "36.0  4371.0  2.416807  2.795080  ...   1.20540   3.186300  12.0136\n",
              "37.0  4152.0  2.499040  2.911882  ...   1.21090   3.257500  13.4547\n",
              "38.0  4289.0  2.843309  3.128366  ...   1.34520   4.301300  12.1780\n",
              "39.0  4366.0  2.846327  3.137795  ...   1.34520   4.218425  13.6657\n",
              "40.0  4332.0  2.992897  3.254170  ...   1.38490   4.648600  13.0520\n",
              "41.0  4240.0  3.008867  3.313834  ...   1.35060   4.717800  12.9397\n",
              "42.0  3980.0  3.070402  3.397524  ...   1.35750   5.010900  13.4273\n",
              "43.0  3713.0  3.185892  3.407490  ...   1.42730   5.200000  13.3890\n",
              "44.0  3671.0  3.341511  3.465010  ...   1.53420   5.584900  13.4273\n",
              "45.0  3137.0  3.464341  3.581322  ...   1.66570   5.887600  13.4575\n",
              "46.0  2852.0  3.534099  3.586325  ...   1.70545   6.056075  13.4000\n",
              "47.0  2643.0  3.634362  3.624354  ...   1.91500   6.291750  13.3424\n",
              "48.0  2581.0  3.490659  3.564522  ...   1.68490   5.986300  13.5041\n",
              "49.0  2486.0  3.736959  3.697825  ...   1.96435   6.832850  13.9835\n",
              "50.0  2046.0  3.973834  3.825339  ...   2.19725   7.336900  13.3095\n",
              "51.0  1938.0  4.105931  3.816228  ...   2.30270   7.442400  13.4383\n",
              "52.0  1755.0  3.936155  3.833088  ...   2.17530   7.290350  12.1753\n",
              "53.0  1645.0  4.003734  3.808082  ...   2.26020   7.356100  13.2904\n",
              "54.0  1576.0  4.134667  3.904898  ...   2.33280   7.606100  12.5643\n",
              "55.0  1298.0  3.913576  3.878546  ...   2.11225   7.332125  12.4246\n",
              "56.0  1172.0  4.091609  3.947049  ...   2.28760   7.657500  13.5178\n",
              "57.0  1096.0  3.970460  3.961554  ...   2.09450   7.531500  12.5424\n",
              "58.0  1010.0  3.946471  3.862776  ...   2.18350   7.277350  13.1397\n",
              "59.0   984.0  3.754121  3.790367  ...   1.81640   7.110200  13.5123\n",
              "60.0   857.0  4.114320  3.963271  ...   2.23830   7.854700  12.0082\n",
              "61.0   733.0  4.274599  4.048744  ...   2.37530   8.210900  12.0082\n",
              "62.0   612.0  4.278458  4.101593  ...   2.30815   7.999975  13.8246\n",
              "63.0   572.0  4.249156  4.060052  ...   2.22460   7.911575  13.6657\n",
              "64.0   545.0  4.033676  3.963146  ...   2.03560   7.660200  13.2739\n",
              "65.0   537.0  3.947017  3.999934  ...   2.05200   7.542400  13.7808\n",
              "66.0   488.0  4.110100  3.871099  ...   2.26430   7.883500  13.3424\n",
              "67.0   490.0  4.003390  3.946926  ...   2.14790   7.774575  12.7260\n",
              "68.0   435.0  4.266649  4.158685  ...   2.13150   8.091750  13.8493\n",
              "69.0   406.0  4.565164  4.107288  ...   3.00680   8.502025  13.3452\n",
              "70.0   380.0  4.434638  4.170315  ...   2.33835   8.544450  13.5205\n",
              "71.0   259.0  4.140753  4.245386  ...   1.76430   9.084900  12.4684\n",
              "72.0   172.0  4.302684  4.579321  ...   1.75060   9.955400  13.5780\n",
              "73.0   101.0  3.889489  4.554566  ...   1.21910   7.589000  12.1753\n",
              "74.0    70.0  3.496261  4.655926  ...   1.16980   4.865725  13.6109\n",
              "75.0    19.0  3.860789  4.632922  ...   1.06570   7.712250  12.0054\n",
              "76.0     3.0  8.031900  6.882304  ...  12.00540  12.005400  12.0054\n",
              "\n",
              "[51 rows x 8 columns]"
            ]
          },
          "metadata": {},
          "execution_count": 25
        }
      ]
    },
    {
      "cell_type": "code",
      "metadata": {
        "id": "HkRL1h836PTw",
        "colab": {
          "base_uri": "https://localhost:8080/",
          "height": 771
        },
        "outputId": "e6fcf45a-ff60-462a-8d2d-94888a10bf80"
      },
      "source": [
        "#Realicemos un histograma para las variables numéricas del Data Set. Se evidencia que la variable duración de la póliza los\n",
        "#datos se concentran entre 0 a 2 años. La variable Opción indica que la mayoría de los asegurados están en el plan de 11 a 14.\n",
        "#Los valores de la prima anual y la prima pagada se concentran en valores pequeños.\n",
        "#La mayoría de los asegurados se concentran con edades entre los 30 y los 45 años.\n",
        "df.hist(figsize=(15,13))\n",
        "plt.show()"
      ],
      "execution_count": null,
      "outputs": [
        {
          "output_type": "display_data",
          "data": {
            "image/png": "[encoded data removed]",
            "text/plain": [
              "<Figure size 1080x936 with 6 Axes>"
            ]
          },
          "metadata": {
            "needs_background": "light"
          }
        }
      ]
    },
    {
      "cell_type": "markdown",
      "metadata": {
        "id": "EoEeQ714PU8k"
      },
      "source": [
        "Correlacion. La correlación es una medida de la relación entre variables que se mide en una escala de -1 a 1. Cuanto más cercano sea el valor de correlación a -1 o 1, más fuerte será la relación, y mientras más cerca de 0, más débil será la relación. Mide cómo el cambio en una variable está asociado con el cambio en otra variable."
      ]
    },
    {
      "cell_type": "code",
      "metadata": {
        "colab": {
          "base_uri": "https://localhost:8080/",
          "height": 955
        },
        "id": "II8HWvjoPj4I",
        "outputId": "4dfbb91e-69d6-49f9-9731-8ef843bc11a2"
      },
      "source": [
        "#De acuerdo a lo anterior, realicemos gráficos se dispersión con el siguiente comando. Así se puede observar gráficamente\n",
        "#si puede existir una correlación entre algunas variables. Se aprecia lo identificado con la prueba de una relación entre\n",
        "#la prima pagada y la duración.\n",
        "from pandas.plotting import scatter_matrix\n",
        "attributes = [\"OPCION\",\"SUMA_ASEGURADA\",\"PRIMA_ANUAL\",\"PRIMA_PAGADA\",\"DURACION\"]\n",
        "scatter_matrix(df[attributes], figsize=(12, 8))"
      ],
      "execution_count": null,
      "outputs": [
        {
          "output_type": "execute_result",
          "data": {
            "text/plain": [
              "array([[<matplotlib.axes._subplots.AxesSubplot object at 0x7f3788d16a50>,\n",
              "        <matplotlib.axes._subplots.AxesSubplot object at 0x7f37865bfd10>,\n",
              "        <matplotlib.axes._subplots.AxesSubplot object at 0x7f3787f7fb10>,\n",
              "        <matplotlib.axes._subplots.AxesSubplot object at 0x7f37866310d0>,\n",
              "        <matplotlib.axes._subplots.AxesSubplot object at 0x7f37881a7650>],\n",
              "       [<matplotlib.axes._subplots.AxesSubplot object at 0x7f378a276bd0>,\n",
              "        <matplotlib.axes._subplots.AxesSubplot object at 0x7f3786b44210>,\n",
              "        <matplotlib.axes._subplots.AxesSubplot object at 0x7f3788c146d0>,\n",
              "        <matplotlib.axes._subplots.AxesSubplot object at 0x7f3788c14710>,\n",
              "        <matplotlib.axes._subplots.AxesSubplot object at 0x7f378add4d90>],\n",
              "       [<matplotlib.axes._subplots.AxesSubplot object at 0x7f37897cc7d0>,\n",
              "        <matplotlib.axes._subplots.AxesSubplot object at 0x7f378967ad50>,\n",
              "        <matplotlib.axes._subplots.AxesSubplot object at 0x7f378acd5310>,\n",
              "        <matplotlib.axes._subplots.AxesSubplot object at 0x7f3788dbb890>,\n",
              "        <matplotlib.axes._subplots.AxesSubplot object at 0x7f378a1bfe10>],\n",
              "       [<matplotlib.axes._subplots.AxesSubplot object at 0x7f37868053d0>,\n",
              "        <matplotlib.axes._subplots.AxesSubplot object at 0x7f37882fd950>,\n",
              "        <matplotlib.axes._subplots.AxesSubplot object at 0x7f3786c59d10>,\n",
              "        <matplotlib.axes._subplots.AxesSubplot object at 0x7f378a35d490>,\n",
              "        <matplotlib.axes._subplots.AxesSubplot object at 0x7f378a2bdb90>],\n",
              "       [<matplotlib.axes._subplots.AxesSubplot object at 0x7f378882af90>,\n",
              "        <matplotlib.axes._subplots.AxesSubplot object at 0x7f3788d11790>,\n",
              "        <matplotlib.axes._subplots.AxesSubplot object at 0x7f3789045ad0>,\n",
              "        <matplotlib.axes._subplots.AxesSubplot object at 0x7f3789fd3410>,\n",
              "        <matplotlib.axes._subplots.AxesSubplot object at 0x7f3789fe2690>]],\n",
              "      dtype=object)"
            ]
          },
          "metadata": {},
          "execution_count": 30
        },
        {
          "output_type": "display_data",
          "data": {
            "image/png": "[encoded data removed]",
            "text/plain": [
              "<Figure size 864x576 with 25 Axes>"
            ]
          },
          "metadata": {
            "needs_background": "light"
          }
        }
      ]
    },
    {
      "cell_type": "code",
      "metadata": {
        "colab": {
          "base_uri": "https://localhost:8080/",
          "height": 396
        },
        "id": "guh-1kjPPTss",
        "outputId": "d218c18f-8d93-43f8-d0ab-e0efd7796cf9"
      },
      "source": [
        "#Miremos la correlación entre las variables del DF\n",
        "corr_p = df.corr()\n",
        "corr_k = df.corr(method = \"kendall\")\n",
        "corr_s = df.corr(method = \"spearman\")\n",
        "corr_p"
      ],
      "execution_count": 7,
      "outputs": [
        {
          "output_type": "stream",
          "name": "stderr",
          "text": [
            "<ipython-input-7-4ab32fb21a8e>:2: FutureWarning: The default value of numeric_only in DataFrame.corr is deprecated. In a future version, it will default to False. Select only valid columns or specify the value of numeric_only to silence this warning.\n",
            "  corr_p = df.corr()\n",
            "<ipython-input-7-4ab32fb21a8e>:3: FutureWarning: The default value of numeric_only in DataFrame.corr is deprecated. In a future version, it will default to False. Select only valid columns or specify the value of numeric_only to silence this warning.\n",
            "  corr_k = df.corr(method = \"kendall\")\n",
            "/usr/local/lib/python3.10/dist-packages/scipy/stats/_stats_py.py:5278: RuntimeWarning: overflow encountered in long_scalars\n",
            "  (2 * xtie * ytie) / m + x0 * y0 / (9 * m * (size - 2)))\n",
            "<ipython-input-7-4ab32fb21a8e>:4: FutureWarning: The default value of numeric_only in DataFrame.corr is deprecated. In a future version, it will default to False. Select only valid columns or specify the value of numeric_only to silence this warning.\n",
            "  corr_s = df.corr(method = \"spearman\")\n"
          ]
        },
        {
          "output_type": "execute_result",
          "data": {
            "text/plain": [
              "                  OPCION  SUMA_ASEGURADA  PRIMA_ANUAL  PRIMA_PAGADA  DURACION  \\\n",
              "OPCION          1.000000        0.976693     0.695996      0.477661  0.155004   \n",
              "SUMA_ASEGURADA  0.976693        1.000000     0.563376      0.391907  0.119717   \n",
              "PRIMA_ANUAL     0.695996        0.563376     1.000000      0.685497  0.165290   \n",
              "PRIMA_PAGADA    0.477661        0.391907     0.685497      1.000000  0.566488   \n",
              "DURACION        0.155004        0.119717     0.165290      0.566488  1.000000   \n",
              "EDAD            0.311154        0.117450     0.659580      0.445745  0.232631   \n",
              "\n",
              "                    EDAD  \n",
              "OPCION          0.311154  \n",
              "SUMA_ASEGURADA  0.117450  \n",
              "PRIMA_ANUAL     0.659580  \n",
              "PRIMA_PAGADA    0.445745  \n",
              "DURACION        0.232631  \n",
              "EDAD            1.000000  "
            ],
            "text/html": [
              "\n",
              "  <div id=\"df-0fe7a6de-83a3-4a61-ba56-5e3477fd9247\">\n",
              "    <div class=\"colab-df-container\">\n",
              "      <div>\n",
              "<style scoped>\n",
              "    .dataframe tbody tr th:only-of-type {\n",
              "        vertical-align: middle;\n",
              "    }\n",
              "\n",
              "    .dataframe tbody tr th {\n",
              "        vertical-align: top;\n",
              "    }\n",
              "\n",
              "    .dataframe thead th {\n",
              "        text-align: right;\n",
              "    }\n",
              "</style>\n",
              "<table border=\"1\" class=\"dataframe\">\n",
              "  <thead>\n",
              "    <tr style=\"text-align: right;\">\n",
              "      <th></th>\n",
              "      <th>OPCION</th>\n",
              "      <th>SUMA_ASEGURADA</th>\n",
              "      <th>PRIMA_ANUAL</th>\n",
              "      <th>PRIMA_PAGADA</th>\n",
              "      <th>DURACION</th>\n",
              "      <th>EDAD</th>\n",
              "    </tr>\n",
              "  </thead>\n",
              "  <tbody>\n",
              "    <tr>\n",
              "      <th>OPCION</th>\n",
              "      <td>1.000000</td>\n",
              "      <td>0.976693</td>\n",
              "      <td>0.695996</td>\n",
              "      <td>0.477661</td>\n",
              "      <td>0.155004</td>\n",
              "      <td>0.311154</td>\n",
              "    </tr>\n",
              "    <tr>\n",
              "      <th>SUMA_ASEGURADA</th>\n",
              "      <td>0.976693</td>\n",
              "      <td>1.000000</td>\n",
              "      <td>0.563376</td>\n",
              "      <td>0.391907</td>\n",
              "      <td>0.119717</td>\n",
              "      <td>0.117450</td>\n",
              "    </tr>\n",
              "    <tr>\n",
              "      <th>PRIMA_ANUAL</th>\n",
              "      <td>0.695996</td>\n",
              "      <td>0.563376</td>\n",
              "      <td>1.000000</td>\n",
              "      <td>0.685497</td>\n",
              "      <td>0.165290</td>\n",
              "      <td>0.659580</td>\n",
              "    </tr>\n",
              "    <tr>\n",
              "      <th>PRIMA_PAGADA</th>\n",
              "      <td>0.477661</td>\n",
              "      <td>0.391907</td>\n",
              "      <td>0.685497</td>\n",
              "      <td>1.000000</td>\n",
              "      <td>0.566488</td>\n",
              "      <td>0.445745</td>\n",
              "    </tr>\n",
              "    <tr>\n",
              "      <th>DURACION</th>\n",
              "      <td>0.155004</td>\n",
              "      <td>0.119717</td>\n",
              "      <td>0.165290</td>\n",
              "      <td>0.566488</td>\n",
              "      <td>1.000000</td>\n",
              "      <td>0.232631</td>\n",
              "    </tr>\n",
              "    <tr>\n",
              "      <th>EDAD</th>\n",
              "      <td>0.311154</td>\n",
              "      <td>0.117450</td>\n",
              "      <td>0.659580</td>\n",
              "      <td>0.445745</td>\n",
              "      <td>0.232631</td>\n",
              "      <td>1.000000</td>\n",
              "    </tr>\n",
              "  </tbody>\n",
              "</table>\n",
              "</div>\n",
              "      <button class=\"colab-df-convert\" onclick=\"convertToInteractive('df-0fe7a6de-83a3-4a61-ba56-5e3477fd9247')\"\n",
              "              title=\"Convert this dataframe to an interactive table.\"\n",
              "              style=\"display:none;\">\n",
              "        \n",
              "  <svg xmlns=\"http://www.w3.org/2000/svg\" height=\"24px\"viewBox=\"0 0 24 24\"\n",
              "       width=\"24px\">\n",
              "    <path d=\"M0 0h24v24H0V0z\" fill=\"none\"/>\n",
              "    <path d=\"M18.56 5.44l.94 2.06.94-2.06 2.06-.94-2.06-.94-.94-2.06-.94 2.06-2.06.94zm-11 1L8.5 8.5l.94-2.06 2.06-.94-2.06-.94L8.5 2.5l-.94 2.06-2.06.94zm10 10l.94 2.06.94-2.06 2.06-.94-2.06-.94-.94-2.06-.94 2.06-2.06.94z\"/><path d=\"M17.41 7.96l-1.37-1.37c-.4-.4-.92-.59-1.43-.59-.52 0-1.04.2-1.43.59L10.3 9.45l-7.72 7.72c-.78.78-.78 2.05 0 2.83L4 21.41c.39.39.9.59 1.41.59.51 0 1.02-.2 1.41-.59l7.78-7.78 2.81-2.81c.8-.78.8-2.07 0-2.86zM5.41 20L4 18.59l7.72-7.72 1.47 1.35L5.41 20z\"/>\n",
              "  </svg>\n",
              "      </button>\n",
              "      \n",
              "  <style>\n",
              "    .colab-df-container {\n",
              "      display:flex;\n",
              "      flex-wrap:wrap;\n",
              "      gap: 12px;\n",
              "    }\n",
              "\n",
              "    .colab-df-convert {\n",
              "      background-color: #E8F0FE;\n",
              "      border: none;\n",
              "      border-radius: 50%;\n",
              "      cursor: pointer;\n",
              "      display: none;\n",
              "      fill: #1967D2;\n",
              "      height: 32px;\n",
              "      padding: 0 0 0 0;\n",
              "      width: 32px;\n",
              "    }\n",
              "\n",
              "    .colab-df-convert:hover {\n",
              "      background-color: #E2EBFA;\n",
              "      box-shadow: 0px 1px 2px rgba(60, 64, 67, 0.3), 0px 1px 3px 1px rgba(60, 64, 67, 0.15);\n",
              "      fill: #174EA6;\n",
              "    }\n",
              "\n",
              "    [theme=dark] .colab-df-convert {\n",
              "      background-color: #3B4455;\n",
              "      fill: #D2E3FC;\n",
              "    }\n",
              "\n",
              "    [theme=dark] .colab-df-convert:hover {\n",
              "      background-color: #434B5C;\n",
              "      box-shadow: 0px 1px 3px 1px rgba(0, 0, 0, 0.15);\n",
              "      filter: drop-shadow(0px 1px 2px rgba(0, 0, 0, 0.3));\n",
              "      fill: #FFFFFF;\n",
              "    }\n",
              "  </style>\n",
              "\n",
              "      <script>\n",
              "        const buttonEl =\n",
              "          document.querySelector('#df-0fe7a6de-83a3-4a61-ba56-5e3477fd9247 button.colab-df-convert');\n",
              "        buttonEl.style.display =\n",
              "          google.colab.kernel.accessAllowed ? 'block' : 'none';\n",
              "\n",
              "        async function convertToInteractive(key) {\n",
              "          const element = document.querySelector('#df-0fe7a6de-83a3-4a61-ba56-5e3477fd9247');\n",
              "          const dataTable =\n",
              "            await google.colab.kernel.invokeFunction('convertToInteractive',\n",
              "                                                     [key], {});\n",
              "          if (!dataTable) return;\n",
              "\n",
              "          const docLinkHtml = 'Like what you see? Visit the ' +\n",
              "            '<a target=\"_blank\" href=https://colab.research.google.com/notebooks/data_table.ipynb>data table notebook</a>'\n",
              "            + ' to learn more about interactive tables.';\n",
              "          element.innerHTML = '';\n",
              "          dataTable['output_type'] = 'display_data';\n",
              "          await google.colab.output.renderOutput(dataTable, element);\n",
              "          const docLink = document.createElement('div');\n",
              "          docLink.innerHTML = docLinkHtml;\n",
              "          element.appendChild(docLink);\n",
              "        }\n",
              "      </script>\n",
              "    </div>\n",
              "  </div>\n",
              "  "
            ]
          },
          "metadata": {},
          "execution_count": 7
        }
      ]
    },
    {
      "cell_type": "code",
      "metadata": {
        "colab": {
          "base_uri": "https://localhost:8080/"
        },
        "id": "8v44YDL9PT-D",
        "outputId": "4c45913a-5a7a-4166-fa27-a513f7d2e648"
      },
      "source": [
        "#En la anterior tabla se identifican correlaciones por encima de 0.5 lo que puede indicar una relación fuerte entre algunas\n",
        "#Variables. Revisemos con la siguiente ejecución la correlación con la variable respuesta. Sólo se identifica una correlación\n",
        "#por encima de 0.56 con la 'Prima_Pagada'\n",
        "corr_p['DURACION'].sort_values(ascending=False)"
      ],
      "execution_count": null,
      "outputs": [
        {
          "output_type": "execute_result",
          "data": {
            "text/plain": [
              "DURACION          1.000000\n",
              "PRIMA_PAGADA      0.566488\n",
              "EDAD              0.232582\n",
              "PRIMA_ANUAL       0.165290\n",
              "OPCION            0.155004\n",
              "SUMA_ASEGURADA    0.119717\n",
              "Name: DURACION, dtype: float64"
            ]
          },
          "metadata": {},
          "execution_count": 29
        }
      ]
    },
    {
      "cell_type": "markdown",
      "metadata": {
        "id": "e7ZfBBytPoTr"
      },
      "source": [
        "TRATAMIENTO DE VARIABLES\n",
        "El dataset de variables para estimar la duración de un asegurado en la póliza tiene variables tanto numéricas como categóricas. Sin embargo al leerlas desde el archivo de Excel, python toma algunas como tipo Objeto. Por lo cual vamos a realizar algunos procesamientos de datos para mejorar los tipos de variables y poderlas usar en los modelos de Machine Learning"
      ]
    },
    {
      "cell_type": "code",
      "metadata": {
        "id": "lP-6WPbpPj7N"
      },
      "source": [
        "#Variables Categóricas, como al cargarlas de Excel python las leía como tipo objeto, se convirtieron en categóricas:\n",
        "df['SEXO'] = df['SEXO'].astype('category')"
      ],
      "execution_count": null,
      "outputs": []
    },
    {
      "cell_type": "code",
      "metadata": {
        "colab": {
          "base_uri": "https://localhost:8080/"
        },
        "id": "jI2XUIIKPj-E",
        "outputId": "6afe6f1c-0eee-49e2-ff2b-f7d3b21c391e"
      },
      "source": [
        "#Validacion de la variable categórica para una de las variables\n",
        "df['SEXO'].dtype"
      ],
      "execution_count": null,
      "outputs": [
        {
          "output_type": "execute_result",
          "data": {
            "text/plain": [
              "CategoricalDtype(categories=['F', 'M'], ordered=False)"
            ]
          },
          "metadata": {},
          "execution_count": 32
        }
      ]
    },
    {
      "cell_type": "code",
      "metadata": {
        "id": "FVK0iLPOPkAj"
      },
      "source": [
        "#Para el caso de la variable categórica SEXO, se procede a convertir en variables dummies para considerarlas en el modelo de acuerdo a si son del\n",
        "#género masculino o femenino\n",
        "df = pd.get_dummies(df, columns=['SEXO'])"
      ],
      "execution_count": null,
      "outputs": []
    },
    {
      "cell_type": "code",
      "metadata": {
        "colab": {
          "base_uri": "https://localhost:8080/"
        },
        "id": "qg5P4J_uPkDf",
        "outputId": "d6b0c6cd-acf3-4958-c2df-848b8761b36f"
      },
      "source": [
        "df.columns\n",
        "Ciudad=df.CIUDAD.unique()\n",
        "Ciudad"
      ],
      "execution_count": null,
      "outputs": [
        {
          "output_type": "execute_result",
          "data": {
            "text/plain": [
              "Index(['OPCION', 'FECHA_NACIMIENTO', 'NOMBRE_AGENCIA', 'SUMA_ASEGURADA',\n",
              "       'CIUDAD', 'PRIMA_ANUAL', 'PRIMA_PAGADA', 'DURACION', 'EDAD', 'SEXO_F',\n",
              "       'SEXO_M'],\n",
              "      dtype='object')"
            ]
          },
          "metadata": {},
          "execution_count": 34
        }
      ]
    },
    {
      "cell_type": "code",
      "metadata": {
        "id": "tvYKVw0hP3S5"
      },
      "source": [
        "#El campo CIUDAD tiene algunos problemas de calidad del dato, por ejemplo registros vacíos, datos numéricos, raya al piso\n",
        "#sin datos, por lo cual en los siguientes comandos se mejora la calidad del campo:\n",
        "df['CIUDAD']=np.where (df['CIUDAD'].str.isdigit().fillna(True), df['CIUDAD'].mode()[0], df['CIUDAD'])\n",
        "df['CIUDAD'].replace({'_':None}, inplace=True)"
      ],
      "execution_count": null,
      "outputs": []
    },
    {
      "cell_type": "code",
      "metadata": {
        "colab": {
          "base_uri": "https://localhost:8080/"
        },
        "id": "waORSZUQP3WM",
        "outputId": "b6155f41-f5e0-462a-e041-56aee0e23781"
      },
      "source": [
        "#Se ejecuta una imputación de datos muy general tomando la moda o el dato más frecuente para la variable ciudad que es la única con datos nulos\n",
        "df['CIUDAD'] = df['CIUDAD'].fillna(df['CIUDAD'].mode()[0])\n",
        "print(df.isnull().sum())"
      ],
      "execution_count": null,
      "outputs": [
        {
          "output_type": "stream",
          "text": [
            "OPCION              0\n",
            "FECHA_NACIMIENTO    0\n",
            "NOMBRE_AGENCIA      0\n",
            "SUMA_ASEGURADA      0\n",
            "CIUDAD              0\n",
            "PRIMA_ANUAL         0\n",
            "PRIMA_PAGADA        0\n",
            "DURACION            0\n",
            "EDAD                0\n",
            "SEXO_F              0\n",
            "SEXO_M              0\n",
            "dtype: int64\n"
          ],
          "name": "stdout"
        }
      ]
    },
    {
      "cell_type": "code",
      "metadata": {
        "colab": {
          "base_uri": "https://localhost:8080/"
        },
        "id": "SjNN_Yo-dYgu",
        "outputId": "22fdafcb-b6a0-48a0-f40c-55a10f89b74c"
      },
      "source": [
        "Ciudad=df.CIUDAD.unique()\n",
        "Ciudad"
      ],
      "execution_count": null,
      "outputs": [
        {
          "output_type": "execute_result",
          "data": {
            "text/plain": [
              "array(['EL DIVISADERO', 'ILOPANGO', 'SAN MATIAS', 'MEJICANOS',\n",
              "       'CIUDAD ARCE', 'SANTA ANA', 'SOYAPANGO', 'SAN MARTIN',\n",
              "       'SAN MIGUEL', 'SAN SALVADOR', 'CHALATENANGO', 'TEJUTLA',\n",
              "       'ATIQUIZAYA', 'JUCUARAN', 'GUACOTECTI', 'SANTA TECLA',\n",
              "       'TONACATEPEQU', 'QUEZALTEPEQU', 'EL CONGO', 'USULUTAN',\n",
              "       'SNA SALVADOR', 'SAN FRANCISC', 'CONCHAGUA', 'JIQUILISCO',\n",
              "       'LOURDES', 'CIUDAD DELGA', 'COJUTEPEQUE', 'CANDELARIA',\n",
              "       'SONSONATE', 'CUISNAHUAT', 'OSICALA', 'SAN VICENTE',\n",
              "       'SAN SEBASTIA', 'ACAJUTLA', 'NUEVO EDEN D', 'SAN MARCOS', 'APOPA',\n",
              "       'SAN JULIAN', 'ZACATECOLUCA', 'SANTIAGO DE', 'NUEVA GRANAD',\n",
              "       'JUJUTLA', 'SONZACATE', 'APANECA', 'YUCUAIQUIN', 'SAN JUAN OPI',\n",
              "       'TONACATEPEQUE', 'TACUBA', 'COATEPEQUE', 'INTIPUCA',\n",
              "       'SANTA ROSA DE LIMA', 'NEJAPA', 'SENSUNTEPEQU', 'QUELEPA',\n",
              "       'ILOBASCO', 'SAN FRANCISCO MENENDEZ', 'SANTIAGO TEXACUANGO',\n",
              "       'BOLIVAR', 'JUAYUA', 'AYUTUXTEPEQU', 'CUSCATANCINGO',\n",
              "       'ANTIGUO CUSCATLAN', 'APASTEPEQUE', 'EL PARAISO', 'PANCHIMALCO',\n",
              "       'CALIFORNIA', 'CHIRILAGUA', 'COLON', 'VIRGINIA',\n",
              "       'SAN PABLO TACACHICO', 'SANTO TOMAS', 'EL REFUGIO', 'LA PALMA',\n",
              "       'PUERTO EL TR', 'LA LIBERTAD', 'SAN PEDRO MA', 'COMACARAN',\n",
              "       'SANTIAGO TEX', 'QUEZALTEPEQUE', 'EL PAISNAL', 'SAN ISIDRO',\n",
              "       'MARYLAND', 'TALNIQUE', 'LOS ANGELES', 'AHUACHAPAN', 'IZALCO',\n",
              "       'EL CARMEN', 'CIUDAD MERLIOT', 'AGUA CALIENT', 'TOROLA',\n",
              "       'SAN RAFAEL CEDROS', 'SAN PEDRO NO', 'SESORI', 'ARMENIA',\n",
              "       'SAN PABLO TA', 'EL ROSARIO', 'EL SAUCE', 'SAN PEDRO PERULAPAN',\n",
              "       'PASAQUINA', 'GUADALUPE', 'SAN BARTOLOME PERULAPAN',\n",
              "       'SANTA ISABEL ISHUATAN', 'MONCAGUA', 'TAMANIQUE', 'VERAPAZ',\n",
              "       'CONCEPCION D', 'YAYANTIQUE', 'CIUDAD DELGADO', 'SAN LUIS TALPA',\n",
              "       'CHALCHUAPA', 'LA REINA', 'MERLIOT', 'TENANCINGO', 'ANTIGUO CUSC',\n",
              "       'SUCHITOTO', 'CUSCATANCING', 'AYUTUXTEPEQUE', 'ORATORIO DE',\n",
              "       'AGUILARES', 'SAN JUAN OPICO', 'TEJUTEPEQUE', 'GUATAJIAGUA',\n",
              "       'SANTA ELENA', 'SACACOYO', 'NUEVA ESPARTA', 'TEOTEPEQUE',\n",
              "       'LOLOTIQUE', 'CHILTIUPAN', 'JICALAPA', 'SANTIAGO NON',\n",
              "       'SAN FRANCISCO MENDEZ', 'NAHUIZALCO', 'METAPAN', 'SAN LORENZO',\n",
              "       'PUERTO EL TRIUNFO', 'EL CARRIZAL', 'SAN JOSE GUA', 'NUEVO TEPETI',\n",
              "       'SALCOATITAN', 'JAYAQUE', 'EL TRANSITO', 'OLOCUILTA',\n",
              "       'SANTO DOMING', 'SAN ESTEBAN', 'CUSCATLAN', 'SAN PEDRO PE',\n",
              "       'SAN EMIGDIO', 'LA UNION', 'LISLIQUE', 'NUEVO CUSCATLAN', 'JOCORO',\n",
              "       'TECOLUCA', 'SANTA ROSA D', 'CHILTUIPAN', 'JERUSALEM',\n",
              "       'SANTA RITA', 'MERYLAND', 'CALUCO', 'SAN BARTOLOME PERULAPIA',\n",
              "       'SAN RAMON', 'CHINAMECA', 'GUAZAPA', 'HAYWARD', 'GUAYMANGO',\n",
              "       'JUCUAPA', 'ESTANZUELAS', 'HUIZUCAR', 'SANTA CRUZ MICHAPA',\n",
              "       'CONCEPCION DE ATACO', 'SENSUNTEPEQUE', 'SAN SEBASTIAN',\n",
              "       'CANDELARIA D', 'JOCOAITIQUE', 'MEANGUERA', 'SAN SIMON',\n",
              "       'ZARAGOZA', 'LOLOTIQUILLO', 'SAN  SALVADOR', 'MASAHUAT',\n",
              "       'EL DIVISADER', 'SAN FCO.GOTERA', 'TAPALHUACA', 'SANTA MARIA',\n",
              "       'DULCE NOMBRE', 'SAN AGUSTIN', 'ROSARIO DE MORA',\n",
              "       'SAN ANTONIO DEL MONTE', 'PERQUIN', 'CONCEPCION BATRES',\n",
              "       'SAN MIGUEL TEPEZONTES', 'SAN RAFAEL C', 'SAN PEDRO NONUALCO',\n",
              "       'MORAZAN', 'JOATECA', 'DELICIAS DE CONCEPCION', 'MERCEDES UMAÑA',\n",
              "       'YAMABAL', 'SANTO DOMINGO', 'SAN CAYETANO', 'NUEVO CUSCAT',\n",
              "       'SAN BARTOLO', 'NUEVA GUADAL', 'CACAOPERA', 'LA PAZ', 'COMASAGUA',\n",
              "       'SAN JOSE VIL', 'OZATLAN', 'SAN JORGE', 'SAN LUIS DE',\n",
              "       'SANTA MARIA OSTUMA', 'CITALA', 'SANTA CRUZ A', 'SAN ANTONIO',\n",
              "       'DELICIAS DE', 'NAHUILINGO', 'SAN IGNACIO', 'NUEVA ESPART',\n",
              "       'SAN JUAN TAL', 'SANTIAGO DE LA FRONTERA', 'SOCIEDAD',\n",
              "       'SAN JOSE VILLANUEVA', 'SAN ILDEFONS', 'SANTIAGO TEXACUANGOS',\n",
              "       'SANTIAGO NONUALCO', 'SAN MIGUEL D', 'DOLORES', 'MERCEDES UMA',\n",
              "       'TEXISTEPEQUE', 'CONCEPCION B', 'ROSARIO DE LA PAZ', 'TEPECOYO',\n",
              "       'CANDELARIA DE LA FRONTERA', 'SANTA CRUZ M', 'CONCEPCION Q',\n",
              "       'CHAPELTIQUE', 'EL DELIRIO', 'LA LAGUNA', 'BERLIN', 'VICTORIA',\n",
              "       'ARAMBALA', 'SANTA ISABEL', 'NOMBRE DE JE', 'SAN LUIS LA',\n",
              "       'SAN ILDEFONSO', 'SAN MARCOS LEMPA', 'MONTE SAN JU',\n",
              "       'SAN SEBASTIAN SALITRILLO', 'ANAMOROS', 'SAN BUENAVENTURA',\n",
              "       'TECAPAN', 'SAN JUAN NONUALCO', 'SAN CARLOS', 'CHILANGA',\n",
              "       'SANTA LUCIA', 'ARCATAO', 'SAN JUAN NON', 'EREGUAYQUIN',\n",
              "       'SAN FRANCISCO GOTERAS', 'SAN SALVDOR', 'CIUDAD BARRI',\n",
              "       'JERUSALEN', 'SAN MIGUEL T', 'SAN FRANCISCO MDEZ.',\n",
              "       'CONCEPCION DE OTE', 'SAN GERARDO', 'CORINTO', 'POLOROS',\n",
              "       'NEW YORK', 'CINQUERA', 'JUTIAPA', 'NUEVA CONCEPCION',\n",
              "       'SAN CRISTOBAL', 'SAN RAFAEL', 'SAN ALEJO', 'MONTE SAN JUAN',\n",
              "       'TONACATEPQUE', 'SAN PEDRO MASAHUAT', 'SAN CRISTOBA',\n",
              "       'CANDELARIA DE LA FTERA.', 'SAN BARTOLOM', 'COMALAPA',\n",
              "       'WASHINGTON', 'SAN RAFAEL O', 'SAN FCO. GOTERA', 'TEPETITAN',\n",
              "       'NAHULINGO', 'SAN LUIS DEL', 'SAN FRANCISCO GOTERA', 'POTONICO',\n",
              "       'CONCEPCION QUEZALTEP', 'ANTIGUO_CUSCATLAN',\n",
              "       'DULCE NOMBRE DE JESUS', 'CONCEPCION QUEZALTEPEQUE',\n",
              "       'SAN MIGUEL TEZONTES', 'YOLOAYQUIN', 'NUEVA GUADALUPE',\n",
              "       'E. PALO ALTO', 'NUEVA TRINID', 'CAROLINA', 'NUEVA CONCEP',\n",
              "       'TURIN', 'SAN JUAN TALPA', 'U.S.A.', 'GUALOCOCTI', 'SAN FERNANDO',\n",
              "       'VILLA DOLORE', 'SAN JOSE GUAYABAL', 'LAS VEGAS', 'OJOS DE AGUA',\n",
              "       'DENVER', 'SAN RAFAEL OBRAJUELO', 'SAN JOSE LA FUENTE',\n",
              "       'SANTA CRUZ ANALQUITO|', 'N.HOLLYWOOD', 'CIUDAD BARRIOS',\n",
              "       'SENSEMBRA', 'OAKLAND', 'SAN PALO TAC', 'RED BANK', 'TEXAS',\n",
              "       'EL PORVENIR', 'HOUSTON', 'SAN PEDRO P', 'INGLEWOOD',\n",
              "       ' QUEZALTEPEQUE', 'SAN DIONISIO', 'WORCESTER, M', 'SNESUNTEPEQUE',\n",
              "       'MONTE SAN JUan', 'SAN LUIS LA HERRADURA', 'CONCEPCION DE ORIENTE',\n",
              "       'ARCADIA', 'SAN PEDRO PU', 'ULUAZAPA', 'SAN LUIS TAL',\n",
              "       'ESTADOS UNID', 'SANTA CATARINA MASAHUAT', 'SAN PEDRO PUXTLA',\n",
              "       'PTO. EL TRIUNFO', 'ALEGRIA', 'SAN FRANCISCO MEDEZ.', 'SA BARTOLO',\n",
              "       'GIORGIA', 'SAN JUAN TEP', 'SAN JACINTO', 'SANTIAGO NONNUALCO',\n",
              "       'SAN ANTONIO MOSCO', 'SOYAPO0', 'SAN FRANCISCO JAVIER',\n",
              "       'SANTIAGO DE MARIA', 'CUYULTITAN', 'SANTA ROSA', 'MINNESOTA, U',\n",
              "       'GEORGIA', 'SANTA CATARI', 'USUSLUTAN', 'FLORIDA',\n",
              "       'MASACHUSSETTES', 'MASSACHUSETT', 'SAN FCO. MENDEZ',\n",
              "       'SAN JOSE CANCASQUE', 'NUEVA SAN SA', 'INDIANAPOLIS',\n",
              "       'SAN RAFAEL ORIENTE', 'ROSARIO DE M', 'SAN ANTONIO MASAHUAT',\n",
              "       'SAN BUENAVEN', 'SAN FRANCISCO CHINAMECA', 'CONCEP BATRE',\n",
              "       'NORTH CAROLINA', 'MISSISSIPPI', 'CAROLINA DEL NORTE',\n",
              "       'SAN FRACISCO MENENDEZ', 'AGUA CALIENTE', 'ORATORIO DE CONCEPCION',\n",
              "       'SNATA ANA', 'SONSOANTE', 'NEW JERSEY', 'LOS ANGELES, CALIFORNIA',\n",
              "       'NORWALK', 'SAN FRANCISCO', '301 8065246', 'SUIZA',\n",
              "       'SANTA CRUZ ANALQUITO', 'SAN RAFEL ORIENTE',\n",
              "       'SAN JOSE LAS FUENTES', 'SAN FRANCISCO MENENDEZ|', 'AZACUALPA',\n",
              "       'VAN NUYS', 'PERQUI', 'SANTIAGO NONUALXO', 'SAN PBLO TACACHICO',\n",
              "       'EL CENTRO', 'LOURDES COLON', '_HOUSTON', 'NUEVA SAN SALVADOR',\n",
              "       'SNA JUAN OPICO', 'VILLA EL TRIUNFO', 'SAN JOSE LAS',\n",
              "       'LAS VUELTAS', 'SAN ESTEBAN CATARINA', 'OPICO', 'PARAISO DE O',\n",
              "       'MEANGUERA DE', 'PARAISO DE OSORIO', 'COLORADO', 'CUSCATNACINGO',\n",
              "       'CIUDAD TECLA', 'DELICIAS DE MORAZAN', 'OHIO.', 'NEVADA',\n",
              "       'SAN BARTOLOME', 'IUNFO', 'IOWA', 'MEJICANOSS', 'DISTRICT OF',\n",
              "       'SAN ANTONIO DE LA CRUZ', 'SANTA CLARA', 'SAN JOSE CAN',\n",
              "       'ANTIGUO CUSCATOLAN', 'WALNUT', 'SAN JUAN TEPEZONTES',\n",
              "       'NUEVA YORK', 'DISTRIC OF C', 'MEJICANOSQ', 'SAN MATEO',\n",
              "       'JIQULISCO', 'SAN MIGUEL TEPEZONTE', 'SAN FRNACISCO GOTERA',\n",
              "       'SANTO DOMINGO DE GUZMAN', 'MILAN', 'CD.MERLIOT', 'SIMI VALLEY',\n",
              "       'OLYMPIA WACH', 'INDIANA', 'DOWNEY', 'ARIZONA',\n",
              "       'SAN LUIS DE LA REINA', 'FONTANA', 'USA', 'SANTA ROSA DE LIMAS',\n",
              "       'BAY POINT', 'YUQUAQUIN', 'SAN SEBASTIAN SLAITRILLO',\n",
              "       'SNA FRANCISCO MENENDEZ', 'SAN ANTONIO DEL MOSCO', 'MISCO',\n",
              "       'SNA MARTIN', 'SAN ANTONIO PAJONAL', 'APANCOYO', 'GUACOTCTI',\n",
              "       '_VIRGINIA', 'NEBRASKA', 'NORTH HILLS', 'NUAVA SAN SALVADOR',\n",
              "       'SANTA CRUZ MICHPA', 'MERCEDES LA CEIBA', 'NORTH HOLLYW',\n",
              "       'AN MIGUEL', 'SAN FCO MENDEZ', 'OREBRO', 'CHARLOTTE NO',\n",
              "       'ESTADOS UNIDOS', 'SANTA TERESA', 'VILLA DOLORES', 'SANTA ROSA G',\n",
              "       'SAN SALVAODR', 'VILLA EL TRI', 'SNA MIGUEL', 'WEST COVINA',\n",
              "       'NOMBRE DE JESUS', 'SNA FRANCISCO GOTERA', 'SAN ISIDRO L',\n",
              "       'ITALIA', 'SANTA CATARINA', 'SAN M IGUEL', 'DULCE NOMBRE DE MARIA',\n",
              "       'SAN PALO TACACHICO', 'RIVERDALE', 'ANTGUO CUSCATLAN', 'CANADA',\n",
              "       'DALAS 817896', 'SAN PEDRO PERULAPIA', 'Q', 'CONCEPCION DE OTE.',\n",
              "       'AHUCHAPAN', 'SAN ANTONIO DLE MONTE', 'ANTIGUO CUSCASTLAN',\n",
              "       'SAN SAVALDOR', 'ATACO', 'MERCEDES LA', 'SAN FRANCISCO  LEMPA',\n",
              "       'SAN RAFAEL NONUALCO', 'CONCEPCION QUEZALTEPQUE',\n",
              "       'NUEVO TEPETITAN', 'CALIFORNIA.', 'MORAZON', 'MEANGUERA DEL GOLFO',\n",
              "       'NEVADAS', '_ATLANTAS', 'COMPTON', 'ANT.CUSCATLA', 'N.YERSY',\n",
              "       'SAN JOSE DE LA FUENTE', 'PUERTO PARADA', 'NVO. CUSCATLAN',\n",
              "       'LA PERLA', 'SAN FRANCISCO MDEZ', 'TOMAS DE SN. FCO.',\n",
              "       'EL ROSARIO LA PAZ', 'CABAÑAS', 'SAN FCO CHIN', 'SAN JOSE',\n",
              "       'HUNTINGTON P', 'SAN GERONIMO', 'SAN MIGUEL DE MERCEDES',\n",
              "       'MASACHUSES', 'U T A H', 'HUNTINGTON S', 'U.S.A', 'SNA MARCOS',\n",
              "       'GARDENA', 'MAYWOOD', 'CIUDA DELGADO', 'PUERTO EL TRUNFO',\n",
              "       'NEW YERSY', 'WASHINGTON D', 'SAN ANTONIO ABAD', 'HYATTSVILLE',\n",
              "       'DALY CITY', '_NEW YORK', 'M,ARYLAND', 'CIUDAD MERLITO',\n",
              "       'SANTA ROSAS DE LIMA', 'SNATA TECLA', 'MALDEN', 'TEXISTPEQUE',\n",
              "       'ARIZONA    }', 'SNA PEDRO PERULPAN', 'JUACUAPA', 'SAN CICENTE',\n",
              "       'SAN FCO. MENENDEZ', 'HOLLYWOOD', 'SAN AELJO', 'ESTADO UNICO',\n",
              "       'CANDELARIA DE LA FTERA', 'FREDERICKSBU', 'SANTA CRUZ', 'ARKANSAS',\n",
              "       'GREENSBORO', 'SAN AMRTIN', 'SAN BARTOLOME PERULPIA',\n",
              "       'SAN RAFAEL OTE', 'PUERTO EL TRIIUNFO', 'CORONA',\n",
              "       'PERTO EL TRIUNFO', 'PLANES DE RENDEROS', 'SANTA ROSA DE  LIMA',\n",
              "       'GAINESVILLE', 'BOWNEY', 'SAN FRANCISC JAVIER', 'SOUTH GATE',\n",
              "       'MORANZAN', 'CANDELARIA DE LA FRA.', 'BRENTWOOD', 'CIUDA ARCE',\n",
              "       'VIRGINA', 'ATLANTA', 'SUECIA', 'WASHINTONG', 'DELGADO',\n",
              "       'VANCUVER', 'JAYQUE', 'LAS VEGAS NE', 'SAN FCO MDEZ',\n",
              "       'ROSARIO LA PAZ', 'CARA SUCIA', 'YANOGA PARK', 'DALLAS',\n",
              "       'SAN LUIS DEL CARMEN', 'SAN ISIDRO LABRADOR', 'SN RAFAEL CEDROS',\n",
              "       'CIUDAD DELGASO', 'CONIUGATA', 'ANTIOCH', 'PUERTO EL TRiunfo',\n",
              "       'OLAJUELA', 'LILISQUE', 'CONGO REPUBL', 'STOCKTON', '_TEXAS',\n",
              "       'PATCHOQUE N.', 'HOUSTON TX', 'SAN BARTOLOMEN PERULAPIA',\n",
              "       'REDONDO BEAC', 'MOUNTAIN VIE', 'YOLOAIQUIN', '   USA', 'EXTERIOR',\n",
              "       'ELCARMEN', 'SAN SLVADOR', 'ROSARIO LA P', 'KERNER',\n",
              "       'NUEVA GRANADA', 'SAN FRANCISCO MDE.', 'GOTERA',\n",
              "       'PASAQUINA, LA UNION', 'EVERETT', 'PUERTO DE LA LIBERTAD',\n",
              "       'GARDEN G.', 'ANAMORES', 'PENSILVANIA', 'SAN CAYETANO ISTEPEQUE',\n",
              "       'SANTA TELCA', 'SAN FCO CHINAMECA', 'DOUNTAIN', 'EL CONGIO',\n",
              "       'STA ROSA DE LIMA', 'ARLINGTON, V', 'RESEDA', 'SAN BUENA VE',\n",
              "       'TONCATEPEQUE', 'EXTRANJERO', 'CATARINA', 'PASQUINA',\n",
              "       'SAN PEDRO PERULA PAN', 'ROSARIO', 'SPARKS N.V.', 'EL PEDREGAL',\n",
              "       'NUEVO EDEN DE SAN JUAN', 'MARHLAND', 'CHALATENAGO', 'WHITTER',\n",
              "       'SAN ANTONIODEL MONTE', 'EL DEVISADERO', 'SAN JUA TEPEZONTES',\n",
              "       'ORATORIO DE CONCEPCIO', 'CARA SCIA', 'SAN JUAN OPII', 'TOLUCA',\n",
              "       'ilopango', 'SANS ALVADOR', 'SAN FCO MENENDEZ', 'CANOGA PARK',\n",
              "       'EL PORTEZUELO', 'SAN FRANCISCCO', 'SAN FRANCISCO MENENEDEZ',\n",
              "       'NUEVO EDEN SAN JUAN', 'SAN CRISTOBAL DE LA FRONT', 'SANTA TECLA.',\n",
              "       '_TEXSAS', 'SAN TECLA', 'OJUTEPEQUE', 'SA SALVADOR',\n",
              "       'SAN PEDRO PERULPAN', 'ANOMOROS', 'CATALINA',\n",
              "       'SAN FRANCISCO LEMPA', 'SAN JOSE LAS FLORES', 'MERIDAN',\n",
              "       'NUEVA CONCEPCION DE OTE', 'ARCANSAS AR', 'SAN FRANCISCo javier',\n",
              "       'SAN SALVBADOR', 'BROOKLYN NY', 'BRISBANE', 'SN PEDRO MASAHUAT',\n",
              "       'CO', 'EL ROSARIO DE LA PAZ', 'CIUDAD MELIOT', 'CUSCATANCINGo',\n",
              "       'SAN JUAN NOUALCO', 'PUERTO EL TRIUNF', 'ANT CUSCATLAN',\n",
              "       'NORTHCAROLIN', 'OHIO', 'COLUMBIA', 'SAN FRANCISCO MENNEDEZ',\n",
              "       'CD.DELGADO', 'RIVERSIDE', 'EL CONG', 'ROMA,', 'SAN FCO.MENE',\n",
              "       'GUATEMALA', 'NUEVO TEPETIAN', 'ADELPHI MERY', 'BAY SHORE',\n",
              "       'AHUCAHAPAN', '_MERYLAND', 'AYUTUXPEQUE', 'NUEVO TEPETITLAN',\n",
              "       'ANITGUO CUSCATLAN', '0E', 'SAN PABLO TACHICO', 'HONDURAS',\n",
              "       'IRVING', 'I O W A', 'SAN JUAN TEPEZONTE', 'S.S.',\n",
              "       'SAN ILDELFONSO', 'CONCEPCION', 'OREGON', 'CANOGA PARKR',\n",
              "       'CINGUERA', 'SAN FRANCISCO MORAZAN', 'SAN PEDRO PUXTAL',\n",
              "       'SANTA ROSA GUACHIPILIN', 'STA. ROSA DE LIMA', 'OKLAHOMA',\n",
              "       'BOSTON', 'CAROLINA DEL', 'CIUDAD DELGAdo', 'PENNSYLVANIA',\n",
              "       'DALLAS TEXAS', 'QUEZALTEPEQUe', 'SENSUNTEPEQUR', 'MIAMI FLORIDA',\n",
              "       'BOLTIMORE', 'ARCE', 'COMAYAHUELA', 'NEY YERSY', 'USUULUTAN',\n",
              "       'SAN FRANCISCO MELENDEZ', 'CIUDAD REAL', 'QUEZALTEPQUE',\n",
              "       'LONG BEACH', 'ANTG.CUSCATLAN', 'SAN FCO GOTERA',\n",
              "       'ANTIGUO CUSCSATLAN', 'MEANGUERA DE GOLFO', 'SANTIAGO NONUHALCO',\n",
              "       'ELCONGO', 'San salvador', 'MERILAND', 'PANAMA', 'ORCHARD',\n",
              "       'ANTG CUSCATLAN', 'LILBURN', 'MICHIGAN', 'SN JUAN OPICO',\n",
              "       'MIAMI FLORID', 'PERKIN', 'ARLINGTON', 'CANDELARIA DA LA FRA.',\n",
              "       'TALPAHUACA', 'SAN ANTONIO LOS RANCHOS', 'BEALETON',\n",
              "       'SAN JOSE VILLNUEVA', 'SNATIAGO TEXACUANGOS', 'MARYLANDA',\n",
              "       'MONTEREY PARK', 'L.A. CA 9001', 'SN FCO JAVIER', 'O',\n",
              "       'SAN SAVLADOR', 'MINESOTA', 'M-D 20879', 'EDGEMONT',\n",
              "       'ESTADO DE VIRGINIA', 'PALO ALTO', '_EE UU', 'SUCHIITOTO',\n",
              "       'FARMERS BRAN', 'CONCEPCION OTE.', 'SAN SAOVADOR', 'CHALETANGO',\n",
              "       'AOYAPANGO', 'SAN FERANNDO', 'NEWJERSEY', 'LA LLIBERTAD',\n",
              "       'CALIFORNIA U', 'CALIF.', 'PUERTO EL TIRUNFO', 'BRITISH COLO',\n",
              "       'ANTIGUA CUSCATLAN', 'HOUSTON,TEXA', 'EW JERSEY',\n",
              "       'SAN BARTOLO PERULAPIA', 'SAN RAFAEL OBRAJUALO', 'LIBERTAD',\n",
              "       'SAN JOSE LAS FUENTE', 'ORATORIO DE ORIENTE', 'STG TEXACUANGO',\n",
              "       'SAN JUAN OPIco', 'CIUDA MERLIOT', 'SAN PEDRO', '_WASHINGGTON',\n",
              "       'SAN FRANCISCO JAIVER', 'SAN FRANCISCO  MENENDEZ',\n",
              "       'NUEVO EDEN DE SAN JU', 'NORTH CAROLI', 'GUACOTECTIC',\n",
              "       'QUEZALTEPEQUE|', 'ILOPNAGO', 'COSTA MESA', 'SAN JUAN TEPEZONTEZ',\n",
              "       'SAN JOSE OJOS DE AGUA', 'PANORAMA CIT', 'SNA PEDRO PERULAPAN',\n",
              "       'SAN AMRCOS', 'CALIFORNAI', 'EL TRIUNFO', 'CONP DE ORIENTE',\n",
              "       'EREYGUAQUIN', 'TENNESSEE', 'LENNOX', 'SAN PEDRO PURULAPAN',\n",
              "       'ANTG. CUSCATLAN', 'LEESBURG', 'MINNESOTA', 'ANTIGUO CUSCCATLAN',\n",
              "       'SANTIAGO TEXACUNAGOS', 'SOAYAPANGO', 'TONACATEPEQUSAN SALVADOR',\n",
              "       'SAN ANTONIO DEL  MONTE', 'CIUDAD MERLI', 'SNA IGNACIO',\n",
              "       'PASADENA', 'SOYSPANGO', 'CIUDAD DELAGDO',\n",
              "       'DELICIAS DE DE CONCEPCION', 'NUEVA ESPARTa', 'SCACOYO'],\n",
              "      dtype=object)"
            ]
          },
          "metadata": {},
          "execution_count": 46
        }
      ]
    },
    {
      "cell_type": "code",
      "metadata": {
        "id": "f62NtetXP3aZ"
      },
      "source": [
        "#Debido a las modificaciones anteriores sobre la ciudad, se corre de nuevo el comando para convertirla a Categórica\n",
        "df['CIUDAD'] = df['CIUDAD'].astype('category')"
      ],
      "execution_count": null,
      "outputs": []
    },
    {
      "cell_type": "code",
      "metadata": {
        "id": "IOmQmnhOP3dP"
      },
      "source": [
        "#Se codifican las variables Ciudad y Nombre de agencia para poderlas usar en el modelo. Esto debido a que los modelos de Machine Learning no toman\n",
        "#estas variables como String. Esta codificación asigna un número a cada nivel de la variable categórica permitiendo usarse en el modelo. De tal forma se\n",
        "#crean las variables CIUDAD_COD y NOMBRE_AGENCIA_COD\n",
        "df['CIUDAD_COD']=df['CIUDAD'].cat.codes\n",
        "df['NOMBRE_AGENCIA_COD']=df['NOMBRE_AGENCIA'].cat.codes"
      ],
      "execution_count": null,
      "outputs": []
    },
    {
      "cell_type": "code",
      "metadata": {
        "colab": {
          "base_uri": "https://localhost:8080/"
        },
        "id": "HV8Qxhd6ecjM",
        "outputId": "3a51236d-3c0c-4515-aa4d-e6b6ce6abb54"
      },
      "source": [
        "df.CIUDAD_COD.unique()"
      ],
      "execution_count": null,
      "outputs": [
        {
          "output_type": "execute_result",
          "data": {
            "text/plain": [
              "array([194, 252, 606, 320, 112, 662, 740, 604, 607, 646,  96, 761,  50,\n",
              "       276, 232, 689, 772, 450, 190, 784, 729, 526, 151, 268, 303, 116,\n",
              "       128,  77, 737, 158, 416, 660, 653,   4, 389, 602,  37, 591, 811,\n",
              "       693, 379, 277, 738,  35, 809, 581, 773, 753, 127, 257, 684, 356,\n",
              "       711, 449, 251, 544, 702,  60, 274,  53, 160,  27,  36, 196, 420,\n",
              "        72, 105, 129, 796, 615, 708, 200, 284, 441, 282, 621, 132, 701,\n",
              "       451, 195, 557, 309, 754, 301,   9, 262, 185, 122,   6, 777, 637,\n",
              "       623, 714,  48, 614, 201, 204, 628, 425, 234, 494, 676, 341, 756,\n",
              "       789, 141, 806, 117, 600,  97, 287, 329, 762,  25, 749, 159,  54,\n",
              "       409,   8, 582, 760, 236, 674, 470, 377, 764, 298, 102, 267, 696,\n",
              "       543, 353, 331, 592, 444, 186, 566, 393, 471, 263, 205, 406, 705,\n",
              "       510, 162, 626, 509, 288, 297, 388, 272, 759, 682, 103, 265, 680,\n",
              "       330,  75, 495, 645, 104, 239, 240, 238, 275, 215, 246, 672, 142,\n",
              "       712, 654,  78, 271, 316, 657, 812, 299, 472, 313, 193, 521, 757,\n",
              "       678, 180, 474, 464, 482, 433, 140, 612, 636, 624, 347, 270, 171,\n",
              "       326, 804, 706, 502, 387, 490, 381,  69, 285, 134, 574, 417, 561,\n",
              "       593, 679, 108, 668, 478, 170, 352, 553, 376, 585, 694, 735, 575,\n",
              "       554, 703, 698, 608, 177, 325, 768, 139, 462, 765,  81, 671, 147,\n",
              "        99, 191, 281,  59, 790,  38, 675, 364, 597, 555, 603, 342, 655,\n",
              "        15, 500, 758, 579, 501, 101, 677,  41, 578, 209, 534, 649, 113,\n",
              "       266, 610, 540, 144, 551, 155, 436, 361, 107, 278, 374, 506, 635,\n",
              "       475, 343, 775, 622, 505,  83, 492, 133, 798, 639, 518, 766, 354,\n",
              "       595, 533, 437, 148,  31, 181, 149, 613, 808, 382, 183, 385,  88,\n",
              "       373, 778, 586, 781, 235, 524, 791, 567, 289, 402, 174, 641, 568,\n",
              "       670, 350, 114, 710, 399, 617, 455, 767, 199, 243, 625, 256,   1,\n",
              "       508, 803, 733, 344, 598, 143,  39, 631, 782, 599, 213, 665, 634,\n",
              "       438,  12, 541, 468, 228, 587, 560, 697, 487, 741, 536, 695, 164,\n",
              "       681, 338, 227, 663, 785, 221, 312, 314, 519, 564, 383, 255, 642,\n",
              "       463, 486, 499, 532, 137, 367, 340,  90, 525,   7, 411, 730, 736,\n",
              "       359, 302, 371, 529,   3, 751, 669, 644, 572, 545,  55, 787, 432,\n",
              "       699, 619, 187, 304, 815, 384, 723, 794, 569, 291, 511, 408, 422,\n",
              "       317, 423, 130, 163, 125, 173, 401, 357, 493, 261, 258, 322, 176,\n",
              "       480, 666, 563,  28, 797, 589, 386, 175, 321, 605, 269, 611, 550,\n",
              "       707, 335,  94, 715, 407, 254, 179,  43, 594, 222, 783, 685,  56,\n",
              "       810, 656, 721, 483, 339, 725, 488,  34, 231, 820, 355, 368, 372,\n",
              "       673, 324, 369,  13, 516, 414, 100, 214, 692, 792, 686, 647, 793,\n",
              "       726, 801, 365, 720, 558, 260, 664, 601, 182, 618, 458,  23,  76,\n",
              "       165, 629, 448, 145,  11, 484,  26, 651,  49, 323, 530, 638, 150,\n",
              "       395,  74, 348, 319, 358, 813, 136,  19, 351, 565, 447, 397, 286,\n",
              "       539, 771, 203,  68, 512, 562, 247, 552, 609, 311, 779, 248, 780,\n",
              "       724, 226, 315, 110, 445, 360, 799, 479, 249, 168, 817, 305, 123,\n",
              "       688, 731, 307, 769,  44, 728, 273, 504, 520, 241, 473, 212,  82,\n",
              "       223, 667,  45, 230, 477, 496, 643, 442, 156, 434, 435, 683, 224,\n",
              "        63, 527, 739, 346,  80,  64, 109, 795,  51, 750, 800, 169, 788,\n",
              "       264, 290, 515, 466,  87, 805, 166, 596, 559, 719, 118, 153,  32,\n",
              "       446, 405, 296, 152, 747, 818, 428, 244, 497, 456, 349, 807,   0,\n",
              "       218, 207, 658, 465, 279, 380, 538, 229, 426, 216, 439, 225,  14,\n",
              "       430, 503, 691, 513, 178, 189, 744,  47, 457, 498, 776, 219,  92,\n",
              "       427, 627, 461, 743, 197, 391, 308,  95, 802, 489, 192, 577, 410,\n",
              "        86, 583, 770, 822, 661, 517,  84, 198, 528, 546, 392, 507, 690,\n",
              "       819, 659, 403, 469, 630,  17,  91, 537, 570, 327, 375,  40, 549,\n",
              "       648,  67,  65, 718, 126, 202, 120, 161, 580, 443,  18, 370, 400,\n",
              "       131, 547,  93, 459, 188, 460, 522, 237, 394,   5,  57,  10, 816,\n",
              "        52, 396,  16,   2, 616, 242, 259, 250, 588, 467, 556, 138, 415,\n",
              "        85, 106, 548, 633, 687, 745, 404,  62,  89, 119, 429, 167, 453,\n",
              "       713, 333,  61,  42, 135, 363, 786, 542, 124, 454, 300,  22, 514,\n",
              "        30, 318, 700, 208, 752, 328, 419, 413,  20, 295, 334, 717, 332,\n",
              "       431,  46,  79, 755, 485,  58, 576, 732, 310, 345, 280, 716, 398,\n",
              "       652, 336, 306, 184, 211, 418, 814, 748, 220, 146, 650,  98,  33,\n",
              "       523, 362, 283,  73,  70, 440,  66,  24, 245, 217, 491, 640, 294,\n",
              "       571, 412, 746, 584, 111, 620, 821, 535, 531, 390, 366, 233, 452,\n",
              "       253, 157, 590, 573, 421, 727, 476,  71, 206, 154, 210, 763, 293,\n",
              "       632,  21, 292, 337,  29, 704, 734, 774, 481, 121, 722, 424, 742,\n",
              "       115, 172, 378, 709], dtype=int16)"
            ]
          },
          "metadata": {},
          "execution_count": 49
        }
      ]
    },
    {
      "cell_type": "markdown",
      "metadata": {
        "id": "iYHYw9DNQCjC"
      },
      "source": [
        "Pasemos ahora a la creación de modelos propios de Machine Learning que nos permitan predecir la duración de los asegurados en la póliza con las diferentes variables independientes que hemos estado analizando. Para ello se construyeron 4 modelos. El modelo 1 corresponde a una regresión lineal múltiple, el modelo 2 es una regresión polinomial que hace una transformación de las variables independientes usando un polinomio de grado 2. El modelo 3 usa árboles de decisión y por último se corrió un modelo 4 con bosques aleatorios.\n",
        "Se construyeron estos 4 modelos con capacidades de predicción, como es el objetivo de este ejercicio, para poder compararlos y seleccionar el mejor modelo para predecir el tiempo o duración de un asegurado en la póliza de seguros."
      ]
    },
    {
      "cell_type": "markdown",
      "metadata": {
        "id": "lOklwzXNQHXd"
      },
      "source": [
        "MODELO 1: REGRESIÓN LINEAL MULTIPLE"
      ]
    },
    {
      "cell_type": "code",
      "metadata": {
        "id": "dN9Ga5OHQFzw"
      },
      "source": [
        "#Este fue el primero modelo utilizado para intentar predecir la variable objetivo Duracion en la poliza\n",
        "#Se utilizó la regresión lineal múltiple porque tenemos en el set de datos múltiples variables\n",
        "#independientes que contribuyen a la variable dependiente.\n",
        "#Importamos la siguiente librería de sklearn para utilizar los métodos y funciones de un modelo lineal.\n",
        "from sklearn import linear_model"
      ],
      "execution_count": null,
      "outputs": []
    },
    {
      "cell_type": "code",
      "metadata": {
        "colab": {
          "base_uri": "https://localhost:8080/"
        },
        "id": "iXutonQhQF_A",
        "outputId": "e22d8cd3-1f5e-4c06-b439-3168b969cdac"
      },
      "source": [
        "#Para los datos del modelo que componen las variables independientes excluimos: la variable objetivo Duración ya que esta es la variable Y. Se excluye\n",
        "#la fecha de nacimiento ya que calculamos la edad. Finalmente se excluye las variables categóricas NOMBRE_AGENCIA y CIUDAD ya que se codificaron para\n",
        "#poder ser usadas en los modelos y librerías de scikit-learn\n",
        "x = df.drop(['DURACION','FECHA_NACIMIENTO','NOMBRE_AGENCIA','CIUDAD'], axis=1)\n",
        "y=df['DURACION']\n",
        "print(x.shape)\n",
        "print(y.shape)"
      ],
      "execution_count": null,
      "outputs": [
        {
          "output_type": "stream",
          "text": [
            "(100000, 9)\n",
            "(100000,)\n"
          ],
          "name": "stdout"
        }
      ]
    },
    {
      "cell_type": "code",
      "metadata": {
        "id": "l47f9KCwQGCR"
      },
      "source": [
        "#Se importa el método train_test_split de Scikit-learn para dividir un conjunto de datos de una matriz \n",
        "#o DataFrame en dos conjuntos aleatorios con un tamaño dato\n",
        "from sklearn.model_selection import train_test_split"
      ],
      "execution_count": null,
      "outputs": []
    },
    {
      "cell_type": "code",
      "metadata": {
        "id": "dpiqVVLtQGE9"
      },
      "source": [
        "#Separo los datos de entrenamiento y prueba para probar los algoritmos. Se usa un tamaño de datos de prueba de 20%\n",
        "#dado que es un porcentaje similar a los datos que debemos de testear y pronosticar para la duración en la poliza\n",
        "X_train, X_test, Y_train, Y_test = train_test_split(x,y, test_size=0.2, random_state=20)"
      ],
      "execution_count": null,
      "outputs": []
    },
    {
      "cell_type": "code",
      "metadata": {
        "colab": {
          "base_uri": "https://localhost:8080/"
        },
        "id": "lVJO4wV2P3f2",
        "outputId": "42015e0d-a4d8-4fed-a430-048797dbf688"
      },
      "source": [
        "#Los 100 mil registros quedan divididos en datos de entrenamiento y prueba como sigue:\n",
        "print(X_train.shape)\n",
        "print(X_test.shape)\n",
        "print(Y_train.shape)\n",
        "print(Y_test.shape)"
      ],
      "execution_count": null,
      "outputs": [
        {
          "output_type": "stream",
          "text": [
            "(80000, 9)\n",
            "(20000, 9)\n",
            "(80000,)\n",
            "(20000,)\n"
          ],
          "name": "stdout"
        }
      ]
    },
    {
      "cell_type": "code",
      "metadata": {
        "colab": {
          "base_uri": "https://localhost:8080/"
        },
        "id": "XCkHyZx2QR8i",
        "outputId": "ae95064a-7f4e-4a54-8844-1085fe84dd6f"
      },
      "source": [
        "#El algoritmo a utilizar en este caso es la regresión múltiple y normalizo las variables\n",
        "lr_multiple=linear_model.LinearRegression(normalize=True)\n",
        "#Entreno el modelo\n",
        "lr_multiple.fit(X_train,Y_train)"
      ],
      "execution_count": null,
      "outputs": [
        {
          "output_type": "execute_result",
          "data": {
            "text/plain": [
              "LinearRegression(copy_X=True, fit_intercept=True, n_jobs=None, normalize=True)"
            ]
          },
          "metadata": {},
          "execution_count": 56
        }
      ]
    },
    {
      "cell_type": "code",
      "metadata": {
        "id": "EaNTq3xPQR_-"
      },
      "source": [
        "#Se generan las Y predichas\n",
        "Y_pred_multiple=lr_multiple.predict(X_test)\n",
        "#print('Valor de las pendientes e intersección o coeficientes de la regresión lineal multiple')\n",
        "#print(lr_multiple.coef_)\n",
        "#print(lr_multiple.intercept_)"
      ],
      "execution_count": null,
      "outputs": []
    },
    {
      "cell_type": "markdown",
      "metadata": {
        "id": "vj-jptNrQahm"
      },
      "source": [
        "Los 4 modelos se van a comparar con base en indicadores o métricas para modelos de predicción como son el R2, el MAE, MSE, RMSE como medidas del error del pronóstico frente a los datos reales:"
      ]
    },
    {
      "cell_type": "code",
      "metadata": {
        "colab": {
          "base_uri": "https://localhost:8080/"
        },
        "id": "vnipzlltQSCy",
        "outputId": "0cf5b7f5-75f1-4d76-ae97-8c9b845175d1"
      },
      "source": [
        "print('Precision del modelo')\n",
        "print(lr_multiple.score(X_train,Y_train))\n",
        "print('R2 =',lr_multiple.score(X_test,Y_test))\n",
        "print()\n",
        "print('MAE: ', metrics.mean_absolute_error(Y_test, Y_pred_multiple))\n",
        "print('MSE: ', metrics.mean_squared_error(Y_test, Y_pred_multiple))\n",
        "print('RMSE: ', np.sqrt(metrics.mean_squared_error(Y_test, Y_pred_multiple)))\n",
        "print('R2: %.3f'% metrics.r2_score(Y_test, Y_pred_multiple))"
      ],
      "execution_count": null,
      "outputs": [
        {
          "output_type": "stream",
          "text": [
            "Precision del modelo\n",
            "0.4564174560286264\n",
            "R2 = 0.4522904191032263\n",
            "\n",
            "MAE:  1.8101146418749998\n",
            "MSE:  6.036836454334617\n",
            "RMSE:  2.456997446953215\n",
            "R2: 0.452\n"
          ],
          "name": "stdout"
        }
      ]
    },
    {
      "cell_type": "code",
      "metadata": {
        "colab": {
          "base_uri": "https://localhost:8080/"
        },
        "id": "EodMr2q5QSFd",
        "outputId": "055672f3-2b16-4fb8-81a8-14c76243193b"
      },
      "source": [
        "#Se realiza cross validation con k=5 fold para tener diferentes estimaciones del modelo. \n",
        "from sklearn.model_selection import cross_val_score\n",
        "cv_results = cross_val_score(lr_multiple, X_train, Y_train, cv=5)\n",
        "print(cv_results)"
      ],
      "execution_count": null,
      "outputs": [
        {
          "output_type": "stream",
          "text": [
            "[0.44943919 0.46624438 0.45138014 0.47068809 0.44170413]\n"
          ],
          "name": "stdout"
        }
      ]
    },
    {
      "cell_type": "code",
      "metadata": {
        "colab": {
          "base_uri": "https://localhost:8080/"
        },
        "id": "-ldqnqN4QSIT",
        "outputId": "198bef94-61ee-4504-d068-bf8689ab83d4"
      },
      "source": [
        "#En el siguiente comando se generan e imprimen los datos reales vs los predichos por el modelo de regresión lineal múltiple\n",
        "df1= pd.DataFrame({'Real Values':Y_test, 'Predicted Values':Y_pred_multiple, 'Diference': ((Y_test-Y_pred_multiple)/Y_test)})\n",
        "df1['Diference'].sum()"
      ],
      "execution_count": null,
      "outputs": [
        {
          "output_type": "execute_result",
          "data": {
            "text/plain": [
              "-118625.91207961495"
            ]
          },
          "metadata": {},
          "execution_count": 60
        }
      ]
    },
    {
      "cell_type": "markdown",
      "metadata": {
        "id": "iqXRNcJSQja8"
      },
      "source": [
        "MODELO 2: REGRESION POLINOMIAL"
      ]
    },
    {
      "cell_type": "code",
      "metadata": {
        "id": "J7LA391cQSK_"
      },
      "source": [
        "from sklearn.preprocessing import PolynomialFeatures"
      ],
      "execution_count": null,
      "outputs": []
    },
    {
      "cell_type": "code",
      "metadata": {
        "id": "p6h9gu9kQSNv"
      },
      "source": [
        "#Se define el grado del polinomio\n",
        "poli_reg = PolynomialFeatures(degree = 2)"
      ],
      "execution_count": null,
      "outputs": []
    },
    {
      "cell_type": "code",
      "metadata": {
        "id": "9RHAI_VkQo4F"
      },
      "source": [
        "#Se transforma las características existentes en características de mayor grado. En este caso un polinomio de grado 2\n",
        "X_train_poli = poli_reg.fit_transform(X_train)\n",
        "X_test_poli = poli_reg.fit_transform(X_test)"
      ],
      "execution_count": null,
      "outputs": []
    },
    {
      "cell_type": "code",
      "metadata": {
        "colab": {
          "base_uri": "https://localhost:8080/"
        },
        "id": "kw4cPLFpQo6u",
        "outputId": "ae5f0202-b032-45a7-ed18-a7a42e42793c"
      },
      "source": [
        "#Defino el algoritmo a utilizar\n",
        "pr = linear_model.LinearRegression()\n",
        "#Entreno el modelo\n",
        "pr.fit(X_train_poli, Y_train)"
      ],
      "execution_count": null,
      "outputs": [
        {
          "output_type": "execute_result",
          "data": {
            "text/plain": [
              "LinearRegression(copy_X=True, fit_intercept=True, n_jobs=None, normalize=False)"
            ]
          },
          "metadata": {},
          "execution_count": 64
        }
      ]
    },
    {
      "cell_type": "code",
      "metadata": {
        "id": "-Nl5GL4KQo9b"
      },
      "source": [
        "#Realizo una predicción\n",
        "Y_pred_pr = pr.predict(X_test_poli)"
      ],
      "execution_count": null,
      "outputs": []
    },
    {
      "cell_type": "code",
      "metadata": {
        "colab": {
          "base_uri": "https://localhost:8080/"
        },
        "id": "u4lEmgk-QpAD",
        "outputId": "940b3ff6-19ff-4fa4-b4ab-b07ea5733432"
      },
      "source": [
        "print('DATOS DE LA REGRESION POLINOMIAL')\n",
        "print('Precisión del modelo:')\n",
        "print(pr.score(X_train_poli, Y_train))\n",
        "print()\n",
        "print('MAE: ', metrics.mean_absolute_error(Y_test, Y_pred_pr))\n",
        "print('MSE: ', metrics.mean_squared_error(Y_test, Y_pred_pr))\n",
        "print('RMSE: ', np.sqrt(metrics.mean_squared_error(Y_test, Y_pred_pr)))\n",
        "print('R2: %.3f'% metrics.r2_score(Y_test, Y_pred_pr))"
      ],
      "execution_count": null,
      "outputs": [
        {
          "output_type": "stream",
          "text": [
            "DATOS DE LA REGRESION POLINOMIAL\n",
            "Precisión del modelo:\n",
            "0.9174632473902361\n",
            "\n",
            "MAE:  0.6016814153040294\n",
            "MSE:  0.930204979584496\n",
            "RMSE:  0.9644713472076275\n",
            "R2: 0.916\n"
          ],
          "name": "stdout"
        }
      ]
    },
    {
      "cell_type": "code",
      "metadata": {
        "colab": {
          "base_uri": "https://localhost:8080/"
        },
        "id": "PuktdRCIQpC0",
        "outputId": "7c82eb3b-a045-434c-af8f-03a7eff32897"
      },
      "source": [
        "#Cross Validation para el modelo de Regresión Polinomial\n",
        "cv_results = cross_val_score(pr, X_train_poli, Y_train, cv=5)\n",
        "print(cv_results)"
      ],
      "execution_count": null,
      "outputs": [
        {
          "output_type": "stream",
          "text": [
            "[0.91783864 0.91722728 0.91226711 0.9200725  0.91838096]\n"
          ],
          "name": "stdout"
        }
      ]
    },
    {
      "cell_type": "code",
      "metadata": {
        "colab": {
          "base_uri": "https://localhost:8080/"
        },
        "id": "tBCw4NtsQpFa",
        "outputId": "b23074fd-c7af-4926-fd67-fd6591aafd7b"
      },
      "source": [
        "df2= pd.DataFrame({'Real Values':Y_test, 'Predicted Values':Y_pred_pr, 'Diference': ((Y_test-Y_pred_pr)/Y_test)})\n",
        "df2['Diference'].sum()"
      ],
      "execution_count": null,
      "outputs": [
        {
          "output_type": "execute_result",
          "data": {
            "text/plain": [
              "-47945.86332659973"
            ]
          },
          "metadata": {},
          "execution_count": 68
        }
      ]
    },
    {
      "cell_type": "markdown",
      "metadata": {
        "id": "W2tDywfWQ20w"
      },
      "source": [
        "MODELO 3: ARBOLES DE DECISION REGRESION"
      ]
    },
    {
      "cell_type": "code",
      "metadata": {
        "id": "r0FrNQzQQ3np"
      },
      "source": [
        "#Importamos la librería de Scikit Learn de árboles de decisión Regresión para hacer ejercicios de predicción\n",
        "from sklearn.tree import DecisionTreeRegressor"
      ],
      "execution_count": null,
      "outputs": []
    },
    {
      "cell_type": "code",
      "metadata": {
        "colab": {
          "base_uri": "https://localhost:8080/"
        },
        "id": "YROEJ-OrQ3qR",
        "outputId": "3d9c6b5f-1478-490c-8834-202cf8bd73f1"
      },
      "source": [
        "#Debido a que los árboles de decición tienen varios hiperparámetros entre ellos la profundidad del árbol y se convierte en un parámetro adicional para\n",
        "#estimar en el modelo, el siguiente código nos permite identificar el mejor valor del parámetro para el conjunto de datos de la duración del asegurado\n",
        "#en la póliza. El resultado de la simulación es un max_depth de 9\n",
        "from sklearn.model_selection import GridSearchCV\n",
        "from scipy.stats import randint\n",
        "\n",
        "param_grid = {'max_depth': np.arange(1, 15)}\n",
        "knn = DecisionTreeRegressor()\n",
        "knn_cv = GridSearchCV(knn, param_grid, cv=5)\n",
        "knn_cv.fit(x, y)\n",
        "knn_cv.best_params_"
      ],
      "execution_count": null,
      "outputs": [
        {
          "output_type": "execute_result",
          "data": {
            "text/plain": [
              "{'max_depth': 9}"
            ]
          },
          "metadata": {},
          "execution_count": 70
        }
      ]
    },
    {
      "cell_type": "code",
      "metadata": {
        "colab": {
          "base_uri": "https://localhost:8080/",
          "height": 283
        },
        "id": "lvfNLf5oQ3tU",
        "outputId": "90d3d03c-a676-4577-c591-e2dca3be11b9"
      },
      "source": [
        "#Tambien se puede construir una curva usando validación cruzada la cual nos permite ver en que valor del\n",
        "#hyperparámetro no se mejora significativamente el desempeño del modelo\n",
        "from sklearn.model_selection import validation_curve\n",
        "max_depth=np.arange(1, 15)\n",
        "train_score, val_score = validation_curve(DecisionTreeRegressor(), x, y,\n",
        "                                          'max_depth', max_depth, cv=7)\n",
        "\n",
        "plt.plot(max_depth, np.median(train_score, 1), color='blue', label='Puntaje de entrenamiento')\n",
        "plt.plot(max_depth, np.median(val_score, 1), color='red', label='Puntaje de validación')\n",
        "plt.legend(loc='best')\n",
        "plt.ylim(0, 1)\n",
        "plt.xlabel('Grado')\n",
        "plt.ylabel('Puntaje');"
      ],
      "execution_count": null,
      "outputs": [
        {
          "output_type": "display_data",
          "data": {
            "image/png": "[encoded data removed]",
            "text/plain": [
              "<Figure size 432x288 with 1 Axes>"
            ]
          },
          "metadata": {
            "needs_background": "light"
          }
        }
      ]
    },
    {
      "cell_type": "code",
      "metadata": {
        "colab": {
          "base_uri": "https://localhost:8080/"
        },
        "id": "Nu28bDq5Q3wL",
        "outputId": "39a69d8c-c15c-4b6a-882a-543db52451fb"
      },
      "source": [
        "#Se procede a construir el modelo usando el hiperparámetro max_depth = 9, siendo el resultado de la anterior corrida.\n",
        "adr = DecisionTreeRegressor(max_depth=9)\n",
        "adr.fit(X_train, Y_train)\n",
        "Y_adr_pred=adr.predict(X_test)\n",
        "print(Y_adr_pred)"
      ],
      "execution_count": null,
      "outputs": [
        {
          "output_type": "stream",
          "text": [
            "[0.53182896 1.1345348  3.07105578 ... 0.4218315  0.6143953  5.51491923]\n"
          ],
          "name": "stdout"
        }
      ]
    },
    {
      "cell_type": "code",
      "metadata": {
        "colab": {
          "base_uri": "https://localhost:8080/"
        },
        "id": "Z8Dybg_6Q3y9",
        "outputId": "7690b1f4-80a6-42c5-efa1-6398474d075e"
      },
      "source": [
        "print('DATOS DEL MODELO ARBOLES DE DECISION REGRESIÓN')\n",
        "\n",
        "print('Precisión del modelo:')\n",
        "print(adr.score(X_train, Y_train))\n",
        "print()\n",
        "print('MAE: ', metrics.mean_absolute_error(Y_test, Y_adr_pred))\n",
        "print('MSE: ', metrics.mean_squared_error(Y_test, Y_adr_pred))\n",
        "print('RMSE: ', np.sqrt(metrics.mean_squared_error(Y_test, Y_adr_pred)))\n",
        "print('R2: %.3f'% metrics.r2_score(Y_test, Y_adr_pred))"
      ],
      "execution_count": null,
      "outputs": [
        {
          "output_type": "stream",
          "text": [
            "DATOS DEL MODELO ARBOLES DE DECISION REGRESIÓN\n",
            "Precisión del modelo:\n",
            "0.9762495083542081\n",
            "\n",
            "MAE:  0.24036376961917022\n",
            "MSE:  0.3167549372597291\n",
            "RMSE:  0.5628098588863997\n",
            "R2: 0.971\n"
          ],
          "name": "stdout"
        }
      ]
    },
    {
      "cell_type": "code",
      "metadata": {
        "colab": {
          "base_uri": "https://localhost:8080/"
        },
        "id": "F0QDgptuQ31y",
        "outputId": "30ecbab4-f090-4f56-e4d5-c69aece6c47f"
      },
      "source": [
        "#Cross Validation para el modelo de Árboles de Decisión\n",
        "cv_results = cross_val_score(adr, X_train, Y_train, cv=5)\n",
        "print(cv_results)"
      ],
      "execution_count": null,
      "outputs": [
        {
          "output_type": "stream",
          "text": [
            "[0.97251084 0.97196107 0.96536278 0.96803949 0.97113626]\n"
          ],
          "name": "stdout"
        }
      ]
    },
    {
      "cell_type": "code",
      "metadata": {
        "colab": {
          "base_uri": "https://localhost:8080/"
        },
        "id": "DQlA_dzgQ35B",
        "outputId": "19e45a0e-8777-449f-a62f-5e4588112dd9"
      },
      "source": [
        "df3= pd.DataFrame({'Real Values':Y_test, 'Predicted Values':Y_adr_pred, 'Diference': ((Y_test-Y_adr_pred)/Y_test)})\n",
        "df3['Diference'].sum()"
      ],
      "execution_count": null,
      "outputs": [
        {
          "output_type": "execute_result",
          "data": {
            "text/plain": [
              "-33222.74103679147"
            ]
          },
          "metadata": {},
          "execution_count": 75
        }
      ]
    },
    {
      "cell_type": "markdown",
      "metadata": {
        "id": "cM0mZ17XRKpD"
      },
      "source": [
        "MODELO 4: BOSQUES ALEATORIOS REGRESION"
      ]
    },
    {
      "cell_type": "code",
      "metadata": {
        "id": "nieAcyqhRJYA"
      },
      "source": [
        "#Importamos la librería de Scikit Learn de bosques aleatorios Regresión para hacer ejercicios de predicción\n",
        "from sklearn.ensemble import RandomForestRegressor"
      ],
      "execution_count": null,
      "outputs": []
    },
    {
      "cell_type": "code",
      "metadata": {
        "colab": {
          "base_uri": "https://localhost:8080/",
          "height": 358
        },
        "id": "M0E3pRe5RJ7_",
        "outputId": "2d4b9381-4c86-481d-9b0b-fd382a169607"
      },
      "source": [
        "#De manera similar al modelo 3, los bosques aleatorios también cuentan con un conjunto de hyperparámetros que se deben de estimar. Usamos el siguiente\n",
        "#comando para este modelo. En este caso se agregaron dos hyperparámetros: el número de árboles (n_estimators) y la profundidad de exploración (max_depth).\n",
        "#Los mejores resultados para el set de datos de duración de la poliza se imprimen a continuación:\n",
        "#from sklearn.model_selection import GridSearchCV\n",
        "#from scipy.stats import randint\n",
        "\n",
        "param_grid = {'max_depth': np.arange(1, 15),'n_estimators': np.arange(1, 15)}\n",
        "knn = RandomForestRegressor(random_state=55)\n",
        "knn_cv = GridSearchCV(knn, param_grid, cv=5)\n",
        "knn_cv.fit(x, y)\n",
        "knn_cv.best_params_"
      ],
      "execution_count": null,
      "outputs": [
        {
          "output_type": "error",
          "ename": "KeyboardInterrupt",
          "evalue": "ignored",
          "traceback": [
            "\u001b[0;31m---------------------------------------------------------------------------\u001b[0m",
            "\u001b[0;31mKeyboardInterrupt\u001b[0m                         Traceback (most recent call last)",
            "\u001b[0;32m<ipython-input-77-8be3790b222f>\u001b[0m in \u001b[0;36m<module>\u001b[0;34m()\u001b[0m\n\u001b[1;32m      8\u001b[0m \u001b[0mknn\u001b[0m \u001b[0;34m=\u001b[0m \u001b[0mRandomForestRegressor\u001b[0m\u001b[0;34m(\u001b[0m\u001b[0mrandom_state\u001b[0m\u001b[0;34m=\u001b[0m\u001b[0;36m55\u001b[0m\u001b[0;34m)\u001b[0m\u001b[0;34m\u001b[0m\u001b[0;34m\u001b[0m\u001b[0m\n\u001b[1;32m      9\u001b[0m \u001b[0mknn_cv\u001b[0m \u001b[0;34m=\u001b[0m \u001b[0mGridSearchCV\u001b[0m\u001b[0;34m(\u001b[0m\u001b[0mknn\u001b[0m\u001b[0;34m,\u001b[0m \u001b[0mparam_grid\u001b[0m\u001b[0;34m,\u001b[0m \u001b[0mcv\u001b[0m\u001b[0;34m=\u001b[0m\u001b[0;36m5\u001b[0m\u001b[0;34m)\u001b[0m\u001b[0;34m\u001b[0m\u001b[0;34m\u001b[0m\u001b[0m\n\u001b[0;32m---> 10\u001b[0;31m \u001b[0mknn_cv\u001b[0m\u001b[0;34m.\u001b[0m\u001b[0mfit\u001b[0m\u001b[0;34m(\u001b[0m\u001b[0mx\u001b[0m\u001b[0;34m,\u001b[0m \u001b[0my\u001b[0m\u001b[0;34m)\u001b[0m\u001b[0;34m\u001b[0m\u001b[0;34m\u001b[0m\u001b[0m\n\u001b[0m\u001b[1;32m     11\u001b[0m \u001b[0mknn_cv\u001b[0m\u001b[0;34m.\u001b[0m\u001b[0mbest_params_\u001b[0m\u001b[0;34m\u001b[0m\u001b[0;34m\u001b[0m\u001b[0m\n",
            "\u001b[0;32m/usr/local/lib/python3.7/dist-packages/sklearn/model_selection/_search.py\u001b[0m in \u001b[0;36mfit\u001b[0;34m(self, X, y, groups, **fit_params)\u001b[0m\n\u001b[1;32m    708\u001b[0m                 \u001b[0;32mreturn\u001b[0m \u001b[0mresults\u001b[0m\u001b[0;34m\u001b[0m\u001b[0;34m\u001b[0m\u001b[0m\n\u001b[1;32m    709\u001b[0m \u001b[0;34m\u001b[0m\u001b[0m\n\u001b[0;32m--> 710\u001b[0;31m             \u001b[0mself\u001b[0m\u001b[0;34m.\u001b[0m\u001b[0m_run_search\u001b[0m\u001b[0;34m(\u001b[0m\u001b[0mevaluate_candidates\u001b[0m\u001b[0;34m)\u001b[0m\u001b[0;34m\u001b[0m\u001b[0;34m\u001b[0m\u001b[0m\n\u001b[0m\u001b[1;32m    711\u001b[0m \u001b[0;34m\u001b[0m\u001b[0m\n\u001b[1;32m    712\u001b[0m         \u001b[0;31m# For multi-metric evaluation, store the best_index_, best_params_ and\u001b[0m\u001b[0;34m\u001b[0m\u001b[0;34m\u001b[0m\u001b[0;34m\u001b[0m\u001b[0m\n",
            "\u001b[0;32m/usr/local/lib/python3.7/dist-packages/sklearn/model_selection/_search.py\u001b[0m in \u001b[0;36m_run_search\u001b[0;34m(self, evaluate_candidates)\u001b[0m\n\u001b[1;32m   1149\u001b[0m     \u001b[0;32mdef\u001b[0m \u001b[0m_run_search\u001b[0m\u001b[0;34m(\u001b[0m\u001b[0mself\u001b[0m\u001b[0;34m,\u001b[0m \u001b[0mevaluate_candidates\u001b[0m\u001b[0;34m)\u001b[0m\u001b[0;34m:\u001b[0m\u001b[0;34m\u001b[0m\u001b[0;34m\u001b[0m\u001b[0m\n\u001b[1;32m   1150\u001b[0m         \u001b[0;34m\"\"\"Search all candidates in param_grid\"\"\"\u001b[0m\u001b[0;34m\u001b[0m\u001b[0;34m\u001b[0m\u001b[0m\n\u001b[0;32m-> 1151\u001b[0;31m         \u001b[0mevaluate_candidates\u001b[0m\u001b[0;34m(\u001b[0m\u001b[0mParameterGrid\u001b[0m\u001b[0;34m(\u001b[0m\u001b[0mself\u001b[0m\u001b[0;34m.\u001b[0m\u001b[0mparam_grid\u001b[0m\u001b[0;34m)\u001b[0m\u001b[0;34m)\u001b[0m\u001b[0;34m\u001b[0m\u001b[0;34m\u001b[0m\u001b[0m\n\u001b[0m\u001b[1;32m   1152\u001b[0m \u001b[0;34m\u001b[0m\u001b[0m\n\u001b[1;32m   1153\u001b[0m \u001b[0;34m\u001b[0m\u001b[0m\n",
            "\u001b[0;32m/usr/local/lib/python3.7/dist-packages/sklearn/model_selection/_search.py\u001b[0m in \u001b[0;36mevaluate_candidates\u001b[0;34m(candidate_params)\u001b[0m\n\u001b[1;32m    687\u001b[0m                                \u001b[0;32mfor\u001b[0m \u001b[0mparameters\u001b[0m\u001b[0;34m,\u001b[0m \u001b[0;34m(\u001b[0m\u001b[0mtrain\u001b[0m\u001b[0;34m,\u001b[0m \u001b[0mtest\u001b[0m\u001b[0;34m)\u001b[0m\u001b[0;34m\u001b[0m\u001b[0;34m\u001b[0m\u001b[0m\n\u001b[1;32m    688\u001b[0m                                in product(candidate_params,\n\u001b[0;32m--> 689\u001b[0;31m                                           cv.split(X, y, groups)))\n\u001b[0m\u001b[1;32m    690\u001b[0m \u001b[0;34m\u001b[0m\u001b[0m\n\u001b[1;32m    691\u001b[0m                 \u001b[0;32mif\u001b[0m \u001b[0mlen\u001b[0m\u001b[0;34m(\u001b[0m\u001b[0mout\u001b[0m\u001b[0;34m)\u001b[0m \u001b[0;34m<\u001b[0m \u001b[0;36m1\u001b[0m\u001b[0;34m:\u001b[0m\u001b[0;34m\u001b[0m\u001b[0;34m\u001b[0m\u001b[0m\n",
            "\u001b[0;32m/usr/local/lib/python3.7/dist-packages/joblib/parallel.py\u001b[0m in \u001b[0;36m__call__\u001b[0;34m(self, iterable)\u001b[0m\n\u001b[1;32m   1042\u001b[0m                 \u001b[0mself\u001b[0m\u001b[0;34m.\u001b[0m\u001b[0m_iterating\u001b[0m \u001b[0;34m=\u001b[0m \u001b[0mself\u001b[0m\u001b[0;34m.\u001b[0m\u001b[0m_original_iterator\u001b[0m \u001b[0;32mis\u001b[0m \u001b[0;32mnot\u001b[0m \u001b[0;32mNone\u001b[0m\u001b[0;34m\u001b[0m\u001b[0;34m\u001b[0m\u001b[0m\n\u001b[1;32m   1043\u001b[0m \u001b[0;34m\u001b[0m\u001b[0m\n\u001b[0;32m-> 1044\u001b[0;31m             \u001b[0;32mwhile\u001b[0m \u001b[0mself\u001b[0m\u001b[0;34m.\u001b[0m\u001b[0mdispatch_one_batch\u001b[0m\u001b[0;34m(\u001b[0m\u001b[0miterator\u001b[0m\u001b[0;34m)\u001b[0m\u001b[0;34m:\u001b[0m\u001b[0;34m\u001b[0m\u001b[0;34m\u001b[0m\u001b[0m\n\u001b[0m\u001b[1;32m   1045\u001b[0m                 \u001b[0;32mpass\u001b[0m\u001b[0;34m\u001b[0m\u001b[0;34m\u001b[0m\u001b[0m\n\u001b[1;32m   1046\u001b[0m \u001b[0;34m\u001b[0m\u001b[0m\n",
            "\u001b[0;32m/usr/local/lib/python3.7/dist-packages/joblib/parallel.py\u001b[0m in \u001b[0;36mdispatch_one_batch\u001b[0;34m(self, iterator)\u001b[0m\n\u001b[1;32m    857\u001b[0m                 \u001b[0;32mreturn\u001b[0m \u001b[0;32mFalse\u001b[0m\u001b[0;34m\u001b[0m\u001b[0;34m\u001b[0m\u001b[0m\n\u001b[1;32m    858\u001b[0m             \u001b[0;32melse\u001b[0m\u001b[0;34m:\u001b[0m\u001b[0;34m\u001b[0m\u001b[0;34m\u001b[0m\u001b[0m\n\u001b[0;32m--> 859\u001b[0;31m                 \u001b[0mself\u001b[0m\u001b[0;34m.\u001b[0m\u001b[0m_dispatch\u001b[0m\u001b[0;34m(\u001b[0m\u001b[0mtasks\u001b[0m\u001b[0;34m)\u001b[0m\u001b[0;34m\u001b[0m\u001b[0;34m\u001b[0m\u001b[0m\n\u001b[0m\u001b[1;32m    860\u001b[0m                 \u001b[0;32mreturn\u001b[0m \u001b[0;32mTrue\u001b[0m\u001b[0;34m\u001b[0m\u001b[0;34m\u001b[0m\u001b[0m\n\u001b[1;32m    861\u001b[0m \u001b[0;34m\u001b[0m\u001b[0m\n",
            "\u001b[0;32m/usr/local/lib/python3.7/dist-packages/joblib/parallel.py\u001b[0m in \u001b[0;36m_dispatch\u001b[0;34m(self, batch)\u001b[0m\n\u001b[1;32m    775\u001b[0m         \u001b[0;32mwith\u001b[0m \u001b[0mself\u001b[0m\u001b[0;34m.\u001b[0m\u001b[0m_lock\u001b[0m\u001b[0;34m:\u001b[0m\u001b[0;34m\u001b[0m\u001b[0;34m\u001b[0m\u001b[0m\n\u001b[1;32m    776\u001b[0m             \u001b[0mjob_idx\u001b[0m \u001b[0;34m=\u001b[0m \u001b[0mlen\u001b[0m\u001b[0;34m(\u001b[0m\u001b[0mself\u001b[0m\u001b[0;34m.\u001b[0m\u001b[0m_jobs\u001b[0m\u001b[0;34m)\u001b[0m\u001b[0;34m\u001b[0m\u001b[0;34m\u001b[0m\u001b[0m\n\u001b[0;32m--> 777\u001b[0;31m             \u001b[0mjob\u001b[0m \u001b[0;34m=\u001b[0m \u001b[0mself\u001b[0m\u001b[0;34m.\u001b[0m\u001b[0m_backend\u001b[0m\u001b[0;34m.\u001b[0m\u001b[0mapply_async\u001b[0m\u001b[0;34m(\u001b[0m\u001b[0mbatch\u001b[0m\u001b[0;34m,\u001b[0m \u001b[0mcallback\u001b[0m\u001b[0;34m=\u001b[0m\u001b[0mcb\u001b[0m\u001b[0;34m)\u001b[0m\u001b[0;34m\u001b[0m\u001b[0;34m\u001b[0m\u001b[0m\n\u001b[0m\u001b[1;32m    778\u001b[0m             \u001b[0;31m# A job can complete so quickly than its callback is\u001b[0m\u001b[0;34m\u001b[0m\u001b[0;34m\u001b[0m\u001b[0;34m\u001b[0m\u001b[0m\n\u001b[1;32m    779\u001b[0m             \u001b[0;31m# called before we get here, causing self._jobs to\u001b[0m\u001b[0;34m\u001b[0m\u001b[0;34m\u001b[0m\u001b[0;34m\u001b[0m\u001b[0m\n",
            "\u001b[0;32m/usr/local/lib/python3.7/dist-packages/joblib/_parallel_backends.py\u001b[0m in \u001b[0;36mapply_async\u001b[0;34m(self, func, callback)\u001b[0m\n\u001b[1;32m    206\u001b[0m     \u001b[0;32mdef\u001b[0m \u001b[0mapply_async\u001b[0m\u001b[0;34m(\u001b[0m\u001b[0mself\u001b[0m\u001b[0;34m,\u001b[0m \u001b[0mfunc\u001b[0m\u001b[0;34m,\u001b[0m \u001b[0mcallback\u001b[0m\u001b[0;34m=\u001b[0m\u001b[0;32mNone\u001b[0m\u001b[0;34m)\u001b[0m\u001b[0;34m:\u001b[0m\u001b[0;34m\u001b[0m\u001b[0;34m\u001b[0m\u001b[0m\n\u001b[1;32m    207\u001b[0m         \u001b[0;34m\"\"\"Schedule a func to be run\"\"\"\u001b[0m\u001b[0;34m\u001b[0m\u001b[0;34m\u001b[0m\u001b[0m\n\u001b[0;32m--> 208\u001b[0;31m         \u001b[0mresult\u001b[0m \u001b[0;34m=\u001b[0m \u001b[0mImmediateResult\u001b[0m\u001b[0;34m(\u001b[0m\u001b[0mfunc\u001b[0m\u001b[0;34m)\u001b[0m\u001b[0;34m\u001b[0m\u001b[0;34m\u001b[0m\u001b[0m\n\u001b[0m\u001b[1;32m    209\u001b[0m         \u001b[0;32mif\u001b[0m \u001b[0mcallback\u001b[0m\u001b[0;34m:\u001b[0m\u001b[0;34m\u001b[0m\u001b[0;34m\u001b[0m\u001b[0m\n\u001b[1;32m    210\u001b[0m             \u001b[0mcallback\u001b[0m\u001b[0;34m(\u001b[0m\u001b[0mresult\u001b[0m\u001b[0;34m)\u001b[0m\u001b[0;34m\u001b[0m\u001b[0;34m\u001b[0m\u001b[0m\n",
            "\u001b[0;32m/usr/local/lib/python3.7/dist-packages/joblib/_parallel_backends.py\u001b[0m in \u001b[0;36m__init__\u001b[0;34m(self, batch)\u001b[0m\n\u001b[1;32m    570\u001b[0m         \u001b[0;31m# Don't delay the application, to avoid keeping the input\u001b[0m\u001b[0;34m\u001b[0m\u001b[0;34m\u001b[0m\u001b[0;34m\u001b[0m\u001b[0m\n\u001b[1;32m    571\u001b[0m         \u001b[0;31m# arguments in memory\u001b[0m\u001b[0;34m\u001b[0m\u001b[0;34m\u001b[0m\u001b[0;34m\u001b[0m\u001b[0m\n\u001b[0;32m--> 572\u001b[0;31m         \u001b[0mself\u001b[0m\u001b[0;34m.\u001b[0m\u001b[0mresults\u001b[0m \u001b[0;34m=\u001b[0m \u001b[0mbatch\u001b[0m\u001b[0;34m(\u001b[0m\u001b[0;34m)\u001b[0m\u001b[0;34m\u001b[0m\u001b[0;34m\u001b[0m\u001b[0m\n\u001b[0m\u001b[1;32m    573\u001b[0m \u001b[0;34m\u001b[0m\u001b[0m\n\u001b[1;32m    574\u001b[0m     \u001b[0;32mdef\u001b[0m \u001b[0mget\u001b[0m\u001b[0;34m(\u001b[0m\u001b[0mself\u001b[0m\u001b[0;34m)\u001b[0m\u001b[0;34m:\u001b[0m\u001b[0;34m\u001b[0m\u001b[0;34m\u001b[0m\u001b[0m\n",
            "\u001b[0;32m/usr/local/lib/python3.7/dist-packages/joblib/parallel.py\u001b[0m in \u001b[0;36m__call__\u001b[0;34m(self)\u001b[0m\n\u001b[1;32m    261\u001b[0m         \u001b[0;32mwith\u001b[0m \u001b[0mparallel_backend\u001b[0m\u001b[0;34m(\u001b[0m\u001b[0mself\u001b[0m\u001b[0;34m.\u001b[0m\u001b[0m_backend\u001b[0m\u001b[0;34m,\u001b[0m \u001b[0mn_jobs\u001b[0m\u001b[0;34m=\u001b[0m\u001b[0mself\u001b[0m\u001b[0;34m.\u001b[0m\u001b[0m_n_jobs\u001b[0m\u001b[0;34m)\u001b[0m\u001b[0;34m:\u001b[0m\u001b[0;34m\u001b[0m\u001b[0;34m\u001b[0m\u001b[0m\n\u001b[1;32m    262\u001b[0m             return [func(*args, **kwargs)\n\u001b[0;32m--> 263\u001b[0;31m                     for func, args, kwargs in self.items]\n\u001b[0m\u001b[1;32m    264\u001b[0m \u001b[0;34m\u001b[0m\u001b[0m\n\u001b[1;32m    265\u001b[0m     \u001b[0;32mdef\u001b[0m \u001b[0m__reduce__\u001b[0m\u001b[0;34m(\u001b[0m\u001b[0mself\u001b[0m\u001b[0;34m)\u001b[0m\u001b[0;34m:\u001b[0m\u001b[0;34m\u001b[0m\u001b[0;34m\u001b[0m\u001b[0m\n",
            "\u001b[0;32m/usr/local/lib/python3.7/dist-packages/joblib/parallel.py\u001b[0m in \u001b[0;36m<listcomp>\u001b[0;34m(.0)\u001b[0m\n\u001b[1;32m    261\u001b[0m         \u001b[0;32mwith\u001b[0m \u001b[0mparallel_backend\u001b[0m\u001b[0;34m(\u001b[0m\u001b[0mself\u001b[0m\u001b[0;34m.\u001b[0m\u001b[0m_backend\u001b[0m\u001b[0;34m,\u001b[0m \u001b[0mn_jobs\u001b[0m\u001b[0;34m=\u001b[0m\u001b[0mself\u001b[0m\u001b[0;34m.\u001b[0m\u001b[0m_n_jobs\u001b[0m\u001b[0;34m)\u001b[0m\u001b[0;34m:\u001b[0m\u001b[0;34m\u001b[0m\u001b[0;34m\u001b[0m\u001b[0m\n\u001b[1;32m    262\u001b[0m             return [func(*args, **kwargs)\n\u001b[0;32m--> 263\u001b[0;31m                     for func, args, kwargs in self.items]\n\u001b[0m\u001b[1;32m    264\u001b[0m \u001b[0;34m\u001b[0m\u001b[0m\n\u001b[1;32m    265\u001b[0m     \u001b[0;32mdef\u001b[0m \u001b[0m__reduce__\u001b[0m\u001b[0;34m(\u001b[0m\u001b[0mself\u001b[0m\u001b[0;34m)\u001b[0m\u001b[0;34m:\u001b[0m\u001b[0;34m\u001b[0m\u001b[0;34m\u001b[0m\u001b[0m\n",
            "\u001b[0;32m/usr/local/lib/python3.7/dist-packages/sklearn/model_selection/_validation.py\u001b[0m in \u001b[0;36m_fit_and_score\u001b[0;34m(estimator, X, y, scorer, train, test, verbose, parameters, fit_params, return_train_score, return_parameters, return_n_test_samples, return_times, return_estimator, error_score)\u001b[0m\n\u001b[1;32m    513\u001b[0m             \u001b[0mestimator\u001b[0m\u001b[0;34m.\u001b[0m\u001b[0mfit\u001b[0m\u001b[0;34m(\u001b[0m\u001b[0mX_train\u001b[0m\u001b[0;34m,\u001b[0m \u001b[0;34m**\u001b[0m\u001b[0mfit_params\u001b[0m\u001b[0;34m)\u001b[0m\u001b[0;34m\u001b[0m\u001b[0;34m\u001b[0m\u001b[0m\n\u001b[1;32m    514\u001b[0m         \u001b[0;32melse\u001b[0m\u001b[0;34m:\u001b[0m\u001b[0;34m\u001b[0m\u001b[0;34m\u001b[0m\u001b[0m\n\u001b[0;32m--> 515\u001b[0;31m             \u001b[0mestimator\u001b[0m\u001b[0;34m.\u001b[0m\u001b[0mfit\u001b[0m\u001b[0;34m(\u001b[0m\u001b[0mX_train\u001b[0m\u001b[0;34m,\u001b[0m \u001b[0my_train\u001b[0m\u001b[0;34m,\u001b[0m \u001b[0;34m**\u001b[0m\u001b[0mfit_params\u001b[0m\u001b[0;34m)\u001b[0m\u001b[0;34m\u001b[0m\u001b[0;34m\u001b[0m\u001b[0m\n\u001b[0m\u001b[1;32m    516\u001b[0m \u001b[0;34m\u001b[0m\u001b[0m\n\u001b[1;32m    517\u001b[0m     \u001b[0;32mexcept\u001b[0m \u001b[0mException\u001b[0m \u001b[0;32mas\u001b[0m \u001b[0me\u001b[0m\u001b[0;34m:\u001b[0m\u001b[0;34m\u001b[0m\u001b[0;34m\u001b[0m\u001b[0m\n",
            "\u001b[0;32m/usr/local/lib/python3.7/dist-packages/sklearn/ensemble/_forest.py\u001b[0m in \u001b[0;36mfit\u001b[0;34m(self, X, y, sample_weight)\u001b[0m\n\u001b[1;32m    381\u001b[0m                     \u001b[0mverbose\u001b[0m\u001b[0;34m=\u001b[0m\u001b[0mself\u001b[0m\u001b[0;34m.\u001b[0m\u001b[0mverbose\u001b[0m\u001b[0;34m,\u001b[0m \u001b[0mclass_weight\u001b[0m\u001b[0;34m=\u001b[0m\u001b[0mself\u001b[0m\u001b[0;34m.\u001b[0m\u001b[0mclass_weight\u001b[0m\u001b[0;34m,\u001b[0m\u001b[0;34m\u001b[0m\u001b[0;34m\u001b[0m\u001b[0m\n\u001b[1;32m    382\u001b[0m                     n_samples_bootstrap=n_samples_bootstrap)\n\u001b[0;32m--> 383\u001b[0;31m                 for i, t in enumerate(trees))\n\u001b[0m\u001b[1;32m    384\u001b[0m \u001b[0;34m\u001b[0m\u001b[0m\n\u001b[1;32m    385\u001b[0m             \u001b[0;31m# Collect newly grown trees\u001b[0m\u001b[0;34m\u001b[0m\u001b[0;34m\u001b[0m\u001b[0;34m\u001b[0m\u001b[0m\n",
            "\u001b[0;32m/usr/local/lib/python3.7/dist-packages/joblib/parallel.py\u001b[0m in \u001b[0;36m__call__\u001b[0;34m(self, iterable)\u001b[0m\n\u001b[1;32m   1039\u001b[0m             \u001b[0;31m# remaining jobs.\u001b[0m\u001b[0;34m\u001b[0m\u001b[0;34m\u001b[0m\u001b[0;34m\u001b[0m\u001b[0m\n\u001b[1;32m   1040\u001b[0m             \u001b[0mself\u001b[0m\u001b[0;34m.\u001b[0m\u001b[0m_iterating\u001b[0m \u001b[0;34m=\u001b[0m \u001b[0;32mFalse\u001b[0m\u001b[0;34m\u001b[0m\u001b[0;34m\u001b[0m\u001b[0m\n\u001b[0;32m-> 1041\u001b[0;31m             \u001b[0;32mif\u001b[0m \u001b[0mself\u001b[0m\u001b[0;34m.\u001b[0m\u001b[0mdispatch_one_batch\u001b[0m\u001b[0;34m(\u001b[0m\u001b[0miterator\u001b[0m\u001b[0;34m)\u001b[0m\u001b[0;34m:\u001b[0m\u001b[0;34m\u001b[0m\u001b[0;34m\u001b[0m\u001b[0m\n\u001b[0m\u001b[1;32m   1042\u001b[0m                 \u001b[0mself\u001b[0m\u001b[0;34m.\u001b[0m\u001b[0m_iterating\u001b[0m \u001b[0;34m=\u001b[0m \u001b[0mself\u001b[0m\u001b[0;34m.\u001b[0m\u001b[0m_original_iterator\u001b[0m \u001b[0;32mis\u001b[0m \u001b[0;32mnot\u001b[0m \u001b[0;32mNone\u001b[0m\u001b[0;34m\u001b[0m\u001b[0;34m\u001b[0m\u001b[0m\n\u001b[1;32m   1043\u001b[0m \u001b[0;34m\u001b[0m\u001b[0m\n",
            "\u001b[0;32m/usr/local/lib/python3.7/dist-packages/joblib/parallel.py\u001b[0m in \u001b[0;36mdispatch_one_batch\u001b[0;34m(self, iterator)\u001b[0m\n\u001b[1;32m    857\u001b[0m                 \u001b[0;32mreturn\u001b[0m \u001b[0;32mFalse\u001b[0m\u001b[0;34m\u001b[0m\u001b[0;34m\u001b[0m\u001b[0m\n\u001b[1;32m    858\u001b[0m             \u001b[0;32melse\u001b[0m\u001b[0;34m:\u001b[0m\u001b[0;34m\u001b[0m\u001b[0;34m\u001b[0m\u001b[0m\n\u001b[0;32m--> 859\u001b[0;31m                 \u001b[0mself\u001b[0m\u001b[0;34m.\u001b[0m\u001b[0m_dispatch\u001b[0m\u001b[0;34m(\u001b[0m\u001b[0mtasks\u001b[0m\u001b[0;34m)\u001b[0m\u001b[0;34m\u001b[0m\u001b[0;34m\u001b[0m\u001b[0m\n\u001b[0m\u001b[1;32m    860\u001b[0m                 \u001b[0;32mreturn\u001b[0m \u001b[0;32mTrue\u001b[0m\u001b[0;34m\u001b[0m\u001b[0;34m\u001b[0m\u001b[0m\n\u001b[1;32m    861\u001b[0m \u001b[0;34m\u001b[0m\u001b[0m\n",
            "\u001b[0;32m/usr/local/lib/python3.7/dist-packages/joblib/parallel.py\u001b[0m in \u001b[0;36m_dispatch\u001b[0;34m(self, batch)\u001b[0m\n\u001b[1;32m    775\u001b[0m         \u001b[0;32mwith\u001b[0m \u001b[0mself\u001b[0m\u001b[0;34m.\u001b[0m\u001b[0m_lock\u001b[0m\u001b[0;34m:\u001b[0m\u001b[0;34m\u001b[0m\u001b[0;34m\u001b[0m\u001b[0m\n\u001b[1;32m    776\u001b[0m             \u001b[0mjob_idx\u001b[0m \u001b[0;34m=\u001b[0m \u001b[0mlen\u001b[0m\u001b[0;34m(\u001b[0m\u001b[0mself\u001b[0m\u001b[0;34m.\u001b[0m\u001b[0m_jobs\u001b[0m\u001b[0;34m)\u001b[0m\u001b[0;34m\u001b[0m\u001b[0;34m\u001b[0m\u001b[0m\n\u001b[0;32m--> 777\u001b[0;31m             \u001b[0mjob\u001b[0m \u001b[0;34m=\u001b[0m \u001b[0mself\u001b[0m\u001b[0;34m.\u001b[0m\u001b[0m_backend\u001b[0m\u001b[0;34m.\u001b[0m\u001b[0mapply_async\u001b[0m\u001b[0;34m(\u001b[0m\u001b[0mbatch\u001b[0m\u001b[0;34m,\u001b[0m \u001b[0mcallback\u001b[0m\u001b[0;34m=\u001b[0m\u001b[0mcb\u001b[0m\u001b[0;34m)\u001b[0m\u001b[0;34m\u001b[0m\u001b[0;34m\u001b[0m\u001b[0m\n\u001b[0m\u001b[1;32m    778\u001b[0m             \u001b[0;31m# A job can complete so quickly than its callback is\u001b[0m\u001b[0;34m\u001b[0m\u001b[0;34m\u001b[0m\u001b[0;34m\u001b[0m\u001b[0m\n\u001b[1;32m    779\u001b[0m             \u001b[0;31m# called before we get here, causing self._jobs to\u001b[0m\u001b[0;34m\u001b[0m\u001b[0;34m\u001b[0m\u001b[0;34m\u001b[0m\u001b[0m\n",
            "\u001b[0;32m/usr/local/lib/python3.7/dist-packages/joblib/_parallel_backends.py\u001b[0m in \u001b[0;36mapply_async\u001b[0;34m(self, func, callback)\u001b[0m\n\u001b[1;32m    206\u001b[0m     \u001b[0;32mdef\u001b[0m \u001b[0mapply_async\u001b[0m\u001b[0;34m(\u001b[0m\u001b[0mself\u001b[0m\u001b[0;34m,\u001b[0m \u001b[0mfunc\u001b[0m\u001b[0;34m,\u001b[0m \u001b[0mcallback\u001b[0m\u001b[0;34m=\u001b[0m\u001b[0;32mNone\u001b[0m\u001b[0;34m)\u001b[0m\u001b[0;34m:\u001b[0m\u001b[0;34m\u001b[0m\u001b[0;34m\u001b[0m\u001b[0m\n\u001b[1;32m    207\u001b[0m         \u001b[0;34m\"\"\"Schedule a func to be run\"\"\"\u001b[0m\u001b[0;34m\u001b[0m\u001b[0;34m\u001b[0m\u001b[0m\n\u001b[0;32m--> 208\u001b[0;31m         \u001b[0mresult\u001b[0m \u001b[0;34m=\u001b[0m \u001b[0mImmediateResult\u001b[0m\u001b[0;34m(\u001b[0m\u001b[0mfunc\u001b[0m\u001b[0;34m)\u001b[0m\u001b[0;34m\u001b[0m\u001b[0;34m\u001b[0m\u001b[0m\n\u001b[0m\u001b[1;32m    209\u001b[0m         \u001b[0;32mif\u001b[0m \u001b[0mcallback\u001b[0m\u001b[0;34m:\u001b[0m\u001b[0;34m\u001b[0m\u001b[0;34m\u001b[0m\u001b[0m\n\u001b[1;32m    210\u001b[0m             \u001b[0mcallback\u001b[0m\u001b[0;34m(\u001b[0m\u001b[0mresult\u001b[0m\u001b[0;34m)\u001b[0m\u001b[0;34m\u001b[0m\u001b[0;34m\u001b[0m\u001b[0m\n",
            "\u001b[0;32m/usr/local/lib/python3.7/dist-packages/joblib/_parallel_backends.py\u001b[0m in \u001b[0;36m__init__\u001b[0;34m(self, batch)\u001b[0m\n\u001b[1;32m    570\u001b[0m         \u001b[0;31m# Don't delay the application, to avoid keeping the input\u001b[0m\u001b[0;34m\u001b[0m\u001b[0;34m\u001b[0m\u001b[0;34m\u001b[0m\u001b[0m\n\u001b[1;32m    571\u001b[0m         \u001b[0;31m# arguments in memory\u001b[0m\u001b[0;34m\u001b[0m\u001b[0;34m\u001b[0m\u001b[0;34m\u001b[0m\u001b[0m\n\u001b[0;32m--> 572\u001b[0;31m         \u001b[0mself\u001b[0m\u001b[0;34m.\u001b[0m\u001b[0mresults\u001b[0m \u001b[0;34m=\u001b[0m \u001b[0mbatch\u001b[0m\u001b[0;34m(\u001b[0m\u001b[0;34m)\u001b[0m\u001b[0;34m\u001b[0m\u001b[0;34m\u001b[0m\u001b[0m\n\u001b[0m\u001b[1;32m    573\u001b[0m \u001b[0;34m\u001b[0m\u001b[0m\n\u001b[1;32m    574\u001b[0m     \u001b[0;32mdef\u001b[0m \u001b[0mget\u001b[0m\u001b[0;34m(\u001b[0m\u001b[0mself\u001b[0m\u001b[0;34m)\u001b[0m\u001b[0;34m:\u001b[0m\u001b[0;34m\u001b[0m\u001b[0;34m\u001b[0m\u001b[0m\n",
            "\u001b[0;32m/usr/local/lib/python3.7/dist-packages/joblib/parallel.py\u001b[0m in \u001b[0;36m__call__\u001b[0;34m(self)\u001b[0m\n\u001b[1;32m    261\u001b[0m         \u001b[0;32mwith\u001b[0m \u001b[0mparallel_backend\u001b[0m\u001b[0;34m(\u001b[0m\u001b[0mself\u001b[0m\u001b[0;34m.\u001b[0m\u001b[0m_backend\u001b[0m\u001b[0;34m,\u001b[0m \u001b[0mn_jobs\u001b[0m\u001b[0;34m=\u001b[0m\u001b[0mself\u001b[0m\u001b[0;34m.\u001b[0m\u001b[0m_n_jobs\u001b[0m\u001b[0;34m)\u001b[0m\u001b[0;34m:\u001b[0m\u001b[0;34m\u001b[0m\u001b[0;34m\u001b[0m\u001b[0m\n\u001b[1;32m    262\u001b[0m             return [func(*args, **kwargs)\n\u001b[0;32m--> 263\u001b[0;31m                     for func, args, kwargs in self.items]\n\u001b[0m\u001b[1;32m    264\u001b[0m \u001b[0;34m\u001b[0m\u001b[0m\n\u001b[1;32m    265\u001b[0m     \u001b[0;32mdef\u001b[0m \u001b[0m__reduce__\u001b[0m\u001b[0;34m(\u001b[0m\u001b[0mself\u001b[0m\u001b[0;34m)\u001b[0m\u001b[0;34m:\u001b[0m\u001b[0;34m\u001b[0m\u001b[0;34m\u001b[0m\u001b[0m\n",
            "\u001b[0;32m/usr/local/lib/python3.7/dist-packages/joblib/parallel.py\u001b[0m in \u001b[0;36m<listcomp>\u001b[0;34m(.0)\u001b[0m\n\u001b[1;32m    261\u001b[0m         \u001b[0;32mwith\u001b[0m \u001b[0mparallel_backend\u001b[0m\u001b[0;34m(\u001b[0m\u001b[0mself\u001b[0m\u001b[0;34m.\u001b[0m\u001b[0m_backend\u001b[0m\u001b[0;34m,\u001b[0m \u001b[0mn_jobs\u001b[0m\u001b[0;34m=\u001b[0m\u001b[0mself\u001b[0m\u001b[0;34m.\u001b[0m\u001b[0m_n_jobs\u001b[0m\u001b[0;34m)\u001b[0m\u001b[0;34m:\u001b[0m\u001b[0;34m\u001b[0m\u001b[0;34m\u001b[0m\u001b[0m\n\u001b[1;32m    262\u001b[0m             return [func(*args, **kwargs)\n\u001b[0;32m--> 263\u001b[0;31m                     for func, args, kwargs in self.items]\n\u001b[0m\u001b[1;32m    264\u001b[0m \u001b[0;34m\u001b[0m\u001b[0m\n\u001b[1;32m    265\u001b[0m     \u001b[0;32mdef\u001b[0m \u001b[0m__reduce__\u001b[0m\u001b[0;34m(\u001b[0m\u001b[0mself\u001b[0m\u001b[0;34m)\u001b[0m\u001b[0;34m:\u001b[0m\u001b[0;34m\u001b[0m\u001b[0;34m\u001b[0m\u001b[0m\n",
            "\u001b[0;32m/usr/local/lib/python3.7/dist-packages/sklearn/ensemble/_forest.py\u001b[0m in \u001b[0;36m_parallel_build_trees\u001b[0;34m(tree, forest, X, y, sample_weight, tree_idx, n_trees, verbose, class_weight, n_samples_bootstrap)\u001b[0m\n\u001b[1;32m    163\u001b[0m             \u001b[0mcurr_sample_weight\u001b[0m \u001b[0;34m*=\u001b[0m \u001b[0mcompute_sample_weight\u001b[0m\u001b[0;34m(\u001b[0m\u001b[0;34m'balanced'\u001b[0m\u001b[0;34m,\u001b[0m \u001b[0my\u001b[0m\u001b[0;34m,\u001b[0m \u001b[0mindices\u001b[0m\u001b[0;34m)\u001b[0m\u001b[0;34m\u001b[0m\u001b[0;34m\u001b[0m\u001b[0m\n\u001b[1;32m    164\u001b[0m \u001b[0;34m\u001b[0m\u001b[0m\n\u001b[0;32m--> 165\u001b[0;31m         \u001b[0mtree\u001b[0m\u001b[0;34m.\u001b[0m\u001b[0mfit\u001b[0m\u001b[0;34m(\u001b[0m\u001b[0mX\u001b[0m\u001b[0;34m,\u001b[0m \u001b[0my\u001b[0m\u001b[0;34m,\u001b[0m \u001b[0msample_weight\u001b[0m\u001b[0;34m=\u001b[0m\u001b[0mcurr_sample_weight\u001b[0m\u001b[0;34m,\u001b[0m \u001b[0mcheck_input\u001b[0m\u001b[0;34m=\u001b[0m\u001b[0;32mFalse\u001b[0m\u001b[0;34m)\u001b[0m\u001b[0;34m\u001b[0m\u001b[0;34m\u001b[0m\u001b[0m\n\u001b[0m\u001b[1;32m    166\u001b[0m     \u001b[0;32melse\u001b[0m\u001b[0;34m:\u001b[0m\u001b[0;34m\u001b[0m\u001b[0;34m\u001b[0m\u001b[0m\n\u001b[1;32m    167\u001b[0m         \u001b[0mtree\u001b[0m\u001b[0;34m.\u001b[0m\u001b[0mfit\u001b[0m\u001b[0;34m(\u001b[0m\u001b[0mX\u001b[0m\u001b[0;34m,\u001b[0m \u001b[0my\u001b[0m\u001b[0;34m,\u001b[0m \u001b[0msample_weight\u001b[0m\u001b[0;34m=\u001b[0m\u001b[0msample_weight\u001b[0m\u001b[0;34m,\u001b[0m \u001b[0mcheck_input\u001b[0m\u001b[0;34m=\u001b[0m\u001b[0;32mFalse\u001b[0m\u001b[0;34m)\u001b[0m\u001b[0;34m\u001b[0m\u001b[0;34m\u001b[0m\u001b[0m\n",
            "\u001b[0;32m/usr/local/lib/python3.7/dist-packages/sklearn/tree/_classes.py\u001b[0m in \u001b[0;36mfit\u001b[0;34m(self, X, y, sample_weight, check_input, X_idx_sorted)\u001b[0m\n\u001b[1;32m   1223\u001b[0m             \u001b[0msample_weight\u001b[0m\u001b[0;34m=\u001b[0m\u001b[0msample_weight\u001b[0m\u001b[0;34m,\u001b[0m\u001b[0;34m\u001b[0m\u001b[0;34m\u001b[0m\u001b[0m\n\u001b[1;32m   1224\u001b[0m             \u001b[0mcheck_input\u001b[0m\u001b[0;34m=\u001b[0m\u001b[0mcheck_input\u001b[0m\u001b[0;34m,\u001b[0m\u001b[0;34m\u001b[0m\u001b[0;34m\u001b[0m\u001b[0m\n\u001b[0;32m-> 1225\u001b[0;31m             X_idx_sorted=X_idx_sorted)\n\u001b[0m\u001b[1;32m   1226\u001b[0m         \u001b[0;32mreturn\u001b[0m \u001b[0mself\u001b[0m\u001b[0;34m\u001b[0m\u001b[0;34m\u001b[0m\u001b[0m\n\u001b[1;32m   1227\u001b[0m \u001b[0;34m\u001b[0m\u001b[0m\n",
            "\u001b[0;32m/usr/local/lib/python3.7/dist-packages/sklearn/tree/_classes.py\u001b[0m in \u001b[0;36mfit\u001b[0;34m(self, X, y, sample_weight, check_input, X_idx_sorted)\u001b[0m\n\u001b[1;32m    365\u001b[0m                                            min_impurity_split)\n\u001b[1;32m    366\u001b[0m \u001b[0;34m\u001b[0m\u001b[0m\n\u001b[0;32m--> 367\u001b[0;31m         \u001b[0mbuilder\u001b[0m\u001b[0;34m.\u001b[0m\u001b[0mbuild\u001b[0m\u001b[0;34m(\u001b[0m\u001b[0mself\u001b[0m\u001b[0;34m.\u001b[0m\u001b[0mtree_\u001b[0m\u001b[0;34m,\u001b[0m \u001b[0mX\u001b[0m\u001b[0;34m,\u001b[0m \u001b[0my\u001b[0m\u001b[0;34m,\u001b[0m \u001b[0msample_weight\u001b[0m\u001b[0;34m,\u001b[0m \u001b[0mX_idx_sorted\u001b[0m\u001b[0;34m)\u001b[0m\u001b[0;34m\u001b[0m\u001b[0;34m\u001b[0m\u001b[0m\n\u001b[0m\u001b[1;32m    368\u001b[0m \u001b[0;34m\u001b[0m\u001b[0m\n\u001b[1;32m    369\u001b[0m         \u001b[0;32mif\u001b[0m \u001b[0mself\u001b[0m\u001b[0;34m.\u001b[0m\u001b[0mn_outputs_\u001b[0m \u001b[0;34m==\u001b[0m \u001b[0;36m1\u001b[0m \u001b[0;32mand\u001b[0m \u001b[0mis_classifier\u001b[0m\u001b[0;34m(\u001b[0m\u001b[0mself\u001b[0m\u001b[0;34m)\u001b[0m\u001b[0;34m:\u001b[0m\u001b[0;34m\u001b[0m\u001b[0;34m\u001b[0m\u001b[0m\n",
            "\u001b[0;31mKeyboardInterrupt\u001b[0m: "
          ]
        }
      ]
    },
    {
      "cell_type": "code",
      "metadata": {
        "id": "5wmXm6EgRJ-o"
      },
      "source": [
        "#El comando anterior, nos da una idea del valor del hyperparámetro a definir, sin embargo en la siguiente \n",
        "#gráfica identificamos que tan rápido se llega el punto de codo o aun desempeño bueno del modelo entre el\n",
        "#sesgo y varianza. Esto se construye usando también validación cruzada la cual nos permite ver en que valor del\n",
        "#hyperparámetro no se mejora significativamente el desempeño del modelo\n",
        "#Primero se corre para el número de árboles y se aprecia que a partir de 8 aproximadamente se aplana la curva.\n",
        "#from sklearn.model_selection import validation_curve\n",
        "#max_depth=np.arange(1, 15)\n",
        "n_estimators=np.arange(1, 15)\n",
        "train_score, val_score = validation_curve(RandomForestRegressor(random_state=55), x, y,\n",
        "                                          'n_estimators', max_depth, cv=5)\n",
        "\n",
        "plt.plot(max_depth, np.median(train_score, 1), color='blue', label='Puntaje de entrenamiento')\n",
        "plt.plot(max_depth, np.median(val_score, 1), color='red', label='Puntaje de validación')\n",
        "plt.legend(loc='best')\n",
        "plt.ylim(0, 1)\n",
        "plt.xlabel('Grado')\n",
        "plt.ylabel('Puntaje');"
      ],
      "execution_count": null,
      "outputs": []
    },
    {
      "cell_type": "code",
      "metadata": {
        "id": "oFU4mPezRKBc"
      },
      "source": [
        "#Tambien se puede construir una curva usando validación cruzada la cual nos permite ver en que valor del\n",
        "#hyperparámetro no se mejora significativamente el desempeño del modelo\n",
        "#Para este caso usamos n_estimators=8 y revisamos el comportamiento de la profundidad max_depth\n",
        "#from sklearn.model_selection import validation_curve\n",
        "max_depth=np.arange(1, 15)\n",
        "#n_estimators=np.arange(1, 15)\n",
        "train_score, val_score = validation_curve(RandomForestRegressor(random_state=55, n_estimators=8), x, y,\n",
        "                                          'max_depth', max_depth, cv=5)\n",
        "\n",
        "plt.plot(max_depth, np.median(train_score, 1), color='blue', label='Puntaje de entrenamiento')\n",
        "plt.plot(max_depth, np.median(val_score, 1), color='red', label='Puntaje de validación')\n",
        "plt.legend(loc='best')\n",
        "plt.ylim(0, 1)\n",
        "plt.xlabel('Grado')\n",
        "plt.ylabel('Puntaje');"
      ],
      "execution_count": null,
      "outputs": []
    },
    {
      "cell_type": "code",
      "metadata": {
        "colab": {
          "base_uri": "https://localhost:8080/"
        },
        "id": "bFIA-hGbRKED",
        "outputId": "33d3c60d-9f39-46f9-f392-161f0afd285c"
      },
      "source": [
        "#Según la anterior gráfica se aprecia que la profundidad de exploración se aplana a partir de 9 aproximadamente\n",
        "#Así se procede a construir el modelo usando el hiperparámetro max_depth = 9, y n_estimators de 8 \n",
        "#siendo el resultado de los anteriores análisis.\n",
        "RndFR = RandomForestRegressor(max_depth= 10, n_estimators= 8, random_state=55)\n",
        "RndFR.fit(X_train, Y_train)\n",
        "Y_rfr_pred=RndFR.predict(X_test)\n",
        "print(Y_rfr_pred)"
      ],
      "execution_count": null,
      "outputs": [
        {
          "output_type": "stream",
          "text": [
            "[0.50800639 1.16579885 2.94512616 ... 0.42185257 0.5790244  5.546279  ]\n"
          ],
          "name": "stdout"
        }
      ]
    },
    {
      "cell_type": "code",
      "metadata": {
        "colab": {
          "base_uri": "https://localhost:8080/"
        },
        "id": "DSVShju1Rbdv",
        "outputId": "5b0dc377-e91c-4512-d33d-b81c36a1550c"
      },
      "source": [
        "print('DATOS DEL MODELO BOSQUES ALEATORIOS REGRESIÓN')\n",
        "\n",
        "print('Precisión del modelo:')\n",
        "print(RndFR.score(X_train, Y_train))\n",
        "print()\n",
        "print('MAE: ', metrics.mean_absolute_error(Y_test, Y_rfr_pred))\n",
        "print('MSE: ', metrics.mean_squared_error(Y_test, Y_rfr_pred))\n",
        "print('RMSE: ', np.sqrt(metrics.mean_squared_error(Y_test, Y_rfr_pred)))\n",
        "print('R2: %.3f'% metrics.r2_score(Y_test, Y_rfr_pred))"
      ],
      "execution_count": null,
      "outputs": [
        {
          "output_type": "stream",
          "text": [
            "DATOS DEL MODELO BOSQUES ALEATORIOS REGRESIÓN\n",
            "Precisión del modelo:\n",
            "0.9817897559653848\n",
            "\n",
            "MAE:  0.2244625819236475\n",
            "MSE:  0.29737278566084013\n",
            "RMSE:  0.545318976068906\n",
            "R2: 0.973\n"
          ],
          "name": "stdout"
        }
      ]
    },
    {
      "cell_type": "code",
      "metadata": {
        "colab": {
          "base_uri": "https://localhost:8080/"
        },
        "id": "-wFdCJLGRbgr",
        "outputId": "bccd5e07-580f-4dd7-a6d9-63eadf7859e9"
      },
      "source": [
        "#Cross Validation para el modelo de bosques aleatorios\n",
        "cv_results = cross_val_score(RndFR, X_train, Y_train, cv=5)\n",
        "print(cv_results)"
      ],
      "execution_count": null,
      "outputs": [
        {
          "output_type": "stream",
          "text": [
            "[0.97551001 0.97534053 0.96808869 0.97407403 0.97363727]\n"
          ],
          "name": "stdout"
        }
      ]
    },
    {
      "cell_type": "code",
      "metadata": {
        "colab": {
          "base_uri": "https://localhost:8080/"
        },
        "id": "uanF6GReRbjq",
        "outputId": "edb975b5-cf55-4f3c-cb0c-3ac047b0ed0f"
      },
      "source": [
        "df4= pd.DataFrame({'Real Values':Y_test, 'Predicted Values':Y_rfr_pred, 'Diference': ((Y_test-Y_rfr_pred)/Y_test)})\n",
        "df4['Diference'].sum()"
      ],
      "execution_count": null,
      "outputs": [
        {
          "output_type": "execute_result",
          "data": {
            "text/plain": [
              "-32299.554317441984"
            ]
          },
          "metadata": {},
          "execution_count": 81
        }
      ]
    },
    {
      "cell_type": "markdown",
      "metadata": {
        "id": "QX1OdM7YRjyY"
      },
      "source": [
        "Para cada uno de los 4 modelos, se calcularon métricas que miden qué tan bien (o mal) el modelo se ajusta a los datos de entrenamiento. Esta medida de evaluación (función de costo) es el error calculado entre la recta generada  y_estimada  (o el hiperplano) a los puntos reales.\n",
        "Como se mencionó anteriormente para cada modelo se calcularon como medidas de error: Error medio absoluto (MAE), Error cuadrático medio (MSE), Raíz del error cuadrático medio (RMSE) y el R cuadrado que mide la precisión o el porcentaje de la variación en la variable de respuesta que es explicado por el modelo de predicción.\n",
        "\n",
        "Según los resultados, los mejores modelos fueron el 3 y el 4, es decir las regresiones de árboles de decisión y bosques aleatorios respectivamente. En ambos modelos las métricas de error fueron muy similares o iguales en algunos casos. Sin embargo, teniendo en cuenta que los árboles de decisión son propensos a sobreajuste, vamos a seleccionar como mejor modelo los Bosques Aleatorios.\n",
        "\n",
        "Por lo general, para reducir estos problemas de sobreajuste, lo que se hace es limitar el crecimiento del árbol de decisión, tal como se realizó al poner límite a la profundidad. Además la validación cruzada fue similar en el valor de precisión haciendo diferentes particiones de los datos, lo que nos da mayor confiabilidad en los modelos. Sin embargo, es mejor utilizar los Bosques Aleatorios porque si hay sufientes árboles en el bosque, el algoritmo no se adaptará al modelo, evitando así el sobreajuste o evitando el exceso de adaptación la mayor parte del tiempo, creando subconjuntos aleatorios de las características. Finalmente los bosques aleatorios son excelentes en el tradeoff entre el ajuste y la varianza, por lo cual no tienden a subestimar o sobreestimar el modelo."
      ]
    },
    {
      "cell_type": "code",
      "metadata": {
        "colab": {
          "base_uri": "https://localhost:8080/",
          "height": 333
        },
        "id": "U_Lgd9CuRbml",
        "outputId": "a03082d0-c088-4a05-93bc-c7afd0e97526"
      },
      "source": [
        "#Los siguientes cálculos se harán con el modelo de Bosques Aleatorios\n",
        "#Comprobemos que los errores se distribuyen según una distribución normal, lo que nos da una prueba de la validez de nuestro modelo.\n",
        "#El siguiente se conoce como un histograma de residuos. Se construye con los datos del mejor modelo.\n",
        "sns.distplot((Y_test - Y_rfr_pred), bins = 50)\n",
        "#sns.distplot((Y_test - Y_pred_pr), bins = 50)\n",
        "plt.show()"
      ],
      "execution_count": null,
      "outputs": [
        {
          "output_type": "stream",
          "text": [
            "/usr/local/lib/python3.7/dist-packages/seaborn/distributions.py:2557: FutureWarning: `distplot` is a deprecated function and will be removed in a future version. Please adapt your code to use either `displot` (a figure-level function with similar flexibility) or `histplot` (an axes-level function for histograms).\n",
            "  warnings.warn(msg, FutureWarning)\n"
          ],
          "name": "stderr"
        },
        {
          "output_type": "display_data",
          "data": {
            "image/png": "[encoded data removed]",
            "text/plain": [
              "<Figure size 432x288 with 1 Axes>"
            ]
          },
          "metadata": {
            "needs_background": "light"
          }
        }
      ]
    },
    {
      "cell_type": "code",
      "metadata": {
        "colab": {
          "base_uri": "https://localhost:8080/",
          "height": 562
        },
        "id": "80BYzLhxRbo8",
        "outputId": "15f7f7dc-e4ab-4cee-d37b-b63ee09fd0d8"
      },
      "source": [
        "#Ahora procedemos a realizar las mismas transformaciones de las variables del data set \"datos_B\", para aplicar el modelo de Bosques Aleatorios\n",
        "#Se calcula la edad a partir de la fecha de nacimiento\n",
        "dft['EDAD']=round((dt.datetime.now()-dft['FECHA_NACIMIENTO'])/np.timedelta64(1,'Y'))\n",
        "#Variables Categóricas, como al cargarlas de Excel python las leía como tipo objeto, se convirtieron en categóricas:\n",
        "dft['SEXO'] = dft['SEXO'].astype('category')\n",
        "dft['NOMBRE_AGENCIA'] = dft['NOMBRE_AGENCIA'].astype('category')\n",
        "dft['CIUDAD'] = dft['CIUDAD'].astype('category')\n",
        "dft['OPCION'] = dft['OPCION'].astype('category')\n",
        "#Para el caso de la variable categórica SEXO, se procede a convertir en variables dummies\n",
        "dft = pd.get_dummies(dft, columns=['SEXO'])\n",
        "#El campo CIUDAD tiene algunos problemas de calidad del dato, por ejemplo registros vacíos, datos numéricos, raya al piso\n",
        "#sin datos, por lo cual en los siguientes comandos se mejora la calidad del campo:\n",
        "dft['CIUDAD']=np.where (dft['CIUDAD'].str.isdigit().fillna(True), dft['CIUDAD'].mode()[0], dft['CIUDAD'])\n",
        "dft['CIUDAD'].replace({'_':None}, inplace=True)\n",
        "#Se ejecuta una imputación de datos muy general tomando la moda o el dato más frecuente para la variable ciudad que es la única con datos nulos\n",
        "dft['CIUDAD'] = dft['CIUDAD'].fillna(dft['CIUDAD'].mode()[0])\n",
        "print(dft.isnull().sum())\n",
        "#Debido a las modificaciones anteriores sobre la ciudad, se corre de nuevo el comando para convertirla a Categórica\n",
        "dft['NOMBRE_AGENCIA'] = dft['NOMBRE_AGENCIA'].astype('category')\n",
        "dft['CIUDAD'] = dft['CIUDAD'].astype('category')\n",
        "#Se codifican las variables Ciudad y Nombre de agencia para poderlas usar en el modelo. Esto debido a que los modelos de Machine Learning no toman\n",
        "#estas variables como String. Esta codificación asigna un número a cada nivel de la variable categórica permitiendo usarse en el modelo. De tal forma se\n",
        "#crean las variables CIUDAD_COD y NOMBRE_AGENCIA_COD\n",
        "dft['CIUDAD_COD']=dft['CIUDAD'].cat.codes\n",
        "dft['NOMBRE_AGENCIA_COD']=dft['NOMBRE_AGENCIA'].cat.codes\n",
        "dft.columns"
      ],
      "execution_count": null,
      "outputs": [
        {
          "output_type": "error",
          "ename": "KeyError",
          "evalue": "ignored",
          "traceback": [
            "\u001b[0;31m---------------------------------------------------------------------------\u001b[0m",
            "\u001b[0;31mKeyError\u001b[0m                                  Traceback (most recent call last)",
            "\u001b[0;32m/usr/local/lib/python3.7/dist-packages/pandas/core/indexes/base.py\u001b[0m in \u001b[0;36mget_loc\u001b[0;34m(self, key, method, tolerance)\u001b[0m\n\u001b[1;32m   2897\u001b[0m             \u001b[0;32mtry\u001b[0m\u001b[0;34m:\u001b[0m\u001b[0;34m\u001b[0m\u001b[0;34m\u001b[0m\u001b[0m\n\u001b[0;32m-> 2898\u001b[0;31m                 \u001b[0;32mreturn\u001b[0m \u001b[0mself\u001b[0m\u001b[0;34m.\u001b[0m\u001b[0m_engine\u001b[0m\u001b[0;34m.\u001b[0m\u001b[0mget_loc\u001b[0m\u001b[0;34m(\u001b[0m\u001b[0mcasted_key\u001b[0m\u001b[0;34m)\u001b[0m\u001b[0;34m\u001b[0m\u001b[0;34m\u001b[0m\u001b[0m\n\u001b[0m\u001b[1;32m   2899\u001b[0m             \u001b[0;32mexcept\u001b[0m \u001b[0mKeyError\u001b[0m \u001b[0;32mas\u001b[0m \u001b[0merr\u001b[0m\u001b[0;34m:\u001b[0m\u001b[0;34m\u001b[0m\u001b[0;34m\u001b[0m\u001b[0m\n",
            "\u001b[0;32mpandas/_libs/index.pyx\u001b[0m in \u001b[0;36mpandas._libs.index.IndexEngine.get_loc\u001b[0;34m()\u001b[0m\n",
            "\u001b[0;32mpandas/_libs/index.pyx\u001b[0m in \u001b[0;36mpandas._libs.index.IndexEngine.get_loc\u001b[0;34m()\u001b[0m\n",
            "\u001b[0;32mpandas/_libs/hashtable_class_helper.pxi\u001b[0m in \u001b[0;36mpandas._libs.hashtable.PyObjectHashTable.get_item\u001b[0;34m()\u001b[0m\n",
            "\u001b[0;32mpandas/_libs/hashtable_class_helper.pxi\u001b[0m in \u001b[0;36mpandas._libs.hashtable.PyObjectHashTable.get_item\u001b[0;34m()\u001b[0m\n",
            "\u001b[0;31mKeyError\u001b[0m: 'SEXO'",
            "\nThe above exception was the direct cause of the following exception:\n",
            "\u001b[0;31mKeyError\u001b[0m                                  Traceback (most recent call last)",
            "\u001b[0;32m<ipython-input-84-5378ed82c5b0>\u001b[0m in \u001b[0;36m<module>\u001b[0;34m()\u001b[0m\n\u001b[1;32m      3\u001b[0m \u001b[0mdft\u001b[0m\u001b[0;34m[\u001b[0m\u001b[0;34m'EDAD'\u001b[0m\u001b[0;34m]\u001b[0m\u001b[0;34m=\u001b[0m\u001b[0mround\u001b[0m\u001b[0;34m(\u001b[0m\u001b[0;34m(\u001b[0m\u001b[0mdt\u001b[0m\u001b[0;34m.\u001b[0m\u001b[0mdatetime\u001b[0m\u001b[0;34m.\u001b[0m\u001b[0mnow\u001b[0m\u001b[0;34m(\u001b[0m\u001b[0;34m)\u001b[0m\u001b[0;34m-\u001b[0m\u001b[0mdft\u001b[0m\u001b[0;34m[\u001b[0m\u001b[0;34m'FECHA_NACIMIENTO'\u001b[0m\u001b[0;34m]\u001b[0m\u001b[0;34m)\u001b[0m\u001b[0;34m/\u001b[0m\u001b[0mnp\u001b[0m\u001b[0;34m.\u001b[0m\u001b[0mtimedelta64\u001b[0m\u001b[0;34m(\u001b[0m\u001b[0;36m1\u001b[0m\u001b[0;34m,\u001b[0m\u001b[0;34m'Y'\u001b[0m\u001b[0;34m)\u001b[0m\u001b[0;34m)\u001b[0m\u001b[0;34m\u001b[0m\u001b[0;34m\u001b[0m\u001b[0m\n\u001b[1;32m      4\u001b[0m \u001b[0;31m#Variables Categóricas, como al cargarlas de Excel python las leía como tipo objeto, se convirtieron en categóricas:\u001b[0m\u001b[0;34m\u001b[0m\u001b[0;34m\u001b[0m\u001b[0;34m\u001b[0m\u001b[0m\n\u001b[0;32m----> 5\u001b[0;31m \u001b[0mdft\u001b[0m\u001b[0;34m[\u001b[0m\u001b[0;34m'SEXO'\u001b[0m\u001b[0;34m]\u001b[0m \u001b[0;34m=\u001b[0m \u001b[0mdft\u001b[0m\u001b[0;34m[\u001b[0m\u001b[0;34m'SEXO'\u001b[0m\u001b[0;34m]\u001b[0m\u001b[0;34m.\u001b[0m\u001b[0mastype\u001b[0m\u001b[0;34m(\u001b[0m\u001b[0;34m'category'\u001b[0m\u001b[0;34m)\u001b[0m\u001b[0;34m\u001b[0m\u001b[0;34m\u001b[0m\u001b[0m\n\u001b[0m\u001b[1;32m      6\u001b[0m \u001b[0mdft\u001b[0m\u001b[0;34m[\u001b[0m\u001b[0;34m'NOMBRE_AGENCIA'\u001b[0m\u001b[0;34m]\u001b[0m \u001b[0;34m=\u001b[0m \u001b[0mdft\u001b[0m\u001b[0;34m[\u001b[0m\u001b[0;34m'NOMBRE_AGENCIA'\u001b[0m\u001b[0;34m]\u001b[0m\u001b[0;34m.\u001b[0m\u001b[0mastype\u001b[0m\u001b[0;34m(\u001b[0m\u001b[0;34m'category'\u001b[0m\u001b[0;34m)\u001b[0m\u001b[0;34m\u001b[0m\u001b[0;34m\u001b[0m\u001b[0m\n\u001b[1;32m      7\u001b[0m \u001b[0mdft\u001b[0m\u001b[0;34m[\u001b[0m\u001b[0;34m'CIUDAD'\u001b[0m\u001b[0;34m]\u001b[0m \u001b[0;34m=\u001b[0m \u001b[0mdft\u001b[0m\u001b[0;34m[\u001b[0m\u001b[0;34m'CIUDAD'\u001b[0m\u001b[0;34m]\u001b[0m\u001b[0;34m.\u001b[0m\u001b[0mastype\u001b[0m\u001b[0;34m(\u001b[0m\u001b[0;34m'category'\u001b[0m\u001b[0;34m)\u001b[0m\u001b[0;34m\u001b[0m\u001b[0;34m\u001b[0m\u001b[0m\n",
            "\u001b[0;32m/usr/local/lib/python3.7/dist-packages/pandas/core/frame.py\u001b[0m in \u001b[0;36m__getitem__\u001b[0;34m(self, key)\u001b[0m\n\u001b[1;32m   2904\u001b[0m             \u001b[0;32mif\u001b[0m \u001b[0mself\u001b[0m\u001b[0;34m.\u001b[0m\u001b[0mcolumns\u001b[0m\u001b[0;34m.\u001b[0m\u001b[0mnlevels\u001b[0m \u001b[0;34m>\u001b[0m \u001b[0;36m1\u001b[0m\u001b[0;34m:\u001b[0m\u001b[0;34m\u001b[0m\u001b[0;34m\u001b[0m\u001b[0m\n\u001b[1;32m   2905\u001b[0m                 \u001b[0;32mreturn\u001b[0m \u001b[0mself\u001b[0m\u001b[0;34m.\u001b[0m\u001b[0m_getitem_multilevel\u001b[0m\u001b[0;34m(\u001b[0m\u001b[0mkey\u001b[0m\u001b[0;34m)\u001b[0m\u001b[0;34m\u001b[0m\u001b[0;34m\u001b[0m\u001b[0m\n\u001b[0;32m-> 2906\u001b[0;31m             \u001b[0mindexer\u001b[0m \u001b[0;34m=\u001b[0m \u001b[0mself\u001b[0m\u001b[0;34m.\u001b[0m\u001b[0mcolumns\u001b[0m\u001b[0;34m.\u001b[0m\u001b[0mget_loc\u001b[0m\u001b[0;34m(\u001b[0m\u001b[0mkey\u001b[0m\u001b[0;34m)\u001b[0m\u001b[0;34m\u001b[0m\u001b[0;34m\u001b[0m\u001b[0m\n\u001b[0m\u001b[1;32m   2907\u001b[0m             \u001b[0;32mif\u001b[0m \u001b[0mis_integer\u001b[0m\u001b[0;34m(\u001b[0m\u001b[0mindexer\u001b[0m\u001b[0;34m)\u001b[0m\u001b[0;34m:\u001b[0m\u001b[0;34m\u001b[0m\u001b[0;34m\u001b[0m\u001b[0m\n\u001b[1;32m   2908\u001b[0m                 \u001b[0mindexer\u001b[0m \u001b[0;34m=\u001b[0m \u001b[0;34m[\u001b[0m\u001b[0mindexer\u001b[0m\u001b[0;34m]\u001b[0m\u001b[0;34m\u001b[0m\u001b[0;34m\u001b[0m\u001b[0m\n",
            "\u001b[0;32m/usr/local/lib/python3.7/dist-packages/pandas/core/indexes/base.py\u001b[0m in \u001b[0;36mget_loc\u001b[0;34m(self, key, method, tolerance)\u001b[0m\n\u001b[1;32m   2898\u001b[0m                 \u001b[0;32mreturn\u001b[0m \u001b[0mself\u001b[0m\u001b[0;34m.\u001b[0m\u001b[0m_engine\u001b[0m\u001b[0;34m.\u001b[0m\u001b[0mget_loc\u001b[0m\u001b[0;34m(\u001b[0m\u001b[0mcasted_key\u001b[0m\u001b[0;34m)\u001b[0m\u001b[0;34m\u001b[0m\u001b[0;34m\u001b[0m\u001b[0m\n\u001b[1;32m   2899\u001b[0m             \u001b[0;32mexcept\u001b[0m \u001b[0mKeyError\u001b[0m \u001b[0;32mas\u001b[0m \u001b[0merr\u001b[0m\u001b[0;34m:\u001b[0m\u001b[0;34m\u001b[0m\u001b[0;34m\u001b[0m\u001b[0m\n\u001b[0;32m-> 2900\u001b[0;31m                 \u001b[0;32mraise\u001b[0m \u001b[0mKeyError\u001b[0m\u001b[0;34m(\u001b[0m\u001b[0mkey\u001b[0m\u001b[0;34m)\u001b[0m \u001b[0;32mfrom\u001b[0m \u001b[0merr\u001b[0m\u001b[0;34m\u001b[0m\u001b[0;34m\u001b[0m\u001b[0m\n\u001b[0m\u001b[1;32m   2901\u001b[0m \u001b[0;34m\u001b[0m\u001b[0m\n\u001b[1;32m   2902\u001b[0m         \u001b[0;32mif\u001b[0m \u001b[0mtolerance\u001b[0m \u001b[0;32mis\u001b[0m \u001b[0;32mnot\u001b[0m \u001b[0;32mNone\u001b[0m\u001b[0;34m:\u001b[0m\u001b[0;34m\u001b[0m\u001b[0;34m\u001b[0m\u001b[0m\n",
            "\u001b[0;31mKeyError\u001b[0m: 'SEXO'"
          ]
        }
      ]
    },
    {
      "cell_type": "code",
      "metadata": {
        "colab": {
          "base_uri": "https://localhost:8080/"
        },
        "id": "6XYf5pLWRsHB",
        "outputId": "fb8d2216-d0fe-4855-ffa5-a7b29e148233"
      },
      "source": [
        "#Creamos la variable X de los datos que serán usados para hacer una estimación de la duración de la póliza, similar al caso anterior\n",
        "X_test_nuevo = dft.drop(['FECHA_NACIMIENTO','NOMBRE_AGENCIA','CIUDAD'], axis=1)\n",
        "print(X_test_nuevo.shape)"
      ],
      "execution_count": null,
      "outputs": [
        {
          "output_type": "stream",
          "text": [
            "(15000, 9)\n"
          ],
          "name": "stdout"
        }
      ]
    },
    {
      "cell_type": "code",
      "metadata": {
        "colab": {
          "base_uri": "https://localhost:8080/",
          "height": 306
        },
        "id": "a0UMyPVjRsST",
        "outputId": "cc443a5a-23e7-4806-8009-17d255a3ba6e"
      },
      "source": [
        "#Corremos el modelo de Bosques Aleatorios Regresión con los datos nuevos\n",
        "y_test_nueva = RndFR.predict(X_test_nuevo)\n",
        "dft['DURACION'] = y_test_nueva\n",
        "dft.head()"
      ],
      "execution_count": null,
      "outputs": [
        {
          "output_type": "execute_result",
          "data": {
            "text/html": [
              "<div>\n",
              "<style scoped>\n",
              "    .dataframe tbody tr th:only-of-type {\n",
              "        vertical-align: middle;\n",
              "    }\n",
              "\n",
              "    .dataframe tbody tr th {\n",
              "        vertical-align: top;\n",
              "    }\n",
              "\n",
              "    .dataframe thead th {\n",
              "        text-align: right;\n",
              "    }\n",
              "</style>\n",
              "<table border=\"1\" class=\"dataframe\">\n",
              "  <thead>\n",
              "    <tr style=\"text-align: right;\">\n",
              "      <th></th>\n",
              "      <th>OPCION</th>\n",
              "      <th>FECHA_NACIMIENTO</th>\n",
              "      <th>NOMBRE_AGENCIA</th>\n",
              "      <th>SUMA_ASEGURADA</th>\n",
              "      <th>CIUDAD</th>\n",
              "      <th>PRIMA_ANUAL</th>\n",
              "      <th>PRIMA_PAGADA</th>\n",
              "      <th>EDAD</th>\n",
              "      <th>SEXO_F</th>\n",
              "      <th>SEXO_M</th>\n",
              "      <th>CIUDAD_COD</th>\n",
              "      <th>NOMBRE_AGENCIA_COD</th>\n",
              "      <th>DURACION</th>\n",
              "    </tr>\n",
              "    <tr>\n",
              "      <th>ID</th>\n",
              "      <th></th>\n",
              "      <th></th>\n",
              "      <th></th>\n",
              "      <th></th>\n",
              "      <th></th>\n",
              "      <th></th>\n",
              "      <th></th>\n",
              "      <th></th>\n",
              "      <th></th>\n",
              "      <th></th>\n",
              "      <th></th>\n",
              "      <th></th>\n",
              "      <th></th>\n",
              "    </tr>\n",
              "  </thead>\n",
              "  <tbody>\n",
              "    <tr>\n",
              "      <th>45401</th>\n",
              "      <td>42</td>\n",
              "      <td>1974-03-30</td>\n",
              "      <td>AHUACHAPAN                                    ...</td>\n",
              "      <td>40000</td>\n",
              "      <td>NUEVO CUSCATLAN</td>\n",
              "      <td>576</td>\n",
              "      <td>4032</td>\n",
              "      <td>47.0</td>\n",
              "      <td>0</td>\n",
              "      <td>1</td>\n",
              "      <td>209</td>\n",
              "      <td>1</td>\n",
              "      <td>6.736934</td>\n",
              "    </tr>\n",
              "    <tr>\n",
              "      <th>45040</th>\n",
              "      <td>11</td>\n",
              "      <td>1987-02-08</td>\n",
              "      <td>SONSONATE                                     ...</td>\n",
              "      <td>10000</td>\n",
              "      <td>ARMENIA</td>\n",
              "      <td>96</td>\n",
              "      <td>288</td>\n",
              "      <td>35.0</td>\n",
              "      <td>0</td>\n",
              "      <td>1</td>\n",
              "      <td>21</td>\n",
              "      <td>92</td>\n",
              "      <td>3.133031</td>\n",
              "    </tr>\n",
              "    <tr>\n",
              "      <th>35388</th>\n",
              "      <td>14</td>\n",
              "      <td>1963-09-29</td>\n",
              "      <td>SAN VICENTE                                   ...</td>\n",
              "      <td>10000</td>\n",
              "      <td>SAN VICENTE</td>\n",
              "      <td>300</td>\n",
              "      <td>50</td>\n",
              "      <td>58.0</td>\n",
              "      <td>1</td>\n",
              "      <td>0</td>\n",
              "      <td>354</td>\n",
              "      <td>86</td>\n",
              "      <td>0.320267</td>\n",
              "    </tr>\n",
              "    <tr>\n",
              "      <th>46450</th>\n",
              "      <td>11</td>\n",
              "      <td>1982-01-11</td>\n",
              "      <td>JIQUILISCO                                    ...</td>\n",
              "      <td>10000</td>\n",
              "      <td>PUERTO EL TRIUNFO</td>\n",
              "      <td>96</td>\n",
              "      <td>96</td>\n",
              "      <td>40.0</td>\n",
              "      <td>1</td>\n",
              "      <td>0</td>\n",
              "      <td>233</td>\n",
              "      <td>52</td>\n",
              "      <td>1.115396</td>\n",
              "    </tr>\n",
              "    <tr>\n",
              "      <th>87535</th>\n",
              "      <td>11</td>\n",
              "      <td>1982-12-27</td>\n",
              "      <td>SENSUNTEPEQUE                                 ...</td>\n",
              "      <td>10000</td>\n",
              "      <td>SENSUNTEPEQU</td>\n",
              "      <td>96</td>\n",
              "      <td>864</td>\n",
              "      <td>39.0</td>\n",
              "      <td>0</td>\n",
              "      <td>1</td>\n",
              "      <td>391</td>\n",
              "      <td>91</td>\n",
              "      <td>8.837682</td>\n",
              "    </tr>\n",
              "  </tbody>\n",
              "</table>\n",
              "</div>"
            ],
            "text/plain": [
              "      OPCION FECHA_NACIMIENTO  ... NOMBRE_AGENCIA_COD  DURACION\n",
              "ID                             ...                             \n",
              "45401     42       1974-03-30  ...                  1  6.736934\n",
              "45040     11       1987-02-08  ...                 92  3.133031\n",
              "35388     14       1963-09-29  ...                 86  0.320267\n",
              "46450     11       1982-01-11  ...                 52  1.115396\n",
              "87535     11       1982-12-27  ...                 91  8.837682\n",
              "\n",
              "[5 rows x 13 columns]"
            ]
          },
          "metadata": {},
          "execution_count": 86
        }
      ]
    },
    {
      "cell_type": "markdown",
      "metadata": {
        "id": "sX8kiosdR16J"
      },
      "source": [
        "Como análisis adicional a lo solicitado, realicé un modelo de clusterización con KMeans. Esto con el objetivo de crear algunos grupos que nos permitan clasificar la población de asegurados de la póliza con diferentes niveles de riesgo. Esto con el fin de gestionar la población y los riesgos para prevenir que cancelen la póliza. Una de las métricas usada para comparar resultados es la distancia media entre los puntos de datos y su centroide. Como el valor del score incrementará a medida de aumentemos el valor de K, deberemos utilizar la distancia media al centroide en función de K y entontrar el “punto codo”, donde la tasa de ascenso se “aplana”.\n",
        "En este caso usamos la librería cluster de scikit learn."
      ]
    },
    {
      "cell_type": "code",
      "metadata": {
        "colab": {
          "base_uri": "https://localhost:8080/",
          "height": 295
        },
        "id": "tznnC8x4RsWD",
        "outputId": "42101e54-b232-4d97-cdd1-705f05dd83d7"
      },
      "source": [
        "#En primer lugar, generamos la siguiente gráfica que realiza un análisis para diferentes valores de K o el\n",
        "#número de grupos, para determinar el \"punto de codo\" y así cuántos grupos para la gestión de riesgos de\n",
        "#cancelación de la póliza construir\n",
        "#Variables_K_means = dft[['SUMA_ASEGURADA','PRIMA_ANUAL','PRIMA_PAGADA','DURACION']]\n",
        "Variables_K_means = dft['DURACION'].values.reshape(-1,1)\n",
        "duracion=dft.values.reshape(-1,1)\n",
        "from sklearn.cluster import KMeans\n",
        "from sklearn.metrics import pairwise_distances_argmin_min\n",
        "Nc = range(1, 20)\n",
        "kmeans = [KMeans(n_clusters=i) for i in Nc]\n",
        "kmeans\n",
        "score = [kmeans[i].fit(Variables_K_means).score(Variables_K_means) for i in range(len(kmeans))]\n",
        "score\n",
        "plt.plot(Nc,score)\n",
        "plt.xlabel('Número de Clusters')\n",
        "plt.ylabel('Score')\n",
        "plt.title('Curva de Codo')\n",
        "plt.show()"
      ],
      "execution_count": null,
      "outputs": [
        {
          "output_type": "display_data",
          "data": {
            "image/png": "[encoded data removed]",
            "text/plain": [
              "<Figure size 432x288 with 1 Axes>"
            ]
          },
          "metadata": {
            "needs_background": "light"
          }
        }
      ]
    },
    {
      "cell_type": "code",
      "metadata": {
        "colab": {
          "base_uri": "https://localhost:8080/",
          "height": 279
        },
        "id": "Wau1qxgkRsZZ",
        "outputId": "799af95a-9ea6-446e-8bcb-8affae9f0a60"
      },
      "source": [
        "#Otro método adicional para identificar el kmeans óptimo a partir de la inercia o distancia del centroide a \n",
        "#cada uno de los puntos se presenta a continuación.\n",
        "ks = range(1, 10)\n",
        "inercia = []\n",
        "for k in ks:\n",
        "    model=KMeans(n_clusters=k)\n",
        "    model.fit(Variables_K_means)\n",
        "    inercia.append(model.inertia_)\n",
        "    \n",
        "plt.plot(ks, inercia, '-o')\n",
        "plt.xlabel('numero de clusters, k')\n",
        "plt.ylabel('Inercia')\n",
        "plt.xticks(ks)\n",
        "plt.show()"
      ],
      "execution_count": null,
      "outputs": [
        {
          "output_type": "display_data",
          "data": {
            "image/png": "[encoded data removed]",
            "text/plain": [
              "<Figure size 432x288 with 1 Axes>"
            ]
          },
          "metadata": {
            "needs_background": "light"
          }
        }
      ]
    },
    {
      "cell_type": "code",
      "metadata": {
        "colab": {
          "base_uri": "https://localhost:8080/"
        },
        "id": "BsA7qFz5Rsfs",
        "outputId": "ca878499-e907-4516-b9f1-cb2f16c1d610"
      },
      "source": [
        "#Según los anteriores gráficos, la curva se suaviza en un punto de codo de 3 aproximadamente en ambos análisis.\n",
        "#Dado esto vamos a construir 3 clusters para gestionar el riesgo de cancelación de los asegurados\n",
        "kmeans = KMeans(n_clusters=3).fit(Variables_K_means)\n",
        "centroids = kmeans.cluster_centers_\n",
        "print(centroids)"
      ],
      "execution_count": null,
      "outputs": [
        {
          "output_type": "stream",
          "text": [
            "[[9.30552795]\n",
            " [0.90455608]\n",
            " [4.47121856]]\n"
          ],
          "name": "stdout"
        }
      ]
    },
    {
      "cell_type": "markdown",
      "metadata": {
        "id": "8u0X7TgfSBRc"
      },
      "source": [
        "A continuación crearemos tres categorías de riesgo para gestionar la población. Los tres grupos son:\n",
        "\n",
        "    1: 'Riesgo_Alto': Significa un riesgo de cancelación de la póliza alto y hace referencia a los asegurados que duran en promedio 0.899 años en el seguro, siendo este el centroide del grupo.\n",
        "    0: 'Riesgo_Medio':  Significa un riesgo de cancelación de la póliza medio y hace referencia a los asegurados que duran en promedio 4.348 años en el seguro, siendo este el centroide del grupo.\n",
        "    2: 'Riesgo_Bajo': Significa un riesgo de cancelación de la póliza bajo y hace referencia a los asegurados que duran en promedio 9.194 años en el seguro, siendo este el centroide del grupo."
      ]
    },
    {
      "cell_type": "code",
      "metadata": {
        "id": "iUg90YuNR_h-"
      },
      "source": [
        "Grupos=kmeans.predict(Variables_K_means)\n",
        "dft['Grupos']=Grupos\n",
        "dft['Desc_Grupos']=dft['Grupos'].map({0: 'Riesgo_Medio',1: 'Riesgo_Alto',2:'Riesgo_Bajo'})"
      ],
      "execution_count": null,
      "outputs": []
    },
    {
      "cell_type": "code",
      "metadata": {
        "colab": {
          "base_uri": "https://localhost:8080/",
          "height": 306
        },
        "id": "hhFQZ2JvR_lE",
        "outputId": "5ee6d173-d2b6-4868-fe54-51611b1f5cc5"
      },
      "source": [
        "dft.head()"
      ],
      "execution_count": null,
      "outputs": [
        {
          "output_type": "execute_result",
          "data": {
            "text/html": [
              "<div>\n",
              "<style scoped>\n",
              "    .dataframe tbody tr th:only-of-type {\n",
              "        vertical-align: middle;\n",
              "    }\n",
              "\n",
              "    .dataframe tbody tr th {\n",
              "        vertical-align: top;\n",
              "    }\n",
              "\n",
              "    .dataframe thead th {\n",
              "        text-align: right;\n",
              "    }\n",
              "</style>\n",
              "<table border=\"1\" class=\"dataframe\">\n",
              "  <thead>\n",
              "    <tr style=\"text-align: right;\">\n",
              "      <th></th>\n",
              "      <th>OPCION</th>\n",
              "      <th>FECHA_NACIMIENTO</th>\n",
              "      <th>NOMBRE_AGENCIA</th>\n",
              "      <th>SUMA_ASEGURADA</th>\n",
              "      <th>CIUDAD</th>\n",
              "      <th>PRIMA_ANUAL</th>\n",
              "      <th>PRIMA_PAGADA</th>\n",
              "      <th>EDAD</th>\n",
              "      <th>SEXO_F</th>\n",
              "      <th>SEXO_M</th>\n",
              "      <th>CIUDAD_COD</th>\n",
              "      <th>NOMBRE_AGENCIA_COD</th>\n",
              "      <th>DURACION</th>\n",
              "      <th>Grupos</th>\n",
              "      <th>Desc_Grupos</th>\n",
              "    </tr>\n",
              "    <tr>\n",
              "      <th>ID</th>\n",
              "      <th></th>\n",
              "      <th></th>\n",
              "      <th></th>\n",
              "      <th></th>\n",
              "      <th></th>\n",
              "      <th></th>\n",
              "      <th></th>\n",
              "      <th></th>\n",
              "      <th></th>\n",
              "      <th></th>\n",
              "      <th></th>\n",
              "      <th></th>\n",
              "      <th></th>\n",
              "      <th></th>\n",
              "      <th></th>\n",
              "    </tr>\n",
              "  </thead>\n",
              "  <tbody>\n",
              "    <tr>\n",
              "      <th>45401</th>\n",
              "      <td>42</td>\n",
              "      <td>1974-03-30</td>\n",
              "      <td>AHUACHAPAN                                    ...</td>\n",
              "      <td>40000</td>\n",
              "      <td>NUEVO CUSCATLAN</td>\n",
              "      <td>576</td>\n",
              "      <td>4032</td>\n",
              "      <td>47.0</td>\n",
              "      <td>0</td>\n",
              "      <td>1</td>\n",
              "      <td>209</td>\n",
              "      <td>1</td>\n",
              "      <td>6.736934</td>\n",
              "      <td>2</td>\n",
              "      <td>Riesgo_Bajo</td>\n",
              "    </tr>\n",
              "    <tr>\n",
              "      <th>45040</th>\n",
              "      <td>11</td>\n",
              "      <td>1987-02-08</td>\n",
              "      <td>SONSONATE                                     ...</td>\n",
              "      <td>10000</td>\n",
              "      <td>ARMENIA</td>\n",
              "      <td>96</td>\n",
              "      <td>288</td>\n",
              "      <td>35.0</td>\n",
              "      <td>0</td>\n",
              "      <td>1</td>\n",
              "      <td>21</td>\n",
              "      <td>92</td>\n",
              "      <td>3.133031</td>\n",
              "      <td>2</td>\n",
              "      <td>Riesgo_Bajo</td>\n",
              "    </tr>\n",
              "    <tr>\n",
              "      <th>35388</th>\n",
              "      <td>14</td>\n",
              "      <td>1963-09-29</td>\n",
              "      <td>SAN VICENTE                                   ...</td>\n",
              "      <td>10000</td>\n",
              "      <td>SAN VICENTE</td>\n",
              "      <td>300</td>\n",
              "      <td>50</td>\n",
              "      <td>58.0</td>\n",
              "      <td>1</td>\n",
              "      <td>0</td>\n",
              "      <td>354</td>\n",
              "      <td>86</td>\n",
              "      <td>0.320267</td>\n",
              "      <td>1</td>\n",
              "      <td>Riesgo_Alto</td>\n",
              "    </tr>\n",
              "    <tr>\n",
              "      <th>46450</th>\n",
              "      <td>11</td>\n",
              "      <td>1982-01-11</td>\n",
              "      <td>JIQUILISCO                                    ...</td>\n",
              "      <td>10000</td>\n",
              "      <td>PUERTO EL TRIUNFO</td>\n",
              "      <td>96</td>\n",
              "      <td>96</td>\n",
              "      <td>40.0</td>\n",
              "      <td>1</td>\n",
              "      <td>0</td>\n",
              "      <td>233</td>\n",
              "      <td>52</td>\n",
              "      <td>1.115396</td>\n",
              "      <td>1</td>\n",
              "      <td>Riesgo_Alto</td>\n",
              "    </tr>\n",
              "    <tr>\n",
              "      <th>87535</th>\n",
              "      <td>11</td>\n",
              "      <td>1982-12-27</td>\n",
              "      <td>SENSUNTEPEQUE                                 ...</td>\n",
              "      <td>10000</td>\n",
              "      <td>SENSUNTEPEQU</td>\n",
              "      <td>96</td>\n",
              "      <td>864</td>\n",
              "      <td>39.0</td>\n",
              "      <td>0</td>\n",
              "      <td>1</td>\n",
              "      <td>391</td>\n",
              "      <td>91</td>\n",
              "      <td>8.837682</td>\n",
              "      <td>0</td>\n",
              "      <td>Riesgo_Medio</td>\n",
              "    </tr>\n",
              "  </tbody>\n",
              "</table>\n",
              "</div>"
            ],
            "text/plain": [
              "      OPCION FECHA_NACIMIENTO  ... Grupos   Desc_Grupos\n",
              "ID                             ...                     \n",
              "45401     42       1974-03-30  ...      2   Riesgo_Bajo\n",
              "45040     11       1987-02-08  ...      2   Riesgo_Bajo\n",
              "35388     14       1963-09-29  ...      1   Riesgo_Alto\n",
              "46450     11       1982-01-11  ...      1   Riesgo_Alto\n",
              "87535     11       1982-12-27  ...      0  Riesgo_Medio\n",
              "\n",
              "[5 rows x 15 columns]"
            ]
          },
          "metadata": {},
          "execution_count": 91
        }
      ]
    },
    {
      "cell_type": "markdown",
      "metadata": {
        "id": "saEzeEPxSIPH"
      },
      "source": [
        "A continuacióny como parte final del proceso, exportamos a Excel el Dataframe incluyendo la variable predicha de la Duración en la poliza utilizando los Datos B. El nuevo nombre del archivo fue nombrado datos_B_Duracion y quedan guardados en la misma ruta de donde se importaron las bases de datos"
      ]
    },
    {
      "cell_type": "code",
      "metadata": {
        "id": "MWcNdkXJR_qn"
      },
      "source": [
        "#dft.to_clipboard()\n",
        "dft.to_excel(r\"D:\\Usuarios\\sebacoza\\OneDrive - Seguros Suramericana, S.A\\Desktop\\datos_B_Duracion.xlsx\", index = True)"
      ],
      "execution_count": null,
      "outputs": []
    }
  ]
}